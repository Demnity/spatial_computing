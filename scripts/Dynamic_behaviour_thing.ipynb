{
 "cells": [
  {
   "cell_type": "code",
   "execution_count": 1,
   "metadata": {},
   "outputs": [],
   "source": [
    "import os\n",
    "import topogenesis as tg\n",
    "import pyvista as pv\n",
    "import trimesh as tm\n",
    "import pandas as pd\n",
    "import numpy as np"
   ]
  },
  {
   "cell_type": "code",
   "execution_count": 2,
   "metadata": {},
   "outputs": [
    {
     "name": "stdout",
     "output_type": "stream",
     "text": [
      "[[[0 0 0]\n",
      "  [0 1 0]\n",
      "  [0 0 0]]\n",
      "\n",
      " [[0 1 0]\n",
      "  [1 0 1]\n",
      "  [0 1 0]]\n",
      "\n",
      " [[0 0 0]\n",
      "  [0 1 0]\n",
      "  [0 0 0]]]\n"
     ]
    }
   ],
   "source": [
    "# creating neighborhood definition\n",
    "stencil = tg.create_stencil(\"von_neumann\", 1, 1)\n",
    "# setting the center to zero\n",
    "stencil.set_index([0,0,0], 0)\n",
    "stencil.function = tg.sfunc.sum\n",
    "print(stencil)"
   ]
  },
  {
   "cell_type": "code",
   "execution_count": 3,
   "metadata": {},
   "outputs": [],
   "source": [
    "# loading the lattice from csv\n",
    "lattice_path = os.path.relpath('../data/meshes/voxelized_envelope_highres.csv')\n",
    "avail_lattice = tg.lattice_from_csv(lattice_path)"
   ]
  },
  {
   "cell_type": "code",
   "execution_count": 4,
   "metadata": {},
   "outputs": [],
   "source": [
    "# current_occupation = occ_lattice > -1\n",
    "current_occupation = avail_lattice"
   ]
  },
  {
   "cell_type": "code",
   "execution_count": 5,
   "metadata": {},
   "outputs": [
    {
     "data": {
      "text/plain": [
       "lattice([[[0, 0, 0, ..., 0, 0, 0],\n",
       "          [0, 0, 0, ..., 0, 0, 0],\n",
       "          [0, 1, 1, ..., 1, 1, 1],\n",
       "          ...,\n",
       "          [0, 0, 0, ..., 0, 0, 0],\n",
       "          [0, 0, 0, ..., 0, 0, 0],\n",
       "          [0, 0, 0, ..., 0, 0, 0]],\n",
       "\n",
       "         [[0, 0, 0, ..., 0, 0, 0],\n",
       "          [0, 1, 1, ..., 1, 1, 1],\n",
       "          [1, 3, 4, ..., 4, 4, 3],\n",
       "          ...,\n",
       "          [0, 2, 2, ..., 2, 2, 2],\n",
       "          [0, 1, 1, ..., 1, 1, 1],\n",
       "          [0, 0, 0, ..., 0, 0, 0]],\n",
       "\n",
       "         [[0, 0, 0, ..., 0, 0, 0],\n",
       "          [0, 1, 1, ..., 1, 1, 1],\n",
       "          [1, 4, 5, ..., 5, 5, 4],\n",
       "          ...,\n",
       "          [1, 4, 5, ..., 5, 5, 4],\n",
       "          [1, 3, 4, ..., 4, 4, 3],\n",
       "          [0, 1, 1, ..., 1, 1, 1]],\n",
       "\n",
       "         ...,\n",
       "\n",
       "         [[0, 1, 1, ..., 1, 1, 1],\n",
       "          [1, 4, 5, ..., 5, 5, 4],\n",
       "          [1, 5, 6, ..., 6, 6, 5],\n",
       "          ...,\n",
       "          [1, 5, 6, ..., 6, 6, 5],\n",
       "          [1, 4, 5, ..., 5, 5, 4],\n",
       "          [0, 1, 1, ..., 1, 1, 1]],\n",
       "\n",
       "         [[0, 1, 1, ..., 1, 1, 1],\n",
       "          [1, 4, 5, ..., 5, 5, 4],\n",
       "          [1, 5, 6, ..., 6, 6, 5],\n",
       "          ...,\n",
       "          [1, 5, 6, ..., 6, 6, 5],\n",
       "          [1, 4, 5, ..., 5, 5, 4],\n",
       "          [0, 1, 1, ..., 1, 1, 1]],\n",
       "\n",
       "         [[0, 1, 1, ..., 1, 1, 1],\n",
       "          [1, 3, 4, ..., 4, 4, 3],\n",
       "          [1, 4, 5, ..., 5, 5, 4],\n",
       "          ...,\n",
       "          [1, 4, 5, ..., 5, 5, 4],\n",
       "          [1, 3, 4, ..., 4, 4, 3],\n",
       "          [0, 1, 1, ..., 1, 1, 1]]])"
      ]
     },
     "execution_count": 5,
     "metadata": {},
     "output_type": "execute_result"
    }
   ],
   "source": [
    "current_occupation.apply_stencil(stencil)"
   ]
  },
  {
   "cell_type": "code",
   "execution_count": null,
   "metadata": {},
   "outputs": [],
   "source": []
  }
 ],
 "metadata": {
  "interpreter": {
   "hash": "35193bb4a499ae14c24644d010b40ff56fe483af9478781b8d520e7468034301"
  },
  "kernelspec": {
   "display_name": "Python 3.8.5 64-bit ('scds': conda)",
   "language": "python",
   "name": "python3"
  },
  "language_info": {
   "codemirror_mode": {
    "name": "ipython",
    "version": 3
   },
   "file_extension": ".py",
   "mimetype": "text/x-python",
   "name": "python",
   "nbconvert_exporter": "python",
   "pygments_lexer": "ipython3",
   "version": "3.8.5"
  },
  "orig_nbformat": 4
 },
 "nbformat": 4,
 "nbformat_minor": 2
}
