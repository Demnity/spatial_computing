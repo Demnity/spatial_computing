{
 "cells": [
  {
   "cell_type": "markdown",
   "metadata": {},
   "source": [
    "A lot of this stuff hinges on having the right initial data. We cant run the agents at this moment. I Added the stuff here that was already in workshop 4, but like I said, it will not run.\n",
    "\n",
    "Personally, I believe that we have to store the eventual data of every script in a csv file. This script needs a program of requirements."
   ]
  },
  {
   "cell_type": "markdown",
   "metadata": {},
   "source": [
    "Load Libraries"
   ]
  },
  {
   "cell_type": "code",
   "execution_count": 24,
   "metadata": {},
   "outputs": [],
   "source": [
    "import os\n",
    "import topogenesis as tg\n",
    "import pyvista as pv\n",
    "import trimesh as tm\n",
    "import pandas as pd\n",
    "import numpy as np\n",
    "\n",
    "# convert mesh to pv_mesh\n",
    "def tri_to_pv(tri_mesh):\n",
    "    faces = np.pad(tri_mesh.faces, ((0, 0),(1,0)), 'constant', constant_values=3)\n",
    "    pv_mesh = pv.PolyData(tri_mesh.vertices, faces)\n",
    "    return pv_mesh"
   ]
  },
  {
   "cell_type": "markdown",
   "metadata": {},
   "source": [
    "Define Stencil"
   ]
  },
  {
   "cell_type": "markdown",
   "metadata": {},
   "source": [
    "Define the environment"
   ]
  },
  {
   "cell_type": "code",
   "execution_count": 25,
   "metadata": {},
   "outputs": [],
   "source": [
    "# loading the lattice from csv\n",
    "lattice_path = os.path.relpath('../data/meshes/voxelized_envelope_highres.csv')\n",
    "avail_lattice = tg.lattice_from_csv(lattice_path)\n",
    "init_avail_lattice = tg.to_lattice(np.copy(avail_lattice), avail_lattice)\n",
    "\n",
    "context_path = os.path.relpath('../data/meshes/immediate_context.obj')\n",
    "context_mesh = tm.load(context_path)"
   ]
  },
  {
   "cell_type": "markdown",
   "metadata": {},
   "source": [
    "load program (insert the program of requirements here)"
   ]
  },
  {
   "cell_type": "code",
   "execution_count": 26,
   "metadata": {},
   "outputs": [],
   "source": [
    "#loading the relative relations excell\n",
    "\n",
    "# relative_rels = pd.read_excel('../data/relationships/relative_relations.xlsx', index_col=0) \n",
    "# relative_rels_norm = relative_rels.div(relative_rels.sum(axis=1), axis=0)\n",
    "# relative_rels_norm = relative_rels_norm.fillna(0)\n",
    "\n",
    "#loading the relative preferences excell\n",
    "relative_prefs = pd.read_excel('../data/relationships/relative_preferences.xlsx')\n",
    "relative_prefs.iloc[:, 1:] = relative_prefs.iloc[:, 1:].div(relative_prefs.iloc[:, 1:].sum(axis=1), axis=0)\n",
    "relative_prefs.iloc[:, 1:] = relative_prefs.iloc[:, 1:].fillna(0)\n",
    "relative_prefs_norm = relative_prefs"
   ]
  },
  {
   "cell_type": "markdown",
   "metadata": {},
   "source": [
    "Printing the relative relations"
   ]
  },
  {
   "cell_type": "code",
   "execution_count": 27,
   "metadata": {},
   "outputs": [],
   "source": [
    "#print(relative_rels_norm)"
   ]
  },
  {
   "cell_type": "markdown",
   "metadata": {},
   "source": [
    "Printing the relative preferences"
   ]
  },
  {
   "cell_type": "code",
   "execution_count": 28,
   "metadata": {},
   "outputs": [
    {
     "name": "stdout",
     "output_type": "stream",
     "text": [
      "          space_name  facade_connection  sunlight_access  noise_approval  \\\n",
      "0    student_housing           0.208333         0.208333        0.166667   \n",
      "1       co_cooking_A           0.227273         0.227273        0.113636   \n",
      "2    assisted_living           0.181818         0.181818        0.163636   \n",
      "3       co_cooking_B           0.192308         0.192308        0.134615   \n",
      "4    starter_housing           0.188679         0.188679        0.169811   \n",
      "5       co_cooking_C           0.200000         0.200000        0.140000   \n",
      "6         co_working           0.184211         0.263158        0.236842   \n",
      "7   community_center           0.151515         0.303030        0.151515   \n",
      "8            library           0.115385         0.230769        0.384615   \n",
      "9       cinematheque           0.000000         0.000000        0.666667   \n",
      "10           laundry           0.000000         0.000000        0.000000   \n",
      "11          fab_labs           0.000000         0.500000        0.166667   \n",
      "12          startups           0.243902         0.243902        0.219512   \n",
      "13          workshop           0.333333         0.333333        0.111111   \n",
      "14          car_park           0.000000         0.000000        0.000000   \n",
      "15         bike_park           0.000000         0.000000        0.000000   \n",
      "16             shops           0.344828         0.000000        0.137931   \n",
      "17           grocery           0.000000         0.000000        0.285714   \n",
      "18               gym           0.090909         0.090909        0.090909   \n",
      "19        drug_store           0.000000         0.434783        0.130435   \n",
      "20        restaurant           0.093750         0.125000        0.250000   \n",
      "21        vegetation           0.000000         0.000000        0.000000   \n",
      "22             lobby           0.263158         0.105263        0.157895   \n",
      "23   communal_garden           0.000000         0.000000        0.357143   \n",
      "24            arcade           0.000000         0.000000        0.571429   \n",
      "\n",
      "    proximity_to_ground_floor  sky_view_factor  penthouse_factor  \\\n",
      "0                    0.000000         0.125000          0.104167   \n",
      "1                    0.000000         0.136364          0.113636   \n",
      "2                    0.181818         0.127273          0.000000   \n",
      "3                    0.192308         0.134615          0.000000   \n",
      "4                    0.000000         0.132075          0.150943   \n",
      "5                    0.000000         0.140000          0.160000   \n",
      "6                    0.105263         0.131579          0.000000   \n",
      "7                    0.181818         0.121212          0.000000   \n",
      "8                    0.192308         0.076923          0.000000   \n",
      "9                    0.333333         0.000000          0.000000   \n",
      "10                   0.000000         0.000000          0.000000   \n",
      "11                   0.333333         0.000000          0.000000   \n",
      "12                   0.170732         0.121951          0.000000   \n",
      "13                   0.222222         0.000000          0.000000   \n",
      "14                   1.000000         0.000000          0.000000   \n",
      "15                   1.000000         0.000000          0.000000   \n",
      "16                   0.344828         0.103448          0.000000   \n",
      "17                   0.714286         0.000000          0.000000   \n",
      "18                   0.454545         0.045455          0.000000   \n",
      "19                   0.434783         0.000000          0.000000   \n",
      "20                   0.312500         0.156250          0.000000   \n",
      "21                   0.833333         0.000000          0.000000   \n",
      "22                   0.000000         0.105263          0.000000   \n",
      "23                   0.000000         0.571429          0.000000   \n",
      "24                   0.000000         0.000000          0.000000   \n",
      "\n",
      "    street_sight  football_proximity  \n",
      "0       0.187500            0.000000  \n",
      "1       0.181818            0.000000  \n",
      "2       0.163636            0.000000  \n",
      "3       0.153846            0.000000  \n",
      "4       0.169811            0.000000  \n",
      "5       0.160000            0.000000  \n",
      "6       0.078947            0.000000  \n",
      "7       0.000000            0.090909  \n",
      "8       0.000000            0.000000  \n",
      "9       0.000000            0.000000  \n",
      "10      0.000000            0.000000  \n",
      "11      0.000000            0.000000  \n",
      "12      0.000000            0.000000  \n",
      "13      0.000000            0.000000  \n",
      "14      0.000000            0.000000  \n",
      "15      0.000000            0.000000  \n",
      "16      0.068966            0.000000  \n",
      "17      0.000000            0.000000  \n",
      "18      0.136364            0.090909  \n",
      "19      0.000000            0.000000  \n",
      "20      0.062500            0.000000  \n",
      "21      0.000000            0.166667  \n",
      "22      0.368421            0.000000  \n",
      "23      0.071429            0.000000  \n",
      "24      0.000000            0.428571  \n"
     ]
    }
   ],
   "source": [
    "print(relative_prefs_norm)"
   ]
  },
  {
   "cell_type": "code",
   "execution_count": 29,
   "metadata": {},
   "outputs": [
    {
     "data": {
      "text/html": [
       "<div>\n",
       "<style scoped>\n",
       "    .dataframe tbody tr th:only-of-type {\n",
       "        vertical-align: middle;\n",
       "    }\n",
       "\n",
       "    .dataframe tbody tr th {\n",
       "        vertical-align: top;\n",
       "    }\n",
       "\n",
       "    .dataframe thead th {\n",
       "        text-align: right;\n",
       "    }\n",
       "</style>\n",
       "<table border=\"1\" class=\"dataframe\">\n",
       "  <thead>\n",
       "    <tr style=\"text-align: right;\">\n",
       "      <th></th>\n",
       "      <th>sunlight_access</th>\n",
       "      <th>noise_approval</th>\n",
       "      <th>proximity_to_ground_floor</th>\n",
       "      <th>sky_view_factor</th>\n",
       "      <th>football_proximity</th>\n",
       "    </tr>\n",
       "  </thead>\n",
       "  <tbody>\n",
       "    <tr>\n",
       "      <th>0</th>\n",
       "      <td>0.208333</td>\n",
       "      <td>0.166667</td>\n",
       "      <td>0.000000</td>\n",
       "      <td>0.125000</td>\n",
       "      <td>0.000000</td>\n",
       "    </tr>\n",
       "    <tr>\n",
       "      <th>1</th>\n",
       "      <td>0.227273</td>\n",
       "      <td>0.113636</td>\n",
       "      <td>0.000000</td>\n",
       "      <td>0.136364</td>\n",
       "      <td>0.000000</td>\n",
       "    </tr>\n",
       "    <tr>\n",
       "      <th>2</th>\n",
       "      <td>0.181818</td>\n",
       "      <td>0.163636</td>\n",
       "      <td>0.181818</td>\n",
       "      <td>0.127273</td>\n",
       "      <td>0.000000</td>\n",
       "    </tr>\n",
       "    <tr>\n",
       "      <th>3</th>\n",
       "      <td>0.192308</td>\n",
       "      <td>0.134615</td>\n",
       "      <td>0.192308</td>\n",
       "      <td>0.134615</td>\n",
       "      <td>0.000000</td>\n",
       "    </tr>\n",
       "    <tr>\n",
       "      <th>4</th>\n",
       "      <td>0.188679</td>\n",
       "      <td>0.169811</td>\n",
       "      <td>0.000000</td>\n",
       "      <td>0.132075</td>\n",
       "      <td>0.000000</td>\n",
       "    </tr>\n",
       "    <tr>\n",
       "      <th>5</th>\n",
       "      <td>0.200000</td>\n",
       "      <td>0.140000</td>\n",
       "      <td>0.000000</td>\n",
       "      <td>0.140000</td>\n",
       "      <td>0.000000</td>\n",
       "    </tr>\n",
       "    <tr>\n",
       "      <th>6</th>\n",
       "      <td>0.263158</td>\n",
       "      <td>0.236842</td>\n",
       "      <td>0.105263</td>\n",
       "      <td>0.131579</td>\n",
       "      <td>0.000000</td>\n",
       "    </tr>\n",
       "    <tr>\n",
       "      <th>7</th>\n",
       "      <td>0.303030</td>\n",
       "      <td>0.151515</td>\n",
       "      <td>0.181818</td>\n",
       "      <td>0.121212</td>\n",
       "      <td>0.090909</td>\n",
       "    </tr>\n",
       "    <tr>\n",
       "      <th>8</th>\n",
       "      <td>0.230769</td>\n",
       "      <td>0.384615</td>\n",
       "      <td>0.192308</td>\n",
       "      <td>0.076923</td>\n",
       "      <td>0.000000</td>\n",
       "    </tr>\n",
       "    <tr>\n",
       "      <th>9</th>\n",
       "      <td>0.000000</td>\n",
       "      <td>0.666667</td>\n",
       "      <td>0.333333</td>\n",
       "      <td>0.000000</td>\n",
       "      <td>0.000000</td>\n",
       "    </tr>\n",
       "    <tr>\n",
       "      <th>10</th>\n",
       "      <td>0.000000</td>\n",
       "      <td>0.000000</td>\n",
       "      <td>0.000000</td>\n",
       "      <td>0.000000</td>\n",
       "      <td>0.000000</td>\n",
       "    </tr>\n",
       "    <tr>\n",
       "      <th>11</th>\n",
       "      <td>0.500000</td>\n",
       "      <td>0.166667</td>\n",
       "      <td>0.333333</td>\n",
       "      <td>0.000000</td>\n",
       "      <td>0.000000</td>\n",
       "    </tr>\n",
       "    <tr>\n",
       "      <th>12</th>\n",
       "      <td>0.243902</td>\n",
       "      <td>0.219512</td>\n",
       "      <td>0.170732</td>\n",
       "      <td>0.121951</td>\n",
       "      <td>0.000000</td>\n",
       "    </tr>\n",
       "    <tr>\n",
       "      <th>13</th>\n",
       "      <td>0.333333</td>\n",
       "      <td>0.111111</td>\n",
       "      <td>0.222222</td>\n",
       "      <td>0.000000</td>\n",
       "      <td>0.000000</td>\n",
       "    </tr>\n",
       "    <tr>\n",
       "      <th>14</th>\n",
       "      <td>0.000000</td>\n",
       "      <td>0.000000</td>\n",
       "      <td>1.000000</td>\n",
       "      <td>0.000000</td>\n",
       "      <td>0.000000</td>\n",
       "    </tr>\n",
       "    <tr>\n",
       "      <th>15</th>\n",
       "      <td>0.000000</td>\n",
       "      <td>0.000000</td>\n",
       "      <td>1.000000</td>\n",
       "      <td>0.000000</td>\n",
       "      <td>0.000000</td>\n",
       "    </tr>\n",
       "    <tr>\n",
       "      <th>16</th>\n",
       "      <td>0.000000</td>\n",
       "      <td>0.137931</td>\n",
       "      <td>0.344828</td>\n",
       "      <td>0.103448</td>\n",
       "      <td>0.000000</td>\n",
       "    </tr>\n",
       "    <tr>\n",
       "      <th>17</th>\n",
       "      <td>0.000000</td>\n",
       "      <td>0.285714</td>\n",
       "      <td>0.714286</td>\n",
       "      <td>0.000000</td>\n",
       "      <td>0.000000</td>\n",
       "    </tr>\n",
       "    <tr>\n",
       "      <th>18</th>\n",
       "      <td>0.090909</td>\n",
       "      <td>0.090909</td>\n",
       "      <td>0.454545</td>\n",
       "      <td>0.045455</td>\n",
       "      <td>0.090909</td>\n",
       "    </tr>\n",
       "    <tr>\n",
       "      <th>19</th>\n",
       "      <td>0.434783</td>\n",
       "      <td>0.130435</td>\n",
       "      <td>0.434783</td>\n",
       "      <td>0.000000</td>\n",
       "      <td>0.000000</td>\n",
       "    </tr>\n",
       "    <tr>\n",
       "      <th>20</th>\n",
       "      <td>0.125000</td>\n",
       "      <td>0.250000</td>\n",
       "      <td>0.312500</td>\n",
       "      <td>0.156250</td>\n",
       "      <td>0.000000</td>\n",
       "    </tr>\n",
       "    <tr>\n",
       "      <th>21</th>\n",
       "      <td>0.000000</td>\n",
       "      <td>0.000000</td>\n",
       "      <td>0.833333</td>\n",
       "      <td>0.000000</td>\n",
       "      <td>0.166667</td>\n",
       "    </tr>\n",
       "    <tr>\n",
       "      <th>22</th>\n",
       "      <td>0.105263</td>\n",
       "      <td>0.157895</td>\n",
       "      <td>0.000000</td>\n",
       "      <td>0.105263</td>\n",
       "      <td>0.000000</td>\n",
       "    </tr>\n",
       "    <tr>\n",
       "      <th>23</th>\n",
       "      <td>0.000000</td>\n",
       "      <td>0.357143</td>\n",
       "      <td>0.000000</td>\n",
       "      <td>0.571429</td>\n",
       "      <td>0.000000</td>\n",
       "    </tr>\n",
       "    <tr>\n",
       "      <th>24</th>\n",
       "      <td>0.000000</td>\n",
       "      <td>0.571429</td>\n",
       "      <td>0.000000</td>\n",
       "      <td>0.000000</td>\n",
       "      <td>0.428571</td>\n",
       "    </tr>\n",
       "  </tbody>\n",
       "</table>\n",
       "</div>"
      ],
      "text/plain": [
       "    sunlight_access  noise_approval  proximity_to_ground_floor  \\\n",
       "0          0.208333        0.166667                   0.000000   \n",
       "1          0.227273        0.113636                   0.000000   \n",
       "2          0.181818        0.163636                   0.181818   \n",
       "3          0.192308        0.134615                   0.192308   \n",
       "4          0.188679        0.169811                   0.000000   \n",
       "5          0.200000        0.140000                   0.000000   \n",
       "6          0.263158        0.236842                   0.105263   \n",
       "7          0.303030        0.151515                   0.181818   \n",
       "8          0.230769        0.384615                   0.192308   \n",
       "9          0.000000        0.666667                   0.333333   \n",
       "10         0.000000        0.000000                   0.000000   \n",
       "11         0.500000        0.166667                   0.333333   \n",
       "12         0.243902        0.219512                   0.170732   \n",
       "13         0.333333        0.111111                   0.222222   \n",
       "14         0.000000        0.000000                   1.000000   \n",
       "15         0.000000        0.000000                   1.000000   \n",
       "16         0.000000        0.137931                   0.344828   \n",
       "17         0.000000        0.285714                   0.714286   \n",
       "18         0.090909        0.090909                   0.454545   \n",
       "19         0.434783        0.130435                   0.434783   \n",
       "20         0.125000        0.250000                   0.312500   \n",
       "21         0.000000        0.000000                   0.833333   \n",
       "22         0.105263        0.157895                   0.000000   \n",
       "23         0.000000        0.357143                   0.000000   \n",
       "24         0.000000        0.571429                   0.000000   \n",
       "\n",
       "    sky_view_factor  football_proximity  \n",
       "0          0.125000            0.000000  \n",
       "1          0.136364            0.000000  \n",
       "2          0.127273            0.000000  \n",
       "3          0.134615            0.000000  \n",
       "4          0.132075            0.000000  \n",
       "5          0.140000            0.000000  \n",
       "6          0.131579            0.000000  \n",
       "7          0.121212            0.090909  \n",
       "8          0.076923            0.000000  \n",
       "9          0.000000            0.000000  \n",
       "10         0.000000            0.000000  \n",
       "11         0.000000            0.000000  \n",
       "12         0.121951            0.000000  \n",
       "13         0.000000            0.000000  \n",
       "14         0.000000            0.000000  \n",
       "15         0.000000            0.000000  \n",
       "16         0.103448            0.000000  \n",
       "17         0.000000            0.000000  \n",
       "18         0.045455            0.090909  \n",
       "19         0.000000            0.000000  \n",
       "20         0.156250            0.000000  \n",
       "21         0.000000            0.166667  \n",
       "22         0.105263            0.000000  \n",
       "23         0.571429            0.000000  \n",
       "24         0.000000            0.428571  "
      ]
     },
     "execution_count": 29,
     "metadata": {},
     "output_type": "execute_result"
    }
   ],
   "source": [
    "program_prefs = relative_prefs_norm.drop([\"space_name\", \"facade_connection\", \"penthouse_factor\",\"street_sight\"], 1)\n",
    "program_prefs"
   ]
  },
  {
   "cell_type": "markdown",
   "metadata": {},
   "source": [
    "Load the value fields"
   ]
  },
  {
   "cell_type": "code",
   "execution_count": 30,
   "metadata": {},
   "outputs": [],
   "source": [
    "# loading the lattice from csv\n",
    "fields = {}\n",
    "for f in program_prefs.columns:\n",
    "    lattice_path = os.path.relpath('../data/fields/' + f + '.csv')\n",
    "    fields[f] = tg.lattice_from_csv(lattice_path)"
   ]
  },
  {
   "cell_type": "code",
   "execution_count": 31,
   "metadata": {},
   "outputs": [],
   "source": [
    "fields_football=fields[\"football_proximity\"]\n",
    "fields_sky=fields[\"sky_view_factor\"]\n",
    "fields_ground=fields[\"proximity_to_ground_floor\"]\n",
    "fields_noise=fields[\"noise_approval\"]\n",
    "fields_sun=fields[\"sunlight_access\"]"
   ]
  },
  {
   "cell_type": "code",
   "execution_count": 32,
   "metadata": {},
   "outputs": [
    {
     "data": {
      "text/plain": [
       "0.0"
      ]
     },
     "execution_count": 32,
     "metadata": {},
     "output_type": "execute_result"
    }
   ],
   "source": [
    "# t=fields[\"football_proximity\"]**\n",
    "program_prefs[\"football_proximity\"][0]\n"
   ]
  },
  {
   "cell_type": "code",
   "execution_count": 33,
   "metadata": {},
   "outputs": [],
   "source": [
    "agent_pref_fields=[]\n",
    "for i in range(0,24):\n",
    "    int=1\n",
    "    for f in program_prefs:\n",
    "        t=fields[f]**program_prefs[f][i]\n",
    "        int=int*t\n",
    "    agent_pref_fields.append(int)"
   ]
  },
  {
   "cell_type": "code",
   "execution_count": 34,
   "metadata": {},
   "outputs": [],
   "source": [
    "l=agent_pref_fields[20]"
   ]
  },
  {
   "cell_type": "code",
   "execution_count": 35,
   "metadata": {},
   "outputs": [],
   "source": [
    "# lattice_path = os.path.relpath('..\\data/fields/football_proximity.csv')\n",
    "# field_la = tg.lattice_from_csv(lattice_path)"
   ]
  },
  {
   "cell_type": "code",
   "execution_count": 36,
   "metadata": {},
   "outputs": [
    {
     "data": {
      "text/plain": [
       "<vtkmodules.vtkRenderingCore.vtkVolume(0x000001A8313DAB30) at 0x000001A835086A00>"
      ]
     },
     "execution_count": 36,
     "metadata": {},
     "output_type": "execute_result"
    }
   ],
   "source": [
    "# initiating the plotter\n",
    "p = pv.Plotter()\n",
    "\n",
    "# Create the spatial reference\n",
    "grid = pv.UniformGrid()\n",
    "\n",
    "# Set the grid dimensions: shape because we want to inject our values\n",
    "grid.dimensions = l.shape\n",
    "# The bottom left corner of the data set\n",
    "grid.origin = l.minbound\n",
    "# These are the cell sizes along each axis\n",
    "grid.spacing = l.unit\n",
    "\n",
    "# Add the data values to the cell data\n",
    "grid.point_arrays[\"Distance\"] = l.flatten(order=\"F\")  # Flatten the Lattice\n",
    "\n",
    "# adding the meshes\n",
    "p.add_mesh(tri_to_pv(context_mesh), opacity=0.1, style='wireframe')\n",
    "\n",
    "# adding the volume\n",
    "opacity = np.array([0,0.6,0.6,0.6,0.6,0.6,0.6]) * 1.5\n",
    "p.add_volume(grid, cmap=\"coolwarm\", clim=[0, 1.0], opacity=opacity, shade=True, show_scalar_bar=False)\n",
    "\n",
    "# plotting\n",
    "# p.show(use_ipyvtk=True)"
   ]
  },
  {
   "cell_type": "code",
   "execution_count": null,
   "metadata": {},
   "outputs": [],
   "source": []
  },
  {
   "cell_type": "code",
   "execution_count": 37,
   "metadata": {},
   "outputs": [],
   "source": [
    "i\n",
    "r=agent_pref_fields[i]\n",
    "r2=r\n",
    "r2[r2==0.]=1\n",
    "r.max()\n",
    "r2.min()\n",
    "preferance_threshold = 0.82 # number is subject to change\n",
    "\n",
    "# removing values above set threshold and setting them to zero\n",
    "new_agent_pref_field = np.where(r < preferance_threshold,0,r)\n",
    "\n",
    "# set all usable values to 1\n",
    "\n",
    "pref_lattice = np.where(new_agent_pref_field > 0, 1,new_agent_pref_field)\n",
    "pref_lattice = pref_lattice.astype(bool)\n",
    "pref_lattice = tg.to_lattice(pref_lattice, r)"
   ]
  },
  {
   "cell_type": "code",
   "execution_count": 38,
   "metadata": {},
   "outputs": [],
   "source": [
    "# # initiating the plotter\n",
    "# p = pv.Plotter()\n",
    "\n",
    "# # fast visualization of the lattice\n",
    "# pref_lattice.fast_vis(p)\n",
    "\n",
    "# # adding the base mesh: light blue\n",
    "# p.add_mesh(tri_to_pv(context_mesh), color='#abd8ff', opacity=0.1)\n",
    "\n",
    "# # plotting\n",
    "# p.show()\n"
   ]
  },
  {
   "cell_type": "code",
   "execution_count": 39,
   "metadata": {},
   "outputs": [
    {
     "name": "stderr",
     "output_type": "stream",
     "text": [
      "WARNING:root:Encountered issue in callback (most recent call last):\n",
      "  File \"C:\\Users\\Cobyb\\AppData\\Local\\Temp/ipykernel_23884/3688452001.py\", line 34, in create_mesh\n",
      "    p.add_mesh(threshed, name='sphere', show_edges=True, opacity=1.0, show_scalar_bar=False)\n",
      "  File \"C:\\Users\\Cobyb\\anaconda3\\envs\\scds\\lib\\site-packages\\pyvista\\plotting\\plotting.py\", line 1567, in add_mesh\n",
      "    raise ValueError('Empty meshes cannot be plotted. Input mesh has zero points.')\n",
      "ValueError: Empty meshes cannot be plotted. Input mesh has zero points.\n"
     ]
    },
    {
     "data": {
      "application/vnd.jupyter.widget-view+json": {
       "model_id": "4ccbb7b919c14b14bc2126e10682d66d",
       "version_major": 2,
       "version_minor": 0
      },
      "text/plain": [
       "ViewInteractiveWidget(height=768, layout=Layout(height='auto', width='100%'), width=1024)"
      ]
     },
     "metadata": {},
     "output_type": "display_data"
    },
    {
     "data": {
      "text/plain": [
       "[(785.8088446466429, 708.392439646643, 742.1697567966429),\n",
       " (65.08283250000001, -12.333572500000002, 21.44374465),\n",
       " (0.0, 0.0, 1.0)]"
      ]
     },
     "execution_count": 39,
     "metadata": {},
     "output_type": "execute_result"
    }
   ],
   "source": [
    "p = pv.Plotter(notebook=True)\n",
    "\n",
    "base_lattice = pref_lattice\n",
    "\n",
    "# Set the grid dimensions: shape + 1 because we want to inject our values on the CELL data\n",
    "grid = pv.UniformGrid()\n",
    "grid.dimensions = np.array(base_lattice.shape) + 1\n",
    "# The bottom left corner of the data set\n",
    "grid.origin = base_lattice.minbound - base_lattice.unit * 0.5\n",
    "# These are the cell sizes along each axis\n",
    "grid.spacing = base_lattice.unit \n",
    "\n",
    "# adding the boundingbox wireframe\n",
    "p.add_mesh(grid.outline(), color=\"grey\", label=\"Domain\")\n",
    "\n",
    "# # adding the availability lattice\n",
    "# init_avail_lattice.fast_vis(p)\n",
    "\n",
    "# adding the meshes\n",
    "p.add_mesh(tri_to_pv(context_mesh), color='#aaaaaa')\n",
    "\n",
    "# adding axes\n",
    "p.add_axes()\n",
    "p.show_bounds(grid=\"back\", location=\"back\", color=\"#aaaaaa\")\n",
    "\n",
    "def create_mesh(value):\n",
    "  \n",
    "    lattice = (r < value) * avail_lattice\n",
    "    # Add the data values to the cell data\n",
    "    grid.cell_arrays[\"Agents\"] = lattice.flatten(order=\"F\")  # Flatten the array!\n",
    "    # filtering the voxels\n",
    "    threshed = grid.threshold([r2.min(),r.max()])\n",
    "    # adding the voxels\n",
    "    p.add_mesh(threshed, name='sphere', show_edges=True, opacity=1.0, show_scalar_bar=False)\n",
    "\n",
    "    return\n",
    "\n",
    "p.add_slider_widget(create_mesh, [r2.min(), r.max()], title='Time', value=0, event_type=\"always\", style=\"classic\")\n",
    "p.show(use_ipyvtk=True)"
   ]
  },
  {
   "cell_type": "code",
   "execution_count": null,
   "metadata": {},
   "outputs": [],
   "source": []
  }
 ],
 "metadata": {
  "interpreter": {
   "hash": "35193bb4a499ae14c24644d010b40ff56fe483af9478781b8d520e7468034301"
  },
  "kernelspec": {
   "display_name": "Python 3.8.5 64-bit ('scds': conda)",
   "language": "python",
   "name": "python3"
  },
  "language_info": {
   "codemirror_mode": {
    "name": "ipython",
    "version": 3
   },
   "file_extension": ".py",
   "mimetype": "text/x-python",
   "name": "python",
   "nbconvert_exporter": "python",
   "pygments_lexer": "ipython3",
   "version": "3.8.5"
  },
  "orig_nbformat": 4
 },
 "nbformat": 4,
 "nbformat_minor": 2
}
