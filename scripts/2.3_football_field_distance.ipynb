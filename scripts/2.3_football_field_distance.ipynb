{
 "cells": [
  {
   "cell_type": "markdown",
   "metadata": {},
   "source": [
    "# W2 - Accessibility (Distance Fields)\n",
    "\n",
    "In this workshop we will learn the foundations to quantitatively approach spatial accessibility. We will learn about distance fields, construct a euclidean distance field, and construct a manifold distance field."
   ]
  },
  {
   "cell_type": "markdown",
   "metadata": {},
   "source": [
    "## 0. Initialization\n",
    "\n",
    "### 0.1 Importing the packages"
   ]
  },
  {
   "cell_type": "code",
   "execution_count": 2,
   "metadata": {},
   "outputs": [],
   "source": [
    "import os\n",
    "import topogenesis as tg\n",
    "import pyvista as pv\n",
    "import trimesh as tm\n",
    "import numpy as np\n",
    "\n",
    "\n",
    "# convert mesh to pv_mesh\n",
    "def tri_to_pv(tri_mesh):\n",
    "    faces = np.pad(tri_mesh.faces, ((0, 0),(1,0)), 'constant', constant_values=3)\n",
    "    pv_mesh = pv.PolyData(tri_mesh.vertices, faces)\n",
    "    return pv_mesh"
   ]
  },
  {
   "cell_type": "markdown",
   "metadata": {},
   "source": [
    "### 0.2 import meshes"
   ]
  },
  {
   "cell_type": "code",
   "execution_count": 3,
   "metadata": {},
   "outputs": [
    {
     "name": "stdout",
     "output_type": "stream",
     "text": [
      "True\n",
      "False\n"
     ]
    }
   ],
   "source": [
    "envelope_path = os.path.relpath('..\\data\\meshes\\compulsory_envelope.obj')\n",
    "context_path = os.path.relpath('..\\data\\meshes\\immediate_context.obj')\n",
    "\n",
    "# load the mesh from file\n",
    "envelope_mesh = tm.load(envelope_path)\n",
    "context_mesh = tm.load(context_path)\n",
    "\n",
    "# Check if the mesh is watertight\n",
    "print(envelope_mesh.is_watertight)\n",
    "print(context_mesh.is_watertight)"
   ]
  },
  {
   "cell_type": "markdown",
   "metadata": {},
   "source": [
    "### 0.3 Importing the Envelope Lattice"
   ]
  },
  {
   "cell_type": "code",
   "execution_count": 4,
   "metadata": {},
   "outputs": [],
   "source": [
    "# loading the lattice from csv\n",
    "lattice_path = os.path.relpath('../data/meshes/voxelized_envelope_highres.csv')\n",
    "envelope_lattice = tg.lattice_from_csv(lattice_path)"
   ]
  },
  {
   "cell_type": "markdown",
   "metadata": {},
   "source": [
    "### 0.4 Importing the Street Points"
   ]
  },
  {
   "cell_type": "code",
   "execution_count": 5,
   "metadata": {},
   "outputs": [],
   "source": [
    "# import the football field border as a point cloud, fifa being football\n",
    "fifa = tg.cloud_from_csv('../data/meshes/football_field_points.csv')"
   ]
  },
  {
   "cell_type": "code",
   "execution_count": 6,
   "metadata": {},
   "outputs": [
    {
     "data": {
      "application/vnd.jupyter.widget-view+json": {
       "model_id": "930d1115a1614cc4ad9963ca3ec0ecec",
       "version_major": 2,
       "version_minor": 0
      },
      "text/plain": [
       "ViewInteractiveWidget(height=1000, layout=Layout(height='auto', width='100%'), width=2000)"
      ]
     },
     "metadata": {},
     "output_type": "display_data"
    },
    {
     "name": "stdout",
     "output_type": "stream",
     "text": [
      "[(314.348192231551, 283.381630231551, 296.74455709155103),\n",
      " (65.08283250000001, -12.333572500000002, 21.07374465),\n",
      " (0.0, 0.0, 1.0)]\n"
     ]
    }
   ],
   "source": [
    "# initiating the plotter\n",
    "p = pv.Plotter()\n",
    "\n",
    "# fast visualization of the lattice\n",
    "envelope_lattice.fast_vis(p)\n",
    "\n",
    "# fast visualization of the point cloud\n",
    "fifa.fast_notebook_vis(p)\n",
    "\n",
    "# adding the meshes\n",
    "p.add_mesh(tri_to_pv(context_mesh), color='#aaaaaa')\n",
    "\n",
    "#plotting\n",
    "cpos = [(314.348192231551, 283.381630231551, 296.74455709155103),\n",
    " (65.08283250000001, -12.333572500000002, 21.07374465),\n",
    " (0.0, 0.0, 1.0)]\n",
    "p.camera_position = cpos\n",
    "p.window_size = 2000, 1000\n",
    "p.show(use_ipyvtk=True)\n",
    "p.screenshot(\"../data/images/footballfielddistance1\")\n",
    "print(p.camera_position)"
   ]
  },
  {
   "cell_type": "markdown",
   "metadata": {},
   "source": [
    "## 1. Euclidean Distance Lattice\n",
    "\n",
    "### 1.1 Distance Matrix"
   ]
  },
  {
   "cell_type": "code",
   "execution_count": 7,
   "metadata": {},
   "outputs": [],
   "source": [
    "# extracting the centroid of all voxels\n",
    "env_cens = envelope_lattice.centroids_threshold(-1)\n",
    "\n",
    "# initializing the distance matrix\n",
    "dist_m = []\n",
    "# for each voxel ...\n",
    "for voxel_cen in env_cens:\n",
    "    # initializing the distance vector (per each voxel)\n",
    "    dist_v = []\n",
    "    # for each street point ...\n",
    "    for fifa_point in fifa:\n",
    "        # find the difference vector\n",
    "        diff = voxel_cen - fifa_point\n",
    "        # raise the components to the power of two\n",
    "        diff_p2 = diff**2\n",
    "        # sum the components\n",
    "        diff_p2s = diff_p2.sum()\n",
    "        # compute the square root \n",
    "        dist = diff_p2s**0.5\n",
    "        # add the distance to the distance vector\n",
    "        dist_v.append(dist)\n",
    "    # add the distance vector to the distance matrix\n",
    "    dist_m.append(dist_v)\n",
    "# change the distance matrix type, from list to array\n",
    "dist_m = np.array(dist_m)\n"
   ]
  },
  {
   "cell_type": "markdown",
   "metadata": {},
   "source": [
    "### 1.2 Distance to Closest Street Point"
   ]
  },
  {
   "cell_type": "code",
   "execution_count": 8,
   "metadata": {},
   "outputs": [],
   "source": [
    "# find the distance to the closest football field point for each voxel\n",
    "min_dist = dist_m.min(axis=1)\n",
    "# convert the minimum distance list to a lattice\n",
    "fifa_eu_distance_lattice = tg.to_lattice(min_dist.reshape(envelope_lattice.shape), envelope_lattice)\n",
    "# zero the value of the exterior voxels\n",
    "envelope_eu_dist_lattice = fifa_eu_distance_lattice * envelope_lattice"
   ]
  },
  {
   "cell_type": "markdown",
   "metadata": {},
   "source": [
    "## 2 Manifold Distance Lattice\n",
    "\n",
    "### 2.1 Selecting the Closest Voxels"
   ]
  },
  {
   "cell_type": "code",
   "execution_count": 9,
   "metadata": {},
   "outputs": [
    {
     "data": {
      "text/plain": [
       "(108, 61, 12)"
      ]
     },
     "execution_count": 9,
     "metadata": {},
     "output_type": "execute_result"
    }
   ],
   "source": [
    "# selecting the closest voxels by setting a threshold \n",
    "fifa_connection_lattice = (0 < envelope_eu_dist_lattice) * (envelope_eu_dist_lattice < envelope_lattice.unit[0]*2.7)\n",
    "fifa_connection_lattice.shape"
   ]
  },
  {
   "cell_type": "code",
   "execution_count": 10,
   "metadata": {},
   "outputs": [
    {
     "data": {
      "application/vnd.jupyter.widget-view+json": {
       "model_id": "8e9298ecd9614b498b55ccd505add469",
       "version_major": 2,
       "version_minor": 0
      },
      "text/plain": [
       "ViewInteractiveWidget(height=1000, layout=Layout(height='auto', width='100%'), width=2000)"
      ]
     },
     "metadata": {},
     "output_type": "display_data"
    },
    {
     "name": "stdout",
     "output_type": "stream",
     "text": [
      "[(314.348192231551, 283.381630231551, 296.74455709155103),\n",
      " (65.08283250000001, -12.333572500000002, 21.07374465),\n",
      " (0.0, 0.0, 1.0)]\n"
     ]
    }
   ],
   "source": [
    "# initiating the plotter\n",
    "p = pv.Plotter()\n",
    "\n",
    "# fast visualization of the lattice\n",
    "fifa_connection_lattice.fast_vis(p)\n",
    "\n",
    "\n",
    "# adding the meshes\n",
    "p.add_mesh(tri_to_pv(context_mesh), color='#aaaaaa')\n",
    "\n",
    "#plotting\n",
    "cpos = [(314.348192231551, 283.381630231551, 296.74455709155103),\n",
    " (65.08283250000001, -12.333572500000002, 21.07374465),\n",
    " (0.0, 0.0, 1.0)]\n",
    "p.camera_position = cpos\n",
    "p.window_size = 2000, 1000\n",
    "p.show(use_ipyvtk=True)\n",
    "p.screenshot(\"../data/images/footballfielddistance2\")\n",
    "print(p.camera_position)"
   ]
  },
  {
   "cell_type": "markdown",
   "metadata": {},
   "source": [
    "### 2.2. The Stencil"
   ]
  },
  {
   "cell_type": "code",
   "execution_count": 28,
   "metadata": {},
   "outputs": [
    {
     "name": "stdout",
     "output_type": "stream",
     "text": [
      "[[[0 0 0]\n",
      "  [0 1 0]\n",
      "  [0 0 0]]\n",
      "\n",
      " [[0 1 0]\n",
      "  [1 0 1]\n",
      "  [0 1 0]]\n",
      "\n",
      " [[0 0 0]\n",
      "  [0 1 0]\n",
      "  [0 0 0]]]\n"
     ]
    }
   ],
   "source": [
    "# creating neighborhood definition\n",
    "stencil = tg.create_stencil(\"von_neumann\", 1, 1)\n",
    "# setting the center to zero\n",
    "stencil.set_index([0,0,0], 0)\n",
    "\n",
    "print(stencil)"
   ]
  },
  {
   "cell_type": "markdown",
   "metadata": {},
   "source": [
    "### 2.3 Initializing the Manifold Distance Lattice"
   ]
  },
  {
   "cell_type": "code",
   "execution_count": 33,
   "metadata": {},
   "outputs": [],
   "source": [
    "# retrieve the neighbour list of each cell\n",
    "neighs = fifa_connection_lattice.find_neighbours(stencil)\n",
    "\n",
    "# set the maximum distance to sum of the size of the lattice in all dimensions.\n",
    "max_dist = np.sum(fifa_connection_lattice.shape)\n",
    "\n",
    "# initialize the football field network distance lattice with all the adjacent to football field cells as 0, and all other cells as maximum distance possible\n",
    "mn_dist_lattice = 1 - fifa_connection_lattice\n",
    "mn_dist_lattice[mn_dist_lattice==1] = max_dist\n",
    "\n",
    "# flatten the distance lattice for easy access\n",
    "mn_dist_lattice_flat = mn_dist_lattice.flatten()\n",
    "\n",
    "# flatten the envelope lattice\n",
    "env_lat_flat = envelope_lattice.flatten()"
   ]
  },
  {
   "cell_type": "markdown",
   "metadata": {},
   "source": [
    "### 2.4 Breadth-First Traversal"
   ]
  },
  {
   "cell_type": "code",
   "execution_count": 36,
   "metadata": {},
   "outputs": [
    {
     "name": "stdout",
     "output_type": "stream",
     "text": [
      "1\n"
     ]
    }
   ],
   "source": [
    "# main loop for breath-first traversal\n",
    "for i in range(1, max_dist):\n",
    "    # find the neighbours of the previous step\n",
    "    next_step = neighs[mn_dist_lattice_flat == i - 1]\n",
    "    # find the unique neighbours\n",
    "    next_unq_step = np.unique(next_step.flatten())\n",
    "    # check if the neighbours of the next step are inside the envelope\n",
    "    validity_condition = env_lat_flat[next_unq_step]\n",
    "    # select the valid neighbours\n",
    "    next_valid_step = next_unq_step[validity_condition]\n",
    "    # make a copy of the lattice to prevent overwriting in the memory\n",
    "    mn_nex_dist_lattice_flat = np.copy(mn_dist_lattice_flat)\n",
    "    # set the next step cells to the current distance\n",
    "    mn_nex_dist_lattice_flat[next_valid_step] = i\n",
    "    # find the minimum of the current distance and previous distances to avoid overwriting previous steps\n",
    "    mn_dist_lattice_flat = np.minimum(mn_dist_lattice_flat, mn_nex_dist_lattice_flat)\n",
    "    \n",
    "    # check how many of the cells have not been traversed yet\n",
    "    filled_check = mn_dist_lattice_flat * env_lat_flat == max_dist\n",
    "    # if all the cells have been traversed, break the loop\n",
    "    if filled_check.sum() == 0:\n",
    "        print(i)\n",
    "        break\n",
    "mn_dist_lattice_flat=mn_dist_lattice_flat.astype(float)\n",
    "\n",
    "\n",
    "\n",
    "dist_id=[]\n",
    "for i in range(len(mn_dist_lattice_flat)):\n",
    "    if mn_dist_lattice_flat[i] != 181:\n",
    "        dist_id.append(i)\n",
    "mn_dist_full=mn_dist_lattice_flat[mn_dist_lattice_flat!=181]\n",
    "mn_dist_full_norm=1-(mn_dist_full-mn_dist_full.min())/(mn_dist_full.max()-mn_dist_full.min())\n",
    "\n",
    "\n",
    "for i in range(len(dist_id)):\n",
    "    mn_dist_lattice_flat[dist_id[i]]=mn_dist_full_norm[i]\n",
    "\n",
    "# reshape and construct a lattice from the football field network distance list\n",
    "mn_dist_lattice = mn_dist_lattice_flat.reshape(mn_dist_lattice.shape)"
   ]
  },
  {
   "cell_type": "code",
   "execution_count": 37,
   "metadata": {},
   "outputs": [
    {
     "data": {
      "text/plain": [
       "lattice([[0.        , 0.        , 0.        , 0.        , 0.        ,\n",
       "          0.        , 0.        , 0.        , 0.        , 0.        ,\n",
       "          0.        , 0.        ],\n",
       "         [0.        , 0.        , 0.        , 0.        , 0.        ,\n",
       "          0.        , 0.        , 0.        , 0.        , 0.        ,\n",
       "          0.        , 0.        ],\n",
       "         [0.        , 0.        , 0.        , 0.        , 0.        ,\n",
       "          0.        , 0.        , 0.        , 0.        , 0.        ,\n",
       "          0.        , 0.        ],\n",
       "         [0.        , 0.62962963, 0.61728395, 0.60493827, 0.59259259,\n",
       "          0.58024691, 0.56790123, 0.55555556, 0.54320988, 0.5308642 ,\n",
       "          0.51851852, 0.50617284],\n",
       "         [0.        , 0.64197531, 0.62962963, 0.61728395, 0.60493827,\n",
       "          0.59259259, 0.58024691, 0.56790123, 0.55555556, 0.54320988,\n",
       "          0.5308642 , 0.51851852],\n",
       "         [0.        , 0.65432099, 0.64197531, 0.62962963, 0.61728395,\n",
       "          0.60493827, 0.59259259, 0.58024691, 0.56790123, 0.55555556,\n",
       "          0.54320988, 0.5308642 ],\n",
       "         [0.        , 0.66666667, 0.65432099, 0.64197531, 0.62962963,\n",
       "          0.61728395, 0.60493827, 0.59259259, 0.58024691, 0.56790123,\n",
       "          0.55555556, 0.54320988],\n",
       "         [0.        , 0.67901235, 0.66666667, 0.65432099, 0.64197531,\n",
       "          0.62962963, 0.61728395, 0.60493827, 0.59259259, 0.58024691,\n",
       "          0.56790123, 0.55555556],\n",
       "         [0.        , 0.69135802, 0.67901235, 0.66666667, 0.65432099,\n",
       "          0.64197531, 0.62962963, 0.61728395, 0.60493827, 0.59259259,\n",
       "          0.58024691, 0.56790123],\n",
       "         [0.        , 0.7037037 , 0.69135802, 0.67901235, 0.66666667,\n",
       "          0.65432099, 0.64197531, 0.62962963, 0.61728395, 0.60493827,\n",
       "          0.59259259, 0.58024691],\n",
       "         [0.        , 0.71604938, 0.7037037 , 0.69135802, 0.67901235,\n",
       "          0.66666667, 0.65432099, 0.64197531, 0.62962963, 0.61728395,\n",
       "          0.60493827, 0.59259259],\n",
       "         [0.        , 0.72839506, 0.71604938, 0.7037037 , 0.69135802,\n",
       "          0.67901235, 0.66666667, 0.65432099, 0.64197531, 0.62962963,\n",
       "          0.61728395, 0.60493827],\n",
       "         [0.        , 0.74074074, 0.72839506, 0.71604938, 0.7037037 ,\n",
       "          0.69135802, 0.67901235, 0.66666667, 0.65432099, 0.64197531,\n",
       "          0.62962963, 0.61728395],\n",
       "         [0.        , 0.75308642, 0.74074074, 0.72839506, 0.71604938,\n",
       "          0.7037037 , 0.69135802, 0.67901235, 0.66666667, 0.65432099,\n",
       "          0.64197531, 0.62962963],\n",
       "         [0.        , 0.7654321 , 0.75308642, 0.74074074, 0.72839506,\n",
       "          0.71604938, 0.7037037 , 0.69135802, 0.67901235, 0.66666667,\n",
       "          0.65432099, 0.64197531],\n",
       "         [0.        , 0.77777778, 0.7654321 , 0.75308642, 0.74074074,\n",
       "          0.72839506, 0.71604938, 0.7037037 , 0.69135802, 0.67901235,\n",
       "          0.66666667, 0.65432099],\n",
       "         [0.        , 0.79012346, 0.77777778, 0.7654321 , 0.75308642,\n",
       "          0.74074074, 0.72839506, 0.71604938, 0.7037037 , 0.69135802,\n",
       "          0.67901235, 0.66666667],\n",
       "         [0.        , 0.80246914, 0.79012346, 0.77777778, 0.7654321 ,\n",
       "          0.75308642, 0.74074074, 0.72839506, 0.71604938, 0.7037037 ,\n",
       "          0.69135802, 0.67901235],\n",
       "         [0.        , 0.81481481, 0.80246914, 0.79012346, 0.77777778,\n",
       "          0.7654321 , 0.75308642, 0.74074074, 0.72839506, 0.71604938,\n",
       "          0.7037037 , 0.69135802],\n",
       "         [0.        , 0.82716049, 0.81481481, 0.80246914, 0.79012346,\n",
       "          0.77777778, 0.7654321 , 0.75308642, 0.74074074, 0.72839506,\n",
       "          0.71604938, 0.7037037 ],\n",
       "         [0.        , 0.83950617, 0.82716049, 0.81481481, 0.80246914,\n",
       "          0.79012346, 0.77777778, 0.7654321 , 0.75308642, 0.74074074,\n",
       "          0.72839506, 0.71604938],\n",
       "         [0.        , 0.85185185, 0.83950617, 0.82716049, 0.81481481,\n",
       "          0.80246914, 0.79012346, 0.77777778, 0.7654321 , 0.75308642,\n",
       "          0.74074074, 0.72839506],\n",
       "         [0.        , 0.86419753, 0.85185185, 0.83950617, 0.82716049,\n",
       "          0.81481481, 0.80246914, 0.79012346, 0.77777778, 0.7654321 ,\n",
       "          0.75308642, 0.74074074],\n",
       "         [0.        , 0.87654321, 0.86419753, 0.85185185, 0.83950617,\n",
       "          0.82716049, 0.81481481, 0.80246914, 0.79012346, 0.77777778,\n",
       "          0.7654321 , 0.75308642],\n",
       "         [0.        , 0.88888889, 0.87654321, 0.86419753, 0.85185185,\n",
       "          0.83950617, 0.82716049, 0.81481481, 0.80246914, 0.79012346,\n",
       "          0.77777778, 0.7654321 ],\n",
       "         [0.        , 0.90123457, 0.88888889, 0.87654321, 0.86419753,\n",
       "          0.85185185, 0.83950617, 0.82716049, 0.81481481, 0.80246914,\n",
       "          0.79012346, 0.77777778],\n",
       "         [0.        , 0.91358025, 0.90123457, 0.88888889, 0.87654321,\n",
       "          0.86419753, 0.85185185, 0.83950617, 0.82716049, 0.81481481,\n",
       "          0.80246914, 0.79012346],\n",
       "         [0.        , 0.92592593, 0.91358025, 0.90123457, 0.88888889,\n",
       "          0.87654321, 0.86419753, 0.85185185, 0.83950617, 0.82716049,\n",
       "          0.81481481, 0.80246914],\n",
       "         [0.        , 0.9382716 , 0.92592593, 0.91358025, 0.90123457,\n",
       "          0.88888889, 0.87654321, 0.86419753, 0.85185185, 0.83950617,\n",
       "          0.82716049, 0.81481481],\n",
       "         [0.        , 0.95061728, 0.9382716 , 0.92592593, 0.91358025,\n",
       "          0.90123457, 0.88888889, 0.87654321, 0.86419753, 0.85185185,\n",
       "          0.83950617, 0.82716049],\n",
       "         [0.        , 0.96296296, 0.95061728, 0.9382716 , 0.92592593,\n",
       "          0.91358025, 0.90123457, 0.88888889, 0.87654321, 0.86419753,\n",
       "          0.85185185, 0.83950617],\n",
       "         [0.        , 0.97530864, 0.96296296, 0.95061728, 0.9382716 ,\n",
       "          0.92592593, 0.91358025, 0.90123457, 0.88888889, 0.87654321,\n",
       "          0.86419753, 0.85185185],\n",
       "         [0.        , 0.98765432, 0.97530864, 0.96296296, 0.95061728,\n",
       "          0.9382716 , 0.92592593, 0.91358025, 0.90123457, 0.88888889,\n",
       "          0.87654321, 0.86419753],\n",
       "         [0.        , 1.        , 0.98765432, 0.97530864, 0.96296296,\n",
       "          0.95061728, 0.9382716 , 0.92592593, 0.91358025, 0.90123457,\n",
       "          0.88888889, 0.87654321],\n",
       "         [0.        , 0.        , 0.        , 0.        , 0.        ,\n",
       "          0.        , 0.        , 0.        , 0.        , 0.        ,\n",
       "          0.        , 0.        ],\n",
       "         [0.        , 0.        , 0.        , 0.        , 0.        ,\n",
       "          0.        , 0.        , 0.        , 0.        , 0.        ,\n",
       "          0.        , 0.        ],\n",
       "         [0.        , 0.        , 0.        , 0.        , 0.        ,\n",
       "          0.        , 0.        , 0.        , 0.        , 0.        ,\n",
       "          0.        , 0.        ],\n",
       "         [0.        , 0.        , 0.        , 0.        , 0.        ,\n",
       "          0.        , 0.        , 0.        , 0.        , 0.        ,\n",
       "          0.        , 0.        ],\n",
       "         [0.        , 0.        , 0.        , 0.        , 0.        ,\n",
       "          0.        , 0.        , 0.        , 0.        , 0.        ,\n",
       "          0.        , 0.        ],\n",
       "         [0.        , 0.        , 0.        , 0.        , 0.        ,\n",
       "          0.        , 0.        , 0.        , 0.        , 0.        ,\n",
       "          0.        , 0.        ],\n",
       "         [0.        , 0.        , 0.        , 0.        , 0.        ,\n",
       "          0.        , 0.        , 0.        , 0.        , 0.        ,\n",
       "          0.        , 0.        ],\n",
       "         [0.        , 0.        , 0.        , 0.        , 0.        ,\n",
       "          0.        , 0.        , 0.        , 0.        , 0.        ,\n",
       "          0.        , 0.        ],\n",
       "         [0.        , 0.        , 0.        , 0.        , 0.        ,\n",
       "          0.        , 0.        , 0.        , 0.        , 0.        ,\n",
       "          0.        , 0.        ],\n",
       "         [0.        , 0.        , 0.        , 0.        , 0.        ,\n",
       "          0.        , 0.        , 0.        , 0.        , 0.        ,\n",
       "          0.        , 0.        ],\n",
       "         [0.        , 0.        , 0.        , 0.        , 0.        ,\n",
       "          0.        , 0.        , 0.        , 0.        , 0.        ,\n",
       "          0.        , 0.        ],\n",
       "         [0.        , 0.        , 0.        , 0.        , 0.        ,\n",
       "          0.        , 0.        , 0.        , 0.        , 0.        ,\n",
       "          0.        , 0.        ],\n",
       "         [0.        , 0.        , 0.        , 0.        , 0.        ,\n",
       "          0.        , 0.        , 0.        , 0.        , 0.        ,\n",
       "          0.        , 0.        ],\n",
       "         [0.        , 0.        , 0.        , 0.        , 0.        ,\n",
       "          0.        , 0.        , 0.        , 0.        , 0.        ,\n",
       "          0.        , 0.        ],\n",
       "         [0.        , 0.        , 0.        , 0.        , 0.        ,\n",
       "          0.        , 0.        , 0.        , 0.        , 0.        ,\n",
       "          0.        , 0.        ],\n",
       "         [0.        , 0.        , 0.        , 0.        , 0.        ,\n",
       "          0.        , 0.        , 0.        , 0.        , 0.        ,\n",
       "          0.        , 0.        ],\n",
       "         [0.        , 0.        , 0.        , 0.        , 0.        ,\n",
       "          0.        , 0.        , 0.        , 0.        , 0.        ,\n",
       "          0.        , 0.        ],\n",
       "         [0.        , 0.        , 0.        , 0.        , 0.        ,\n",
       "          0.        , 0.        , 0.        , 0.        , 0.        ,\n",
       "          0.        , 0.        ],\n",
       "         [0.        , 0.        , 0.        , 0.        , 0.        ,\n",
       "          0.        , 0.        , 0.        , 0.        , 0.        ,\n",
       "          0.        , 0.        ],\n",
       "         [0.        , 0.        , 0.        , 0.        , 0.        ,\n",
       "          0.        , 0.        , 0.        , 0.        , 0.        ,\n",
       "          0.        , 0.        ],\n",
       "         [0.        , 0.        , 0.        , 0.        , 0.        ,\n",
       "          0.        , 0.        , 0.        , 0.        , 0.        ,\n",
       "          0.        , 0.        ],\n",
       "         [0.        , 0.        , 0.        , 0.        , 0.        ,\n",
       "          0.        , 0.        , 0.        , 0.        , 0.        ,\n",
       "          0.        , 0.        ],\n",
       "         [0.        , 0.        , 0.        , 0.        , 0.        ,\n",
       "          0.        , 0.        , 0.        , 0.        , 0.        ,\n",
       "          0.        , 0.        ],\n",
       "         [0.        , 0.        , 0.        , 0.        , 0.        ,\n",
       "          0.        , 0.        , 0.        , 0.        , 0.        ,\n",
       "          0.        , 0.        ],\n",
       "         [0.        , 0.        , 0.        , 0.        , 0.        ,\n",
       "          0.        , 0.        , 0.        , 0.        , 0.        ,\n",
       "          0.        , 0.        ],\n",
       "         [0.        , 0.        , 0.        , 0.        , 0.        ,\n",
       "          0.        , 0.        , 0.        , 0.        , 0.        ,\n",
       "          0.        , 0.        ],\n",
       "         [0.        , 0.        , 0.        , 0.        , 0.        ,\n",
       "          0.        , 0.        , 0.        , 0.        , 0.        ,\n",
       "          0.        , 0.        ]])"
      ]
     },
     "execution_count": 37,
     "metadata": {},
     "output_type": "execute_result"
    }
   ],
   "source": [
    "football_lattice=mn_dist_lattice*envelope_lattice\n",
    "football_lattice[30]\n"
   ]
  },
  {
   "cell_type": "markdown",
   "metadata": {},
   "source": []
  },
  {
   "cell_type": "code",
   "execution_count": 38,
   "metadata": {},
   "outputs": [
    {
     "data": {
      "application/vnd.jupyter.widget-view+json": {
       "model_id": "2744c3b4c9964d9baac2e4311c779817",
       "version_major": 2,
       "version_minor": 0
      },
      "text/plain": [
       "ViewInteractiveWidget(height=1000, layout=Layout(height='auto', width='100%'), width=2000)"
      ]
     },
     "metadata": {},
     "output_type": "display_data"
    },
    {
     "data": {
      "text/plain": [
       "[(314.348192231551, 283.381630231551, 296.74455709155103),\n",
       " (65.08283250000001, -12.333572500000002, 21.07374465),\n",
       " (0.0, 0.0, 1.0)]"
      ]
     },
     "execution_count": 38,
     "metadata": {},
     "output_type": "execute_result"
    }
   ],
   "source": [
    "# set the lattice to be visualized\n",
    "l = football_lattice\n",
    "# remapping\n",
    "# l =(l - l.min()) / (l.max()-l.min())\n",
    "\n",
    "# initiating the plotter\n",
    "p = pv.Plotter(notebook=True)\n",
    "\n",
    "# Create the spatial reference\n",
    "grid = pv.UniformGrid()\n",
    "\n",
    "# Set the grid dimensions: shape because we want to inject our values\n",
    "grid.dimensions = l.shape\n",
    "# The bottom left corner of the data set\n",
    "grid.origin = l.minbound\n",
    "# These are the cell sizes along each axis\n",
    "grid.spacing = l.unit\n",
    "\n",
    "# Add the data values to the cell data\n",
    "grid.point_arrays[\"football field distance\"] = l.flatten(order=\"F\")  # Flatten the Lattice\n",
    "\n",
    "# adding the meshes\n",
    "p.add_mesh(tri_to_pv(context_mesh), opacity=0.1, style='wireframe')\n",
    "    \n",
    "# fast visualization of the point cloud\n",
    "fifa.fast_notebook_vis(p)\n",
    "\n",
    "# p.set_background(\"royalblue\", top=\"aliceblue\")\n",
    "# p.background = 'green'\n",
    "\n",
    "# adding the volume\n",
    "opacity = np.array([0,0.6,0.6,0.6,0.6,0.6,0.6])*1.5\n",
    "p.add_volume(grid, cmap=\"coolwarm\",opacity=opacity, shade=True)\n",
    "\n",
    "#plotting\n",
    "cpos = [(314.348192231551, 283.381630231551, 296.74455709155103),\n",
    " (65.08283250000001, -12.333572500000002, 21.07374465),\n",
    " (0.0, 0.0, 1.0)]\n",
    "p.camera_position = cpos\n",
    "p.window_size = 2000, 1000\n",
    "p.show(use_ipyvtk=True)\n",
    "# p.screenshot(\"../data/images/footballfielddistance3\")\n",
    "# print(p.camera_position)"
   ]
  },
  {
   "cell_type": "markdown",
   "metadata": {},
   "source": []
  },
  {
   "cell_type": "code",
   "execution_count": null,
   "metadata": {},
   "outputs": [],
   "source": []
  },
  {
   "cell_type": "markdown",
   "metadata": {},
   "source": [
    "## Credits"
   ]
  },
  {
   "cell_type": "code",
   "execution_count": 39,
   "metadata": {},
   "outputs": [],
   "source": [
    "# save the normalised and inversed football field distance lattice to csv\n",
    "\n",
    "csv_path = os.path.relpath('../data/fields/football_field.csv')\n",
    "football_lattice.to_csv(csv_path)"
   ]
  },
  {
   "cell_type": "code",
   "execution_count": 27,
   "metadata": {},
   "outputs": [],
   "source": [
    "__author__ = \"Shervin Azadi\"\n",
    "__license__ = \"MIT\"\n",
    "__version__ = \"1.0\"\n",
    "__url__ = \"https://github.com/shervinazadi/earthy_workshops\"\n",
    "__summary__ = \"Earthy Design Studio\""
   ]
  },
  {
   "cell_type": "code",
   "execution_count": null,
   "metadata": {},
   "outputs": [],
   "source": []
  }
 ],
 "metadata": {
  "interpreter": {
   "hash": "c20f1e98b59e365040548753ef94c89861e7fcfcb2c26ea4b3d1e6b63d1d9946"
  },
  "kernelspec": {
   "display_name": "Python 3.8.5 64-bit ('earthy_test': conda)",
   "name": "python3"
  },
  "language_info": {
   "codemirror_mode": {
    "name": "ipython",
    "version": 3
   },
   "file_extension": ".py",
   "mimetype": "text/x-python",
   "name": "python",
   "nbconvert_exporter": "python",
   "pygments_lexer": "ipython3",
   "version": "3.8.5"
  }
 },
 "nbformat": 4,
 "nbformat_minor": 2
}
