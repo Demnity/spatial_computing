{
 "cells": [
  {
   "cell_type": "markdown",
   "metadata": {},
   "source": [
    "# W2 - Accessibility (Distance Fields)\n",
    "\n",
    "In this workshop we will learn the foundations to quantitatively approach spatial accessibility. We will learn about distance fields, construct a euclidean distance field, and construct a manifold distance field."
   ]
  },
  {
   "cell_type": "markdown",
   "metadata": {},
   "source": [
    "## 0. Initialization\n",
    "\n",
    "### 0.1 Importing the packages"
   ]
  },
  {
   "cell_type": "code",
   "execution_count": 63,
   "metadata": {},
   "outputs": [],
   "source": [
    "import os\n",
    "import topogenesis as tg\n",
    "import pyvista as pv\n",
    "import trimesh as tm\n",
    "import numpy as np\n",
    "\n",
    "#pv.set_jupyter_backend(\"ipyvtklink\")\n",
    "\n",
    "# convert mesh to pv_mesh\n",
    "def tri_to_pv(tri_mesh):\n",
    "    faces = np.pad(tri_mesh.faces, ((0, 0),(1,0)), 'constant', constant_values=3)\n",
    "    pv_mesh = pv.PolyData(tri_mesh.vertices, faces)\n",
    "    return pv_mesh"
   ]
  },
  {
   "cell_type": "markdown",
   "metadata": {},
   "source": [
    "### 0.2 import meshes"
   ]
  },
  {
   "cell_type": "code",
   "execution_count": 64,
   "metadata": {},
   "outputs": [
    {
     "name": "stdout",
     "output_type": "stream",
     "text": [
      "True\n",
      "False\n"
     ]
    }
   ],
   "source": [
    "envelope_path = os.path.relpath('../data/meshes/compulsory_envelope.obj')\n",
    "context_path = os.path.relpath('../data/meshes/immediate_context.obj')\n",
    "\n",
    "# load the mesh from file\n",
    "envelope_mesh = tm.load(envelope_path)\n",
    "context_mesh = tm.load(context_path)\n",
    "\n",
    "# Check if the mesh is watertight\n",
    "print(envelope_mesh.is_watertight)\n",
    "print(context_mesh.is_watertight)"
   ]
  },
  {
   "cell_type": "markdown",
   "metadata": {},
   "source": [
    "### 0.3 Importing the Envelope Lattice"
   ]
  },
  {
   "cell_type": "code",
   "execution_count": 65,
   "metadata": {},
   "outputs": [],
   "source": [
    "# loading the lattice from csv\n",
    "lattice_path = os.path.relpath('../data/meshes/voxelized_envelope_highres.csv')\n",
    "envelope_lattice = tg.lattice_from_csv(lattice_path)"
   ]
  },
  {
   "cell_type": "markdown",
   "metadata": {},
   "source": [
    "### 0.4 Importing the agent points"
   ]
  },
  {
   "cell_type": "code",
   "execution_count": 66,
   "metadata": {},
   "outputs": [],
   "source": [
    "# import the streetnetwork as a point cloud\n",
    "assisted_living= tg.cloud_from_csv(\"../data/meshes/assisted_living_points.csv\")\n",
    "com_center= tg.cloud_from_csv(\"../data/meshes/community_center_points.csv\")\n",
    "library= tg.cloud_from_csv(\"../data/meshes/library_points.csv\")\n",
    "fab_lab= tg.cloud_from_csv(\"../data/meshes/fab_lab_points.csv\")\n",
    "startups= tg.cloud_from_csv(\"../data/meshes/startups_points.csv\")\n",
    "shops= tg.cloud_from_csv(\"../data/meshes/shops_points.csv\")\n",
    "restaurant= tg.cloud_from_csv(\"../data/meshes/restaurant_points.csv\")\n",
    "lobby= tg.cloud_from_csv(\"../data/meshes/lobby_points.csv\")\n"
   ]
  },
  {
   "cell_type": "code",
   "execution_count": 67,
   "metadata": {},
   "outputs": [
    {
     "data": {
      "application/vnd.jupyter.widget-view+json": {
       "model_id": "f0defd37a34947409db24b431317a1a3",
       "version_major": 2,
       "version_minor": 0
      },
      "text/plain": [
       "ViewInteractiveWidget(height=768, layout=Layout(height='auto', width='100%'), width=1024)"
      ]
     },
     "metadata": {},
     "output_type": "display_data"
    },
    {
     "data": {
      "text/plain": [
       "[(785.7351488880344, 708.3187438880343, 742.5460610261134),\n",
       " (65.08283250000001, -12.333572500000002, 21.89374463807907),\n",
       " (0.0, 0.0, 1.0)]"
      ]
     },
     "execution_count": 67,
     "metadata": {},
     "output_type": "execute_result"
    }
   ],
   "source": [
    "# initiating the plotter\n",
    "p = pv.Plotter()\n",
    "\n",
    "# fast visualization of the lattice\n",
    "envelope_lattice.fast_vis(p)\n",
    "\n",
    "# fast visualization of the point cloud\n",
    "\n",
    "# assisted_living.fast_notebook_vis(p)\n",
    "# com_center.fast_notebook_vis(p)\n",
    "# library.fast_notebook_vis(p)\n",
    "# fab_lab.fast_notebook_vis(p)\n",
    "# startups.fast_notebook_vis(p)\n",
    "# shops.fast_notebook_vis(p)\n",
    "# restaurant.fast_notebook_vis(p)\n",
    "# lobby.fast_notebook_vis(p)\n",
    "\n",
    "# adding the meshes\n",
    "p.add_mesh(tri_to_pv(context_mesh), color='#aaaaaa')\n",
    "\n",
    "# plotting\n",
    "p.show(use_ipyvtk=True)"
   ]
  },
  {
   "cell_type": "code",
   "execution_count": 68,
   "metadata": {},
   "outputs": [],
   "source": [
    "# extracting the centroid of all voxels\n",
    "env_cens = envelope_lattice.centroids_threshold(-1)\n"
   ]
  },
  {
   "cell_type": "markdown",
   "metadata": {},
   "source": [
    "### Assisted living"
   ]
  },
  {
   "cell_type": "code",
   "execution_count": 69,
   "metadata": {},
   "outputs": [],
   "source": [
    "# initializing the distance matrix\n",
    "dist_assisted = []\n",
    "# for each voxel ...\n",
    "for voxel_cen in env_cens:\n",
    "    # initializing the distance vector (per each voxel)\n",
    "    dist_assist = []\n",
    "    # for each street point ...\n",
    "    for point in assisted_living:\n",
    "        # find the difference vector\n",
    "        diff = voxel_cen - point\n",
    "        # raise the components to the power of two\n",
    "        diff_p2 = diff**2\n",
    "        # sum the components\n",
    "        diff_p2s = diff_p2.sum()\n",
    "        # compute the square root \n",
    "        dist = diff_p2s**0.5\n",
    "        # add the distance to the distance vector\n",
    "        dist_assist.append(dist)\n",
    "    # add the distance vector to the distance matrix\n",
    "    dist_assisted.append(dist_assist)\n",
    "# change the distance matrix type, from list to array\n",
    "dist_assist = np.array(dist_assisted)\n",
    "\n",
    "# find the distance to the closest street point for each voxel\n",
    "min_dist_assisted = dist_assist.min(axis=1)\n",
    "# convert the minimum distance list to a lattice\n",
    "assisted_eu_distance_lattice = tg.to_lattice(min_dist_assisted.reshape(envelope_lattice.shape), envelope_lattice)\n",
    "# zero the value of the exterior voxels\n",
    "assisted = assisted_eu_distance_lattice * envelope_lattice\n",
    "assisted=1-(assisted-assisted.min())/(assisted.max()-assisted.min())"
   ]
  },
  {
   "cell_type": "code",
   "execution_count": 70,
   "metadata": {},
   "outputs": [],
   "source": [
    "assisted_living_path = os.path.relpath('../data/fields/assisted_living.csv')\n",
    "assisted.to_csv(assisted_living_path)"
   ]
  },
  {
   "cell_type": "markdown",
   "metadata": {},
   "source": [
    "### Library"
   ]
  },
  {
   "cell_type": "code",
   "execution_count": 73,
   "metadata": {},
   "outputs": [],
   "source": [
    "# initializing the distance matrix\n",
    "dist_lib = []\n",
    "# for each voxel ...\n",
    "for voxel_cen in env_cens:\n",
    "    # initializing the distance vector (per each voxel)\n",
    "    dist_v = []\n",
    "    # for each street point ...\n",
    "    for point in library:\n",
    "        # find the difference vector\n",
    "        diff = voxel_cen - point\n",
    "        # raise the components to the power of two\n",
    "        diff_p2 = diff**2\n",
    "        # sum the components\n",
    "        diff_p2s = diff_p2.sum()\n",
    "        # compute the square root \n",
    "        dist = diff_p2s**0.5\n",
    "        # add the distance to the distance vector\n",
    "        dist_v.append(dist)\n",
    "    # add the distance vector to the distance matrix\n",
    "    dist_lib.append(dist_v)\n",
    "# change the distance matrix type, from list to array\n",
    "dist_lib = np.array(dist_lib)\n",
    "\n",
    "# find the distance to the closest street point for each voxel\n",
    "min_dist_lib = dist_lib.min(axis=1)\n",
    "# convert the minimum distance list to a lattice\n",
    "library_eu_distance_lattice = tg.to_lattice(min_dist_lib.reshape(envelope_lattice.shape), envelope_lattice)\n",
    "# zero the value of the exterior voxels\n",
    "librar = library_eu_distance_lattice * envelope_lattice\n",
    "librar=1-(librar-librar.min())/(librar.max()-librar.min())"
   ]
  },
  {
   "cell_type": "code",
   "execution_count": 74,
   "metadata": {},
   "outputs": [],
   "source": [
    "library_path = os.path.relpath('../data/fields/library.csv')\n",
    "librar.to_csv(library_path)"
   ]
  },
  {
   "cell_type": "markdown",
   "metadata": {},
   "source": [
    "### Fab labs"
   ]
  },
  {
   "cell_type": "code",
   "execution_count": 75,
   "metadata": {},
   "outputs": [],
   "source": [
    "# initializing the distance matrix\n",
    "dist_fab = []\n",
    "# for each voxel ...\n",
    "for voxel_cen in env_cens:\n",
    "    # initializing the distance vector (per each voxel)\n",
    "    dist_v = []\n",
    "    # for each street point ...\n",
    "    for point in fab_lab:\n",
    "        # find the difference vector\n",
    "        diff = voxel_cen - point\n",
    "        # raise the components to the power of two\n",
    "        diff_p2 = diff**2\n",
    "        # sum the components\n",
    "        diff_p2s = diff_p2.sum()\n",
    "        # compute the square root \n",
    "        dist = diff_p2s**0.5\n",
    "        # add the distance to the distance vector\n",
    "        dist_v.append(dist)\n",
    "    # add the distance vector to the distance matrix\n",
    "    dist_fab.append(dist_v)\n",
    "# change the distance matrix type, from list to array\n",
    "dist_fab = np.array(dist_fab)\n",
    "\n",
    "# find the distance to the closest street point for each voxel\n",
    "min_dist_fab = dist_fab.min(axis=1)\n",
    "# convert the minimum distance list to a lattice\n",
    "fab_lab_eu_distance_lattice = tg.to_lattice(min_dist_fab.reshape(envelope_lattice.shape), envelope_lattice)\n",
    "# zero the value of the exterior voxels\n",
    "fab_labs = fab_lab_eu_distance_lattice * envelope_lattice\n",
    "fab_labs=1-(fab_labs-fab_labs.min())/(fab_labs.max()-fab_labs.min())"
   ]
  },
  {
   "cell_type": "code",
   "execution_count": 76,
   "metadata": {},
   "outputs": [],
   "source": [
    "fab_lab_path = os.path.relpath('../data/fields/fab_lab.csv')\n",
    "fab_labs.to_csv(fab_lab_path)"
   ]
  },
  {
   "cell_type": "markdown",
   "metadata": {},
   "source": [
    "### Startups"
   ]
  },
  {
   "cell_type": "code",
   "execution_count": 77,
   "metadata": {},
   "outputs": [],
   "source": [
    "# initializing the distance matrix\n",
    "dist_start = []\n",
    "# for each voxel ...\n",
    "for voxel_cen in env_cens:\n",
    "    # initializing the distance vector (per each voxel)\n",
    "    dist_v = []\n",
    "    # for each street point ...\n",
    "    for point in startups:\n",
    "        # find the difference vector\n",
    "        diff = voxel_cen - point\n",
    "        # raise the components to the power of two\n",
    "        diff_p2 = diff**2\n",
    "        # sum the components\n",
    "        diff_p2s = diff_p2.sum()\n",
    "        # compute the square root \n",
    "        dist = diff_p2s**0.5\n",
    "        # add the distance to the distance vector\n",
    "        dist_v.append(dist)\n",
    "    # add the distance vector to the distance matrix\n",
    "    dist_start.append(dist_v)\n",
    "# change the distance matrix type, from list to array\n",
    "dist_start = np.array(dist_start)\n",
    "\n",
    "# find the distance to the closest street point for each voxel\n",
    "min_dist_start = dist_start.min(axis=1)\n",
    "# convert the minimum distance list to a lattice\n",
    "start_eu_distance_lattice = tg.to_lattice(min_dist_start.reshape(envelope_lattice.shape), envelope_lattice)\n",
    "# zero the value of the exterior voxels\n",
    "startup = start_eu_distance_lattice * envelope_lattice\n",
    "startup=1-(startup-startup.min())/(startup.max()-startup.min())\n"
   ]
  },
  {
   "cell_type": "code",
   "execution_count": 78,
   "metadata": {},
   "outputs": [],
   "source": [
    "startups_path = os.path.relpath('../data/fields/startups.csv')\n",
    "startup.to_csv(startups_path)"
   ]
  },
  {
   "cell_type": "markdown",
   "metadata": {},
   "source": [
    "### Shops"
   ]
  },
  {
   "cell_type": "code",
   "execution_count": 79,
   "metadata": {},
   "outputs": [],
   "source": [
    "# initializing the distance matrix\n",
    "dist_shops = []\n",
    "# for each voxel ...\n",
    "for voxel_cen in env_cens:\n",
    "    # initializing the distance vector (per each voxel)\n",
    "    dist_v = []\n",
    "    # for each street point ...\n",
    "    for point in shops:\n",
    "        # find the difference vector\n",
    "        diff = voxel_cen - point\n",
    "        # raise the components to the power of two\n",
    "        diff_p2 = diff**2\n",
    "        # sum the components\n",
    "        diff_p2s = diff_p2.sum()\n",
    "        # compute the square root \n",
    "        dist = diff_p2s**0.5\n",
    "        # add the distance to the distance vector\n",
    "        dist_v.append(dist)\n",
    "    # add the distance vector to the distance matrix\n",
    "    dist_shops.append(dist_v)\n",
    "# change the distance matrix type, from list to array\n",
    "dist_shops = np.array(dist_shops)\n",
    "\n",
    "# find the distance to the closest street point for each voxel\n",
    "min_dist_shops = dist_shops.min(axis=1)\n",
    "# convert the minimum distance list to a lattice\n",
    "shops_eu_distance_lattice = tg.to_lattice(min_dist_shops.reshape(envelope_lattice.shape), envelope_lattice)\n",
    "# zero the value of the exterior voxels\n",
    "shop = shops_eu_distance_lattice * envelope_lattice\n",
    "shop=1-(shop-shop.min())/(shop.max()-shop.min())\n"
   ]
  },
  {
   "cell_type": "code",
   "execution_count": 80,
   "metadata": {},
   "outputs": [],
   "source": [
    "shops_path = os.path.relpath('../data/fields/shops.csv')\n",
    "shop.to_csv(shops_path)"
   ]
  },
  {
   "cell_type": "markdown",
   "metadata": {},
   "source": [
    "### Restaurant"
   ]
  },
  {
   "cell_type": "code",
   "execution_count": 81,
   "metadata": {},
   "outputs": [],
   "source": [
    "# initializing the distance matrix\n",
    "dist_rest = []\n",
    "# for each voxel ...\n",
    "for voxel_cen in env_cens:\n",
    "    # initializing the distance vector (per each voxel)\n",
    "    dist_v = []\n",
    "    # for each street point ...\n",
    "    for point in restaurant:\n",
    "        # find the difference vector\n",
    "        diff = voxel_cen - point\n",
    "        # raise the components to the power of two\n",
    "        diff_p2 = diff**2\n",
    "        # sum the components\n",
    "        diff_p2s = diff_p2.sum()\n",
    "        # compute the square root \n",
    "        dist = diff_p2s**0.5\n",
    "        # add the distance to the distance vector\n",
    "        dist_v.append(dist)\n",
    "    # add the distance vector to the distance matrix\n",
    "    dist_rest.append(dist_v)\n",
    "# change the distance matrix type, from list to array\n",
    "dist_rest = np.array(dist_rest)\n",
    "\n",
    "# find the distance to the closest street point for each voxel\n",
    "min_dist_rest = dist_rest.min(axis=1)\n",
    "# convert the minimum distance list to a lattice\n",
    "rest_eu_distance_lattice = tg.to_lattice(min_dist_rest.reshape(envelope_lattice.shape), envelope_lattice)\n",
    "# zero the value of the exterior voxels\n",
    "restaur = rest_eu_distance_lattice * envelope_lattice\n",
    "restaur=1-(restaur-restaur.min())/(restaur.max()-restaur.min())"
   ]
  },
  {
   "cell_type": "code",
   "execution_count": 82,
   "metadata": {},
   "outputs": [],
   "source": [
    "restaurant_path = os.path.relpath('../data/fields/restaurant.csv')\n",
    "restaur.to_csv(restaurant_path)"
   ]
  },
  {
   "cell_type": "markdown",
   "metadata": {},
   "source": [
    "### Lobby"
   ]
  },
  {
   "cell_type": "code",
   "execution_count": 83,
   "metadata": {},
   "outputs": [],
   "source": [
    "# initializing the distance matrix\n",
    "dist_lob = []\n",
    "# for each voxel ...\n",
    "for voxel_cen in env_cens:\n",
    "    # initializing the distance vector (per each voxel)\n",
    "    dist_v = []\n",
    "    # for each street point ...\n",
    "    for point in lobby:\n",
    "        # find the difference vector\n",
    "        diff = voxel_cen - point\n",
    "        # raise the components to the power of two\n",
    "        diff_p2 = diff**2\n",
    "        # sum the components\n",
    "        diff_p2s = diff_p2.sum()\n",
    "        # compute the square root \n",
    "        dist = diff_p2s**0.5\n",
    "        # add the distance to the distance vector\n",
    "        dist_v.append(dist)\n",
    "    # add the distance vector to the distance matrix\n",
    "    dist_lob.append(dist_v)\n",
    "# change the distance matrix type, from list to array\n",
    "dist_lob = np.array(dist_lob)\n",
    "\n",
    "# find the distance to the closest street point for each voxel\n",
    "min_dist_lob = dist_lob.min(axis=1)\n",
    "# convert the minimum distance list to a lattice\n",
    "lob_eu_distance_lattice = tg.to_lattice(min_dist_lob.reshape(envelope_lattice.shape), envelope_lattice)\n",
    "# zero the value of the exterior voxels\n",
    "lobb = lob_eu_distance_lattice * envelope_lattice\n",
    "lobb=1-(lobb-lobb.min())/(lobb.max()-lobb.min())"
   ]
  },
  {
   "cell_type": "code",
   "execution_count": 84,
   "metadata": {},
   "outputs": [],
   "source": [
    "lobby_path = os.path.relpath('../data/fields/lobby.csv')\n",
    "lobb.to_csv(lobby_path)"
   ]
  },
  {
   "cell_type": "markdown",
   "metadata": {},
   "source": [
    "### visualize"
   ]
  },
  {
   "cell_type": "code",
   "execution_count": 92,
   "metadata": {},
   "outputs": [],
   "source": [
    "l=community"
   ]
  },
  {
   "cell_type": "code",
   "execution_count": 93,
   "metadata": {},
   "outputs": [
    {
     "data": {
      "application/vnd.jupyter.widget-view+json": {
       "model_id": "f25860c05b714098962d52fa7d9da43e",
       "version_major": 2,
       "version_minor": 0
      },
      "text/plain": [
       "ViewInteractiveWidget(height=768, layout=Layout(height='auto', width='100%'), width=1024)"
      ]
     },
     "metadata": {},
     "output_type": "display_data"
    },
    {
     "data": {
      "text/plain": [
       "[(785.6075686833789, 708.1911636833788, 743.2184808333789),\n",
       " (65.08283250000001, -12.333572500000002, 22.69374465),\n",
       " (0.0, 0.0, 1.0)]"
      ]
     },
     "execution_count": 93,
     "metadata": {},
     "output_type": "execute_result"
    }
   ],
   "source": [
    "# initiating the plotter\n",
    "p = pv.Plotter()\n",
    "\n",
    "# Create the spatial reference\n",
    "grid = pv.UniformGrid()\n",
    "\n",
    "# Set the grid dimensions: shape because we want to inject our values\n",
    "grid.dimensions = l.shape\n",
    "# The bottom left corner of the data set\n",
    "grid.origin = l.minbound\n",
    "# These are the cell sizes along each axis\n",
    "grid.spacing = l.unit\n",
    "\n",
    "# Add the data values to the cell data\n",
    "grid.point_arrays[\"Distance\"] = l.flatten(order=\"F\")  # Flatten the Lattice\n",
    "\n",
    "# adding the meshes\n",
    "p.add_mesh(tri_to_pv(context_mesh), opacity=0.1, style='wireframe')\n",
    "    \n",
    "# fast visualization of the point cloud\n",
    "com_center.fast_notebook_vis(p)\n",
    "\n",
    "# adding the volume\n",
    "opacity = np.array([0,0.6,0.6,0.6,0.6,0.6,0.6]) * 1.5\n",
    "p.add_volume(grid, cmap=\"coolwarm\", opacity=opacity, shade=True, show_scalar_bar=False)\n",
    "\n",
    "# plotting\n",
    "p.show(use_ipyvtk=True)"
   ]
  },
  {
   "cell_type": "markdown",
   "metadata": {},
   "source": [
    "## Credits"
   ]
  },
  {
   "cell_type": "code",
   "execution_count": 90,
   "metadata": {},
   "outputs": [],
   "source": [
    "__author__ = \"Shervin Azadi\"\n",
    "__license__ = \"MIT\"\n",
    "__version__ = \"1.0\"\n",
    "__url__ = \"https://github.com/shervinazadi/earthy_workshops\"\n",
    "__summary__ = \"Earthy Design Studio\""
   ]
  }
 ],
 "metadata": {
  "interpreter": {
   "hash": "c20f1e98b59e365040548753ef94c89861e7fcfcb2c26ea4b3d1e6b63d1d9946"
  },
  "kernelspec": {
   "display_name": "Python 3.8.5 64-bit ('earthy_test': conda)",
   "name": "python3"
  },
  "language_info": {
   "codemirror_mode": {
    "name": "ipython",
    "version": 3
   },
   "file_extension": ".py",
   "mimetype": "text/x-python",
   "name": "python",
   "nbconvert_exporter": "python",
   "pygments_lexer": "ipython3",
   "version": "3.8.5"
  }
 },
 "nbformat": 4,
 "nbformat_minor": 2
}
