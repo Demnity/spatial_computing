{
 "cells": [
  {
   "cell_type": "markdown",
   "metadata": {},
   "source": [
    "# Voxelization Workshop\n",
    "\n",
    "In this workshop we will learn how to voxelize a geometry and construct a lattice from it.\n"
   ]
  },
  {
   "cell_type": "markdown",
   "metadata": {},
   "source": [
    "### 0. Initialization\n",
    "Importing all necessary libraries and specifying the inputs"
   ]
  },
  {
   "cell_type": "code",
   "execution_count": 1,
   "metadata": {},
   "outputs": [],
   "source": [
    "# !conda env update -f ../environment.yml"
   ]
  },
  {
   "cell_type": "code",
   "execution_count": 2,
   "metadata": {
    "tags": []
   },
   "outputs": [],
   "source": [
    "import os\n",
    "import topogenesis as tg\n",
    "import trimesh as tm\n",
    "import numpy as np\n",
    "import pyvista as pv\n",
    "#pv.set_jupyter_backend(\"ipyvtklink\")"
   ]
  },
  {
   "cell_type": "code",
   "execution_count": 3,
   "metadata": {
    "tags": []
   },
   "outputs": [],
   "source": [
    "vs = 4.2\n",
    "vh = 3.2\n",
    "\n",
    "unit = [vs, vs, vh]\n",
    "mesh_path = os.path.relpath('../data/meshes/compulsory_envelope.obj')"
   ]
  },
  {
   "cell_type": "markdown",
   "metadata": {},
   "source": [
    "## 1. Input Mesh"
   ]
  },
  {
   "cell_type": "code",
   "execution_count": 4,
   "metadata": {},
   "outputs": [
    {
     "name": "stdout",
     "output_type": "stream",
     "text": [
      "True\n"
     ]
    }
   ],
   "source": [
    "# load the mesh from file\n",
    "mesh = tm.load(mesh_path)\n",
    "# Check if the mesh is watertight\n",
    "print(mesh.is_watertight)"
   ]
  },
  {
   "cell_type": "code",
   "execution_count": 5,
   "metadata": {},
   "outputs": [
    {
     "data": {
      "application/vnd.jupyter.widget-view+json": {
       "model_id": "4f1027a0cf284f21b2c8b2c7f1d1af5c",
       "version_major": 2,
       "version_minor": 0
      },
      "text/plain": [
       "ViewInteractiveWidget(height=1000, layout=Layout(height='auto', width='100%'), width=2000)"
      ]
     },
     "metadata": {},
     "output_type": "display_data"
    },
    {
     "name": "stdout",
     "output_type": "stream",
     "text": [
      "[(314.348192231551, 283.381630231551, 296.74455709155103),\n",
      " (65.08283250000001, -12.333572500000002, 21.07374465),\n",
      " (0.0, 0.0, 1.0)]\n"
     ]
    }
   ],
   "source": [
    "# convert trimesh to pv_mesh\n",
    "def tri_to_pv(tri_mesh):\n",
    "    faces = np.pad(tri_mesh.faces, ((0, 0),(1,0)), 'constant', constant_values=3)\n",
    "    pv_mesh = pv.PolyData(tri_mesh.vertices, faces)\n",
    "    return pv_mesh\n",
    "\n",
    "# Visualize the mesh using pyvista plotter\n",
    "#######\n",
    "\n",
    "# initiating the plotter\n",
    "p = pv.Plotter()\n",
    "\n",
    "# adding the base mesh: light blue\n",
    "p.add_mesh(tri_to_pv(mesh), color='#abd8ff')\n",
    "\n",
    "#plotting\n",
    "cpos = [(314.348192231551, 283.381630231551, 296.74455709155103),\n",
    " (65.08283250000001, -12.333572500000002, 21.07374465),\n",
    " (0.0, 0.0, 1.0)]\n",
    "p.camera_position = cpos\n",
    "p.window_size = 2000, 1000\n",
    "p.show(use_ipyvtk=True)\n",
    "p.screenshot(\"../data/images/voxelization_highres1\")\n",
    "print(p.camera_position)"
   ]
  },
  {
   "cell_type": "markdown",
   "metadata": {},
   "source": [
    "## 2. Voxelize the Mesh"
   ]
  },
  {
   "cell_type": "code",
   "execution_count": 6,
   "metadata": {},
   "outputs": [],
   "source": [
    "# initialize the base lattice\n",
    "base_lattice = tg.lattice(mesh.bounds, unit=unit, default_value=1, dtype=int)\n",
    "\n",
    "# check which voxel centroids is inside the mesh\n",
    "interior_condition = mesh.contains(base_lattice.centroids)\n",
    "\n",
    "# reshape the interior condition to the shape of the base_lattice\n",
    "interior_array = interior_condition.reshape(base_lattice.shape)\n",
    "\n",
    "# convert the interior array into a lattice\n",
    "interior_lattice = tg.to_lattice(interior_array, base_lattice.minbound, base_lattice.unit)\n"
   ]
  },
  {
   "cell_type": "markdown",
   "metadata": {},
   "source": [
    "## 2.1 Visualizing Highres lattice"
   ]
  },
  {
   "cell_type": "code",
   "execution_count": 7,
   "metadata": {
    "scrolled": false
   },
   "outputs": [
    {
     "data": {
      "application/vnd.jupyter.widget-view+json": {
       "model_id": "e73dfe4f85a94c158d20bde6d8a4e05b",
       "version_major": 2,
       "version_minor": 0
      },
      "text/plain": [
       "ViewInteractiveWidget(height=1000, layout=Layout(height='auto', width='100%'), width=2000)"
      ]
     },
     "metadata": {},
     "output_type": "display_data"
    },
    {
     "name": "stdout",
     "output_type": "stream",
     "text": [
      "[(314.348192231551, 283.381630231551, 296.74455709155103),\n",
      " (65.08283250000001, -12.333572500000002, 21.07374465),\n",
      " (0.0, 0.0, 1.0)]\n"
     ]
    }
   ],
   "source": [
    "# convert trimesh to pv_mesh\n",
    "def tri_to_pv(tri_mesh):\n",
    "    faces = np.pad(tri_mesh.faces, ((0, 0),(1,0)), 'constant', constant_values=3)\n",
    "    pv_mesh = pv.PolyData(tri_mesh.vertices, faces)\n",
    "    return pv_mesh\n",
    "\n",
    "# Visualize the voxelization using pyvista plotter\n",
    "#####\n",
    "\n",
    "# initiating the plotter\n",
    "p = pv.Plotter()\n",
    "\n",
    "# fast visualization of the lattice\n",
    "interior_lattice.fast_vis(p)\n",
    "\n",
    "# adding the base mesh: light blue\n",
    "p.add_mesh(tri_to_pv(mesh), color='#abd8ff', opacity=0.1)\n",
    "\n",
    "#plotting\n",
    "cpos = [(314.348192231551, 283.381630231551, 296.74455709155103),\n",
    " (65.08283250000001, -12.333572500000002, 21.07374465),\n",
    " (0.0, 0.0, 1.0)]\n",
    "p.camera_position = cpos\n",
    "p.window_size = 2000, 1000\n",
    "p.show(use_ipyvtk=True)\n",
    "p.screenshot(\"../data/images/voxelization_highres2\")\n",
    "print(p.camera_position)\n"
   ]
  },
  {
   "cell_type": "markdown",
   "metadata": {},
   "source": [
    "## 2.2 Lattice Dimensions"
   ]
  },
  {
   "cell_type": "code",
   "execution_count": 8,
   "metadata": {},
   "outputs": [
    {
     "data": {
      "text/plain": [
       "(36, 21, 12)"
      ]
     },
     "execution_count": 8,
     "metadata": {},
     "output_type": "execute_result"
    }
   ],
   "source": [
    "interior_lattice.shape"
   ]
  },
  {
   "cell_type": "markdown",
   "metadata": {},
   "source": [
    "## 3. Saving the lattice to CSV"
   ]
  },
  {
   "cell_type": "code",
   "execution_count": 9,
   "metadata": {},
   "outputs": [],
   "source": [
    "csv_path = os.path.relpath('../data/meshes/voxelized_envelope_highres.csv')\n",
    "interior_lattice.to_csv(csv_path)"
   ]
  },
  {
   "cell_type": "markdown",
   "metadata": {},
   "source": [
    "### Credits"
   ]
  },
  {
   "cell_type": "code",
   "execution_count": 10,
   "metadata": {},
   "outputs": [],
   "source": [
    "__author__ = \"Shervin Azadi\"\n",
    "__license__ = \"MIT\"\n",
    "__version__ = \"1.0\"\n",
    "__url__ = \"https://github.com/shervinazadi/spatial_computing_workshops\"\n",
    "__summary__ = \"Spatial Computing Design Studio Workshop on Voxelization\""
   ]
  }
 ],
 "metadata": {
  "kernelspec": {
   "display_name": "Python 3.8.5 64-bit ('sc_workshops': conda)",
   "metadata": {
    "interpreter": {
     "hash": "787ea478c22349cf73d867deb0a19fc58e75e9742a9aed6f48d06cc412ad6e3b"
    }
   },
   "name": "python3"
  },
  "language_info": {
   "codemirror_mode": {
    "name": "ipython",
    "version": 3
   },
   "file_extension": ".py",
   "mimetype": "text/x-python",
   "name": "python",
   "nbconvert_exporter": "python",
   "pygments_lexer": "ipython3",
   "version": "3.8.5"
  }
 },
 "nbformat": 4,
 "nbformat_minor": 2
}
