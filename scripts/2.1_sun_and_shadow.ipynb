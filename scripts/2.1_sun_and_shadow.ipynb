{
 "cells": [
  {
   "cell_type": "markdown",
   "metadata": {},
   "source": [
    "# Solar Envelope\n",
    "\n",
    "In this workshop we will learn how to compute the solar envelop of the building based on a voxelized building envelope."
   ]
  },
  {
   "cell_type": "markdown",
   "metadata": {},
   "source": [
    "## 0. Initialization\n",
    "Importing all necessary libraries and specifying the inputs"
   ]
  },
  {
   "cell_type": "code",
   "execution_count": 11,
   "metadata": {},
   "outputs": [],
   "source": [
    "import os\n",
    "import topogenesis as tg\n",
    "import pyvista as pv\n",
    "import trimesh as tm\n",
    "import numpy as np\n",
    "from ladybug.sunpath import Sunpath\n",
    "from scipy.interpolate import RegularGridInterpolator\n",
    "import functions\n",
    "\n",
    "# convert mesh to pv_mesh\n",
    "def tri_to_pv(tri_mesh):\n",
    "    faces = np.pad(tri_mesh.faces, ((0, 0),(1,0)), 'constant', constant_values=3)\n",
    "    pv_mesh = pv.PolyData(tri_mesh.vertices, faces)\n",
    "    return pv_mesh"
   ]
  },
  {
   "cell_type": "markdown",
   "metadata": {},
   "source": [
    "## 1. Import Meshes (context + envelope)\n",
    "\n",
    "### 1.1. Load Meshes"
   ]
  },
  {
   "cell_type": "code",
   "execution_count": 12,
   "metadata": {},
   "outputs": [
    {
     "name": "stdout",
     "output_type": "stream",
     "text": [
      "True\n",
      "False\n"
     ]
    }
   ],
   "source": [
    "envelope_path = os.path.relpath('../data/meshes/compulsory_envelope.obj')\n",
    "context_path = os.path.relpath('../data/meshes/immediate_context.obj')\n",
    "\n",
    "# load the mesh from file\n",
    "envelope_mesh = tm.load(envelope_path)\n",
    "context_mesh = tm.load(context_path)\n",
    "\n",
    "# Check if the mesh is watertight\n",
    "print(envelope_mesh.is_watertight)\n",
    "print(context_mesh.is_watertight)"
   ]
  },
  {
   "cell_type": "markdown",
   "metadata": {},
   "source": [
    "### 1.2. Visualize Meshes (with pyvista)"
   ]
  },
  {
   "cell_type": "code",
   "execution_count": 13,
   "metadata": {},
   "outputs": [
    {
     "data": {
      "application/vnd.jupyter.widget-view+json": {
       "model_id": "483d6b669cc14053b327da27ae192252",
       "version_major": 2,
       "version_minor": 0
      },
      "text/plain": [
       "ViewInteractiveWidget(height=1000, layout=Layout(height='auto', width='100%'), width=2000)"
      ]
     },
     "metadata": {},
     "output_type": "display_data"
    },
    {
     "name": "stdout",
     "output_type": "stream",
     "text": [
      "[(314.348192231551, 283.381630231551, 296.74455709155103),\n",
      " (65.08283250000001, -12.333572500000002, 21.07374465),\n",
      " (0.0, 0.0, 1.0)]\n"
     ]
    }
   ],
   "source": [
    "# initiating the plotter\n",
    "p = pv.Plotter(notebook=True)\n",
    "\n",
    "# adding the meshes\n",
    "p.add_mesh(tri_to_pv(envelope_mesh), color='#abd8ff')\n",
    "p.add_mesh(tri_to_pv(context_mesh), color='#aaaaaa')\n",
    "\n",
    "#plotting\n",
    "cpos = [(314.348192231551, 283.381630231551, 296.74455709155103),\n",
    " (65.08283250000001, -12.333572500000002, 21.07374465),\n",
    " (0.0, 0.0, 1.0)]\n",
    "p.camera_position = cpos\n",
    "p.window_size = 2000, 1000\n",
    "p.show(use_ipyvtk=True)\n",
    "p.screenshot(\"../data/images/sun_and_shadow1\")\n",
    "print(p.camera_position)"
   ]
  },
  {
   "cell_type": "markdown",
   "metadata": {},
   "source": [
    "## 2. Import Lattice (envelope)\n",
    "\n",
    "### 2.1. Load the Envelope Lattice"
   ]
  },
  {
   "cell_type": "code",
   "execution_count": 14,
   "metadata": {},
   "outputs": [],
   "source": [
    "# loading the lattice from csv\n",
    "lattice_path = os.path.relpath('../data/meshes/voxelized_envelope.csv')\n",
    "envelope_lattice = tg.lattice_from_csv(lattice_path)"
   ]
  },
  {
   "cell_type": "markdown",
   "metadata": {},
   "source": [
    "### 2.2. Visualize the Context Mesh + Envelope Lattice"
   ]
  },
  {
   "cell_type": "code",
   "execution_count": 15,
   "metadata": {},
   "outputs": [
    {
     "data": {
      "application/vnd.jupyter.widget-view+json": {
       "model_id": "9edc5d1858a54b039db794b2766e1be6",
       "version_major": 2,
       "version_minor": 0
      },
      "text/plain": [
       "ViewInteractiveWidget(height=1000, layout=Layout(height='auto', width='100%'), width=2000)"
      ]
     },
     "metadata": {},
     "output_type": "display_data"
    },
    {
     "name": "stdout",
     "output_type": "stream",
     "text": [
      "[(314.348192231551, 283.381630231551, 296.74455709155103),\n",
      " (65.08283250000001, -12.333572500000002, 21.07374465),\n",
      " (0.0, 0.0, 1.0)]\n"
     ]
    }
   ],
   "source": [
    "# initiating the plotter\n",
    "p = pv.Plotter()\n",
    "\n",
    "# fast visualization of the lattice\n",
    "envelope_lattice.fast_vis(p)\n",
    "\n",
    "# adding the meshes\n",
    "p.add_mesh(tri_to_pv(context_mesh), color='#aaaaaa')\n",
    "\n",
    "#plotting\n",
    "cpos = [(314.348192231551, 283.381630231551, 296.74455709155103),\n",
    " (65.08283250000001, -12.333572500000002, 21.07374465),\n",
    " (0.0, 0.0, 1.0)]\n",
    "p.camera_position = cpos\n",
    "p.window_size = 2000, 1000\n",
    "p.show(use_ipyvtk=True)\n",
    "p.screenshot(\"../data/images/sun_and_shadow2\")\n",
    "print(p.camera_position)"
   ]
  },
  {
   "cell_type": "markdown",
   "metadata": {},
   "source": [
    "## 3. Sun Vectors\n",
    "\n",
    "### 3.1. Compute Sun Vectors"
   ]
  },
  {
   "cell_type": "code",
   "execution_count": 16,
   "metadata": {
    "tags": []
   },
   "outputs": [
    {
     "name": "stdout",
     "output_type": "stream",
     "text": [
      "(31, 3)\n"
     ]
    }
   ],
   "source": [
    "# initiate sunpath\n",
    "sp = Sunpath(longitude=4.3571, latitude=52.0116)\n",
    "\n",
    "# define sun hours : A list of hours of the year for each sun vector\n",
    "# there are 8760 hours in a year, so the following integers refer to specific hours throughout the year\n",
    "hoys = []\n",
    "sun_vectors = []\n",
    "day_multiples = 180\n",
    "# for each day of the year ...\n",
    "for d in range(365):\n",
    "    # if it is one of the multiples\n",
    "    if d%day_multiples==0:\n",
    "        # for each hour of the day ...\n",
    "        for h in range(24):\n",
    "            # compute the hoy (hour of the year)\n",
    "            hoy = d*24 + h\n",
    "            # compute the sun object\n",
    "            sun = sp.calculate_sun_from_hoy(hoy)\n",
    "            # extract the sun vector (the direction that the sun ray travels toward)\n",
    "            sun_vector = sun.sun_vector.to_array()\n",
    "            # evidently, if the Z component of sun vector is positive, \n",
    "            # the sun is under the horizon \n",
    "            if sun_vector[2] < 0.0:\n",
    "                hoys.append(hoy)\n",
    "                sun_vectors.append(sun_vector)\n",
    "                \n",
    "sun_vectors = np.array(sun_vectors)\n",
    "# compute the rotation matrix \n",
    "Rz = tm.transformations.rotation_matrix(np.radians(36.324), [0,0,1])\n",
    "# Rotate the sun vectors to match the site rotation\n",
    "sun_vectors = tm.transform_points(sun_vectors, Rz)\n",
    "print(sun_vectors.shape)"
   ]
  },
  {
   "cell_type": "code",
   "execution_count": 17,
   "metadata": {},
   "outputs": [
    {
     "data": {
      "application/vnd.jupyter.widget-view+json": {
       "model_id": "a54908cc4ef947229b3594a87df10ec3",
       "version_major": 2,
       "version_minor": 0
      },
      "text/plain": [
       "ViewInteractiveWidget(height=1000, layout=Layout(height='auto', width='100%'), width=2000)"
      ]
     },
     "metadata": {},
     "output_type": "display_data"
    },
    {
     "name": "stdout",
     "output_type": "stream",
     "text": [
      "[(314.348192231551, 283.381630231551, 296.74455709155103),\n",
      " (65.08283250000001, -12.333572500000002, 21.07374465),\n",
      " (0.0, 0.0, 1.0)]\n"
     ]
    }
   ],
   "source": [
    "# Visualize the mesh using pyvista plotter\n",
    "#######\n",
    "\n",
    "# initiating the plotter\n",
    "p = pv.Plotter(notebook=True)\n",
    "\n",
    "# fast visualization of the lattice\n",
    "envelope_lattice.fast_vis(p)\n",
    "\n",
    "# adding the meshes\n",
    "p.add_mesh(tri_to_pv(context_mesh), color='#aaaaaa')\n",
    "\n",
    "# add the sun locations, color orange we invert the vectors because they need to shoot the vectors towards the sun. \n",
    "p.add_points( - sun_vectors * 300, color='#ffa500')\n",
    "\n",
    "#plotting\n",
    "cpos = [(314.348192231551, 283.381630231551, 296.74455709155103),\n",
    " (65.08283250000001, -12.333572500000002, 21.07374465),\n",
    " (0.0, 0.0, 1.0)]\n",
    "p.camera_position = cpos\n",
    "p.window_size = 2000, 1000\n",
    "p.show(use_ipyvtk=True)\n",
    "p.screenshot(\"../data/images/sun_and_shadow3\")\n",
    "print(p.camera_position)"
   ]
  },
  {
   "cell_type": "markdown",
   "metadata": {},
   "source": [
    "## 4. Compute Intersection of Sun Rays with Context Mesh\n",
    "\n",
    "### 4.1. Preparing the List of Ray Directions and Origins"
   ]
  },
  {
   "cell_type": "code",
   "execution_count": 18,
   "metadata": {},
   "outputs": [
    {
     "name": "stdout",
     "output_type": "stream",
     "text": [
      "number of voxels to shoot rays from : (3780, 3)\n",
      "number of rays per each voxel : (31, 3)\n",
      "number of rays to be shooted : (117180, 3)\n"
     ]
    }
   ],
   "source": [
    "# constructing the sun direction from the sun vectors in a numpy array\n",
    "sun_dirs = -np.array(sun_vectors)\n",
    "# exract the centroids of the envelope voxels\n",
    "full_lattice = envelope_lattice*0+1\n",
    "vox_cens = full_lattice.centroids\n",
    "# next step we need to shoot in all of the sun directions from all of the voxels, todo so, we need repeat the sun direction for the number of voxels to construct the ray_dir (which is the list of all ray directions). We need to repeat the voxels for the \n",
    "ray_dir = []\n",
    "ray_src = []\n",
    "for v_cen in vox_cens:\n",
    "    for s_dir in sun_dirs:\n",
    "        ray_dir.append(s_dir)\n",
    "        ray_src.append(v_cen)\n",
    "# converting the list of directions and sources to numpy array\n",
    "ray_dir = np.array(ray_dir)\n",
    "ray_src = np.array(ray_src)\n",
    "\n",
    "\"\"\"\n",
    "# Further info: this is the vectorised version of nested for loops\n",
    "ray_dir = np.tile(sun_dirs, [len(vox_cens),1])\n",
    "ray_src = np.tile(vox_cens, [1, len(sun_dirs)]).reshape(-1, 3)\n",
    "\"\"\"\n",
    "\n",
    "print(\"number of voxels to shoot rays from :\",vox_cens.shape)\n",
    "print(\"number of rays per each voxel :\",sun_dirs.shape)\n",
    "print(\"number of rays to be shooted :\",ray_src.shape)"
   ]
  },
  {
   "cell_type": "markdown",
   "metadata": {},
   "source": [
    "### 4.2. Computing the Intersection"
   ]
  },
  {
   "cell_type": "code",
   "execution_count": 19,
   "metadata": {},
   "outputs": [
    {
     "ename": "MemoryError",
     "evalue": "Unable to allocate 1.08 GiB for an array with shape (48217399, 3) and data type float64",
     "output_type": "error",
     "traceback": [
      "\u001b[1;31m---------------------------------------------------------------------------\u001b[0m",
      "\u001b[1;31mMemoryError\u001b[0m                               Traceback (most recent call last)",
      "\u001b[1;32m~\\AppData\\Local\\Temp/ipykernel_18464/4105170473.py\u001b[0m in \u001b[0;36m<module>\u001b[1;34m\u001b[0m\n\u001b[0;32m      1\u001b[0m \u001b[1;31m# computing the intersections of rays with the context mesh\u001b[0m\u001b[1;33m\u001b[0m\u001b[1;33m\u001b[0m\u001b[1;33m\u001b[0m\u001b[0m\n\u001b[1;32m----> 2\u001b[1;33m \u001b[0mtri_id\u001b[0m\u001b[1;33m,\u001b[0m \u001b[0mray_id\u001b[0m \u001b[1;33m=\u001b[0m \u001b[0mcontext_mesh\u001b[0m\u001b[1;33m.\u001b[0m\u001b[0mray\u001b[0m\u001b[1;33m.\u001b[0m\u001b[0mintersects_id\u001b[0m\u001b[1;33m(\u001b[0m\u001b[0mray_origins\u001b[0m\u001b[1;33m=\u001b[0m\u001b[0mray_src\u001b[0m\u001b[1;33m,\u001b[0m \u001b[0mray_directions\u001b[0m\u001b[1;33m=\u001b[0m\u001b[0mray_dir\u001b[0m\u001b[1;33m,\u001b[0m \u001b[0mmultiple_hits\u001b[0m\u001b[1;33m=\u001b[0m\u001b[1;32mFalse\u001b[0m\u001b[1;33m)\u001b[0m\u001b[1;33m\u001b[0m\u001b[1;33m\u001b[0m\u001b[0m\n\u001b[0m",
      "\u001b[1;32m~\\Anaconda3.2\\envs\\scds\\lib\\site-packages\\trimesh\\ray\\ray_triangle.py\u001b[0m in \u001b[0;36mintersects_id\u001b[1;34m(self, ray_origins, ray_directions, return_locations, multiple_hits, **kwargs)\u001b[0m\n\u001b[0;32m     58\u001b[0m         (index_tri,\n\u001b[0;32m     59\u001b[0m          \u001b[0mindex_ray\u001b[0m\u001b[1;33m,\u001b[0m\u001b[1;33m\u001b[0m\u001b[1;33m\u001b[0m\u001b[0m\n\u001b[1;32m---> 60\u001b[1;33m          \u001b[0mlocations\u001b[0m\u001b[1;33m)\u001b[0m \u001b[1;33m=\u001b[0m \u001b[0mray_triangle_id\u001b[0m\u001b[1;33m(\u001b[0m\u001b[1;33m\u001b[0m\u001b[1;33m\u001b[0m\u001b[0m\n\u001b[0m\u001b[0;32m     61\u001b[0m              \u001b[0mtriangles\u001b[0m\u001b[1;33m=\u001b[0m\u001b[0mself\u001b[0m\u001b[1;33m.\u001b[0m\u001b[0mmesh\u001b[0m\u001b[1;33m.\u001b[0m\u001b[0mtriangles\u001b[0m\u001b[1;33m,\u001b[0m\u001b[1;33m\u001b[0m\u001b[1;33m\u001b[0m\u001b[0m\n\u001b[0;32m     62\u001b[0m              \u001b[0mray_origins\u001b[0m\u001b[1;33m=\u001b[0m\u001b[0mray_origins\u001b[0m\u001b[1;33m,\u001b[0m\u001b[1;33m\u001b[0m\u001b[1;33m\u001b[0m\u001b[0m\n",
      "\u001b[1;32m~\\Anaconda3.2\\envs\\scds\\lib\\site-packages\\trimesh\\ray\\ray_triangle.py\u001b[0m in \u001b[0;36mray_triangle_id\u001b[1;34m(triangles, ray_origins, ray_directions, triangles_normal, tree, multiple_hits)\u001b[0m\n\u001b[0;32m    244\u001b[0m     \u001b[0mtriangle_candidates\u001b[0m \u001b[1;33m=\u001b[0m \u001b[0mtriangles\u001b[0m\u001b[1;33m[\u001b[0m\u001b[0mray_candidates\u001b[0m\u001b[1;33m]\u001b[0m\u001b[1;33m\u001b[0m\u001b[1;33m\u001b[0m\u001b[0m\n\u001b[0;32m    245\u001b[0m     \u001b[1;31m# (c,3) origins and vectors for the rays\u001b[0m\u001b[1;33m\u001b[0m\u001b[1;33m\u001b[0m\u001b[1;33m\u001b[0m\u001b[0m\n\u001b[1;32m--> 246\u001b[1;33m     \u001b[0mline_origins\u001b[0m \u001b[1;33m=\u001b[0m \u001b[0mray_origins\u001b[0m\u001b[1;33m[\u001b[0m\u001b[0mray_id\u001b[0m\u001b[1;33m]\u001b[0m\u001b[1;33m\u001b[0m\u001b[1;33m\u001b[0m\u001b[0m\n\u001b[0m\u001b[0;32m    247\u001b[0m     \u001b[0mline_directions\u001b[0m \u001b[1;33m=\u001b[0m \u001b[0mray_directions\u001b[0m\u001b[1;33m[\u001b[0m\u001b[0mray_id\u001b[0m\u001b[1;33m]\u001b[0m\u001b[1;33m\u001b[0m\u001b[1;33m\u001b[0m\u001b[0m\n\u001b[0;32m    248\u001b[0m \u001b[1;33m\u001b[0m\u001b[0m\n",
      "\u001b[1;31mMemoryError\u001b[0m: Unable to allocate 1.08 GiB for an array with shape (48217399, 3) and data type float64"
     ]
    }
   ],
   "source": [
    "# computing the intersections of rays with the context mesh\n",
    "tri_id, ray_id = context_mesh.ray.intersects_id(ray_origins=ray_src, ray_directions=ray_dir, multiple_hits=False)"
   ]
  },
  {
   "cell_type": "code",
   "execution_count": null,
   "metadata": {},
   "outputs": [
    {
     "ename": "MemoryError",
     "evalue": "Unable to allocate 7.06 GiB for an array with shape (316056264, 3) and data type float64",
     "output_type": "error",
     "traceback": [
      "\u001b[1;31m---------------------------------------------------------------------------\u001b[0m",
      "\u001b[1;31mMemoryError\u001b[0m                               Traceback (most recent call last)",
      "\u001b[1;32m~\\AppData\\Local\\Temp/ipykernel_18464/564540250.py\u001b[0m in \u001b[0;36m<module>\u001b[1;34m\u001b[0m\n\u001b[0;32m      1\u001b[0m \u001b[1;31m# computing the intersections of rays with the context mesh\u001b[0m\u001b[1;33m\u001b[0m\u001b[1;33m\u001b[0m\u001b[1;33m\u001b[0m\u001b[0m\n\u001b[1;32m----> 2\u001b[1;33m \u001b[0mtri_invert_id\u001b[0m\u001b[1;33m,\u001b[0m \u001b[0mray_invert_id\u001b[0m \u001b[1;33m=\u001b[0m \u001b[0mcontext_mesh\u001b[0m\u001b[1;33m.\u001b[0m\u001b[0mray\u001b[0m\u001b[1;33m.\u001b[0m\u001b[0mintersects_id\u001b[0m\u001b[1;33m(\u001b[0m\u001b[0mray_origins\u001b[0m\u001b[1;33m=\u001b[0m\u001b[0mray_src\u001b[0m\u001b[1;33m,\u001b[0m \u001b[0mray_directions\u001b[0m\u001b[1;33m=\u001b[0m\u001b[1;33m-\u001b[0m\u001b[0mray_dir\u001b[0m\u001b[1;33m,\u001b[0m \u001b[0mmultiple_hits\u001b[0m\u001b[1;33m=\u001b[0m\u001b[1;32mFalse\u001b[0m\u001b[1;33m)\u001b[0m\u001b[1;33m\u001b[0m\u001b[1;33m\u001b[0m\u001b[0m\n\u001b[0m",
      "\u001b[1;32m~\\Anaconda3.2\\envs\\scds\\lib\\site-packages\\trimesh\\ray\\ray_triangle.py\u001b[0m in \u001b[0;36mintersects_id\u001b[1;34m(self, ray_origins, ray_directions, return_locations, multiple_hits, **kwargs)\u001b[0m\n\u001b[0;32m     58\u001b[0m         (index_tri,\n\u001b[0;32m     59\u001b[0m          \u001b[0mindex_ray\u001b[0m\u001b[1;33m,\u001b[0m\u001b[1;33m\u001b[0m\u001b[1;33m\u001b[0m\u001b[0m\n\u001b[1;32m---> 60\u001b[1;33m          \u001b[0mlocations\u001b[0m\u001b[1;33m)\u001b[0m \u001b[1;33m=\u001b[0m \u001b[0mray_triangle_id\u001b[0m\u001b[1;33m(\u001b[0m\u001b[1;33m\u001b[0m\u001b[1;33m\u001b[0m\u001b[0m\n\u001b[0m\u001b[0;32m     61\u001b[0m              \u001b[0mtriangles\u001b[0m\u001b[1;33m=\u001b[0m\u001b[0mself\u001b[0m\u001b[1;33m.\u001b[0m\u001b[0mmesh\u001b[0m\u001b[1;33m.\u001b[0m\u001b[0mtriangles\u001b[0m\u001b[1;33m,\u001b[0m\u001b[1;33m\u001b[0m\u001b[1;33m\u001b[0m\u001b[0m\n\u001b[0;32m     62\u001b[0m              \u001b[0mray_origins\u001b[0m\u001b[1;33m=\u001b[0m\u001b[0mray_origins\u001b[0m\u001b[1;33m,\u001b[0m\u001b[1;33m\u001b[0m\u001b[1;33m\u001b[0m\u001b[0m\n",
      "\u001b[1;32m~\\Anaconda3.2\\envs\\scds\\lib\\site-packages\\trimesh\\ray\\ray_triangle.py\u001b[0m in \u001b[0;36mray_triangle_id\u001b[1;34m(triangles, ray_origins, ray_directions, triangles_normal, tree, multiple_hits)\u001b[0m\n\u001b[0;32m    273\u001b[0m     \u001b[1;31m# find the barycentric coordinates of each plane intersection on the\u001b[0m\u001b[1;33m\u001b[0m\u001b[1;33m\u001b[0m\u001b[1;33m\u001b[0m\u001b[0m\n\u001b[0;32m    274\u001b[0m     \u001b[1;31m# triangle candidates\u001b[0m\u001b[1;33m\u001b[0m\u001b[1;33m\u001b[0m\u001b[1;33m\u001b[0m\u001b[0m\n\u001b[1;32m--> 275\u001b[1;33m     barycentric = triangles_mod.points_to_barycentric(\n\u001b[0m\u001b[0;32m    276\u001b[0m         triangle_candidates[valid], location)\n\u001b[0;32m    277\u001b[0m \u001b[1;33m\u001b[0m\u001b[0m\n",
      "\u001b[1;32m~\\Anaconda3.2\\envs\\scds\\lib\\site-packages\\trimesh\\triangles.py\u001b[0m in \u001b[0;36mpoints_to_barycentric\u001b[1;34m(triangles, points, method)\u001b[0m\n\u001b[0;32m    539\u001b[0m     \u001b[1;32mif\u001b[0m \u001b[0mmethod\u001b[0m \u001b[1;33m==\u001b[0m \u001b[1;34m'cross'\u001b[0m\u001b[1;33m:\u001b[0m\u001b[1;33m\u001b[0m\u001b[1;33m\u001b[0m\u001b[0m\n\u001b[0;32m    540\u001b[0m         \u001b[1;32mreturn\u001b[0m \u001b[0mmethod_cross\u001b[0m\u001b[1;33m(\u001b[0m\u001b[1;33m)\u001b[0m\u001b[1;33m\u001b[0m\u001b[1;33m\u001b[0m\u001b[0m\n\u001b[1;32m--> 541\u001b[1;33m     \u001b[1;32mreturn\u001b[0m \u001b[0mmethod_cramer\u001b[0m\u001b[1;33m(\u001b[0m\u001b[1;33m)\u001b[0m\u001b[1;33m\u001b[0m\u001b[1;33m\u001b[0m\u001b[0m\n\u001b[0m\u001b[0;32m    542\u001b[0m \u001b[1;33m\u001b[0m\u001b[0m\n\u001b[0;32m    543\u001b[0m \u001b[1;33m\u001b[0m\u001b[0m\n",
      "\u001b[1;32m~\\Anaconda3.2\\envs\\scds\\lib\\site-packages\\trimesh\\triangles.py\u001b[0m in \u001b[0;36mmethod_cramer\u001b[1;34m()\u001b[0m\n\u001b[0;32m    510\u001b[0m \u001b[1;33m\u001b[0m\u001b[0m\n\u001b[0;32m    511\u001b[0m     \u001b[1;32mdef\u001b[0m \u001b[0mmethod_cramer\u001b[0m\u001b[1;33m(\u001b[0m\u001b[1;33m)\u001b[0m\u001b[1;33m:\u001b[0m\u001b[1;33m\u001b[0m\u001b[1;33m\u001b[0m\u001b[0m\n\u001b[1;32m--> 512\u001b[1;33m         \u001b[0mdot00\u001b[0m \u001b[1;33m=\u001b[0m \u001b[0mdiagonal_dot\u001b[0m\u001b[1;33m(\u001b[0m\u001b[0medge_vectors\u001b[0m\u001b[1;33m[\u001b[0m\u001b[1;33m:\u001b[0m\u001b[1;33m,\u001b[0m \u001b[1;36m0\u001b[0m\u001b[1;33m]\u001b[0m\u001b[1;33m,\u001b[0m \u001b[0medge_vectors\u001b[0m\u001b[1;33m[\u001b[0m\u001b[1;33m:\u001b[0m\u001b[1;33m,\u001b[0m \u001b[1;36m0\u001b[0m\u001b[1;33m]\u001b[0m\u001b[1;33m)\u001b[0m\u001b[1;33m\u001b[0m\u001b[1;33m\u001b[0m\u001b[0m\n\u001b[0m\u001b[0;32m    513\u001b[0m         \u001b[0mdot01\u001b[0m \u001b[1;33m=\u001b[0m \u001b[0mdiagonal_dot\u001b[0m\u001b[1;33m(\u001b[0m\u001b[0medge_vectors\u001b[0m\u001b[1;33m[\u001b[0m\u001b[1;33m:\u001b[0m\u001b[1;33m,\u001b[0m \u001b[1;36m0\u001b[0m\u001b[1;33m]\u001b[0m\u001b[1;33m,\u001b[0m \u001b[0medge_vectors\u001b[0m\u001b[1;33m[\u001b[0m\u001b[1;33m:\u001b[0m\u001b[1;33m,\u001b[0m \u001b[1;36m1\u001b[0m\u001b[1;33m]\u001b[0m\u001b[1;33m)\u001b[0m\u001b[1;33m\u001b[0m\u001b[1;33m\u001b[0m\u001b[0m\n\u001b[0;32m    514\u001b[0m         \u001b[0mdot02\u001b[0m \u001b[1;33m=\u001b[0m \u001b[0mdiagonal_dot\u001b[0m\u001b[1;33m(\u001b[0m\u001b[0medge_vectors\u001b[0m\u001b[1;33m[\u001b[0m\u001b[1;33m:\u001b[0m\u001b[1;33m,\u001b[0m \u001b[1;36m0\u001b[0m\u001b[1;33m]\u001b[0m\u001b[1;33m,\u001b[0m \u001b[0mw\u001b[0m\u001b[1;33m)\u001b[0m\u001b[1;33m\u001b[0m\u001b[1;33m\u001b[0m\u001b[0m\n",
      "\u001b[1;32m~\\Anaconda3.2\\envs\\scds\\lib\\site-packages\\trimesh\\util.py\u001b[0m in \u001b[0;36mdiagonal_dot\u001b[1;34m(a, b)\u001b[0m\n\u001b[0;32m    636\u001b[0m     \u001b[1;31m# 3x faster than (a * b).sum(axis=1)\u001b[0m\u001b[1;33m\u001b[0m\u001b[1;33m\u001b[0m\u001b[1;33m\u001b[0m\u001b[0m\n\u001b[0;32m    637\u001b[0m     \u001b[1;31m# avoiding np.ones saves 5-10% sometimes\u001b[0m\u001b[1;33m\u001b[0m\u001b[1;33m\u001b[0m\u001b[1;33m\u001b[0m\u001b[0m\n\u001b[1;32m--> 638\u001b[1;33m     \u001b[1;32mreturn\u001b[0m \u001b[0mnp\u001b[0m\u001b[1;33m.\u001b[0m\u001b[0mdot\u001b[0m\u001b[1;33m(\u001b[0m\u001b[0ma\u001b[0m \u001b[1;33m*\u001b[0m \u001b[0mb\u001b[0m\u001b[1;33m,\u001b[0m \u001b[1;33m[\u001b[0m\u001b[1;36m1.0\u001b[0m\u001b[1;33m]\u001b[0m \u001b[1;33m*\u001b[0m \u001b[0ma\u001b[0m\u001b[1;33m.\u001b[0m\u001b[0mshape\u001b[0m\u001b[1;33m[\u001b[0m\u001b[1;36m1\u001b[0m\u001b[1;33m]\u001b[0m\u001b[1;33m)\u001b[0m\u001b[1;33m\u001b[0m\u001b[1;33m\u001b[0m\u001b[0m\n\u001b[0m\u001b[0;32m    639\u001b[0m \u001b[1;33m\u001b[0m\u001b[0m\n\u001b[0;32m    640\u001b[0m \u001b[1;33m\u001b[0m\u001b[0m\n",
      "\u001b[1;31mMemoryError\u001b[0m: Unable to allocate 7.06 GiB for an array with shape (316056264, 3) and data type float64"
     ]
    }
   ],
   "source": [
    "# computing the intersections of rays with the context mesh\n",
    "tri_invert_id, ray_invert_id = context_mesh.ray.intersects_id(ray_origins=ray_src, ray_directions=-ray_dir, multiple_hits=False)"
   ]
  },
  {
   "cell_type": "markdown",
   "metadata": {},
   "source": [
    "## 5. Aggregate Simulation Result in the Sun Access Lattice\n",
    "\n",
    "### 5.1. Compute the percentage of time that each voxel sees the sun"
   ]
  },
  {
   "cell_type": "code",
   "execution_count": null,
   "metadata": {},
   "outputs": [
    {
     "data": {
      "text/plain": [
       "'\\n# Further info: this is the vectorised version of nested for loops\\nhits = np.full((len(ray_dir)), 0)\\nhits[ray_id] = 1\\nhits = hits.reshape(len(vox_src), -1)\\nvoxel_hits = np.sum(hits, axis=1)\\nvox_sun_acc = 1.0 - voxel_hits / len(sun_dirs)\\n'"
      ]
     },
     "execution_count": 11,
     "metadata": {},
     "output_type": "execute_result"
    }
   ],
   "source": [
    "# initializing the hits list full of zeros\n",
    "hits = [0] * len(ray_dir)\n",
    "\n",
    "# setting the rays that had an intersection to 1\n",
    "for id in ray_id:\n",
    "    hits[id] = 1\n",
    "\n",
    "\n",
    "# initializing the invert hits list full of zeros\n",
    "# invert_hits = [0] * len(ray_dir)\n",
    "# setting the rays that had an intersection to 1 (in the inverted case)\n",
    "# for id in ray_invert_id:\n",
    "#   invert_hits[id] = 1\n",
    "\n",
    "sun_count = len(sun_dirs)\n",
    "vox_count = len(vox_cens)\n",
    "# initiating the list of sun access ratio\n",
    "vox_sun_acc = []\n",
    "# initiating the list of shadowing ratio\n",
    "vox_shadow = []\n",
    "\n",
    "# iterate over the voxels\n",
    "for v_id in range(vox_count):\n",
    "    # counter for the intersection\n",
    "    int_count = 0\n",
    "    # counter for the invert intersection\n",
    "    invert_int_count = 0\n",
    "    # iterate over the sun rays\n",
    "    for s_id in range(sun_count):\n",
    "        # computing the ray id from voxel id and sun id\n",
    "        r_id = v_id * sun_count + s_id\n",
    "\n",
    "        # summing the intersections\n",
    "        int_count += hits[r_id]\n",
    "\n",
    "        # if hits[r_id]==0:\n",
    "        #     invert_int_count += invert_hits[r_id]\n",
    "    \n",
    "    # computing the percentage of the rays that DID NOT have \n",
    "    # an intersection (aka could see the sun)\n",
    "    sun_access = 1.0 - int_count/sun_count\n",
    "    shadowing = invert_int_count/sun_count\n",
    "\n",
    "    # add the ratio to list\n",
    "    vox_sun_acc.append(sun_access)\n",
    "    vox_shadow.append(shadowing)\n",
    "\n",
    "\n",
    "hits = np.array(hits)\n",
    "vox_sun_acc = np.array(vox_sun_acc)\n",
    "# invert_hits = np.array(invert_hits)\n",
    "vox_shadow = np.array(vox_shadow)\n",
    "\n",
    "\"\"\"\n",
    "# Further info: this is the vectorised version of nested for loops\n",
    "hits = np.full((len(ray_dir)), 0)\n",
    "hits[ray_id] = 1\n",
    "hits = hits.reshape(len(vox_src), -1)\n",
    "voxel_hits = np.sum(hits, axis=1)\n",
    "vox_sun_acc = 1.0 - voxel_hits / len(sun_dirs)\n",
    "\"\"\"\n",
    "\n",
    "#print(vox_sun_acc)"
   ]
  },
  {
   "cell_type": "code",
   "execution_count": null,
   "metadata": {
    "tags": []
   },
   "outputs": [],
   "source": [
    "# initializing the hits list full of zeros\n",
    "hits = [0] * len(ray_dir)\n",
    "\n",
    "# setting the rays that had an intersection to 1\n",
    "for id in ray_id:\n",
    "    hits[id] = 1\n",
    "\n",
    "sun_count = len(sun_dirs)\n",
    "vox_count = len(vox_cens)\n",
    "# initiating the list of sun access ratio\n",
    "vox_sun_acc = []\n",
    "\n",
    "# iterate over the voxels\n",
    "for v_id in range(vox_count):\n",
    "    # counter for the intersection\n",
    "    int_count = 0\n",
    "        # iterate over the sun rays\n",
    "    for s_id in range(sun_count):\n",
    "        # computing the ray id from voxel id and sun id\n",
    "        r_id = v_id * sun_count + s_id\n",
    "\n",
    "        # summing the intersections\n",
    "        int_count += hits[r_id]\n",
    "\n",
    "    # computing the percentage of the rays that DID NOT have \n",
    "    # an intersection (aka could see the sun)\n",
    "    sun_access = 1.0 - int_count/sun_count\n",
    "   \n",
    "    # add the ratio to list\n",
    "    vox_sun_acc.append(sun_access)\n",
    "   \n",
    "\n",
    "hits = np.array(hits)\n",
    "vox_sun_acc = np.array(vox_sun_acc)\n",
    "\n",
    "#print(vox_sun_acc)"
   ]
  },
  {
   "cell_type": "markdown",
   "metadata": {},
   "source": [
    "### 5.2. Store sun access information in a Lattice"
   ]
  },
  {
   "cell_type": "code",
   "execution_count": null,
   "metadata": {
    "scrolled": true
   },
   "outputs": [
    {
     "name": "stdout",
     "output_type": "stream",
     "text": [
      "(36, 21, 5)\n"
     ]
    }
   ],
   "source": [
    "# getting the condition of all voxels: are they inside the envelop or not\n",
    "env_all_vox = envelope_lattice.flatten()\n",
    "\n",
    "# all voxels sun access\n",
    "all_vox_sun_acc = []\n",
    "all_vox_shadow = []\n",
    "\n",
    "# v_id: voxel id in the list of only interior voxels\n",
    "v_id = 0\n",
    "\n",
    "# for all the voxels, place the interiority condition of each voxel in \"vox_in\"\n",
    "for vox_in in env_all_vox:\n",
    "    # if the voxel was outside...\n",
    "    if vox_in == True:\n",
    "        # read its value of sun access and append it to the list of all voxel sun access\n",
    "        all_vox_sun_acc.append(vox_sun_acc[v_id])\n",
    "        all_vox_shadow.append(vox_shadow[v_id])\n",
    "        # add one to the voxel id so the next time we read the next voxel\n",
    "        v_id += 1\n",
    "    # if the voxel was not inside... \n",
    "    else:\n",
    "        # add 0.0 for its sun access\n",
    "        all_vox_sun_acc.append(0.0)\n",
    "        all_vox_shadow.append(0.0)\n",
    "\n",
    "# convert to array\n",
    "sunacc_array = np.array(all_vox_sun_acc)\n",
    "shadow_array = np.array(all_vox_shadow)\n",
    "\n",
    "\"\"\"\n",
    "# Further info: this is the vectorised version of nested for loops\n",
    "env_all_vox_id = envelope_lattice.indices.flatten()\n",
    "env_all_vox = envelope_lattice.flatten()\n",
    "env_in_vox_id = env_all_vox_id[env_all_vox]\n",
    "sunacc_array = np.full(env_all_vox.shape, 0.0)\n",
    "sunacc_array[env_in_vox_id] = vox_sun_acc\n",
    "\"\"\"\n",
    "\n",
    "# reshape to lattice shape\n",
    "sunacc_array = sunacc_array.reshape(envelope_lattice.shape)\n",
    "shadow_array = shadow_array.reshape(envelope_lattice.shape)\n",
    "\n",
    "# convert to lattice\n",
    "sunacc_lattice = tg.to_lattice(sunacc_array, envelope_lattice)\n",
    "shadow_lattice = tg.to_lattice(shadow_array, envelope_lattice)\n",
    "\n",
    "\n",
    "print(sunacc_lattice.shape)"
   ]
  },
  {
   "cell_type": "markdown",
   "metadata": {},
   "source": [
    "### 5.3. Visualize the sun access lattice"
   ]
  },
  {
   "cell_type": "code",
   "execution_count": null,
   "metadata": {},
   "outputs": [
    {
     "name": "stderr",
     "output_type": "stream",
     "text": [
      "invalid value encountered in true_divide\n",
      "All-NaN axis encountered\n"
     ]
    },
    {
     "data": {
      "image/png": "[encoded data removed]",
      "text/plain": [
       "<PIL.Image.Image image mode=RGB size=1024x768 at 0x20B0F940E50>"
      ]
     },
     "metadata": {},
     "output_type": "display_data"
    },
    {
     "data": {
      "text/plain": [
       "[(229.33399257169927, 134.83399257169927, 212.83399257169927),\n",
       " (35.69999999999999, -58.80000000000001, 19.2),\n",
       " (0.0, 0.0, 1.0)]"
      ]
     },
     "execution_count": 14,
     "metadata": {},
     "output_type": "execute_result"
    }
   ],
   "source": [
    "# initiating the plotter\n",
    "p = pv.Plotter(notebook=True)\n",
    "\n",
    "l = shadow_lattice\n",
    "# remapping\n",
    "l = 250 * (l - l.min()) / l.max()\n",
    "\n",
    "# Create the spatial reference\n",
    "grid = pv.UniformGrid()\n",
    "\n",
    "# Set the grid dimensions: shape because we want to inject our values\n",
    "grid.dimensions = l.shape\n",
    "# The bottom left corner of the data set\n",
    "grid.origin = l.minbound\n",
    "# These are the cell sizes along each axis\n",
    "grid.spacing = l.unit\n",
    "\n",
    "# Add the data values to the cell data\n",
    "grid.point_arrays[\"Shadowing\"] = l.flatten(order=\"F\")  # Flatten the Lattice\n",
    "\n",
    "# adding the meshes\n",
    "# p.add_mesh(tri_to_pv(context_mesh), opacity=0.1, style='wireframe')\n",
    "\n",
    "# add the sun locations, color orange\n",
    "# p.add_points( - sun_vectors * 300, color='#ffa500')\n",
    "\n",
    "# adding the volume\n",
    "opacity = np.array([0,1,1,1,1,1,1])*1.5\n",
    "p.add_volume(grid, cmap=\"coolwarm\", clim=[0.5, 1.0],opacity=opacity, shade=True)\n",
    "\n",
    "#plotting\n",
    "cpos = [(314.348192231551, 283.381630231551, 296.74455709155103),\n",
    " (65.08283250000001, -12.333572500000002, 21.07374465),\n",
    " (0.0, 0.0, 1.0)]\n",
    "p.camera_position = cpos\n",
    "p.window_size = 2000, 1000\n",
    "p.show(use_ipyvtk=True)\n",
    "p.screenshot(\"../data/images/sun_and_shadow4\")\n",
    "print(p.camera_position)"
   ]
  },
  {
   "cell_type": "markdown",
   "metadata": {},
   "source": [
    "## 5b. Interpolate sun and shadow into high resolution"
   ]
  },
  {
   "cell_type": "code",
   "execution_count": null,
   "metadata": {},
   "outputs": [
    {
     "data": {
      "text/plain": [
       "(108, 61, 12)"
      ]
     },
     "execution_count": 15,
     "metadata": {},
     "output_type": "execute_result"
    }
   ],
   "source": [
    "lattice_path_highres = os.path.relpath('../data/meshes/voxelized_envelope_highres.csv')\n",
    "envelope_lattice_highres = tg.lattice_from_csv(lattice_path_highres)\n",
    "\n",
    "sunacc_lattice2 = functions.interpolate(sunacc_lattice, envelope_lattice_highres)\n",
    "envelope_lattice_highres.shape\n",
    "\n",
    "shadow_lattice2 = functions.interpolate(shadow_lattice, envelope_lattice_highres)\n",
    "envelope_lattice_highres.shape"
   ]
  },
  {
   "cell_type": "code",
   "execution_count": null,
   "metadata": {},
   "outputs": [
    {
     "data": {
      "application/vnd.jupyter.widget-view+json": {
       "model_id": "7ad7ace510b74512b7616db9e089f74c",
       "version_major": 2,
       "version_minor": 0
      },
      "text/plain": [
       "ViewInteractiveWidget(height=768, layout=Layout(height='auto', width='100%'), width=1024)"
      ]
     },
     "metadata": {},
     "output_type": "display_data"
    },
    {
     "data": {
      "text/plain": [
       "[(231.23761797899152, 138.1376179789915, 213.1376179789915),\n",
       " (35.7, -57.39999999999999, 17.6),\n",
       " (0.0, 0.0, 1.0)]"
      ]
     },
     "execution_count": 16,
     "metadata": {},
     "output_type": "execute_result"
    }
   ],
   "source": [
    "# initiating the plotter\n",
    "p = pv.Plotter(notebook=True)\n",
    "\n",
    "l = sunacc_lattice2\n",
    "\n",
    "# remapping\n",
    "# l = 250 * (l - l.min()) / l.max()\n",
    "\n",
    "# Create the spatial reference\n",
    "grid = pv.UniformGrid()\n",
    "\n",
    "# Set the grid dimensions: shape because we want to inject our values\n",
    "grid.dimensions = l.shape\n",
    "# The bottom left corner of the data set\n",
    "grid.origin = l.minbound\n",
    "# These are the cell sizes along each axis\n",
    "grid.spacing = l.unit\n",
    "\n",
    "# Add the data values to the cell data\n",
    "grid.point_arrays[\"Shadowing\"] = l.flatten(order=\"F\")  # Flatten the Lattice\n",
    "\n",
    "# adding the meshes\n",
    "# p.add_mesh(tri_to_pv(context_mesh), opacity=0.1, style='wireframe')\n",
    "\n",
    "# add the sun locations, color orange\n",
    "# p.add_points( - sun_vectors * 300, color='#ffa500')\n",
    "\n",
    "# adding the volume\n",
    "opacity = np.array([0,1,1,1,1,1,1])*1.5\n",
    "p.add_volume(grid, cmap=\"coolwarm\", clim=[0.5, 1.0],opacity=opacity, shade=True)\n",
    "\n",
    "#plotting\n",
    "cpos = [(314.348192231551, 283.381630231551, 296.74455709155103),\n",
    " (65.08283250000001, -12.333572500000002, 21.07374465),\n",
    " (0.0, 0.0, 1.0)]\n",
    "p.camera_position = cpos\n",
    "p.window_size = 2000, 1000\n",
    "p.show(use_ipyvtk=True)\n",
    "p.screenshot(\"../data/images/sun_and_shadow5\")\n",
    "print(p.camera_position)"
   ]
  },
  {
   "cell_type": "markdown",
   "metadata": {},
   "source": [
    "## 6. Save Sun Access Lattice into a CSV"
   ]
  },
  {
   "cell_type": "code",
   "execution_count": null,
   "metadata": {},
   "outputs": [],
   "source": [
    "# save the sun access latice to csv\n",
    "\n",
    "csv_path = os.path.relpath('../data/fields/sunlight_access_access.csv')\n",
    "sunacc_lattice2.to_csv(csv_path)\n",
    "\n",
    "csv_path = os.path.relpath('../data/fields/shadowing.csv')\n",
    "shadow_lattice2.to_csv(csv_path)"
   ]
  },
  {
   "cell_type": "markdown",
   "metadata": {},
   "source": [
    "### Credits"
   ]
  },
  {
   "cell_type": "code",
   "execution_count": null,
   "metadata": {},
   "outputs": [],
   "source": [
    "__author__ = \"Shervin Azadi and Pirouz Nourian\"\n",
    "__license__ = \"MIT\"\n",
    "__version__ = \"1.0\"\n",
    "__url__ = \"https://github.com/shervinazadi/spatial_computing_workshops\"\n",
    "__summary__ = \"Spatial Computing Design Studio Workshop on Solar Envelope\""
   ]
  }
 ],
 "metadata": {
  "kernelspec": {
   "display_name": "Python 3.8.5 64-bit ('sc_workshops': conda)",
   "metadata": {
    "interpreter": {
     "hash": "787ea478c22349cf73d867deb0a19fc58e75e9742a9aed6f48d06cc412ad6e3b"
    }
   },
   "name": "python3"
  },
  "language_info": {
   "codemirror_mode": {
    "name": "ipython",
    "version": 3
   },
   "file_extension": ".py",
   "mimetype": "text/x-python",
   "name": "python",
   "nbconvert_exporter": "python",
   "pygments_lexer": "ipython3",
   "version": "3.8.5"
  }
 },
 "nbformat": 4,
 "nbformat_minor": 2
}
