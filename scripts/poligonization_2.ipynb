{
 "cells": [
  {
   "cell_type": "markdown",
   "metadata": {},
   "source": [
    "# Poligonization"
   ]
  },
  {
   "cell_type": "markdown",
   "metadata": {},
   "source": [
    "## 0 Initialization\n",
    "\n",
    "### 0.0 Import Libraries"
   ]
  },
  {
   "cell_type": "code",
   "execution_count": 1,
   "metadata": {},
   "outputs": [],
   "source": [
    "import topogenesis as tg\n",
    "import numpy as np \n",
    "import pyvista as pv\n",
    "import os\n",
    "import copy\n",
    "import trimesh as tm\n",
    "import pandas as pd\n",
    "import boolean_marching_cubes as bmc"
   ]
  },
  {
   "cell_type": "markdown",
   "metadata": {},
   "source": [
    "### 0.1 Generate Symmetry Stencils"
   ]
  },
  {
   "cell_type": "code",
   "execution_count": 2,
   "metadata": {},
   "outputs": [],
   "source": [
    "# example symmetry strings\n",
    "##########################\n",
    "# sym_str = [[\"OO\"], [\"XP\"], [\"XN\"], [\"YP\"], [\"YN\"], [\"ZP\"], [\"ZN\"]]\n",
    "# sym_str = [[\"OO\"], [\"XX\"], [\"YP\"], [\"YN\"], [\"ZP\"], [\"ZN\"]]\n",
    "sym_str = [[\"OO\"], [\"XX\"], [\"YY\"], [\"ZP\"], [\"ZN\"]]\n",
    "# sym_str = [[\"OO\"], [\"XX\", \"YY\"], [\"ZZ\"]]\n",
    "# sym_str = [[\"OO\"], [\"XX\", \"YY\", \"ZZ\"]]\n",
    "# sym_str = [[\"OO\"]]\n",
    "\n",
    "stencils = bmc.create_symmetry_stencils(sym_str)"
   ]
  },
  {
   "cell_type": "markdown",
   "metadata": {},
   "source": [
    "### 0.2 Generate Lattices for all possible cubes"
   ]
  },
  {
   "cell_type": "code",
   "execution_count": 3,
   "metadata": {},
   "outputs": [],
   "source": [
    "# generate bianary representation of all the possible cubes\n",
    "l_bis = bmc.bi_cube_lattices()"
   ]
  },
  {
   "cell_type": "markdown",
   "metadata": {},
   "source": [
    "## 1 Profiling\n",
    "\n",
    "### 1.1 Construct profile latices"
   ]
  },
  {
   "cell_type": "code",
   "execution_count": 4,
   "metadata": {},
   "outputs": [
    {
     "name": "stdout",
     "output_type": "stream",
     "text": [
      "24\n"
     ]
    }
   ],
   "source": [
    "# find all unique corner arrangements based on stencils\n",
    "corner_profiles = bmc.extract_corner_profiles(stencils, l_bis)\n",
    "\n",
    "# stack corner_profiles vertically\n",
    "cp_stacked = np.vstack(corner_profiles)\n",
    "\n",
    "# find the uniqe arangements of corners\n",
    "uniq_corner_arang = np.unique(cp_stacked, axis=0)\n",
    "\n",
    "# construct lattices for all unique corner profiles\n",
    "(corner_loc_lattices, corner_neigh_lattices) = bmc.profiles_to_lattices(uniq_corner_arang, stencils)\n",
    "\n",
    "#show the ammount of unique profiles\n",
    "print(len(uniq_corner_arang))"
   ]
  },
  {
   "cell_type": "markdown",
   "metadata": {},
   "source": [
    "### 1.3. Save unique arrangement profiles"
   ]
  },
  {
   "cell_type": "code",
   "execution_count": 5,
   "metadata": {},
   "outputs": [],
   "source": [
    "# save all design templates into lattice CSVs\n",
    "templates_path = os.path.relpath('../data/bmc/bmc_templates_2')\n",
    "bmc.save_design_templates(corner_loc_lattices, corner_neigh_lattices, templates_path)"
   ]
  },
  {
   "cell_type": "markdown",
   "metadata": {},
   "source": [
    "## 2 Construct the tile-set\n",
    "\n",
    "### 2.1. Load sub-tile meshes"
   ]
  },
  {
   "cell_type": "code",
   "execution_count": 6,
   "metadata": {},
   "outputs": [],
   "source": [
    "# load subtile meshes\n",
    "subtile_meshes = []\n",
    "for c in range(len(corner_loc_lattices)):\n",
    "    corner_mesh_path = os.path.relpath('../data/bmc/bmc_subtiles/t_' + f'{c:02}' + '.obj')\n",
    "    corner_mesh = tm.load(corner_mesh_path)\n",
    "    subtile_meshes.append(corner_mesh)"
   ]
  },
  {
   "cell_type": "markdown",
   "metadata": {},
   "source": [
    "### 2.2. Combine sub-tile meshes to create tile meshes\n",
    "\n",
    "might be the problem?\n",
    "    This is different to what they did last year. Why did it change?\n",
    "    How does this work?"
   ]
  },
  {
   "cell_type": "code",
   "execution_count": 19,
   "metadata": {},
   "outputs": [],
   "source": [
    "tiles_meshes = bmc.construct_tile_meshes_old(subtile_meshes, corner_profiles, uniq_corner_arang, corner_loc_lattices)"
   ]
  },
  {
   "cell_type": "markdown",
   "metadata": {},
   "source": [
    "### 2.3. Save the tile-set"
   ]
  },
  {
   "cell_type": "code",
   "execution_count": 20,
   "metadata": {},
   "outputs": [],
   "source": [
    "tiles_path = os.path.relpath('../data/bmc/bmc_tiles_2')\n",
    "bmc.save_tile_meshes(tiles_meshes, l_bis, tiles_path)"
   ]
  },
  {
   "cell_type": "markdown",
   "metadata": {},
   "source": [
    "### 2.3. Visualize the tile set"
   ]
  },
  {
   "cell_type": "code",
   "execution_count": 21,
   "metadata": {},
   "outputs": [
    {
     "data": {
      "application/vnd.jupyter.widget-view+json": {
       "model_id": "47edbb9921544f41b8d4540af6fe58fc",
       "version_major": 2,
       "version_minor": 0
      },
      "text/plain": [
       "ViewInteractiveWidget(height=768, layout=Layout(height='auto', width='100%'), width=1024)"
      ]
     },
     "metadata": {},
     "output_type": "display_data"
    },
    {
     "data": {
      "text/plain": [
       "[(1.9318516525781368, 1.9318516525781368, 1.9318516525781368),\n",
       " (0.0, 0.0, 0.0),\n",
       " (0.0, 0.0, 1.0)]"
      ]
     },
     "execution_count": 21,
     "metadata": {},
     "output_type": "execute_result"
    }
   ],
   "source": [
    "tiles_set = []\n",
    "for c in range(256):\n",
    "    tiles_meshes_set_path = os.path.relpath('../data/bmc/bmc_tiles_2/t_' + f'{c:03}' + '.obj')\n",
    "    corner_mesh_set = tm.load(tiles_meshes_set_path)\n",
    "    tiles_set.append(corner_mesh_set)\n",
    "\n",
    "# convert mesh to pv_mesh\n",
    "def tri_to_pv(tri_mesh):\n",
    "    faces = np.pad(tri_mesh.faces, ((0, 0),(1,0)), 'constant', constant_values=3)\n",
    "    pv_mesh = pv.PolyData(tri_mesh.vertices, faces)\n",
    "    return pv_mesh\n",
    "\n",
    "p = pv.Plotter(notebook=True)\n",
    "\n",
    "base_lattice = l_bis[0]\n",
    "\n",
    "# Set the grid dimensions: shape + 1 because we want to inject our values on the CELL data\n",
    "grid = pv.UniformGrid()\n",
    "grid.dimensions = np.array(base_lattice.shape) + 1\n",
    "# The bottom left corner of the data set\n",
    "grid.origin = base_lattice.minbound - base_lattice.unit * 0.5 \n",
    "# These are the cell sizes along each axis\n",
    "grid.spacing = base_lattice.unit *0.5\n",
    "\n",
    "# adding the boundingbox wireframe\n",
    "p.add_mesh(grid.outline(), color=\"grey\", label=\"Domain\")\n",
    "\n",
    "# adding axes\n",
    "p.add_axes()\n",
    "p.show_bounds(grid=\"back\", location=\"back\", color=\"#aaaaaa\")\n",
    "\n",
    "def create_mesh(value):\n",
    "    i = int(value)\n",
    "    mesh = tiles_set[i]\n",
    "    lattice = l_bis[i]\n",
    "\n",
    "    # Add the data values to the cell data\n",
    "    grid.cell_arrays[\"cube\"] = lattice.flatten(order=\"F\").astype(int)# Flatten the array!\n",
    "    # filtering the voxels\n",
    "    threshed = grid.threshold([.9, 1.1], scalars=\"cube\")\n",
    "#     # adding the voxels\n",
    "#     p.add_mesh(threshed, name='sphere2', show_edges=True, opacity=0.2, show_scalar_bar=False, color=\"white\")\n",
    "\n",
    "    # adding the meshes\n",
    "    p.add_mesh(tri_to_pv(mesh), color='#abd8ff', name=\"sphere\")\n",
    "\n",
    "    return\n",
    "\n",
    "p.add_slider_widget(create_mesh, [0, 256], title='Tiles', value=1, event_type=\"always\", style=\"classic\", pointa=(0.1, 0.1), pointb=(0.9, 0.1))\n",
    "\n",
    "p.show(use_ipyvtk=True)"
   ]
  },
  {
   "cell_type": "markdown",
   "metadata": {},
   "source": [
    "## 3. Boolean Marching Cube\n",
    "\n",
    "### 3.1 Load envelope lattice"
   ]
  },
  {
   "cell_type": "code",
   "execution_count": 22,
   "metadata": {},
   "outputs": [],
   "source": [
    "# loading the lattice from csv\n",
    "solar_envelope_path = ('../data/meshes/useable_lattice.csv')\n",
    "envelope_lattice = tg.lattice_from_csv(solar_envelope_path)\n",
    "\n",
    "#Pad to make sure all voxels are tiled\n",
    "envelope_lattice_expanded = np.pad(envelope_lattice, ((1,1),(1,1),(1,1)),'constant',constant_values= 0)\n",
    "envelope_lattice_expanded = tg.to_lattice(envelope_lattice_expanded, envelope_lattice.minbound-envelope_lattice.unit, envelope_lattice.unit)\n",
    "envelope_lattice = envelope_lattice_expanded"
   ]
  },
  {
   "cell_type": "markdown",
   "metadata": {},
   "source": [
    "### 3.1 Remove voxels that are not on the boundary"
   ]
  },
  {
   "cell_type": "code",
   "execution_count": 23,
   "metadata": {},
   "outputs": [],
   "source": [
    "#Remove voxels that are not on the boundry\n",
    "\n",
    "# create the stencil\n",
    "s = tg.create_stencil(\"von_neumann\", 1, 1)\n",
    "s.set_index([0,0,0], 0)\n",
    "\n",
    "# add the sum function to the stencil\n",
    "s.function = tg.sfunc.sum \n",
    "\n",
    "# apply the stencil on the lattice\n",
    "neighbor_sum = envelope_lattice.apply_stencil(s)\n",
    "\n",
    "# remove the voxel if less than 6 neighbours\n",
    "new_envelope_lattice = envelope_lattice * (neighbor_sum <= 5)"
   ]
  },
  {
   "cell_type": "markdown",
   "metadata": {},
   "source": [
    "### 3.2. Extract the cube lattice from the envelope lattice"
   ]
  },
  {
   "cell_type": "code",
   "execution_count": 24,
   "metadata": {},
   "outputs": [],
   "source": [
    "cube_lattice = new_envelope_lattice.boolean_marching_cubes()\n",
    "np.set_printoptions(threshold=100000)\n",
    "# print(cube_lattice)"
   ]
  },
  {
   "cell_type": "markdown",
   "metadata": {},
   "source": [
    "### 3.3. Select which voxels to tile\n",
    "\n",
    "whill most likely be usefull with multiple materials"
   ]
  },
  {
   "cell_type": "code",
   "execution_count": 13,
   "metadata": {},
   "outputs": [],
   "source": [
    "#Select which column of voxels will be tiled.\n",
    "#Set all other voxels to 0, to isolate the tiling\n",
    "#cube_lattice[:,5:,:] = 0\n",
    "#cube_lattice[:,:4,:] = 0"
   ]
  },
  {
   "cell_type": "markdown",
   "metadata": {},
   "source": [
    "### 3.4. Tile the cube lattice with a selected tileset"
   ]
  },
  {
   "cell_type": "code",
   "execution_count": 25,
   "metadata": {},
   "outputs": [],
   "source": [
    "#Choosing which tileset to tile with and un-commenting it\n",
    "\n",
    "#The first set\n",
    "tileset_path = os.path.relpath('../data/bmc/bmc_tiles_2')\n",
    "#The second set\n",
    "# tileset_path = os.path.relpath('../data/bmc/bmc_tiles_Set2')\n",
    "\n",
    "bmc_mesh = bmc.marching_cube_mesh(cube_lattice, tileset_path)"
   ]
  },
  {
   "cell_type": "markdown",
   "metadata": {},
   "source": [
    "### 3.5. Visualize the final mesh"
   ]
  },
  {
   "cell_type": "code",
   "execution_count": null,
   "metadata": {},
   "outputs": [],
   "source": [
    "# convert mesh to pv_mesh\n",
    "def tri_to_pv(tri_mesh):\n",
    "    faces = np.pad(tri_mesh.faces, ((0, 0),(1,0)), 'constant', constant_values=3)\n",
    "    pv_mesh = pv.PolyData(tri_mesh.vertices, faces)\n",
    "    return pv_mesh\n",
    "\n",
    "# initiating the plotter\n",
    "p = pv.Plotter(notebook=True)\n",
    "\n",
    "# adding the meshes\n",
    "p.add_mesh(tri_to_pv(bmc_mesh), color='#abd8ff', name=\"sphere\")\n",
    "\n",
    "# fast visualization of the lattice\n",
    "p = envelope_lattice.fast_vis(p)\n",
    "\n",
    "# plotting\n",
    "p.show(use_ipyvtk=True)"
   ]
  },
  {
   "cell_type": "code",
   "execution_count": 28,
   "metadata": {},
   "outputs": [
    {
     "data": {
      "application/vnd.jupyter.widget-view+json": {
       "model_id": "d97d04af691d4aeda49f6f284835104c",
       "version_major": 2,
       "version_minor": 0
      },
      "text/plain": [
       "ViewInteractiveWidget(height=1000, layout=Layout(height='auto', width='100%'), width=2000)"
      ]
     },
     "metadata": {},
     "output_type": "display_data"
    },
    {
     "name": "stdout",
     "output_type": "stream",
     "text": [
      "[(314.348192231551, 283.381630231551, 296.74455709155103),\n",
      " (65.08283250000001, -12.333572500000002, 21.07374465),\n",
      " (0.0, 0.0, 1.0)]\n"
     ]
    }
   ],
   "source": [
    "# plotting\n",
    "cpos = [(314.348192231551, 283.381630231551, 296.74455709155103),\n",
    " (65.08283250000001, -12.333572500000002, 21.07374465),\n",
    " (0.0, 0.0, 1.0)]\n",
    "p.camera_position = cpos\n",
    "p.window_size = 2000, 1000\n",
    "p.show(use_ipyvtk=True)\n",
    "p.screenshot(\"Street_1\")\n",
    "print(p.camera_position)"
   ]
  }
 ],
 "metadata": {
  "interpreter": {
   "hash": "35193bb4a499ae14c24644d010b40ff56fe483af9478781b8d520e7468034301"
  },
  "kernelspec": {
   "display_name": "Python 3.8.5 64-bit ('scds': conda)",
   "language": "python",
   "name": "python3"
  },
  "language_info": {
   "codemirror_mode": {
    "name": "ipython",
    "version": 3
   },
   "file_extension": ".py",
   "mimetype": "text/x-python",
   "name": "python",
   "nbconvert_exporter": "python",
   "pygments_lexer": "ipython3",
   "version": "3.8.5"
  },
  "orig_nbformat": 4
 },
 "nbformat": 4,
 "nbformat_minor": 2
}
