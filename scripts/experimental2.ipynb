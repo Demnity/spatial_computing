{
 "cells": [
  {
   "cell_type": "markdown",
   "metadata": {},
   "source": [
    "A lot of this stuff hinges on having the right initial data. We cant run the agents at this moment. I Added the stuff here that was already in workshop 4, but like I said, it will not run.\n",
    "\n",
    "Personally, I believe that we have to store the eventual data of every script in a csv file. This script needs a program of requirements."
   ]
  },
  {
   "cell_type": "markdown",
   "metadata": {},
   "source": [
    "Load Libraries"
   ]
  },
  {
   "cell_type": "code",
   "execution_count": 1,
   "metadata": {},
   "outputs": [],
   "source": [
    "import os\n",
    "import topogenesis as tg\n",
    "import pyvista as pv\n",
    "import trimesh as tm\n",
    "import pandas as pd\n",
    "import numpy as np\n",
    "np.random.seed(0)"
   ]
  },
  {
   "cell_type": "markdown",
   "metadata": {},
   "source": [
    "Define Stencil"
   ]
  },
  {
   "cell_type": "code",
   "execution_count": 2,
   "metadata": {},
   "outputs": [
    {
     "name": "stdout",
     "output_type": "stream",
     "text": [
      "[[[0 0 0]\n",
      "  [0 1 0]\n",
      "  [0 0 0]]\n",
      "\n",
      " [[0 1 0]\n",
      "  [1 0 1]\n",
      "  [0 1 0]]\n",
      "\n",
      " [[0 0 0]\n",
      "  [0 1 0]\n",
      "  [0 0 0]]]\n"
     ]
    }
   ],
   "source": [
    "# creating neighborhood definition\n",
    "stencil = tg.create_stencil(\"von_neumann\", 1, 1)\n",
    "# setting the center to zero\n",
    "stencil.set_index([0,0,0], 0)\n",
    "print(stencil)"
   ]
  },
  {
   "cell_type": "markdown",
   "metadata": {},
   "source": [
    "Define the environment"
   ]
  },
  {
   "cell_type": "code",
   "execution_count": 3,
   "metadata": {},
   "outputs": [],
   "source": [
    "# loading the lattice from csv\n",
    "lattice_path = os.path.relpath('../data/meshes/voxelized_envelope_highres.csv')\n",
    "avail_lattice = tg.lattice_from_csv(lattice_path)\n",
    "init_avail_lattice = tg.to_lattice(np.copy(avail_lattice), avail_lattice)"
   ]
  },
  {
   "cell_type": "markdown",
   "metadata": {},
   "source": [
    "load program (insert the program of requirements here)"
   ]
  },
  {
   "cell_type": "code",
   "execution_count": 4,
   "metadata": {},
   "outputs": [],
   "source": [
    "#loading the relative relations excell\n",
    "\n",
    "# relative_rels = pd.read_excel('../data/relationships/relative_relations.xlsx', index_col=0) \n",
    "# relative_rels_norm = relative_rels.div(relative_rels.sum(axis=1), axis=0)\n",
    "# relative_rels_norm = relative_rels_norm.fillna(0)\n",
    "\n",
    "#loading the relative preferences excell\n",
    "relative_prefs = pd.read_excel('../data/relationships/relative_preferences.xlsx')\n",
    "relative_prefs.iloc[:, 1:] = relative_prefs.iloc[:, 1:].div(relative_prefs.iloc[:, 1:].sum(axis=1), axis=0)\n",
    "relative_prefs.iloc[:, 1:] = relative_prefs.iloc[:, 1:].fillna(0)\n",
    "relative_prefs_norm = relative_prefs"
   ]
  },
  {
   "cell_type": "code",
   "execution_count": 5,
   "metadata": {},
   "outputs": [
    {
     "data": {
      "text/html": [
       "<div>\n",
       "<style scoped>\n",
       "    .dataframe tbody tr th:only-of-type {\n",
       "        vertical-align: middle;\n",
       "    }\n",
       "\n",
       "    .dataframe tbody tr th {\n",
       "        vertical-align: top;\n",
       "    }\n",
       "\n",
       "    .dataframe thead th {\n",
       "        text-align: right;\n",
       "    }\n",
       "</style>\n",
       "<table border=\"1\" class=\"dataframe\">\n",
       "  <thead>\n",
       "    <tr style=\"text-align: right;\">\n",
       "      <th></th>\n",
       "      <th>sunlight_access</th>\n",
       "      <th>noise_approval</th>\n",
       "      <th>proximity_to_ground_floor</th>\n",
       "      <th>sky_view_factor</th>\n",
       "      <th>football_field</th>\n",
       "    </tr>\n",
       "  </thead>\n",
       "  <tbody>\n",
       "    <tr>\n",
       "      <th>0</th>\n",
       "      <td>0.181818</td>\n",
       "      <td>0.145455</td>\n",
       "      <td>0.000000</td>\n",
       "      <td>0.109091</td>\n",
       "      <td>0.127273</td>\n",
       "    </tr>\n",
       "    <tr>\n",
       "      <th>1</th>\n",
       "      <td>0.196078</td>\n",
       "      <td>0.098039</td>\n",
       "      <td>0.000000</td>\n",
       "      <td>0.117647</td>\n",
       "      <td>0.137255</td>\n",
       "    </tr>\n",
       "    <tr>\n",
       "      <th>2</th>\n",
       "      <td>0.181818</td>\n",
       "      <td>0.163636</td>\n",
       "      <td>0.181818</td>\n",
       "      <td>0.127273</td>\n",
       "      <td>0.000000</td>\n",
       "    </tr>\n",
       "    <tr>\n",
       "      <th>3</th>\n",
       "      <td>0.192308</td>\n",
       "      <td>0.134615</td>\n",
       "      <td>0.192308</td>\n",
       "      <td>0.134615</td>\n",
       "      <td>0.000000</td>\n",
       "    </tr>\n",
       "    <tr>\n",
       "      <th>4</th>\n",
       "      <td>0.172414</td>\n",
       "      <td>0.155172</td>\n",
       "      <td>0.000000</td>\n",
       "      <td>0.120690</td>\n",
       "      <td>0.086207</td>\n",
       "    </tr>\n",
       "    <tr>\n",
       "      <th>5</th>\n",
       "      <td>0.181818</td>\n",
       "      <td>0.127273</td>\n",
       "      <td>0.000000</td>\n",
       "      <td>0.127273</td>\n",
       "      <td>0.090909</td>\n",
       "    </tr>\n",
       "    <tr>\n",
       "      <th>6</th>\n",
       "      <td>0.263158</td>\n",
       "      <td>0.236842</td>\n",
       "      <td>0.105263</td>\n",
       "      <td>0.131579</td>\n",
       "      <td>0.000000</td>\n",
       "    </tr>\n",
       "    <tr>\n",
       "      <th>7</th>\n",
       "      <td>0.263158</td>\n",
       "      <td>0.131579</td>\n",
       "      <td>0.157895</td>\n",
       "      <td>0.105263</td>\n",
       "      <td>0.210526</td>\n",
       "    </tr>\n",
       "    <tr>\n",
       "      <th>8</th>\n",
       "      <td>0.230769</td>\n",
       "      <td>0.384615</td>\n",
       "      <td>0.192308</td>\n",
       "      <td>0.076923</td>\n",
       "      <td>0.000000</td>\n",
       "    </tr>\n",
       "    <tr>\n",
       "      <th>9</th>\n",
       "      <td>0.000000</td>\n",
       "      <td>0.666667</td>\n",
       "      <td>0.333333</td>\n",
       "      <td>0.000000</td>\n",
       "      <td>0.000000</td>\n",
       "    </tr>\n",
       "    <tr>\n",
       "      <th>10</th>\n",
       "      <td>0.000000</td>\n",
       "      <td>0.000000</td>\n",
       "      <td>0.000000</td>\n",
       "      <td>0.000000</td>\n",
       "      <td>0.000000</td>\n",
       "    </tr>\n",
       "    <tr>\n",
       "      <th>11</th>\n",
       "      <td>0.500000</td>\n",
       "      <td>0.166667</td>\n",
       "      <td>0.333333</td>\n",
       "      <td>0.000000</td>\n",
       "      <td>0.000000</td>\n",
       "    </tr>\n",
       "    <tr>\n",
       "      <th>12</th>\n",
       "      <td>0.243902</td>\n",
       "      <td>0.219512</td>\n",
       "      <td>0.170732</td>\n",
       "      <td>0.121951</td>\n",
       "      <td>0.000000</td>\n",
       "    </tr>\n",
       "    <tr>\n",
       "      <th>13</th>\n",
       "      <td>0.333333</td>\n",
       "      <td>0.111111</td>\n",
       "      <td>0.222222</td>\n",
       "      <td>0.000000</td>\n",
       "      <td>0.000000</td>\n",
       "    </tr>\n",
       "    <tr>\n",
       "      <th>14</th>\n",
       "      <td>0.000000</td>\n",
       "      <td>0.000000</td>\n",
       "      <td>1.000000</td>\n",
       "      <td>0.000000</td>\n",
       "      <td>0.000000</td>\n",
       "    </tr>\n",
       "    <tr>\n",
       "      <th>15</th>\n",
       "      <td>0.000000</td>\n",
       "      <td>0.000000</td>\n",
       "      <td>1.000000</td>\n",
       "      <td>0.000000</td>\n",
       "      <td>0.000000</td>\n",
       "    </tr>\n",
       "    <tr>\n",
       "      <th>16</th>\n",
       "      <td>0.000000</td>\n",
       "      <td>0.137931</td>\n",
       "      <td>0.344828</td>\n",
       "      <td>0.103448</td>\n",
       "      <td>0.000000</td>\n",
       "    </tr>\n",
       "    <tr>\n",
       "      <th>17</th>\n",
       "      <td>0.000000</td>\n",
       "      <td>0.285714</td>\n",
       "      <td>0.714286</td>\n",
       "      <td>0.000000</td>\n",
       "      <td>0.000000</td>\n",
       "    </tr>\n",
       "    <tr>\n",
       "      <th>18</th>\n",
       "      <td>0.100000</td>\n",
       "      <td>0.100000</td>\n",
       "      <td>0.500000</td>\n",
       "      <td>0.050000</td>\n",
       "      <td>0.000000</td>\n",
       "    </tr>\n",
       "    <tr>\n",
       "      <th>19</th>\n",
       "      <td>0.000000</td>\n",
       "      <td>0.230769</td>\n",
       "      <td>0.769231</td>\n",
       "      <td>0.000000</td>\n",
       "      <td>0.000000</td>\n",
       "    </tr>\n",
       "    <tr>\n",
       "      <th>20</th>\n",
       "      <td>0.125000</td>\n",
       "      <td>0.250000</td>\n",
       "      <td>0.312500</td>\n",
       "      <td>0.156250</td>\n",
       "      <td>0.000000</td>\n",
       "    </tr>\n",
       "    <tr>\n",
       "      <th>21</th>\n",
       "      <td>0.000000</td>\n",
       "      <td>0.000000</td>\n",
       "      <td>1.000000</td>\n",
       "      <td>0.000000</td>\n",
       "      <td>0.000000</td>\n",
       "    </tr>\n",
       "    <tr>\n",
       "      <th>22</th>\n",
       "      <td>0.105263</td>\n",
       "      <td>0.157895</td>\n",
       "      <td>0.000000</td>\n",
       "      <td>0.105263</td>\n",
       "      <td>0.000000</td>\n",
       "    </tr>\n",
       "    <tr>\n",
       "      <th>23</th>\n",
       "      <td>0.000000</td>\n",
       "      <td>0.357143</td>\n",
       "      <td>0.000000</td>\n",
       "      <td>0.571429</td>\n",
       "      <td>0.000000</td>\n",
       "    </tr>\n",
       "    <tr>\n",
       "      <th>24</th>\n",
       "      <td>0.000000</td>\n",
       "      <td>1.000000</td>\n",
       "      <td>0.000000</td>\n",
       "      <td>0.000000</td>\n",
       "      <td>0.000000</td>\n",
       "    </tr>\n",
       "  </tbody>\n",
       "</table>\n",
       "</div>"
      ],
      "text/plain": [
       "    sunlight_access  noise_approval  proximity_to_ground_floor  \\\n",
       "0          0.181818        0.145455                   0.000000   \n",
       "1          0.196078        0.098039                   0.000000   \n",
       "2          0.181818        0.163636                   0.181818   \n",
       "3          0.192308        0.134615                   0.192308   \n",
       "4          0.172414        0.155172                   0.000000   \n",
       "5          0.181818        0.127273                   0.000000   \n",
       "6          0.263158        0.236842                   0.105263   \n",
       "7          0.263158        0.131579                   0.157895   \n",
       "8          0.230769        0.384615                   0.192308   \n",
       "9          0.000000        0.666667                   0.333333   \n",
       "10         0.000000        0.000000                   0.000000   \n",
       "11         0.500000        0.166667                   0.333333   \n",
       "12         0.243902        0.219512                   0.170732   \n",
       "13         0.333333        0.111111                   0.222222   \n",
       "14         0.000000        0.000000                   1.000000   \n",
       "15         0.000000        0.000000                   1.000000   \n",
       "16         0.000000        0.137931                   0.344828   \n",
       "17         0.000000        0.285714                   0.714286   \n",
       "18         0.100000        0.100000                   0.500000   \n",
       "19         0.000000        0.230769                   0.769231   \n",
       "20         0.125000        0.250000                   0.312500   \n",
       "21         0.000000        0.000000                   1.000000   \n",
       "22         0.105263        0.157895                   0.000000   \n",
       "23         0.000000        0.357143                   0.000000   \n",
       "24         0.000000        1.000000                   0.000000   \n",
       "\n",
       "    sky_view_factor  football_field  \n",
       "0          0.109091        0.127273  \n",
       "1          0.117647        0.137255  \n",
       "2          0.127273        0.000000  \n",
       "3          0.134615        0.000000  \n",
       "4          0.120690        0.086207  \n",
       "5          0.127273        0.090909  \n",
       "6          0.131579        0.000000  \n",
       "7          0.105263        0.210526  \n",
       "8          0.076923        0.000000  \n",
       "9          0.000000        0.000000  \n",
       "10         0.000000        0.000000  \n",
       "11         0.000000        0.000000  \n",
       "12         0.121951        0.000000  \n",
       "13         0.000000        0.000000  \n",
       "14         0.000000        0.000000  \n",
       "15         0.000000        0.000000  \n",
       "16         0.103448        0.000000  \n",
       "17         0.000000        0.000000  \n",
       "18         0.050000        0.000000  \n",
       "19         0.000000        0.000000  \n",
       "20         0.156250        0.000000  \n",
       "21         0.000000        0.000000  \n",
       "22         0.105263        0.000000  \n",
       "23         0.571429        0.000000  \n",
       "24         0.000000        0.000000  "
      ]
     },
     "execution_count": 5,
     "metadata": {},
     "output_type": "execute_result"
    }
   ],
   "source": [
    "program_prefs = relative_prefs_norm.drop([\"space_name\", \"facade_connection\",\"penthouse_factor\",\"street_sight\"], 1)\n",
    "program_prefs"
   ]
  },
  {
   "cell_type": "markdown",
   "metadata": {},
   "source": [
    "Load the value fields"
   ]
  },
  {
   "cell_type": "code",
   "execution_count": 6,
   "metadata": {},
   "outputs": [],
   "source": [
    "# loading the lattice from csv\n",
    "fields = {}\n",
    "for f in program_prefs.columns:\n",
    "    lattice_path = os.path.relpath('../data/fields/' + f + '.csv')\n",
    "    fields[f] = tg.lattice_from_csv(lattice_path)"
   ]
  },
  {
   "cell_type": "markdown",
   "metadata": {},
   "source": [
    "Initialize the agents"
   ]
  },
  {
   "cell_type": "code",
   "execution_count": 7,
   "metadata": {},
   "outputs": [],
   "source": [
    "agent_pref_fields=[]\n",
    "for i in range(0,len(program_prefs)):\n",
    "    int=1\n",
    "    for f in program_prefs:\n",
    "        t=fields[f]**program_prefs[f][i]\n",
    "        int=int*t\n",
    "    agent_pref_fields.append(int)\n"
   ]
  },
  {
   "cell_type": "code",
   "execution_count": 8,
   "metadata": {},
   "outputs": [],
   "source": [
    "int_cond_fields=[]\n",
    "for i in range(0,len(program_prefs)):\n",
    "    int_cond_field=(fields[\"noise_approval\"]**program_prefs[\"noise_approval\"][i])*(fields[\"sunlight_access\"]**program_prefs[\"sunlight_access\"][i])*(fields[\"proximity_to_ground_floor\"]**program_prefs[\"proximity_to_ground_floor\"][i])*(fields[\"sky_view_factor\"]**program_prefs[\"sky_view_factor\"][i])*(fields[\"football_field\"]**program_prefs[\"football_field\"][i])\n",
    "    int_cond_fields.append(int_cond_field)"
   ]
  },
  {
   "cell_type": "code",
   "execution_count": 9,
   "metadata": {},
   "outputs": [],
   "source": [
    "# initialize the occupation lattice\n",
    "occ_lattice = avail_lattice * 0 - 1\n",
    "\n",
    "# Finding the index of the available voxels in avail_lattice\n",
    "avail_flat = avail_lattice.flatten()\n",
    "avail_index = np.array(np.where(avail_lattice == 1)).T\n",
    "\n",
    "# Randomly choosing three available voxels\n",
    "agn_num = len(program_prefs)\n",
    "agn_origins=[]\n",
    "for i in range(0,agn_num):\n",
    "    best_index = np.array(np.where(int_cond_fields[i] == int_cond_fields[i].max())).T\n",
    "    best_index=best_index[0]\n",
    "    agn_origins.append(best_index)\n",
    "agn_origins=np.stack(agn_origins)    \n",
    "agn_origins=np.unique(agn_origins,axis=0)\n",
    "\n",
    "# adding the origins to the agents locations\n",
    "agn_locs = []\n",
    "# for each agent origin ... \n",
    "for a_id, a_origin in enumerate(agn_origins):\n",
    "\n",
    "    # add the origin to the list of agent locations\n",
    "    agn_locs.append([a_origin])\n",
    "\n",
    "    # set the origin in availablity lattice as 0 (UNavailable)\n",
    "    avail_lattice[tuple(a_origin)] = 0\n",
    "\n",
    "    # set the origin in occupation lattice as the agent id (a_id)\n",
    "    occ_lattice[tuple(a_origin)] = a_id"
   ]
  },
  {
   "cell_type": "code",
   "execution_count": 12,
   "metadata": {},
   "outputs": [
    {
     "data": {
      "text/plain": [
       "array([[ 0,  0,  0],\n",
       "       [ 1,  2,  1],\n",
       "       [ 4, 14,  2],\n",
       "       [ 8, 16,  6],\n",
       "       [25,  6,  1],\n",
       "       [25,  6,  2],\n",
       "       [25,  6,  6],\n",
       "       [25,  6,  7],\n",
       "       [25, 11,  1],\n",
       "       [25, 11,  2],\n",
       "       [25, 11,  3],\n",
       "       [25, 12,  2]], dtype=int64)"
      ]
     },
     "execution_count": 12,
     "metadata": {},
     "output_type": "execute_result"
    }
   ],
   "source": [
    "agn_origins"
   ]
  },
  {
   "cell_type": "markdown",
   "metadata": {},
   "source": [
    "printing the ammount of agents"
   ]
  },
  {
   "cell_type": "code",
   "execution_count": 13,
   "metadata": {},
   "outputs": [
    {
     "name": "stdout",
     "output_type": "stream",
     "text": [
      "11\n"
     ]
    }
   ],
   "source": [
    "print(a_id)"
   ]
  },
  {
   "cell_type": "markdown",
   "metadata": {},
   "source": [
    "show the agents"
   ]
  },
  {
   "cell_type": "code",
   "execution_count": 14,
   "metadata": {},
   "outputs": [
    {
     "ename": "TypeError",
     "evalue": "Cannot construct a dtype from an array",
     "output_type": "error",
     "traceback": [
      "\u001b[1;31m---------------------------------------------------------------------------\u001b[0m",
      "\u001b[1;31mTypeError\u001b[0m                                 Traceback (most recent call last)",
      "\u001b[1;32m~\\AppData\\Local\\Temp/ipykernel_13920/184073746.py\u001b[0m in \u001b[0;36m<module>\u001b[1;34m\u001b[0m\n\u001b[0;32m     17\u001b[0m \u001b[1;33m\u001b[0m\u001b[0m\n\u001b[0;32m     18\u001b[0m \u001b[1;31m# Add the data values to the cell data\u001b[0m\u001b[1;33m\u001b[0m\u001b[1;33m\u001b[0m\u001b[1;33m\u001b[0m\u001b[0m\n\u001b[1;32m---> 19\u001b[1;33m \u001b[0mgrid\u001b[0m\u001b[1;33m.\u001b[0m\u001b[0mcell_arrays\u001b[0m\u001b[1;33m[\u001b[0m\u001b[1;34m\"Agents\"\u001b[0m\u001b[1;33m]\u001b[0m \u001b[1;33m=\u001b[0m \u001b[0mocc_lattice\u001b[0m\u001b[1;33m.\u001b[0m\u001b[0mflatten\u001b[0m\u001b[1;33m(\u001b[0m\u001b[0morder\u001b[0m\u001b[1;33m=\u001b[0m\u001b[1;34m\"F\"\u001b[0m\u001b[1;33m)\u001b[0m\u001b[1;33m.\u001b[0m\u001b[0mastype\u001b[0m\u001b[1;33m(\u001b[0m\u001b[0mint\u001b[0m\u001b[1;33m)\u001b[0m  \u001b[1;31m# Flatten the array!\u001b[0m\u001b[1;33m\u001b[0m\u001b[1;33m\u001b[0m\u001b[0m\n\u001b[0m\u001b[0;32m     20\u001b[0m \u001b[1;31m# filtering the voxels\u001b[0m\u001b[1;33m\u001b[0m\u001b[1;33m\u001b[0m\u001b[1;33m\u001b[0m\u001b[0m\n\u001b[0;32m     21\u001b[0m \u001b[0mthreshed\u001b[0m \u001b[1;33m=\u001b[0m \u001b[0mgrid\u001b[0m\u001b[1;33m.\u001b[0m\u001b[0mthreshold\u001b[0m\u001b[1;33m(\u001b[0m\u001b[1;33m[\u001b[0m\u001b[1;33m-\u001b[0m\u001b[1;36m0.1\u001b[0m\u001b[1;33m,\u001b[0m \u001b[0ma_id\u001b[0m \u001b[1;33m-\u001b[0m \u001b[1;36m0.9\u001b[0m\u001b[1;33m]\u001b[0m\u001b[1;33m)\u001b[0m\u001b[1;33m\u001b[0m\u001b[1;33m\u001b[0m\u001b[0m\n",
      "\u001b[1;31mTypeError\u001b[0m: Cannot construct a dtype from an array"
     ]
    }
   ],
   "source": [
    "p = pv.Plotter(notebook=True)\n",
    "\n",
    "# Set the grid dimensions: shape + 1 because we want to inject our values on the CELL data\n",
    "grid = pv.UniformGrid()\n",
    "grid.dimensions = np.array(occ_lattice.shape) + 1\n",
    "# The bottom left corner of the data set\n",
    "grid.origin = occ_lattice.minbound - occ_lattice.unit * 0.5\n",
    "# These are the cell sizes along each axis\n",
    "grid.spacing = occ_lattice.unit \n",
    "\n",
    "# adding the boundingbox wireframe\n",
    "p.add_mesh(grid.outline(), color=\"grey\", label=\"Domain\")\n",
    "\n",
    "# adding axes\n",
    "p.add_axes()\n",
    "p.show_bounds(grid=\"back\", location=\"back\", color=\"#777777\")\n",
    "\n",
    "# Add the data values to the cell data\n",
    "grid.cell_arrays[\"Agents\"] = occ_lattice.flatten(order=\"F\").astype(int)  # Flatten the array!\n",
    "# filtering the voxels\n",
    "threshed = grid.threshold([-0.1, a_id - 0.9])\n",
    "# adding the voxels\n",
    "p.add_mesh(threshed, show_edges=True, opacity=1.0, show_scalar_bar=False)\n",
    "\n",
    "# adding the availability lattice\n",
    "init_avail_lattice.fast_vis(p)\n",
    "\n",
    "p.show(use_ipyvtk=True)"
   ]
  },
  {
   "cell_type": "markdown",
   "metadata": {},
   "source": [
    "Run the simulation"
   ]
  },
  {
   "cell_type": "code",
   "execution_count": null,
   "metadata": {},
   "outputs": [],
   "source": [
    "# make a deep copy of occupation lattice\n",
    "cur_occ_lattice = tg.to_lattice(np.copy(occ_lattice), occ_lattice)\n",
    "# initialzing the list of frames\n",
    "frames = [cur_occ_lattice]\n",
    "\n",
    "# setting the time variable to 0\n",
    "t = 0\n",
    "n_frames = 30\n",
    "# main feedback loop of the simulation (for each time step ...)\n",
    "while t<n_frames:\n",
    "    # for each agent ... \n",
    "    for a_id, a_prefs in relative_prefs_norm.iterrows():\n",
    "        # retrieve the list of the locations of the current agent\n",
    "        a_locs = agn_locs[a_id]\n",
    "        # initialize the list of free neighbours\n",
    "        free_neighs = []\n",
    "        # for each location of the agent\n",
    "        for loc in a_locs:\n",
    "            # retrieve the list of neighbours of the agent based on the stencil\n",
    "            neighs = avail_lattice.find_neighbours_masked(stencil, loc = loc)\n",
    "            \n",
    "            # for each neighbour ... \n",
    "            for n in neighs:\n",
    "                # compute 3D index of neighbour\n",
    "                neigh_3d_id = np.unravel_index(n, avail_lattice.shape)\n",
    "                # if the neighbour is available... \n",
    "                if avail_lattice[neigh_3d_id]:\n",
    "                    # add the neighbour to the list of free neighbours\n",
    "                    free_neighs.append(neigh_3d_id)\n",
    "        # check if found any free neighbour\n",
    "        if len(free_neighs)>0:\n",
    "            # convert free neighbours to a numpy array\n",
    "            fns = np.array(free_neighs)\n",
    "\n",
    "            # find the value of neighbours\n",
    "            # init the agent value array\n",
    "            a_eval = np.ones(len(fns))\n",
    "            # for each field...\n",
    "            for f in program_prefs.columns:\n",
    "                # find the raw value of free neighbours...\n",
    "                vals = fields[f][fns[:,0], fns[:,1], fns[:,2]]\n",
    "                # raise the the raw value to the power of preference weight of the agent\n",
    "                a_weighted_vals = vals ** a_prefs[f]\n",
    "                # multiply them to the previous weighted values\n",
    "                a_eval *= a_weighted_vals\n",
    "\n",
    "            # select the neighbour with highest evaluation\n",
    "            selected_int = np.argmax(a_eval)\n",
    "            # find 3D integer index of selected neighbour\n",
    "            selected_neigh_3d_id = free_neighs[selected_int]\n",
    "            # find the location of the newly selected neighbour\n",
    "            selected_neigh_loc = np.array(selected_neigh_3d_id).flatten()\n",
    "            # add the newly selected neighbour location to agent locations\n",
    "            agn_locs[a_id].append(selected_neigh_loc)\n",
    "            # set the newly selected neighbour as UNavailable (0) in the availability lattice\n",
    "            avail_lattice[selected_neigh_3d_id] = 0\n",
    "            # set the newly selected neighbour as OCCUPIED by current agent \n",
    "            # (-1 means not-occupied so a_id)\n",
    "            occ_lattice[selected_neigh_3d_id] = a_id\n",
    "\n",
    "    # constructing the new lattice\n",
    "    new_occ_lattice = tg.to_lattice(np.copy(occ_lattice), occ_lattice)\n",
    "    # adding the new lattice to the list of frames\n",
    "    frames.append(new_occ_lattice)\n",
    "    # adding one to the time counter\n",
    "    t += 1"
   ]
  },
  {
   "cell_type": "markdown",
   "metadata": {},
   "source": [
    "Visualize the result"
   ]
  },
  {
   "cell_type": "code",
   "execution_count": null,
   "metadata": {},
   "outputs": [
    {
     "data": {
      "application/vnd.jupyter.widget-view+json": {
       "model_id": "a8de18e603144d55add99d5c11fc1b97",
       "version_major": 2,
       "version_minor": 0
      },
      "text/plain": [
       "ViewInteractiveWidget(height=768, layout=Layout(height='auto', width='100%'), width=1024)"
      ]
     },
     "metadata": {},
     "output_type": "display_data"
    },
    {
     "data": {
      "text/plain": [
       "[(239.8279062084888, 147.3279062084888, 222.3279062084888),\n",
       " (35.0, -57.5, 17.5),\n",
       " (0.0, 0.0, 1.0)]"
      ]
     },
     "execution_count": 22,
     "metadata": {},
     "output_type": "execute_result"
    }
   ],
   "source": [
    "p = pv.Plotter(notebook=True)\n",
    "\n",
    "base_lattice = frames[0]\n",
    "\n",
    "# Set the grid dimensions: shape + 1 because we want to inject our values on the CELL data\n",
    "grid = pv.UniformGrid()\n",
    "grid.dimensions = np.array(base_lattice.shape) + 1\n",
    "# The bottom left corner of the data set\n",
    "grid.origin = base_lattice.minbound - base_lattice.unit * 0.5\n",
    "# These are the cell sizes along each axis\n",
    "grid.spacing = base_lattice.unit \n",
    "\n",
    "# adding the boundingbox wireframe\n",
    "p.add_mesh(grid.outline(), color=\"grey\", label=\"Domain\")\n",
    "\n",
    "# adding the availability lattice\n",
    "init_avail_lattice.fast_vis(p)\n",
    "\n",
    "# adding axes\n",
    "p.add_axes()\n",
    "p.show_bounds(grid=\"back\", location=\"back\", color=\"#aaaaaa\")\n",
    "\n",
    "def create_mesh(value):\n",
    "    f = int(value)\n",
    "    lattice = frames[f]\n",
    "\n",
    "    # Add the data values to the cell data\n",
    "    grid.cell_arrays[\"Agents\"] = lattice.flatten(order=\"F\").astype(int)  # Flatten the array!\n",
    "    # filtering the voxels\n",
    "    threshed = grid.threshold([-0.1, agn_num - 0.9])\n",
    "    # adding the voxels\n",
    "    p.add_mesh(threshed, name='sphere', show_edges=True, opacity=1.0, show_scalar_bar=False)\n",
    "\n",
    "    return\n",
    "\n",
    "p.add_slider_widget(create_mesh, [0, n_frames], title='Time', value=0, event_type=\"always\", style=\"classic\")\n",
    "p.show(use_ipyvtk=True)"
   ]
  }
 ],
 "metadata": {
  "interpreter": {
   "hash": "35193bb4a499ae14c24644d010b40ff56fe483af9478781b8d520e7468034301"
  },
  "kernelspec": {
   "display_name": "Python 3.8.5 64-bit ('scds': conda)",
   "language": "python",
   "name": "python3"
  },
  "language_info": {
   "codemirror_mode": {
    "name": "ipython",
    "version": 3
   },
   "file_extension": ".py",
   "mimetype": "text/x-python",
   "name": "python",
   "nbconvert_exporter": "python",
   "pygments_lexer": "ipython3",
   "version": "3.8.5"
  },
  "orig_nbformat": 4
 },
 "nbformat": 4,
 "nbformat_minor": 2
}
