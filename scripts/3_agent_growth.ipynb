{
 "cells": [
  {
   "cell_type": "markdown",
   "metadata": {},
   "source": [
    "A lot of this stuff hinges on having the right initial data. We cant run the agents at this moment. I Added the stuff here that was already in workshop 4, but like I said, it will not run.\n",
    "\n",
    "Personally, I believe that we have to store the eventual data of every script in a csv file. This script needs a program of requirements."
   ]
  },
  {
   "cell_type": "markdown",
   "metadata": {},
   "source": [
    "Load Libraries"
   ]
  },
  {
   "cell_type": "code",
   "execution_count": 12,
   "metadata": {},
   "outputs": [],
   "source": [
    "import os\n",
    "import topogenesis as tg\n",
    "import pyvista as pv\n",
    "import trimesh as tm\n",
    "import pandas as pd\n",
    "import numpy as np\n",
    "import functions\n",
    "np.random.seed(0)"
   ]
  },
  {
   "cell_type": "markdown",
   "metadata": {},
   "source": [
    "Define Stencil"
   ]
  },
  {
   "cell_type": "code",
   "execution_count": 13,
   "metadata": {},
   "outputs": [
    {
     "name": "stdout",
     "output_type": "stream",
     "text": [
      "[[[0 0 0]\n",
      "  [0 1 0]\n",
      "  [0 0 0]]\n",
      "\n",
      " [[0 1 0]\n",
      "  [1 0 1]\n",
      "  [0 1 0]]\n",
      "\n",
      " [[0 0 0]\n",
      "  [0 1 0]\n",
      "  [0 0 0]]]\n"
     ]
    }
   ],
   "source": [
    "# creating neighborhood definition\n",
    "stencil = tg.create_stencil(\"von_neumann\", 1, 1)\n",
    "# setting the center to zero\n",
    "stencil.set_index([0,0,0], 0)\n",
    "print(stencil)"
   ]
  },
  {
   "cell_type": "markdown",
   "metadata": {},
   "source": [
    "Define the environment"
   ]
  },
  {
   "cell_type": "code",
   "execution_count": 14,
   "metadata": {},
   "outputs": [],
   "source": [
    "# loading the lattice from csv\n",
    "lattice_path = os.path.relpath('../data/meshes/useable_lattice.csv')\n",
    "avail_lattice = tg.lattice_from_csv(lattice_path)\n",
    "init_avail_lattice = tg.to_lattice(np.copy(avail_lattice), avail_lattice)"
   ]
  },
  {
   "cell_type": "markdown",
   "metadata": {},
   "source": [
    "Load program of requirements"
   ]
  },
  {
   "cell_type": "code",
   "execution_count": 15,
   "metadata": {},
   "outputs": [],
   "source": [
    "#loading the relative relations excell\n",
    "relative_rels = pd.read_excel('../data/relationships/relative_relations.xlsx') \n",
    "#relative_rels = relative_rels.iloc[:2,:3]\n",
    "\n",
    "#loading the relative preferences excell\n",
    "relative_prefs = pd.read_excel('../data/relationships/relative_preferences.xlsx')\n",
    "functions.normalize_excel(relative_prefs)\n",
    "#relative_prefs = relative_prefs.head(2)\n",
    "\n",
    "# read agent size\n",
    "agent_sizes = pd.read_excel('../data/relationships/agent_size.xlsx')\n",
    "#agent_sizes = agent_sizes.head(2)"
   ]
  },
  {
   "cell_type": "code",
   "execution_count": 16,
   "metadata": {},
   "outputs": [],
   "source": [
    "program_prefs = relative_prefs.drop([\"space_name\", \"street_sight\"], 1)\n",
    "program_rels = relative_rels.drop([\"Unnamed: 0\"], 1)"
   ]
  },
  {
   "cell_type": "markdown",
   "metadata": {},
   "source": [
    "Load the value fields"
   ]
  },
  {
   "cell_type": "code",
   "execution_count": 17,
   "metadata": {},
   "outputs": [],
   "source": [
    "# loading the lattice from csv\n",
    "fields = {}\n",
    "for f in program_prefs.columns:\n",
    "    lattice_path = os.path.relpath('../data/fields/' + f + '.csv')\n",
    "    fields[f] = tg.lattice_from_csv(lattice_path) * avail_lattice"
   ]
  },
  {
   "cell_type": "markdown",
   "metadata": {},
   "source": [
    "Initialize the agent's seeds"
   ]
  },
  {
   "cell_type": "code",
   "execution_count": 18,
   "metadata": {},
   "outputs": [],
   "source": [
    "agent_pref_fields=[]\n",
    "for i in range(0,len(program_prefs)):\n",
    "    int_d=1\n",
    "    for f in program_prefs:\n",
    "        t=fields[f]**program_prefs[f][i]\n",
    "        int_d=int_d*t\n",
    "    agent_pref_fields.append(int_d)"
   ]
  },
  {
   "cell_type": "markdown",
   "metadata": {},
   "source": [
    "Initialize the agents"
   ]
  },
  {
   "cell_type": "code",
   "execution_count": 19,
   "metadata": {},
   "outputs": [],
   "source": [
    "# initialize the occupation lattice\n",
    "occ_lattice = avail_lattice * 0 - 1\n",
    "\n",
    "# Finding the index of the available voxels in avail_lattice\n",
    "avail_flat = avail_lattice.flatten()\n",
    "avail_index = np.array(np.where(avail_lattice == 1)).T\n",
    "\n",
    "# Randomly choosing three available voxels\n",
    "# agn_num = len(program_prefs)\n",
    "# np.random.seed()\n",
    "# select_id = np.random.choice(len(avail_index), agn_num)\n",
    "# agn_origins = avail_index[select_id]\n",
    "\n",
    "agn_num = len(program_prefs)\n",
    "agn_origins=[]\n",
    "for i in range(0,agn_num):\n",
    "    best_index = np.array(np.where(agent_pref_fields[i] == agent_pref_fields[i].max())).T\n",
    "    best_index=best_index[0]\n",
    "    agn_origins.append(best_index)\n",
    "agn_origins=np.stack(agn_origins) \n",
    "\n",
    "# adding the origins to the agents locations\n",
    "agn_locs = []\n",
    "agn_vals = []\n",
    "# for each agent origin ... \n",
    "for a_id, a_origin in enumerate(agn_origins):\n",
    "\n",
    "    # add the origin to the list of agent locations\n",
    "    agn_locs.append([a_origin])\n",
    "    \n",
    "    # set the origin in availablity lattice as 0 (UNavailable)\n",
    "    avail_lattice[tuple(a_origin)] = 0\n",
    "\n",
    "    # set the origin in occupation lattice as the agent id (a_id)\n",
    "    occ_lattice[tuple(a_origin)] = a_id\n",
    "    \n",
    "#initializing the agents' values    \n",
    "for a_id, a_prefs in program_prefs.iterrows():\n",
    "    agn_loc = agn_locs[a_id]\n",
    "    a_eval = 1\n",
    "    for f in program_prefs.columns:        \n",
    "        # find the raw value of free neighbours...\n",
    "        val = fields[f][agn_loc[0][0], agn_loc[0][1], agn_loc[0][2]]\n",
    "        # raise the the raw value to the power of preference weight of the agent\n",
    "        a_weighted_vals = val ** a_prefs[f]\n",
    "        # multiply them to the previous weighted values\n",
    "        a_eval *= a_weighted_vals\n",
    "    agn_vals.append([a_eval])"
   ]
  },
  {
   "cell_type": "markdown",
   "metadata": {},
   "source": [
    "Initialize the distance field"
   ]
  },
  {
   "cell_type": "code",
   "execution_count": 20,
   "metadata": {},
   "outputs": [],
   "source": [
    "for a_id, a_prefs in program_prefs.iterrows():\n",
    "    # create a lattice with only the agent locations enabled\n",
    "    agn_lattice = functions.enabling_loc_in_lattice(agn_locs[a_id], avail_lattice)\n",
    "    # calculate distance field to the agent locations through breath-first traversal\n",
    "    distance_lattice = functions.breath_first_traversal(agn_lattice, avail_lattice)\n",
    "    # invert the field\n",
    "    fields[a_id] = 1 - functions.min_max_scaler(distance_lattice)"
   ]
  },
  {
   "cell_type": "markdown",
   "metadata": {},
   "source": [
    "Show the agents"
   ]
  },
  {
   "cell_type": "code",
   "execution_count": 21,
   "metadata": {},
   "outputs": [
    {
     "data": {
      "application/vnd.jupyter.widget-view+json": {
       "model_id": "b8d4cc6bc1964dbb8797bc4062302af1",
       "version_major": 2,
       "version_minor": 0
      },
      "text/plain": [
       "ViewInteractiveWidget(height=768, layout=Layout(height='auto', width='100%'), width=1024)"
      ]
     },
     "metadata": {},
     "output_type": "display_data"
    },
    {
     "data": {
      "text/plain": [
       "[(234.06131774452814, 140.96131783989557, 215.96131658819803),\n",
       " (35.70000076293945, -57.399999141693115, 17.599999606609344),\n",
       " (0.0, 0.0, 1.0)]"
      ]
     },
     "execution_count": 21,
     "metadata": {},
     "output_type": "execute_result"
    }
   ],
   "source": [
    "p = pv.Plotter(notebook=True)\n",
    "\n",
    "# Set the grid dimensions: shape + 1 because we want to inject our values on the CELL data\n",
    "grid = pv.UniformGrid()\n",
    "grid.dimensions = np.array(occ_lattice.shape) + 1\n",
    "# The bottom left corner of the data set\n",
    "grid.origin = occ_lattice.minbound - occ_lattice.unit * 0.5\n",
    "# These are the cell sizes along each axis\n",
    "grid.spacing = occ_lattice.unit \n",
    "\n",
    "# adding the boundingbox wireframe\n",
    "p.add_mesh(grid.outline(), color=\"grey\", label=\"Domain\")\n",
    "\n",
    "# adding axes\n",
    "p.add_axes()\n",
    "p.show_bounds(grid=\"back\", location=\"back\", color=\"#777777\")\n",
    "\n",
    "# Add the data values to the cell data\n",
    "grid.cell_arrays[\"Agents\"] = occ_lattice.flatten(order=\"F\").astype(int)  # Flatten the array!\n",
    "# filtering the voxels\n",
    "threshed = grid.threshold([-0.1, agn_num - 0.9])\n",
    "# adding the voxels\n",
    "p.add_mesh(threshed, show_edges=True, opacity=1.0, show_scalar_bar=False)\n",
    "\n",
    "# adding the availability lattice\n",
    "#init_avail_lattice.fast_vis(p)\n",
    "\n",
    "p.show(use_ipyvtk=True)"
   ]
  },
  {
   "cell_type": "markdown",
   "metadata": {},
   "source": [
    "Run the simulation"
   ]
  },
  {
   "cell_type": "code",
   "execution_count": 47,
   "metadata": {},
   "outputs": [
    {
     "name": "stdout",
     "output_type": "stream",
     "text": [
      "0 --- 72.87164616584778 seconds ---\n",
      "1 --- 145.39278507232666 seconds ---\n",
      "2 --- 218.8273584842682 seconds ---\n",
      "3 --- 297.17187881469727 seconds ---\n",
      "4 --- 376.9395942687988 seconds ---\n",
      "5 --- 455.0070948600769 seconds ---\n",
      "6 --- 536.9562895298004 seconds ---\n",
      "7 --- 617.3452117443085 seconds ---\n",
      "8 --- 708.0415568351746 seconds ---\n",
      "9 --- 787.9982173442841 seconds ---\n",
      "10 --- 867.9020535945892 seconds ---\n",
      "11 --- 952.2139852046967 seconds ---\n",
      "12 --- 1042.785807132721 seconds ---\n",
      "13 --- 1131.5674290657043 seconds ---\n",
      "14 --- 1210.2380483150482 seconds ---\n",
      "15 --- 1288.610577583313 seconds ---\n",
      "16 --- 1365.5020101070404 seconds ---\n",
      "17 --- 1442.4131731987 seconds ---\n",
      "18 --- 1521.572820186615 seconds ---\n",
      "19 --- 1602.436892747879 seconds ---\n",
      "20 --- 1684.734202861786 seconds ---\n",
      "21 --- 1761.660607099533 seconds ---\n",
      "22 --- 1836.8891780376434 seconds ---\n",
      "23 --- 1913.9572598934174 seconds ---\n",
      "24 --- 1993.898057460785 seconds ---\n",
      "25 --- 2074.631629228592 seconds ---\n",
      "26 --- 2151.693544149399 seconds ---\n",
      "27 --- 2237.3265330791473 seconds ---\n",
      "28 --- 2323.7867364883423 seconds ---\n",
      "29 --- 2407.3023912906647 seconds ---\n",
      "30 --- 2492.8805289268494 seconds ---\n",
      "31 --- 2599.5462431907654 seconds ---\n",
      "32 --- 2687.3211171627045 seconds ---\n",
      "33 --- 2766.952646255493 seconds ---\n",
      "34 --- 2846.107654809952 seconds ---\n",
      "35 --- 2928.9774355888367 seconds ---\n",
      "36 --- 3014.450302362442 seconds ---\n",
      "37 --- 3113.434589624405 seconds ---\n",
      "38 --- 3201.448253393173 seconds ---\n",
      "39 --- 3287.36146235466 seconds ---\n",
      "40 --- 3373.689596414566 seconds ---\n",
      "41 --- 3459.6427352428436 seconds ---\n",
      "42 --- 3545.1560831069946 seconds ---\n",
      "43 --- 3629.5925390720367 seconds ---\n",
      "44 --- 3712.494159936905 seconds ---\n",
      "45 --- 3796.2262229919434 seconds ---\n",
      "46 --- 3874.6954822540283 seconds ---\n",
      "47 --- 3958.8588075637817 seconds ---\n",
      "48 --- 4039.584194421768 seconds ---\n",
      "49 --- 4121.925998210907 seconds ---\n",
      "50 --- 4207.773077726364 seconds ---\n",
      "51 --- 4291.582845449448 seconds ---\n",
      "52 --- 4378.18644118309 seconds ---\n",
      "53 --- 4494.91200709343 seconds ---\n",
      "54 --- 4581.794579744339 seconds ---\n",
      "55 --- 4663.5267379283905 seconds ---\n",
      "56 --- 4759.717664003372 seconds ---\n",
      "57 --- 4845.29465007782 seconds ---\n",
      "58 --- 4936.715127229691 seconds ---\n",
      "59 --- 5026.575796365738 seconds ---\n",
      "60 --- 5108.845322847366 seconds ---\n",
      "61 --- 5196.775964021683 seconds ---\n",
      "62 --- 5289.404831647873 seconds ---\n",
      "63 --- 5380.156582117081 seconds ---\n",
      "64 --- 5469.242188453674 seconds ---\n",
      "65 --- 5550.6589386463165 seconds ---\n",
      "66 --- 5630.900238275528 seconds ---\n",
      "67 --- 5712.482450246811 seconds ---\n",
      "68 --- 5795.649817228317 seconds ---\n",
      "69 --- 5877.840010404587 seconds ---\n",
      "70 --- 5955.341580629349 seconds ---\n",
      "71 --- 6037.0545263290405 seconds ---\n",
      "72 --- 6115.084149360657 seconds ---\n",
      "73 --- 6193.198074579239 seconds ---\n",
      "74 --- 6272.020540237427 seconds ---\n",
      "75 --- 6350.664153337479 seconds ---\n",
      "76 --- 6429.383348464966 seconds ---\n",
      "77 --- 6507.528817176819 seconds ---\n",
      "78 --- 6587.790383577347 seconds ---\n",
      "79 --- 6667.081755399704 seconds ---\n",
      "80 --- 6747.617438793182 seconds ---\n",
      "81 --- 6823.901391029358 seconds ---\n",
      "82 --- 6902.262095212936 seconds ---\n",
      "83 --- 6980.69388961792 seconds ---\n",
      "84 --- 7060.415926933289 seconds ---\n",
      "85 --- 7139.219801664352 seconds ---\n",
      "86 --- 7217.224529504776 seconds ---\n",
      "87 --- 7297.068538427353 seconds ---\n",
      "88 --- 7376.913400650024 seconds ---\n",
      "89 --- 7458.820447206497 seconds ---\n",
      "90 --- 7540.539439678192 seconds ---\n",
      "91 --- 7782.841260910034 seconds ---\n",
      "92 --- 7866.75218629837 seconds ---\n",
      "93 --- 7953.187795639038 seconds ---\n",
      "94 --- 8040.670510292053 seconds ---\n",
      "95 --- 8129.030565023422 seconds ---\n",
      "96 --- 8214.834698915482 seconds ---\n",
      "97 --- 8299.338200807571 seconds ---\n",
      "98 --- 8383.24767780304 seconds ---\n",
      "99 --- 8464.010236263275 seconds ---\n"
     ]
    }
   ],
   "source": [
    "import time\n",
    "start_time = time.time()\n",
    "\n",
    "# make a deep copy of occupation lattice\n",
    "cur_occ_lattice = tg.to_lattice(np.copy(occ_lattice), occ_lattice)\n",
    "# initialzing the list of frames\n",
    "frames = [cur_occ_lattice]\n",
    "\n",
    "# setting the time variable to 0\n",
    "t = 0\n",
    "n_frames = 100\n",
    "# main feedback loop of the simulation (for each time step ...)\n",
    "while t<n_frames:\n",
    "    # for each agent ... \n",
    "    for a_id, a_prefs in program_prefs.iterrows():\n",
    "        # retrieve the list of the locations of the current agent\n",
    "        a_locs = agn_locs[a_id]\n",
    "        a_vals = agn_vals[a_id]\n",
    "\n",
    "        #get max building depth for the current agentS\n",
    "        max_depth = 3#agent_sizes.loc[a_id, 'voxel_depth']\n",
    "        max_height = 2\n",
    "        # initialize the list of free neighbours\n",
    "        free_neighs = []\n",
    "\n",
    "        agent_lattice = functions.enabling_loc_in_lattice(a_locs, avail_lattice)\n",
    "\n",
    "        # for each location of the agent\n",
    "        for loc in a_locs:\n",
    "            # retrieve the list of neighbours of the agent based on the stencil\n",
    "            neighs = avail_lattice.find_neighbours_masked(stencil, loc = loc)\n",
    "\n",
    "            #BUILDING DEPTH AND BUILDING HEIGHT LOGIC\n",
    "            #calculate index that the agent should avoid to achieve max building depth\n",
    "            index_to_avoid_building_depth = functions.index_to_avoid_for_building_depth(agent_lattice, max_depth)\n",
    "            #calculate index that the agent should avoid to achieve max building height\n",
    "            index_to_avoid_building_height = functions.index_to_avoid_for_building_height(agent_lattice, max_height)\n",
    "            \n",
    "            # for each neighbour ... \n",
    "            for n in neighs:\n",
    "                # compute 3D index of neighbour\n",
    "                neigh_3d_id = np.unravel_index(n, avail_lattice.shape)\n",
    "                # if the neighbour is available and avoidance logic to achieve max building depth\n",
    "                if avail_lattice[neigh_3d_id] and functions.array_element_not_in_2d_array(neigh_3d_id, index_to_avoid_building_depth) and functions.array_element_not_in_2d_array(neigh_3d_id, index_to_avoid_building_height):\n",
    "                    # add the neighbour to the list of free neighbours\n",
    "                    free_neighs.append(neigh_3d_id)\n",
    "        # check if found any free neighbour\n",
    "        if len(free_neighs)>0:\n",
    "            # convert free neighbours to a numpy array\n",
    "            fns = np.array(free_neighs)\n",
    "            \n",
    "            # find the value of neighbours\n",
    "            # init the agent value array\n",
    "            a_eval = np.ones(len(fns))\n",
    "            # for each field...\n",
    "            for f in program_prefs.columns:\n",
    "                # find the raw value of free neighbours...\n",
    "                vals = fields[f][fns[:,0], fns[:,1], fns[:,2]]\n",
    "                # raise the the raw value to the power of preference weight of the agent\n",
    "                a_weighted_vals = vals ** a_prefs[f]\n",
    "                # multiply them to the previous weighted values\n",
    "                a_eval *= a_weighted_vals\n",
    "\n",
    "            #post-processing\n",
    "            functions.squareness(square_weight=0.2, free_neighs=free_neighs, a_eval=a_eval)\n",
    "            \n",
    "\n",
    "            #evaluating agent connectiveness\n",
    "            for r in range(program_rels.columns.size):\n",
    "                vals = fields[r][fns[:,0], fns[:,1], fns[:,2]]\n",
    "                a_weighted_vals = vals ** program_rels.iloc[a_id][r]\n",
    "                a_eval *= a_weighted_vals\n",
    "\n",
    "            # if the agents have reached their max size -> remove the worst voxel\n",
    "            if len(a_locs) >= agent_sizes.loc[a_id, 'voxel_total'] and np.max(a_eval) > np.min(a_vals): \n",
    "                smallest_voxel_val_id = np.argmin(a_vals)\n",
    "                voxel_to_be_replaced_id = tuple(a_locs[smallest_voxel_val_id])\n",
    "\n",
    "                #remove the worst voxel\n",
    "                agn_locs[a_id].pop(smallest_voxel_val_id)\n",
    "                agn_vals[a_id].pop(smallest_voxel_val_id)\n",
    "\n",
    "                #voxel that is removed will be available and unoccupied\n",
    "                avail_lattice[voxel_to_be_replaced_id] = 1\n",
    "                occ_lattice[voxel_to_be_replaced_id] = -1\n",
    "\n",
    "            # re-evaluate the agent size (since the worst voxel may have been removed in the last condition check)\n",
    "            # if it is smaller then max size -> add best voxel    \n",
    "            if len(a_locs) < agent_sizes.loc[a_id, 'voxel_total']:\n",
    "                # select the neighbour with highest evaluation\n",
    "                selected_int = np.argmax(a_eval)\n",
    "                # find 3D integer index of selected neighbour\n",
    "                selected_neigh_3d_id = free_neighs[selected_int]\n",
    "                # find the location of the newly selected neighbour\n",
    "                selected_neigh_loc = np.array(selected_neigh_3d_id).flatten()\n",
    "                # add the newly selected neighbour location to agent locations\n",
    "                agn_locs[a_id].append(selected_neigh_loc)\n",
    "                # add the newly best value selected\n",
    "                agn_vals[a_id].append(a_eval[selected_int])\n",
    "                # set the newly selected neighbour as UNavailable (0) in the availability lattice\n",
    "                avail_lattice[selected_neigh_3d_id] = 0\n",
    "                # set the newly selected neighbour as OCCUPIED by current agent \n",
    "                # (-1 means not-occupied so a_id)\n",
    "                occ_lattice[selected_neigh_3d_id] = a_id\n",
    "            \n",
    "            # updating the distance field for agent connectiveness\n",
    "            # lattice with only the current agent location enabled\n",
    "            agn_lattice = functions.enabling_loc_in_lattice(agn_locs[a_id], avail_lattice)\n",
    "            # calculate new distance lattice\n",
    "            distance_lattice = functions.breath_first_traversal(agn_lattice, avail_lattice)\n",
    "            # invert the distance\n",
    "            fields[a_id] = 1 - functions.min_max_scaler(distance_lattice)\n",
    "            \n",
    "    # constructing the new lattice\n",
    "    new_occ_lattice = tg.to_lattice(np.copy(occ_lattice), occ_lattice)\n",
    "    # adding the new lattice to the list of frames\n",
    "    frames.append(new_occ_lattice)\n",
    "    # adding one to the time counter\n",
    "    print(t,\"--- %s seconds ---\" % (time.time() - start_time))\n",
    "    t += 1 "
   ]
  },
  {
   "cell_type": "markdown",
   "metadata": {},
   "source": [
    "Visualize the result"
   ]
  },
  {
   "cell_type": "code",
   "execution_count": 48,
   "metadata": {},
   "outputs": [
    {
     "data": {
      "application/vnd.jupyter.widget-view+json": {
       "model_id": "a47189d51b9a413193d2e56f2d33b47a",
       "version_major": 2,
       "version_minor": 0
      },
      "text/plain": [
       "ViewInteractiveWidget(height=1000, layout=Layout(height='auto', width='100%'), width=2000)"
      ]
     },
     "metadata": {},
     "output_type": "display_data"
    },
    {
     "name": "stdout",
     "output_type": "stream",
     "text": [
      "[(314.348192231551, 283.381630231551, 296.74455709155103),\n",
      " (65.08283250000001, -12.333572500000002, 21.07374465),\n",
      " (0.0, 0.0, 1.0)]\n"
     ]
    }
   ],
   "source": [
    "p = pv.Plotter(notebook=True)\n",
    "\n",
    "base_lattice = frames[0]\n",
    "\n",
    "# Set the grid dimensions: shape + 1 because we want to inject our values on the CELL data\n",
    "grid = pv.UniformGrid()\n",
    "grid.dimensions = np.array(base_lattice.shape) + 1\n",
    "# The bottom left corner of the data set\n",
    "grid.origin = base_lattice.minbound - base_lattice.unit * 0.5\n",
    "# These are the cell sizes along each axis\n",
    "grid.spacing = base_lattice.unit \n",
    "\n",
    "# adding the boundingbox wireframe\n",
    "p.add_mesh(grid.outline(), color=\"grey\", label=\"Domain\")\n",
    "\n",
    "# adding the availability lattice\n",
    "#init_avail_lattice.fast_vis(p)\n",
    "\n",
    "# adding axes\n",
    "p.add_axes()\n",
    "p.show_bounds(grid=\"back\", location=\"back\", color=\"#aaaaaa\")\n",
    "\n",
    "def create_mesh(value):\n",
    "    f = int(value)\n",
    "    lattice = frames[f]\n",
    "\n",
    "    # Add the data values to the cell data\n",
    "    grid.cell_arrays[\"Agents\"] = lattice.flatten(order=\"F\").astype(int)  # Flatten the array!\n",
    "    # filtering the voxels\n",
    "    threshed = grid.threshold([-0.1, agn_num - 0.9])\n",
    "    # adding the voxels\n",
    "    p.add_mesh(threshed, name='sphere', show_edges=True, opacity=1.0, show_scalar_bar=False)\n",
    "\n",
    "    return\n",
    "\n",
    "p.add_slider_widget(create_mesh, [0, n_frames], title='Time', value=100, event_type=\"always\", style=\"classic\")\n",
    "\n",
    "#plotting\n",
    "cpos = [(314.348192231551, 283.381630231551, 296.74455709155103),\n",
    " (65.08283250000001, -12.333572500000002, 21.07374465),\n",
    " (0.0, 0.0, 1.0)]\n",
    "p.camera_position = cpos\n",
    "p.window_size = 2000, 1000\n",
    "p.show(use_ipyvtk=True)\n",
    "p.screenshot(\"../data/images/screenshot13\")\n",
    "print(p.camera_position)"
   ]
  },
  {
   "cell_type": "markdown",
   "metadata": {},
   "source": [
    "Save frames to csv"
   ]
  },
  {
   "cell_type": "code",
   "execution_count": 28,
   "metadata": {},
   "outputs": [],
   "source": [
    "for i, lattice in enumerate(frames):\n",
    "    csv_path = os.path.relpath('../data/abm_animation/abm_f_'+ f'{i:03}' + '.csv')\n",
    "    lattice.to_csv(csv_path)"
   ]
  }
 ],
 "metadata": {
  "interpreter": {
   "hash": "35193bb4a499ae14c24644d010b40ff56fe483af9478781b8d520e7468034301"
  },
  "kernelspec": {
   "display_name": "Python 3.8.5 64-bit ('scds': conda)",
   "language": "python",
   "name": "python3"
  },
  "language_info": {
   "codemirror_mode": {
    "name": "ipython",
    "version": 3
   },
   "file_extension": ".py",
   "mimetype": "text/x-python",
   "name": "python",
   "nbconvert_exporter": "python",
   "pygments_lexer": "ipython3",
   "version": "3.8.5"
  },
  "orig_nbformat": 4
 },
 "nbformat": 4,
 "nbformat_minor": 2
}
