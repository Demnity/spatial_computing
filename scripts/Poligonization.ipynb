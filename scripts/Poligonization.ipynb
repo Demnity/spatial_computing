{
 "cells": [
  {
   "cell_type": "markdown",
   "metadata": {},
   "source": [
    "0.0 Importing Libraries"
   ]
  },
  {
   "cell_type": "code",
   "execution_count": 1,
   "metadata": {},
   "outputs": [],
   "source": [
    "import topogenesis as tg\n",
    "import numpy as np \n",
    "import pyvista as pv\n",
    "import os\n",
    "import copy\n",
    "import trimesh as tm\n",
    "import pandas as pd\n",
    "import boolean_marching_cubes as bmc"
   ]
  },
  {
   "cell_type": "markdown",
   "metadata": {},
   "source": [
    "0.1 Generate symmetry stencils"
   ]
  },
  {
   "cell_type": "code",
   "execution_count": 2,
   "metadata": {},
   "outputs": [],
   "source": [
    "# example symmetry strings\n",
    "##########################\n",
    "# sym_str = [[\"OO\"], [\"XP\"], [\"XN\"], [\"YP\"], [\"YN\"], [\"ZP\"], [\"ZN\"]]\n",
    "# sym_str = [[\"OO\"], [\"XX\"], [\"YP\"], [\"YN\"], [\"ZP\"], [\"ZN\"]]\n",
    "sym_str = [[\"OO\"], [\"XX\"], [\"YY\"], [\"ZP\"], [\"ZN\"]]\n",
    "# sym_str = [[\"OO\"], [\"XX\", \"YY\"], [\"ZZ\"]]\n",
    "# sym_str = [[\"OO\"], [\"XX\", \"YY\", \"ZZ\"]]\n",
    "# sym_str = [[\"OO\"]]\n",
    "\n",
    "stencils = bmc.create_symmetry_stencils(sym_str)"
   ]
  },
  {
   "cell_type": "markdown",
   "metadata": {},
   "source": [
    "0.2 Generate lattices for all possible cubes"
   ]
  },
  {
   "cell_type": "code",
   "execution_count": 3,
   "metadata": {},
   "outputs": [],
   "source": [
    "# generate bianary representation of all the possible cubes\n",
    "l_bis = bmc.bi_cube_lattices()"
   ]
  },
  {
   "cell_type": "markdown",
   "metadata": {},
   "source": [
    "1. Profiling"
   ]
  },
  {
   "cell_type": "markdown",
   "metadata": {},
   "source": [
    "1.1. Catalogue the profile of all corners"
   ]
  },
  {
   "cell_type": "code",
   "execution_count": 4,
   "metadata": {},
   "outputs": [],
   "source": [
    "# find all unique corner arrangements based on stencils\n",
    "corner_profiles = bmc.extract_corner_profiles(stencils, l_bis)"
   ]
  },
  {
   "cell_type": "markdown",
   "metadata": {},
   "source": [
    "1.2. Find unique corner profiles"
   ]
  },
  {
   "cell_type": "code",
   "execution_count": 5,
   "metadata": {},
   "outputs": [
    {
     "name": "stdout",
     "output_type": "stream",
     "text": [
      "24\n"
     ]
    }
   ],
   "source": [
    "# stack corner_profiles vertically\n",
    "cp_stacked = np.vstack(corner_profiles)\n",
    "\n",
    "# find the uniqe arangements of corners\n",
    "uniq_corner_arang = np.unique(cp_stacked, axis=0)\n",
    "\n",
    "print(len(uniq_corner_arang))\n",
    "#print(uniq_corner_arang)"
   ]
  },
  {
   "cell_type": "markdown",
   "metadata": {},
   "source": [
    "1.3. Construct unique profile latices"
   ]
  },
  {
   "cell_type": "code",
   "execution_count": 6,
   "metadata": {},
   "outputs": [],
   "source": [
    "# construct lattices for all unique corner profiles\n",
    "(corner_loc_lattices, corner_neigh_lattices) = bmc.profiles_to_lattices(uniq_corner_arang, stencils)"
   ]
  },
  {
   "cell_type": "markdown",
   "metadata": {},
   "source": [
    "1.4 Save unique arrangement profiles"
   ]
  },
  {
   "cell_type": "code",
   "execution_count": 10,
   "metadata": {},
   "outputs": [],
   "source": [
    "# save all design templates into lattice CSVs\n",
    "templates_path = os.path.relpath('../data/bmc/bmc_templates')\n",
    "bmc.save_design_templates(corner_loc_lattices, corner_neigh_lattices, templates_path)"
   ]
  },
  {
   "cell_type": "markdown",
   "metadata": {},
   "source": [
    "2. construct the tileset"
   ]
  },
  {
   "cell_type": "markdown",
   "metadata": {},
   "source": [
    "2.1. Load sub-tile meshes"
   ]
  },
  {
   "cell_type": "code",
   "execution_count": 13,
   "metadata": {},
   "outputs": [
    {
     "ename": "ValueError",
     "evalue": "string is not a file: ...\\data\\bmc\\bmc_subtiles\\t_00.obj",
     "output_type": "error",
     "traceback": [
      "\u001b[1;31m---------------------------------------------------------------------------\u001b[0m",
      "\u001b[1;31mValueError\u001b[0m                                Traceback (most recent call last)",
      "\u001b[1;32mC:\\Users\\THIJSK~1\\AppData\\Local\\Temp/ipykernel_4612/2167034519.py\u001b[0m in \u001b[0;36m<module>\u001b[1;34m\u001b[0m\n\u001b[0;32m      3\u001b[0m \u001b[1;32mfor\u001b[0m \u001b[0mc\u001b[0m \u001b[1;32min\u001b[0m \u001b[0mrange\u001b[0m\u001b[1;33m(\u001b[0m\u001b[0mlen\u001b[0m\u001b[1;33m(\u001b[0m\u001b[0mcorner_loc_lattices\u001b[0m\u001b[1;33m)\u001b[0m\u001b[1;33m)\u001b[0m\u001b[1;33m:\u001b[0m\u001b[1;33m\u001b[0m\u001b[1;33m\u001b[0m\u001b[0m\n\u001b[0;32m      4\u001b[0m     \u001b[0mcorner_mesh_path\u001b[0m \u001b[1;33m=\u001b[0m \u001b[0mos\u001b[0m\u001b[1;33m.\u001b[0m\u001b[0mpath\u001b[0m\u001b[1;33m.\u001b[0m\u001b[0mrelpath\u001b[0m\u001b[1;33m(\u001b[0m\u001b[1;34m'.../data/bmc/bmc_subtiles/t_'\u001b[0m \u001b[1;33m+\u001b[0m \u001b[1;34mf'{c:02}'\u001b[0m \u001b[1;33m+\u001b[0m \u001b[1;34m'.obj'\u001b[0m\u001b[1;33m)\u001b[0m\u001b[1;33m\u001b[0m\u001b[1;33m\u001b[0m\u001b[0m\n\u001b[1;32m----> 5\u001b[1;33m     \u001b[0mcorner_mesh\u001b[0m \u001b[1;33m=\u001b[0m \u001b[0mtm\u001b[0m\u001b[1;33m.\u001b[0m\u001b[0mload\u001b[0m\u001b[1;33m(\u001b[0m\u001b[0mcorner_mesh_path\u001b[0m\u001b[1;33m)\u001b[0m\u001b[1;33m\u001b[0m\u001b[1;33m\u001b[0m\u001b[0m\n\u001b[0m\u001b[0;32m      6\u001b[0m     \u001b[0msubtile_meshes\u001b[0m\u001b[1;33m.\u001b[0m\u001b[0mappend\u001b[0m\u001b[1;33m(\u001b[0m\u001b[0mcorner_mesh\u001b[0m\u001b[1;33m)\u001b[0m\u001b[1;33m\u001b[0m\u001b[1;33m\u001b[0m\u001b[0m\n",
      "\u001b[1;32m~\\anaconda3\\envs\\scds\\lib\\site-packages\\trimesh\\exchange\\load.py\u001b[0m in \u001b[0;36mload\u001b[1;34m(file_obj, file_type, resolver, force, **kwargs)\u001b[0m\n\u001b[0;32m    109\u001b[0m      \u001b[0mopened\u001b[0m\u001b[1;33m,\u001b[0m    \u001b[1;31m# bool, did we open the file ourselves\u001b[0m\u001b[1;33m\u001b[0m\u001b[1;33m\u001b[0m\u001b[0m\n\u001b[0;32m    110\u001b[0m      \u001b[0mresolver\u001b[0m   \u001b[1;31m# object to load referenced resources\u001b[0m\u001b[1;33m\u001b[0m\u001b[1;33m\u001b[0m\u001b[0m\n\u001b[1;32m--> 111\u001b[1;33m      \u001b[1;33m)\u001b[0m \u001b[1;33m=\u001b[0m \u001b[0mparse_file_args\u001b[0m\u001b[1;33m(\u001b[0m\u001b[0mfile_obj\u001b[0m\u001b[1;33m=\u001b[0m\u001b[0mfile_obj\u001b[0m\u001b[1;33m,\u001b[0m\u001b[1;33m\u001b[0m\u001b[1;33m\u001b[0m\u001b[0m\n\u001b[0m\u001b[0;32m    112\u001b[0m                          \u001b[0mfile_type\u001b[0m\u001b[1;33m=\u001b[0m\u001b[0mfile_type\u001b[0m\u001b[1;33m,\u001b[0m\u001b[1;33m\u001b[0m\u001b[1;33m\u001b[0m\u001b[0m\n\u001b[0;32m    113\u001b[0m                          resolver=resolver)\n",
      "\u001b[1;32m~\\anaconda3\\envs\\scds\\lib\\site-packages\\trimesh\\exchange\\load.py\u001b[0m in \u001b[0;36mparse_file_args\u001b[1;34m(file_obj, file_type, resolver, **kwargs)\u001b[0m\n\u001b[0;32m    621\u001b[0m                     'use load_remote to load URL: {}'.format(file_obj))\n\u001b[0;32m    622\u001b[0m             \u001b[1;32melif\u001b[0m \u001b[0mfile_type\u001b[0m \u001b[1;32mis\u001b[0m \u001b[1;32mNone\u001b[0m\u001b[1;33m:\u001b[0m\u001b[1;33m\u001b[0m\u001b[1;33m\u001b[0m\u001b[0m\n\u001b[1;32m--> 623\u001b[1;33m                 \u001b[1;32mraise\u001b[0m \u001b[0mValueError\u001b[0m\u001b[1;33m(\u001b[0m\u001b[1;34m'string is not a file: {}'\u001b[0m\u001b[1;33m.\u001b[0m\u001b[0mformat\u001b[0m\u001b[1;33m(\u001b[0m\u001b[0mfile_obj\u001b[0m\u001b[1;33m)\u001b[0m\u001b[1;33m)\u001b[0m\u001b[1;33m\u001b[0m\u001b[1;33m\u001b[0m\u001b[0m\n\u001b[0m\u001b[0;32m    624\u001b[0m \u001b[1;33m\u001b[0m\u001b[0m\n\u001b[0;32m    625\u001b[0m     \u001b[1;32mif\u001b[0m \u001b[0mfile_type\u001b[0m \u001b[1;32mis\u001b[0m \u001b[1;32mNone\u001b[0m\u001b[1;33m:\u001b[0m\u001b[1;33m\u001b[0m\u001b[1;33m\u001b[0m\u001b[0m\n",
      "\u001b[1;31mValueError\u001b[0m: string is not a file: ...\\data\\bmc\\bmc_subtiles\\t_00.obj"
     ]
    }
   ],
   "source": [
    "# load subtile meshes\n",
    "subtile_meshes = []\n",
    "for c in range(len(corner_loc_lattices)):\n",
    "    corner_mesh_path = os.path.relpath('../data/bmc/bmc_subtiles/t_' + f'{c:02}' + '.obj')\n",
    "    corner_mesh = tm.load(corner_mesh_path)\n",
    "    subtile_meshes.append(corner_mesh)"
   ]
  }
 ],
 "metadata": {
  "interpreter": {
   "hash": "35193bb4a499ae14c24644d010b40ff56fe483af9478781b8d520e7468034301"
  },
  "kernelspec": {
   "display_name": "Python 3.8.5 64-bit ('scds': conda)",
   "language": "python",
   "name": "python3"
  },
  "language_info": {
   "codemirror_mode": {
    "name": "ipython",
    "version": 3
   },
   "file_extension": ".py",
   "mimetype": "text/x-python",
   "name": "python",
   "nbconvert_exporter": "python",
   "pygments_lexer": "ipython3",
   "version": "3.8.5"
  },
  "orig_nbformat": 4
 },
 "nbformat": 4,
 "nbformat_minor": 2
}
