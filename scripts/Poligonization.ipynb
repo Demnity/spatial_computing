{
 "cells": [
  {
   "cell_type": "markdown",
   "metadata": {},
   "source": [
    "0.0 Importing Libraries"
   ]
  },
  {
   "cell_type": "code",
   "execution_count": 22,
   "metadata": {},
   "outputs": [],
   "source": [
    "import topogenesis as tg\n",
    "import numpy as np \n",
    "import pyvista as pv\n",
    "import os\n",
    "import copy\n",
    "import trimesh as tm\n",
    "import pandas as pd\n",
    "import boolean_marching_cubes as bmc"
   ]
  },
  {
   "cell_type": "markdown",
   "metadata": {},
   "source": [
    "0.1 Generate symmetry stencils"
   ]
  },
  {
   "cell_type": "code",
   "execution_count": 23,
   "metadata": {},
   "outputs": [],
   "source": [
    "# example symmetry strings\n",
    "##########################\n",
    "# sym_str = [[\"OO\"], [\"XP\"], [\"XN\"], [\"YP\"], [\"YN\"], [\"ZP\"], [\"ZN\"]]\n",
    "# sym_str = [[\"OO\"], [\"XX\"], [\"YP\"], [\"YN\"], [\"ZP\"], [\"ZN\"]]\n",
    "sym_str = [[\"OO\"], [\"XX\"], [\"YY\"], [\"ZP\"], [\"ZN\"]]\n",
    "# sym_str = [[\"OO\"], [\"XX\", \"YY\"], [\"ZZ\"]]\n",
    "# sym_str = [[\"OO\"], [\"XX\", \"YY\", \"ZZ\"]]\n",
    "# sym_str = [[\"OO\"]]\n",
    "\n",
    "stencils = bmc.create_symmetry_stencils(sym_str)"
   ]
  },
  {
   "cell_type": "markdown",
   "metadata": {},
   "source": [
    "0.2 Generate lattices for all possible cubes"
   ]
  },
  {
   "cell_type": "code",
   "execution_count": 24,
   "metadata": {},
   "outputs": [],
   "source": [
    "# generate bianary representation of all the possible cubes\n",
    "l_bis = bmc.bi_cube_lattices()"
   ]
  },
  {
   "cell_type": "markdown",
   "metadata": {},
   "source": [
    "1. Profiling"
   ]
  },
  {
   "cell_type": "markdown",
   "metadata": {},
   "source": [
    "1.1. Catalogue the profile of all corners"
   ]
  },
  {
   "cell_type": "code",
   "execution_count": 25,
   "metadata": {},
   "outputs": [],
   "source": [
    "# find all unique corner arrangements based on stencils\n",
    "corner_profiles = bmc.extract_corner_profiles(stencils, l_bis)"
   ]
  },
  {
   "cell_type": "markdown",
   "metadata": {},
   "source": [
    "1.2. Find unique corner profiles"
   ]
  },
  {
   "cell_type": "code",
   "execution_count": 26,
   "metadata": {},
   "outputs": [
    {
     "name": "stdout",
     "output_type": "stream",
     "text": [
      "24\n"
     ]
    }
   ],
   "source": [
    "# stack corner_profiles vertically\n",
    "cp_stacked = np.vstack(corner_profiles)\n",
    "\n",
    "# find the uniqe arangements of corners\n",
    "uniq_corner_arang = np.unique(cp_stacked, axis=0)\n",
    "\n",
    "print(len(uniq_corner_arang))\n",
    "#print(uniq_corner_arang)"
   ]
  },
  {
   "cell_type": "markdown",
   "metadata": {},
   "source": [
    "1.3. Construct unique profile latices"
   ]
  },
  {
   "cell_type": "code",
   "execution_count": 27,
   "metadata": {},
   "outputs": [],
   "source": [
    "# construct lattices for all unique corner profiles\n",
    "(corner_loc_lattices, corner_neigh_lattices) = bmc.profiles_to_lattices(uniq_corner_arang, stencils)"
   ]
  },
  {
   "cell_type": "markdown",
   "metadata": {},
   "source": [
    "1.4 Save unique arrangement profiles"
   ]
  },
  {
   "cell_type": "code",
   "execution_count": 28,
   "metadata": {},
   "outputs": [],
   "source": [
    "# save all design templates into lattice CSVs\n",
    "templates_path = os.path.relpath('../data/bmc/bmc_templates')\n",
    "bmc.save_design_templates(corner_loc_lattices, corner_neigh_lattices, templates_path)"
   ]
  },
  {
   "cell_type": "markdown",
   "metadata": {},
   "source": [
    "2. construct the tileset"
   ]
  },
  {
   "cell_type": "markdown",
   "metadata": {},
   "source": [
    "2.1. Load sub-tile meshes"
   ]
  },
  {
   "cell_type": "code",
   "execution_count": 32,
   "metadata": {},
   "outputs": [],
   "source": [
    "# load subtile meshes\n",
    "subtile_meshes = []\n",
    "for c in range(len(corner_loc_lattices)):\n",
    "    corner_mesh_path = os.path.relpath('../data/bmc/bmc_subtiles/t_' + f'{c:02}' + '.obj')\n",
    "    corner_mesh = tm.load(corner_mesh_path)\n",
    "    subtile_meshes.append(corner_mesh)"
   ]
  }
 ],
 "metadata": {
  "interpreter": {
   "hash": "35193bb4a499ae14c24644d010b40ff56fe483af9478781b8d520e7468034301"
  },
  "kernelspec": {
   "display_name": "Python 3.8.5 64-bit ('scds': conda)",
   "language": "python",
   "name": "python3"
  },
  "language_info": {
   "codemirror_mode": {
    "name": "ipython",
    "version": 3
   },
   "file_extension": ".py",
   "mimetype": "text/x-python",
   "name": "python",
   "nbconvert_exporter": "python",
   "pygments_lexer": "ipython3",
   "version": "3.8.5"
  },
  "orig_nbformat": 4
 },
 "nbformat": 4,
 "nbformat_minor": 2
}
