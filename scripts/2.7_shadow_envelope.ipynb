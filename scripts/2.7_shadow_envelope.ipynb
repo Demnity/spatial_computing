{
 "cells": [
  {
   "cell_type": "markdown",
   "metadata": {},
   "source": [
    "# Shadowing Envelope"
   ]
  },
  {
   "cell_type": "markdown",
   "metadata": {},
   "source": [
    "## 0. Initialization\n",
    "\n",
    "importing all necessary libraries and specifying the inputs"
   ]
  },
  {
   "cell_type": "code",
   "execution_count": 1,
   "metadata": {},
   "outputs": [],
   "source": [
    "import os\n",
    "import topogenesis as tg\n",
    "import pyvista as pv\n",
    "import trimesh as tm\n",
    "import numpy as np\n",
    "\n",
    "\n",
    "# convert mesh to pv_mesh\n",
    "def tri_to_pv(tri_mesh):\n",
    "    faces = np.pad(tri_mesh.faces, ((0, 0),(1,0)), 'constant', constant_values=3)\n",
    "    pv_mesh = pv.PolyData(tri_mesh.vertices, faces)\n",
    "    return pv_mesh"
   ]
  },
  {
   "cell_type": "markdown",
   "metadata": {},
   "source": [
    "## 1. Import Meshes\n",
    "\n",
    "### 1.1 Load Meshes"
   ]
  },
  {
   "cell_type": "code",
   "execution_count": 2,
   "metadata": {},
   "outputs": [
    {
     "name": "stdout",
     "output_type": "stream",
     "text": [
      "True\n",
      "False\n"
     ]
    }
   ],
   "source": [
    "envelope_path = os.path.relpath('../data/meshes/compulsory_envelope.obj')\n",
    "context_path = os.path.relpath('../data/meshes/immediate_context.obj')\n",
    "\n",
    "# load the mesh from file\n",
    "envelope_mesh = tm.load(envelope_path)\n",
    "context_mesh = tm.load(context_path)\n",
    "\n",
    "# Check if the mesh is watertight\n",
    "print(envelope_mesh.is_watertight)\n",
    "print(context_mesh.is_watertight)"
   ]
  },
  {
   "cell_type": "markdown",
   "metadata": {},
   "source": [
    "### 1.2 Visualize Meshes "
   ]
  },
  {
   "cell_type": "code",
   "execution_count": 3,
   "metadata": {},
   "outputs": [
    {
     "data": {
      "text/plain": [
       "<vtkmodules.vtkRenderingOpenGL2.vtkOpenGLActor(0x000001B6989ACF40) at 0x000001B6A333E7C0>"
      ]
     },
     "execution_count": 3,
     "metadata": {},
     "output_type": "execute_result"
    }
   ],
   "source": [
    "# initiating the plotter\n",
    "p = pv.Plotter(notebook=True)\n",
    "\n",
    "# adding the meshes\n",
    "p.add_mesh(tri_to_pv(envelope_mesh), color='#abd8ff')\n",
    "p.add_mesh(tri_to_pv(context_mesh), color='#aaaaaa')\n",
    "\n",
    "# plotting\n",
    "# p.show()"
   ]
  },
  {
   "cell_type": "markdown",
   "metadata": {},
   "source": [
    "## 2. Import Lattice \n",
    "\n",
    "### 2.1. Load both the Envelope and Shadow Lattice"
   ]
  },
  {
   "cell_type": "code",
   "execution_count": 4,
   "metadata": {},
   "outputs": [],
   "source": [
    "# loading the lattice from csv\n",
    "lattice = os.path.relpath('../data/meshes/voxelized_envelope.csv')\n",
    "envelope_lattice = tg.lattice_from_csv(lattice)\n"
   ]
  },
  {
   "cell_type": "markdown",
   "metadata": {},
   "source": [
    "### 2.2. Visualize the Envelope Lattice"
   ]
  },
  {
   "cell_type": "code",
   "execution_count": 5,
   "metadata": {},
   "outputs": [
    {
     "data": {
      "text/plain": [
       "<vtkmodules.vtkRenderingOpenGL2.vtkOpenGLActor(0x000001B6989A9B40) at 0x000001B6997D15E0>"
      ]
     },
     "execution_count": 5,
     "metadata": {},
     "output_type": "execute_result"
    }
   ],
   "source": [
    "# initiating the plotter\n",
    "p = pv.Plotter()\n",
    "\n",
    "# fast visualization of the lattice\n",
    "envelope_lattice.fast_vis(p)\n",
    "\n",
    "# adding the meshes\n",
    "p.add_mesh(tri_to_pv(context_mesh), color='#aaaaaa')\n",
    "\n",
    "# plotting\n",
    "# p.show()"
   ]
  },
  {
   "cell_type": "markdown",
   "metadata": {},
   "source": [
    "### 2.3 Store shadowing information in a Lattice"
   ]
  },
  {
   "cell_type": "code",
   "execution_count": 16,
   "metadata": {},
   "outputs": [],
   "source": [
    "# Loading the shadow lattice from csv\n",
    "shadow_lattice = os.path.relpath('../data/fields/shadowing.csv')\n",
    "shadow_envelope_lattice = tg.lattice_from_csv(shadow_lattice)"
   ]
  },
  {
   "cell_type": "markdown",
   "metadata": {},
   "source": [
    "### 2.4. Visualize the shadowing"
   ]
  },
  {
   "cell_type": "code",
   "execution_count": 17,
   "metadata": {},
   "outputs": [
    {
     "data": {
      "text/plain": [
       "<vtkmodules.vtkRenderingCore.vtkVolume(0x000001B69FACAC80) at 0x000001B6AF1B2CA0>"
      ]
     },
     "execution_count": 17,
     "metadata": {},
     "output_type": "execute_result"
    }
   ],
   "source": [
    "# initiating the plotter\n",
    "p = pv.Plotter(notebook=True)\n",
    "\n",
    "l = shadow_envelope_lattice\n",
    "# remapping\n",
    "l = 250 * (l - l.min()) / l.max()\n",
    "\n",
    "# Create the spatial reference\n",
    "grid = pv.UniformGrid()\n",
    "\n",
    "# Set the grid dimensions: shape because we want to inject our values\n",
    "grid.dimensions = l.shape\n",
    "# The bottom left corner of the data set\n",
    "grid.origin = l.minbound\n",
    "# These are the cell sizes along each axis\n",
    "grid.spacing = l.unit\n",
    "\n",
    "# Add the data values to the cell data\n",
    "grid.point_arrays[\"Shadowing\"] = l.flatten(order=\"F\")  # Flatten the Lattice\n",
    "\n",
    "# adding the meshes\n",
    "p.add_mesh(tri_to_pv(context_mesh), opacity=0.1, style='wireframe')\n",
    "    \n",
    "# adding the volume\n",
    "opacity = np.array([0,0.6,0.6,0.6,0.6,0.6,0.6])*1.5\n",
    "p.add_volume(grid, cmap=\"coolwarm\", clim=[0.5, 1.0],opacity=opacity, shade=True)\n",
    "\n",
    "# plotting\n",
    "# p.show()"
   ]
  },
  {
   "cell_type": "markdown",
   "metadata": {},
   "source": [
    "## 3. Remove Result in shadow Lattice"
   ]
  },
  {
   "cell_type": "markdown",
   "metadata": {},
   "source": [
    "### 3.0. Interpolating the shadowing result into higher resolution"
   ]
  },
  {
   "cell_type": "code",
   "execution_count": 9,
   "metadata": {},
   "outputs": [
    {
     "data": {
      "text/plain": [
       "(31, 18, 8)"
      ]
     },
     "execution_count": 9,
     "metadata": {},
     "output_type": "execute_result"
    }
   ],
   "source": [
    "# from scipy.interpolate import RegularGridInterpolator\n",
    "# import functions\n",
    "\n",
    "# lattice_path_highres = os.path.relpath('../data/meshes/voxelized_envelope_highres.csv')\n",
    "# envelope_lattice_highres = tg.lattice_from_csv(lattice_path_highres)\n",
    "\n",
    "# shadow_envelope_lattice_highres = functions.interpolate(shadow_envelope_lattice, envelope_lattice_highres)\n",
    "# envelope_lattice_highres.shape"
   ]
  },
  {
   "cell_type": "markdown",
   "metadata": {},
   "source": [
    "### 3.1. Defining maximum shadowing"
   ]
  },
  {
   "cell_type": "code",
   "execution_count": 18,
   "metadata": {},
   "outputs": [
    {
     "data": {
      "text/plain": [
       "(31, 18, 8)"
      ]
     },
     "execution_count": 18,
     "metadata": {},
     "output_type": "execute_result"
    }
   ],
   "source": [
    "# defining the shadow envelope lattice with values calcultated in shadowing\n",
    "shadow_envelope_lattice_highres\n",
    "\n",
    "# shadowing treshold\n",
    "shadowing_treshold = 0.3 # number is subject to change\n",
    "\n",
    "# removing values above set treshold and setting them to zero\n",
    "new_envelope_lattice = np.where(shadow_envelope_lattice_highres > shadowing_treshold,0,shadow_envelope_lattice_highres)\n",
    "\n",
    "# set all usable values to 1\n",
    "\n",
    "usable_lattice = np.where(new_envelope_lattice > 0, 1,new_envelope_lattice)\n",
    "usable_lattice = usable_lattice.astype(bool)\n",
    "usable_lattice = tg.to_lattice(usable_lattice, shadow_envelope_lattice_highres)\n",
    "usable_lattice.shape"
   ]
  },
  {
   "cell_type": "markdown",
   "metadata": {},
   "source": [
    "### 3.2. Visualization of leftover voxels"
   ]
  },
  {
   "cell_type": "code",
   "execution_count": 19,
   "metadata": {},
   "outputs": [
    {
     "data": {
      "application/vnd.jupyter.widget-view+json": {
       "model_id": "d82168b9fd88495fa1557ecfd1603502",
       "version_major": 2,
       "version_minor": 0
      },
      "text/plain": [
       "ViewInteractiveWidget(height=768, layout=Layout(height='auto', width='100%'), width=1024)"
      ]
     },
     "metadata": {},
     "output_type": "display_data"
    },
    {
     "data": {
      "text/plain": [
       "[(785.8088446466429, 708.392439646643, 742.1697567966429),\n",
       " (65.08283250000001, -12.333572500000002, 21.44374465),\n",
       " (0.0, 0.0, 1.0)]"
      ]
     },
     "execution_count": 19,
     "metadata": {},
     "output_type": "execute_result"
    }
   ],
   "source": [
    "# initiating the plotter\n",
    "p = pv.Plotter()\n",
    "\n",
    "# fast visualization of the lattice\n",
    "usable_lattice.fast_vis(p)\n",
    "\n",
    "# adding the meshes\n",
    "p.add_mesh(tri_to_pv(context_mesh), color='#aaaaaa')\n",
    "\n",
    "# plotting\n",
    "p.show(use_ipyvtk=True)"
   ]
  },
  {
   "cell_type": "markdown",
   "metadata": {},
   "source": [
    "## 4. Finalize Lattice work and save to csv"
   ]
  },
  {
   "cell_type": "markdown",
   "metadata": {},
   "source": [
    "### 4.1. Save Usable Lattice inta a CSV "
   ]
  },
  {
   "cell_type": "code",
   "execution_count": 20,
   "metadata": {},
   "outputs": [],
   "source": [
    "# # save the sun access latice to csv\n",
    "\n",
    "csv_path = os.path.relpath('../data/meshes/useable_lattice.csv')\n",
    "usable_lattice.to_csv(csv_path)"
   ]
  },
  {
   "cell_type": "code",
   "execution_count": null,
   "metadata": {},
   "outputs": [],
   "source": []
  }
 ],
 "metadata": {
  "interpreter": {
   "hash": "f14a9c400307255c2b6e46faa4cf9e4aa7028a9a6ee822de395e1acdc4aaeacf"
  },
  "kernelspec": {
   "display_name": "Python 3.9.7 64-bit ('compsim': conda)",
   "language": "python",
   "name": "python3"
  },
  "language_info": {
   "codemirror_mode": {
    "name": "ipython",
    "version": 3
   },
   "file_extension": ".py",
   "mimetype": "text/x-python",
   "name": "python",
   "nbconvert_exporter": "python",
   "pygments_lexer": "ipython3",
   "version": "3.8.5"
  },
  "orig_nbformat": 4
 },
 "nbformat": 4,
 "nbformat_minor": 2
}
