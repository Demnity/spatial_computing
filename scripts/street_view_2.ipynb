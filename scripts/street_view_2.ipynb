{
 "cells": [
  {
   "cell_type": "markdown",
   "metadata": {},
   "source": [
    "A lot of this stuff hinges on having the right initial data. We cant run the agents at this moment. I Added the stuff here that was already in workshop 4, but like I said, it will not run.\n",
    "\n",
    "Personally, I believe that we have to store the eventual data of every script in a csv file. This script needs a program of requirements."
   ]
  },
  {
   "cell_type": "markdown",
   "metadata": {},
   "source": [
    "Load Libraries"
   ]
  },
  {
   "cell_type": "code",
   "execution_count": 1,
   "metadata": {},
   "outputs": [],
   "source": [
    "import os\n",
    "import topogenesis as tg\n",
    "import pyvista as pv\n",
    "import trimesh as tm\n",
    "import pandas as pd\n",
    "import numpy as np\n",
    "import functions\n",
    "np.random.seed(0)\n",
    "\n",
    "# convert mesh to pv_mesh\n",
    "def tri_to_pv(tri_mesh):\n",
    "    faces = np.pad(tri_mesh.faces, ((0, 0),(1,0)), 'constant', constant_values=3)\n",
    "    pv_mesh = pv.PolyData(tri_mesh.vertices, faces)\n",
    "    return pv_mesh"
   ]
  },
  {
   "cell_type": "markdown",
   "metadata": {},
   "source": [
    "Define Stencil"
   ]
  },
  {
   "cell_type": "code",
   "execution_count": 2,
   "metadata": {},
   "outputs": [
    {
     "name": "stdout",
     "output_type": "stream",
     "text": [
      "[[[0 0 0]\n",
      "  [0 1 0]\n",
      "  [0 0 0]]\n",
      "\n",
      " [[0 1 0]\n",
      "  [1 0 1]\n",
      "  [0 1 0]]\n",
      "\n",
      " [[0 0 0]\n",
      "  [0 1 0]\n",
      "  [0 0 0]]]\n"
     ]
    }
   ],
   "source": [
    "# creating neighborhood definition\n",
    "stencil = tg.create_stencil(\"von_neumann\", 1, 1)\n",
    "# setting the center to zero\n",
    "stencil.set_index([0,0,0], 0)\n",
    "print(stencil)"
   ]
  },
  {
   "cell_type": "markdown",
   "metadata": {},
   "source": [
    "Define the environment"
   ]
  },
  {
   "cell_type": "code",
   "execution_count": 3,
   "metadata": {},
   "outputs": [],
   "source": [
    "# loading the lattice from csv\n",
    "lattice_path = os.path.relpath('../data/meshes/voxelized_envelope_highres.csv')\n",
    "avail_lattice = tg.lattice_from_csv(lattice_path)\n",
    "init_avail_lattice = tg.to_lattice(np.copy(avail_lattice), avail_lattice)\n"
   ]
  },
  {
   "cell_type": "markdown",
   "metadata": {},
   "source": [
    "load program (insert the program of requirements here)"
   ]
  },
  {
   "cell_type": "code",
   "execution_count": 4,
   "metadata": {},
   "outputs": [],
   "source": [
    "#loading the relative relations excell\n",
    "\n",
    "# relative_rels = pd.read_excel('../data/relationships/relative_relations.xlsx', index_col=0) \n",
    "# relative_rels_norm = relative_rels.div(relative_rels.sum(axis=1), axis=0)\n",
    "# relative_rels_norm = relative_rels_norm.fillna(0)\n",
    "\n",
    "#loading the relative preferences excell\n",
    "relative_prefs = pd.read_excel('../data/relationships/relative_preferences.xlsx')\n",
    "relative_prefs.iloc[:, 1:] = relative_prefs.iloc[:, 1:].div(relative_prefs.iloc[:, 1:].sum(axis=1), axis=0)\n",
    "relative_prefs.iloc[:, 1:] = relative_prefs.iloc[:, 1:].fillna(0)\n",
    "relative_prefs_norm = relative_prefs\n",
    "relative_prefs_norm = relative_prefs_norm.head(3)"
   ]
  },
  {
   "cell_type": "code",
   "execution_count": 5,
   "metadata": {},
   "outputs": [
    {
     "data": {
      "text/html": [
       "<div>\n",
       "<style scoped>\n",
       "    .dataframe tbody tr th:only-of-type {\n",
       "        vertical-align: middle;\n",
       "    }\n",
       "\n",
       "    .dataframe tbody tr th {\n",
       "        vertical-align: top;\n",
       "    }\n",
       "\n",
       "    .dataframe thead th {\n",
       "        text-align: right;\n",
       "    }\n",
       "</style>\n",
       "<table border=\"1\" class=\"dataframe\">\n",
       "  <thead>\n",
       "    <tr style=\"text-align: right;\">\n",
       "      <th></th>\n",
       "      <th>proximity_to_ground_floor</th>\n",
       "    </tr>\n",
       "  </thead>\n",
       "  <tbody>\n",
       "    <tr>\n",
       "      <th>0</th>\n",
       "      <td>0.000000</td>\n",
       "    </tr>\n",
       "    <tr>\n",
       "      <th>1</th>\n",
       "      <td>0.000000</td>\n",
       "    </tr>\n",
       "    <tr>\n",
       "      <th>2</th>\n",
       "      <td>0.181818</td>\n",
       "    </tr>\n",
       "  </tbody>\n",
       "</table>\n",
       "</div>"
      ],
      "text/plain": [
       "   proximity_to_ground_floor\n",
       "0                   0.000000\n",
       "1                   0.000000\n",
       "2                   0.181818"
      ]
     },
     "execution_count": 5,
     "metadata": {},
     "output_type": "execute_result"
    }
   ],
   "source": [
    "program_prefs = relative_prefs_norm.drop([\"space_name\", \"facade_connection\",\"penthouse_factor\",\"street_sight\", \"noise_approval\", \"sunlight_access\", \"sky_view_factor\", \"football_field\"], 1)\n",
    "program_prefs"
   ]
  },
  {
   "cell_type": "markdown",
   "metadata": {},
   "source": [
    "Load the value fields"
   ]
  },
  {
   "cell_type": "code",
   "execution_count": 6,
   "metadata": {},
   "outputs": [],
   "source": [
    "# loading the lattice from csv\n",
    "fields = {}\n",
    "for f in program_prefs.columns:\n",
    "    lattice_path = os.path.relpath('../data/fields/' + f + '.csv')\n",
    "    fields[f] = tg.lattice_from_csv(lattice_path)"
   ]
  },
  {
   "cell_type": "markdown",
   "metadata": {},
   "source": [
    "Initialize the agents"
   ]
  },
  {
   "cell_type": "code",
   "execution_count": 7,
   "metadata": {},
   "outputs": [],
   "source": [
    "# initialize the occupation lattice\n",
    "occ_lattice = avail_lattice * 0 - 1\n",
    "\n",
    "# Finding the index of the available voxels in avail_lattice\n",
    "avail_flat = avail_lattice.flatten()\n",
    "avail_index = np.array(np.where(avail_lattice == 1)).T\n",
    "\n",
    "# Randomly choosing three available voxels\n",
    "agn_num = len(program_prefs)\n",
    "np.random.seed()\n",
    "select_id = np.random.choice(len(avail_index), agn_num)\n",
    "agn_origins = avail_index[select_id]\n",
    "\n",
    "# adding the origins to the agents locations\n",
    "agn_locs = []\n",
    "# for each agent origin ... \n",
    "for a_id, a_origin in enumerate(agn_origins):\n",
    "\n",
    "    # add the origin to the list of agent locations\n",
    "    agn_locs.append([a_origin])\n",
    "\n",
    "    # set the origin in availablity lattice as 0 (UNavailable)\n",
    "    avail_lattice[tuple(a_origin)] = 0\n",
    "\n",
    "    # set the origin in occupation lattice as the agent id (a_id)\n",
    "    occ_lattice[tuple(a_origin)] = a_id"
   ]
  },
  {
   "cell_type": "markdown",
   "metadata": {},
   "source": [
    "printing the ammount of agents"
   ]
  },
  {
   "cell_type": "code",
   "execution_count": 8,
   "metadata": {},
   "outputs": [
    {
     "name": "stdout",
     "output_type": "stream",
     "text": [
      "2\n"
     ]
    }
   ],
   "source": [
    "print(a_id)"
   ]
  },
  {
   "cell_type": "markdown",
   "metadata": {},
   "source": [
    "show the agents"
   ]
  },
  {
   "cell_type": "code",
   "execution_count": 9,
   "metadata": {},
   "outputs": [
    {
     "data": {
      "application/vnd.jupyter.widget-view+json": {
       "model_id": "6523b2f360cb40cca142302adaf07121",
       "version_major": 2,
       "version_minor": 0
      },
      "text/plain": [
       "ViewInteractiveWidget(height=768, layout=Layout(height='auto', width='100%'), width=1024)"
      ]
     },
     "metadata": {},
     "output_type": "display_data"
    },
    {
     "data": {
      "text/plain": [
       "[(239.8279062084888, 147.3279062084888, 222.3279062084888),\n",
       " (35.0, -57.5, 17.5),\n",
       " (0.0, 0.0, 1.0)]"
      ]
     },
     "execution_count": 9,
     "metadata": {},
     "output_type": "execute_result"
    }
   ],
   "source": [
    "p = pv.Plotter(notebook=True)\n",
    "\n",
    "# Set the grid dimensions: shape + 1 because we want to inject our values on the CELL data\n",
    "grid = pv.UniformGrid()\n",
    "grid.dimensions = np.array(occ_lattice.shape) + 1\n",
    "# The bottom left corner of the data set\n",
    "grid.origin = occ_lattice.minbound - occ_lattice.unit * 0.5\n",
    "# These are the cell sizes along each axis\n",
    "grid.spacing = occ_lattice.unit \n",
    "\n",
    "# adding the boundingbox wireframe\n",
    "p.add_mesh(grid.outline(), color=\"grey\", label=\"Domain\")\n",
    "\n",
    "# adding axes\n",
    "p.add_axes()\n",
    "p.show_bounds(grid=\"back\", location=\"back\", color=\"#777777\")\n",
    "\n",
    "# Add the data values to the cell data\n",
    "grid.cell_arrays[\"Agents\"] = occ_lattice.flatten(order=\"F\").astype(int)  # Flatten the array!\n",
    "# filtering the voxels\n",
    "threshed = grid.threshold([-0.1, agn_num - 0.9])\n",
    "# adding the voxels\n",
    "p.add_mesh(threshed, show_edges=True, opacity=1.0, show_scalar_bar=False)\n",
    "\n",
    "# adding the availability lattice\n",
    "init_avail_lattice.fast_vis(p)\n",
    "\n",
    "p.show(use_ipyvtk=True)"
   ]
  },
  {
   "cell_type": "markdown",
   "metadata": {},
   "source": [
    "Run the simulation"
   ]
  },
  {
   "cell_type": "code",
   "execution_count": 10,
   "metadata": {},
   "outputs": [],
   "source": [
    "# make a deep copy of occupation lattice\n",
    "cur_occ_lattice = tg.to_lattice(np.copy(occ_lattice), occ_lattice)\n",
    "# initialzing the list of frames\n",
    "frames = [cur_occ_lattice]\n",
    "\n",
    "# setting the time variable to 0\n",
    "t = 0\n",
    "n_frames = 30\n",
    "# main feedback loop of the simulation (for each time step ...)\n",
    "while t<n_frames:\n",
    "    # for each agent ... \n",
    "    for a_id, a_prefs in relative_prefs_norm.iterrows():\n",
    "        # retrieve the list of the locations of the current agent\n",
    "        a_locs = agn_locs[a_id]\n",
    "        # initialize the list of free neighbours\n",
    "        free_neighs = []\n",
    "        # for each location of the agent\n",
    "        for loc in a_locs:\n",
    "            # retrieve the list of neighbours of the agent based on the stencil\n",
    "            neighs = avail_lattice.find_neighbours_masked(stencil, loc = loc)\n",
    "            \n",
    "            # for each neighbour ... \n",
    "            for n in neighs:\n",
    "                # compute 3D index of neighbour\n",
    "                neigh_3d_id = np.unravel_index(n, avail_lattice.shape)\n",
    "                # if the neighbour is available... \n",
    "                if avail_lattice[neigh_3d_id]:\n",
    "                    # add the neighbour to the list of free neighbours\n",
    "                    free_neighs.append(neigh_3d_id)\n",
    "        # check if found any free neighbour\n",
    "        if len(free_neighs)>0:\n",
    "            # convert free neighbours to a numpy array\n",
    "            fns = np.array(free_neighs)\n",
    "\n",
    "            # find the value of neighbours\n",
    "            # init the agent value array\n",
    "            a_eval = np.ones(len(fns))\n",
    "            # for each field...\n",
    "            for f in program_prefs.columns:\n",
    "                # find the raw value of free neighbours...\n",
    "                vals = fields[f][fns[:,0], fns[:,1], fns[:,2]]\n",
    "                # raise the the raw value to the power of preference weight of the agent\n",
    "                a_weighted_vals = vals ** a_prefs[f]\n",
    "                # multiply them to the previous weighted values\n",
    "                a_eval *= a_weighted_vals\n",
    "\n",
    "            #post-processing\n",
    "            functions.squareness(square_weight=0.9, free_neighs=free_neighs, a_eval=a_eval)\n",
    "\n",
    "\n",
    "            # select the neighbour with highest evaluation\n",
    "            selected_int = np.argmax(a_eval)\n",
    "            # find 3D integer index of selected neighbour\n",
    "            selected_neigh_3d_id = free_neighs[selected_int]\n",
    "            # find the location of the newly selected neighbour\n",
    "            selected_neigh_loc = np.array(selected_neigh_3d_id).flatten()\n",
    "            # add the newly selected neighbour location to agent locations\n",
    "            agn_locs[a_id].append(selected_neigh_loc)\n",
    "            # set the newly selected neighbour as UNavailable (0) in the availability lattice\n",
    "            avail_lattice[selected_neigh_3d_id] = 0\n",
    "            # set the newly selected neighbour as OCCUPIED by current agent \n",
    "            # (-1 means not-occupied so a_id)\n",
    "            occ_lattice[selected_neigh_3d_id] = a_id\n",
    "\n",
    "    # constructing the new lattice\n",
    "    new_occ_lattice = tg.to_lattice(np.copy(occ_lattice), occ_lattice)\n",
    "    # adding the new lattice to the list of frames\n",
    "    frames.append(new_occ_lattice)\n",
    "    # adding one to the time counter\n",
    "    t += 1"
   ]
  },
  {
   "cell_type": "markdown",
   "metadata": {},
   "source": [
    "Visualize the result"
   ]
  },
  {
   "cell_type": "code",
   "execution_count": 11,
   "metadata": {},
   "outputs": [
    {
     "data": {
      "application/vnd.jupyter.widget-view+json": {
       "model_id": "cda1d5fa540c4c5397d1b75721930d21",
       "version_major": 2,
       "version_minor": 0
      },
      "text/plain": [
       "ViewInteractiveWidget(height=768, layout=Layout(height='auto', width='100%'), width=1024)"
      ]
     },
     "metadata": {},
     "output_type": "display_data"
    },
    {
     "data": {
      "text/plain": [
       "[(239.8279062084888, 147.3279062084888, 222.3279062084888),\n",
       " (35.0, -57.5, 17.5),\n",
       " (0.0, 0.0, 1.0)]"
      ]
     },
     "execution_count": 11,
     "metadata": {},
     "output_type": "execute_result"
    }
   ],
   "source": [
    "p = pv.Plotter(notebook=True)\n",
    "\n",
    "base_lattice = frames[0]\n",
    "\n",
    "# Set the grid dimensions: shape + 1 because we want to inject our values on the CELL data\n",
    "grid = pv.UniformGrid()\n",
    "grid.dimensions = np.array(base_lattice.shape) + 1\n",
    "# The bottom left corner of the data set\n",
    "grid.origin = base_lattice.minbound - base_lattice.unit * 0.5\n",
    "# These are the cell sizes along each axis\n",
    "grid.spacing = base_lattice.unit \n",
    "\n",
    "# adding the boundingbox wireframe\n",
    "p.add_mesh(grid.outline(), color=\"grey\", label=\"Domain\")\n",
    "\n",
    "# adding the availability lattice\n",
    "init_avail_lattice.fast_vis(p)\n",
    "\n",
    "# adding axes\n",
    "p.add_axes()\n",
    "p.show_bounds(grid=\"back\", location=\"back\", color=\"#aaaaaa\")\n",
    "\n",
    "def create_mesh(value):\n",
    "    f = int(value)\n",
    "    lattice = frames[f]\n",
    "\n",
    "    # Add the data values to the cell data\n",
    "    grid.cell_arrays[\"Agents\"] = lattice.flatten(order=\"F\").astype(int)  # Flatten the array!\n",
    "    # filtering the voxels\n",
    "    threshed = grid.threshold([-0.1, agn_num - 0.9])\n",
    "    # adding the voxels\n",
    "    p.add_mesh(threshed, name='sphere', show_edges=True, opacity=1.0, show_scalar_bar=False)\n",
    "\n",
    "    return\n",
    "\n",
    "p.add_slider_widget(create_mesh, [0, n_frames], title='Time', value=0, event_type=\"always\", style=\"classic\")\n",
    "p.show(use_ipyvtk=True)"
   ]
  },
  {
   "cell_type": "markdown",
   "metadata": {},
   "source": [
    "### Collecting Agent voxels"
   ]
  },
  {
   "cell_type": "code",
   "execution_count": 12,
   "metadata": {},
   "outputs": [
    {
     "data": {
      "application/vnd.jupyter.widget-view+json": {
       "model_id": "c532d399222749868a3b6e846ed38f94",
       "version_major": 2,
       "version_minor": 0
      },
      "text/plain": [
       "ViewInteractiveWidget(height=768, layout=Layout(height='auto', width='100%'), width=1024)"
      ]
     },
     "metadata": {},
     "output_type": "display_data"
    },
    {
     "data": {
      "text/plain": [
       "[(239.8279062084888, 147.3279062084888, 222.3279062084888),\n",
       " (35.0, -57.5, 17.5),\n",
       " (0.0, 0.0, 1.0)]"
      ]
     },
     "execution_count": 12,
     "metadata": {},
     "output_type": "execute_result"
    }
   ],
   "source": [
    "occupied_lattice = tg.to_lattice(np.copy(avail_lattice), avail_lattice)\n",
    "occupied_lattice[occupied_lattice==1]=0\n",
    "\n",
    "for i in range(len(agn_locs)):\n",
    "    for loc in agn_locs[i]:\n",
    "        occupied_lattice[tuple(loc)]=1\n",
    "\n",
    "# initiating the plotter\n",
    "p = pv.Plotter()\n",
    "\n",
    "# fast visualization of the lattice\n",
    "occupied_lattice.fast_vis(p)\n",
    "\n",
    "#p.add_mesh(tri_to_pv(combine_tractor), color='#FAE31D')\n",
    "\n",
    "# plotting\n",
    "p.show(use_ipyvtk=True)\n"
   ]
  },
  {
   "cell_type": "code",
   "execution_count": 13,
   "metadata": {},
   "outputs": [],
   "source": [
    "def transformation_matrix (arr):\n",
    "    return [[1,0,0,int(arr[0])],[0,1,0,int(arr[1])],[0,0,1,int(arr[2])],[0,0,0,1]]\n",
    "\n",
    "\n",
    "\n",
    "# collecting center points of voxels\n",
    "agn_cens = occupied_lattice.centroids_threshold(0)\n",
    "\n",
    "meshes = [tm.creation.box(extents=avail_lattice.unit,transform=transformation_matrix(agn_cens[i])) for i in range(len(agn_cens))]\n",
    "combine_tractor = tm.util.concatenate(meshes)\n"
   ]
  },
  {
   "cell_type": "code",
   "execution_count": 14,
   "metadata": {},
   "outputs": [
    {
     "data": {
      "image/png": "[encoded data removed]",
      "text/plain": [
       "<PIL.Image.Image image mode=RGB size=1024x768 at 0x1CDFD745520>"
      ]
     },
     "metadata": {},
     "output_type": "display_data"
    },
    {
     "data": {
      "text/plain": [
       "[(141.26170257013146, 68.76170257013146, 151.26170257013146),\n",
       " (10.0, -62.5, 20.0),\n",
       " (0.0, 0.0, 1.0)]"
      ]
     },
     "execution_count": 14,
     "metadata": {},
     "output_type": "execute_result"
    }
   ],
   "source": [
    "# initiating the plotter\n",
    "p = pv.Plotter(notebook=True)\n",
    "\n",
    "# env_cens.fast_vis(p)\n",
    "# adding the meshes\n",
    "p.add_mesh(tri_to_pv(combine_tractor), color='#abd8ff')\n",
    "\n",
    "# plotting\n",
    "p.show()"
   ]
  },
  {
   "cell_type": "markdown",
   "metadata": {},
   "source": [
    "### Collecting facade voxels and their centroids"
   ]
  },
  {
   "cell_type": "code",
   "execution_count": 15,
   "metadata": {},
   "outputs": [
    {
     "name": "stdout",
     "output_type": "stream",
     "text": [
      "[[[0 0 0]\n",
      "  [0 1 0]\n",
      "  [0 0 0]]\n",
      "\n",
      " [[0 1 0]\n",
      "  [0 0 0]\n",
      "  [0 1 0]]\n",
      "\n",
      " [[0 0 0]\n",
      "  [0 1 0]\n",
      "  [0 0 0]]]\n"
     ]
    }
   ],
   "source": [
    "# creating neighborhood definition\n",
    "stencil = tg.create_stencil(\"von_neumann\", 1, 1)\n",
    "# setting the center to zero\n",
    "stencil.set_index([0,0,0], 0)\n",
    "stencil.set_index([0,0,1], 0)\n",
    "stencil.set_index([0,0,-1], 0)\n",
    "stencil.function = tg.sfunc.sum\n",
    "print(stencil)\n"
   ]
  },
  {
   "cell_type": "code",
   "execution_count": 16,
   "metadata": {},
   "outputs": [],
   "source": [
    "# collecting neighbours count for occupied lattice\n",
    "occupied_lat_sten=occupied_lattice.apply_stencil(stencil)\n",
    "\n",
    "facade_lattice=avail_lattice*0\n",
    "# seperating the voxels with neighbours and excluding the occupied agents to retain only facade voxels\n",
    "facade_lattice[occupied_lat_sten>0]=1\n",
    "facade_lattice[occupied_lattice==1]=0\n",
    "\n",
    "\n"
   ]
  },
  {
   "cell_type": "code",
   "execution_count": 17,
   "metadata": {},
   "outputs": [],
   "source": [
    "# collecting center points of facade voxels\n",
    "fcd_cens = facade_lattice.centroids_threshold(0)"
   ]
  },
  {
   "cell_type": "code",
   "execution_count": null,
   "metadata": {},
   "outputs": [],
   "source": []
  },
  {
   "cell_type": "code",
   "execution_count": 18,
   "metadata": {},
   "outputs": [
    {
     "data": {
      "image/png": "[encoded data removed]",
      "text/plain": [
       "<PIL.Image.Image image mode=RGB size=1024x768 at 0x1CDFD778550>"
      ]
     },
     "metadata": {},
     "output_type": "display_data"
    },
    {
     "data": {
      "text/plain": [
       "[(148.63643698169585, 76.13643698169585, 158.63643698169585),\n",
       " (10.0, -62.5, 20.0),\n",
       " (0.0, 0.0, 1.0)]"
      ]
     },
     "execution_count": 18,
     "metadata": {},
     "output_type": "execute_result"
    }
   ],
   "source": [
    "# initiating the plotter\n",
    "p = pv.Plotter(notebook=True)\n",
    "\n",
    "fcd_cens.fast_vis(p)\n",
    "\n",
    "# adding the meshes\n",
    "p.add_mesh(tri_to_pv(combine_tractor), color='#abd8ff')\n",
    "# plotting\n",
    "p.show()\n"
   ]
  },
  {
   "cell_type": "code",
   "execution_count": 19,
   "metadata": {},
   "outputs": [
    {
     "data": {
      "application/vnd.jupyter.widget-view+json": {
       "model_id": "6d0620c735d648e4b22e0c51369fdb69",
       "version_major": 2,
       "version_minor": 0
      },
      "text/plain": [
       "ViewInteractiveWidget(height=768, layout=Layout(height='auto', width='100%'), width=1024)"
      ]
     },
     "metadata": {},
     "output_type": "display_data"
    },
    {
     "data": {
      "text/plain": [
       "[(239.8279062084888, 147.3279062084888, 222.3279062084888),\n",
       " (35.0, -57.5, 17.5),\n",
       " (0.0, 0.0, 1.0)]"
      ]
     },
     "execution_count": 19,
     "metadata": {},
     "output_type": "execute_result"
    }
   ],
   "source": [
    "# initiating the plotter\n",
    "p = pv.Plotter()\n",
    "\n",
    "# fast visualization of the lattice\n",
    "facade_lattice.fast_vis(p)\n",
    "\n",
    "p.add_mesh(tri_to_pv(combine_tractor), color='#FAE31D')\n",
    "\n",
    "# plotting\n",
    "p.show(use_ipyvtk=True)\n"
   ]
  },
  {
   "cell_type": "markdown",
   "metadata": {},
   "source": [
    "### adding context mesh and street grid points"
   ]
  },
  {
   "cell_type": "code",
   "execution_count": 20,
   "metadata": {},
   "outputs": [],
   "source": [
    "street_grid = os.path.relpath(\"../data/meshes/grid_points_2022.csv\")\n",
    "street_g = tg.cloud_from_csv(street_grid)\n",
    "context_path = os.path.relpath('../data/meshes/immediate_context.obj')\n",
    "context_mesh = tm.load(context_path)\n",
    "\n",
    "context_mesh_complete=context_mesh+combine_tractor"
   ]
  },
  {
   "cell_type": "code",
   "execution_count": 21,
   "metadata": {},
   "outputs": [
    {
     "data": {
      "text/plain": [
       "cloud([[-40., -90.,  25.],\n",
       "       [-40., -90.,  30.],\n",
       "       [-40., -90.,  35.],\n",
       "       [-40., -85.,  25.],\n",
       "       [-40., -85.,  30.],\n",
       "       [-40., -85.,  35.],\n",
       "       [-35., -95.,  25.],\n",
       "       [-35., -95.,  30.],\n",
       "       [-35., -95.,  35.],\n",
       "       [-35., -80.,  25.],\n",
       "       [-35., -80.,  30.],\n",
       "       [-35., -80.,  35.],\n",
       "       [-30., -95.,  25.],\n",
       "       [-30., -95.,  30.],\n",
       "       [-30., -95.,  35.],\n",
       "       [-30., -80.,  25.],\n",
       "       [-30., -75.,  30.],\n",
       "       [-30., -75.,  35.],\n",
       "       [-25., -95.,  25.],\n",
       "       [-25., -95.,  30.],\n",
       "       [-25., -95.,  35.],\n",
       "       [-25., -75.,  25.],\n",
       "       [-25., -75.,  30.],\n",
       "       [-25., -75.,  35.],\n",
       "       [-25., -45.,   5.],\n",
       "       [-25., -45.,  10.],\n",
       "       [-25., -45.,  15.],\n",
       "       [-25., -45.,  20.],\n",
       "       [-25., -45.,  25.],\n",
       "       [-25., -45.,  30.],\n",
       "       [-25., -40.,   5.],\n",
       "       [-25., -40.,  10.],\n",
       "       [-25., -40.,  15.],\n",
       "       [-25., -40.,  20.],\n",
       "       [-25., -40.,  25.],\n",
       "       [-25., -40.,  30.],\n",
       "       [-25., -35.,   5.],\n",
       "       [-25., -35.,  10.],\n",
       "       [-25., -35.,  15.],\n",
       "       [-20., -95.,  25.],\n",
       "       [-20., -95.,  30.],\n",
       "       [-20., -95.,  35.],\n",
       "       [-20., -80.,  25.],\n",
       "       [-20., -75.,  30.],\n",
       "       [-20., -75.,  35.],\n",
       "       [-20., -50.,   5.],\n",
       "       [-20., -50.,  10.],\n",
       "       [-20., -50.,  15.],\n",
       "       [-20., -50.,  20.],\n",
       "       [-20., -50.,  25.],\n",
       "       [-20., -50.,  30.],\n",
       "       [-20., -40.,  35.],\n",
       "       [-20., -35.,  20.],\n",
       "       [-20., -35.,  25.],\n",
       "       [-20., -35.,  30.],\n",
       "       [-20., -30.,   5.],\n",
       "       [-20., -30.,  10.],\n",
       "       [-20., -30.,  15.],\n",
       "       [-15., -90.,  25.],\n",
       "       [-15., -90.,  30.],\n",
       "       [-15., -90.,  35.],\n",
       "       [-15., -85.,  25.],\n",
       "       [-15., -85.,  30.],\n",
       "       [-15., -85.,  35.],\n",
       "       [-15., -80.,  30.],\n",
       "       [-15., -80.,  35.],\n",
       "       [-15., -50.,   5.],\n",
       "       [-15., -50.,  10.],\n",
       "       [-15., -50.,  15.],\n",
       "       [-15., -50.,  20.],\n",
       "       [-15., -50.,  25.],\n",
       "       [-15., -50.,  30.],\n",
       "       [-15., -45.,  35.],\n",
       "       [-15., -35.,  20.],\n",
       "       [-15., -35.,  25.],\n",
       "       [-15., -35.,  30.],\n",
       "       [-15., -35.,  35.],\n",
       "       [-15., -30.,   5.],\n",
       "       [-15., -30.,  10.],\n",
       "       [-15., -30.,  15.],\n",
       "       [-10., -45.,   5.],\n",
       "       [-10., -45.,  10.],\n",
       "       [-10., -45.,  15.],\n",
       "       [-10., -45.,  20.],\n",
       "       [-10., -45.,  25.],\n",
       "       [-10., -45.,  30.],\n",
       "       [-10., -40.,   5.],\n",
       "       [-10., -40.,  10.],\n",
       "       [-10., -40.,  15.],\n",
       "       [-10., -40.,  20.],\n",
       "       [-10., -40.,  25.],\n",
       "       [-10., -40.,  30.],\n",
       "       [-10., -40.,  35.],\n",
       "       [-10., -35.,   5.],\n",
       "       [-10., -35.,  10.],\n",
       "       [-10., -35.,  15.],\n",
       "       [ 35., -90.,   5.],\n",
       "       [ 35., -85.,   5.],\n",
       "       [ 35., -85.,  10.],\n",
       "       [ 35., -80.,   5.],\n",
       "       [ 35., -80.,  10.],\n",
       "       [ 35., -75.,   5.],\n",
       "       [ 35., -75.,  10.],\n",
       "       [ 40., -95.,   5.],\n",
       "       [ 40., -90.,  10.],\n",
       "       [ 40., -70.,   5.],\n",
       "       [ 40., -70.,  10.],\n",
       "       [ 45., -95.,   5.],\n",
       "       [ 45., -95.,  10.],\n",
       "       [ 45., -70.,   5.],\n",
       "       [ 45., -70.,  10.],\n",
       "       [ 50., -95.,   5.],\n",
       "       [ 50., -95.,  10.],\n",
       "       [ 50., -70.,   5.],\n",
       "       [ 50., -70.,  10.],\n",
       "       [ 55., -95.,   5.],\n",
       "       [ 55., -95.,  10.],\n",
       "       [ 55., -70.,   5.],\n",
       "       [ 55., -70.,  10.],\n",
       "       [ 60., -90.,   5.],\n",
       "       [ 60., -90.,  10.],\n",
       "       [ 60., -85.,   5.],\n",
       "       [ 60., -85.,  10.],\n",
       "       [ 60., -80.,   5.],\n",
       "       [ 60., -80.,  10.],\n",
       "       [ 60., -75.,   5.],\n",
       "       [ 60., -75.,  10.]])"
      ]
     },
     "execution_count": 21,
     "metadata": {},
     "output_type": "execute_result"
    }
   ],
   "source": [
    "fcd_cens"
   ]
  },
  {
   "cell_type": "markdown",
   "metadata": {},
   "source": [
    "### Putting it all together in a single visualization"
   ]
  },
  {
   "cell_type": "code",
   "execution_count": 22,
   "metadata": {},
   "outputs": [
    {
     "data": {
      "application/vnd.jupyter.widget-view+json": {
       "model_id": "c945ed2c320d497095cce3e86e8d5bdc",
       "version_major": 2,
       "version_minor": 0
      },
      "text/plain": [
       "ViewInteractiveWidget(height=768, layout=Layout(height='auto', width='100%'), width=1024)"
      ]
     },
     "metadata": {},
     "output_type": "display_data"
    },
    {
     "data": {
      "text/plain": [
       "[(785.8088446466429, 708.392439646643, 742.1697567966429),\n",
       " (65.08283250000001, -12.333572500000002, 21.44374465),\n",
       " (0.0, 0.0, 1.0)]"
      ]
     },
     "execution_count": 22,
     "metadata": {},
     "output_type": "execute_result"
    }
   ],
   "source": [
    "# initiating the plotter\n",
    "p = pv.Plotter(notebook=True)\n",
    "\n",
    "# adding the street grid points\n",
    "street_g.fast_vis(p)\n",
    "\n",
    "# facade voxels\n",
    "facade_lattice.fast_vis(p)\n",
    "fcd_cens.fast_vis(p)\n",
    "# adding the meshes\n",
    "p.add_mesh(tri_to_pv(context_mesh_complete), color='#aaaaaa')\n",
    "\n",
    "# plotting\n",
    "p.show(use_ipyvtk=True)"
   ]
  },
  {
   "cell_type": "markdown",
   "metadata": {},
   "source": [
    "### extracting vector between facade centroid and street points"
   ]
  },
  {
   "cell_type": "code",
   "execution_count": 23,
   "metadata": {},
   "outputs": [
    {
     "name": "stdout",
     "output_type": "stream",
     "text": [
      "29083\n"
     ]
    }
   ],
   "source": [
    "ray_dir=[]\n",
    "run_count=0\n",
    "for i in range(len(fcd_cens)):\n",
    "    for f in range(len(street_g)):\n",
    "        ray_dir1=street_g[f]-fcd_cens[i]\n",
    "        ray_dir.append(ray_dir1)\n",
    "        run_count+=1\n",
    "ray_dir=np.array(ray_dir)\n",
    "print(run_count)\n"
   ]
  },
  {
   "cell_type": "markdown",
   "metadata": {},
   "source": [
    "### copied from the visibility workshop"
   ]
  },
  {
   "cell_type": "code",
   "execution_count": 24,
   "metadata": {},
   "outputs": [],
   "source": [
    "# # constructing the sun direction from the sun vectors in a numpy array\n",
    "# ray_dirs = -np.array(ray_dir)\n",
    "# # exract the centroids of the envelope voxels\n",
    "# # next step we need to shoot in all of the sun directions from all of the voxels, todo so, we need repeat the sun direction for the number of voxels to construct the ray_dir (which is the list of all ray directions). We need to repeat the voxels for the \n",
    "# ray_dir = []\n",
    "# ray_src = []\n",
    "# for f_c in fcd_cens:\n",
    "#     for r_dir in ray_dirs:\n",
    "#         ray_dir.append(r_dir)\n",
    "#         ray_src.append(f_c)\n",
    "# # converting the list of directions and sources to numpy array\n",
    "# ray_dir = np.array(ray_dir)\n",
    "# ray_src = np.array(ray_src)\n",
    "\n",
    "# \"\"\"\n",
    "# # Further info: this is the vectorised version of nested for loops\n",
    "# ray_dir = np.tile(sun_dirs, [len(vox_cens),1])\n",
    "# ray_src = np.tile(vox_cens, [1, len(sun_dirs)]).reshape(-1, 3)\n",
    "# \"\"\"\n",
    "\n",
    "# print(\"number of voxels to shoot rays from :\",fcd_cens.shape)\n",
    "# print(\"number of rays per each voxel :\",ray_dirs.shape)\n",
    "# print(\"number of rays to be shooted :\",ray_src.shape)"
   ]
  },
  {
   "cell_type": "markdown",
   "metadata": {},
   "source": [
    "### my way of retrieving the ray source"
   ]
  },
  {
   "cell_type": "code",
   "execution_count": 25,
   "metadata": {},
   "outputs": [],
   "source": [
    "# ray_src=[]\n",
    "# for i in range(len(fcd_cens)):\n",
    "#     for f in range(len(street_g)):\n",
    "#         ray_srcs=fcd_cens[i]\n",
    "#         ray_src.append(ray_srcs)\n",
    "        \n",
    "# ray_src=np.array(ray_src)\n",
    "\n"
   ]
  },
  {
   "cell_type": "markdown",
   "metadata": {},
   "source": [
    "### Normalizationa and filtration of clear from the start uninteresting ray directions"
   ]
  },
  {
   "cell_type": "code",
   "execution_count": 26,
   "metadata": {},
   "outputs": [],
   "source": [
    "# This si the normalization for the ray filter\n",
    "\n",
    "# ray_dir_norm=[]\n",
    "# for i in range(len(ray_dir)):\n",
    "#     ray_dir_norm1 = ray_dir[i]/np.linalg.norm(ray_dir[i])\n",
    "#     ray_dir_norm.append(ray_dir_norm1)\n",
    "# ray_d_norm=np.array(ray_dir_norm)\n",
    "# deg = 20\n",
    "# rad = deg * 180/np.pi\n",
    "# threshold=np.cos(rad)"
   ]
  },
  {
   "cell_type": "code",
   "execution_count": 27,
   "metadata": {},
   "outputs": [],
   "source": [
    "# this is the ray filter before the intersection\n",
    "\n",
    "# n_z_axis=[0,0,-1]\n",
    "# dot_product_ray=ray_dirs @ n_z_axis\n",
    "\n",
    "# valid_ray=[]\n",
    "# valid_ray_orig_id=[]\n",
    "# for i in range(len(dot_product_ray)):\n",
    "#     if dot_product_ray[i] < abs(np.cos(np.pi/9)):\n",
    "#         valid_ray.append(ray_dirs[i])\n",
    "#         orig_id=np.where(dot_product_ray[i])\n",
    "#         valid_ray_orig_id.append(orig_id)\n",
    "# #valid_ray contins the ray_dirs that have a valid dot product value\n",
    "# #valid_ray_orig_id contains the np.where(dot_product_ray) of the valid rays\n",
    "# # so that the id the ray can be traced back to the original configuration    \n",
    "\n",
    "# v_ray_dirs=np.array(valid_ray)\n",
    "# valid_ray_orig_id=np.array(valid_ray_orig_id)"
   ]
  },
  {
   "cell_type": "markdown",
   "metadata": {},
   "source": [
    "### test if the direction and facade voxels are matched up right"
   ]
  },
  {
   "cell_type": "code",
   "execution_count": 28,
   "metadata": {},
   "outputs": [],
   "source": [
    "# bs=len(street_g)\n",
    "# it=4892\n",
    "# its=int(it-bs*np.floor(it/bs))\n",
    "# print(its)\n",
    "# print(ray_src[it])\n",
    "# print(street_g[its])\n",
    "# print(ray_dir[it])\n",
    "\n",
    "\n"
   ]
  },
  {
   "cell_type": "markdown",
   "metadata": {},
   "source": [
    "### sky_view scrpit"
   ]
  },
  {
   "cell_type": "code",
   "execution_count": 29,
   "metadata": {},
   "outputs": [
    {
     "name": "stdout",
     "output_type": "stream",
     "text": [
      "29083\n",
      "29083\n"
     ]
    }
   ],
   "source": [
    "# all the ray origins for each sky directions (vectorization format)\n",
    "ray_srcs = np.tile(fcd_cens, [1, len(street_g)]).reshape(-1, 3)\n",
    "\n",
    "# all the ray directions for each centroid\n",
    "ray_dirs = np.tile(street_g, [len(fcd_cens), 1])\n",
    "\n",
    "print(len(ray_dirs))\n",
    "print(len(ray_srcs))"
   ]
  },
  {
   "cell_type": "code",
   "execution_count": 30,
   "metadata": {},
   "outputs": [],
   "source": [
    "# computing the intersections of rays with the context mesh\n",
    "tri_id, ray_id = context_mesh.ray.intersects_id(ray_origins=ray_srcs, ray_directions=ray_dir, multiple_hits=False)"
   ]
  },
  {
   "cell_type": "code",
   "execution_count": 31,
   "metadata": {},
   "outputs": [
    {
     "data": {
      "text/plain": [
       "array([    0,     1,     2, ..., 29077, 29080, 29082], dtype=int64)"
      ]
     },
     "execution_count": 31,
     "metadata": {},
     "output_type": "execute_result"
    }
   ],
   "source": [
    "ray_id"
   ]
  },
  {
   "cell_type": "markdown",
   "metadata": {},
   "source": [
    "### intersection post process"
   ]
  },
  {
   "cell_type": "code",
   "execution_count": 32,
   "metadata": {},
   "outputs": [
    {
     "name": "stdout",
     "output_type": "stream",
     "text": [
      "[[-54. -12. -25.]\n",
      " [-44. -12. -25.]\n",
      " [-34. -32. -25.]\n",
      " ...\n",
      " [ 96. -47. -10.]\n",
      " [ 96. -37. -10.]\n",
      " [106. -47. -10.]]\n"
     ]
    }
   ],
   "source": [
    "# initialize the 'hits' array with 0\n",
    "hits = np.array([0] * len(ray_dirs))\n",
    "# rays that hit the context mesh are set to 1\n",
    "hits[ray_id] = 1\n",
    "\n",
    "good_ray=[]\n",
    "for i in range(len(hits)):\n",
    "    if hits[i]==0:\n",
    "        good_ray.append(ray_dir[i])\n",
    "good_ray=np.array(good_ray)\n",
    "print(good_ray)\n",
    "# reshape the 'hits' array to (len(centroids), len(directions))\n",
    "hits = hits.reshape(len(facade_lattice.centroids), -1)\n",
    "\n",
    "# sum up all the intersections per centroid\n",
    "vox_hits = np.sum(hits, axis=1)\n",
    "\n",
    "\n",
    "no_hit=len(street_g)-vox_hits\n"
   ]
  },
  {
   "cell_type": "markdown",
   "metadata": {},
   "source": [
    "### Cross product of the visible street points and the z axis"
   ]
  },
  {
   "cell_type": "code",
   "execution_count": 33,
   "metadata": {},
   "outputs": [],
   "source": [
    "z_n=[0,0,-1]\n",
    "ray_length=[]\n",
    "for i in range(len(good_ray)):\n",
    "    n_ray=np.linalg.norm(good_ray[i])\n",
    "    ray_length.append(n_ray)\n",
    "\n",
    "ray_c=[]\n",
    "for i in range(len(good_ray)):\n",
    "    cross=np.cross(good_ray[i]/ray_length[i],z_n)\n",
    "    ray_c.append(cross)\n",
    "\n",
    "ray_cross=[]\n",
    "for i in range(len(good_ray)):\n",
    "    r_cross=np.linalg.norm(ray_c[i])\n",
    "    ray_cross.append(r_cross)\n",
    "\n",
    "\n",
    "ray_cross=np.array(ray_cross)"
   ]
  },
  {
   "cell_type": "code",
   "execution_count": 34,
   "metadata": {},
   "outputs": [
    {
     "data": {
      "text/plain": [
       "0.953850694023269"
      ]
     },
     "execution_count": 34,
     "metadata": {},
     "output_type": "execute_result"
    }
   ],
   "source": [
    "(ray_cross.sum())/(len(ray_cross))\n"
   ]
  },
  {
   "cell_type": "code",
   "execution_count": 35,
   "metadata": {},
   "outputs": [],
   "source": [
    "facade_lattice_flat=facade_lattice.flatten()\n",
    "fcd_id=np.array(np.argwhere(facade_lattice_flat==1))\n",
    "for i in range(len(fcd_id)):\n",
    "    facade_lattice_flat[fcd_id[i]]=no_hit[i]\n",
    "    "
   ]
  },
  {
   "cell_type": "code",
   "execution_count": 36,
   "metadata": {},
   "outputs": [
    {
     "name": "stdout",
     "output_type": "stream",
     "text": [
      "7.0710678118654755\n"
     ]
    }
   ],
   "source": [
    "vector=[5,4,3]\n",
    "\n",
    "magnitude = np.linalg.norm(vector)\n",
    "\n",
    "print(magnitude)"
   ]
  },
  {
   "cell_type": "code",
   "execution_count": 37,
   "metadata": {},
   "outputs": [],
   "source": [
    "facade_streetview = facade_lattice_flat.reshape(facade_lattice.shape)"
   ]
  },
  {
   "cell_type": "code",
   "execution_count": 38,
   "metadata": {},
   "outputs": [],
   "source": [
    "facade_streetview_lat= tg.to_lattice(facade_streetview, facade_lattice)"
   ]
  },
  {
   "cell_type": "code",
   "execution_count": 39,
   "metadata": {},
   "outputs": [
    {
     "data": {
      "text/plain": [
       "array([[ 0,  2,  5],\n",
       "       [ 0,  2,  6],\n",
       "       [ 0,  2,  7],\n",
       "       [ 0,  3,  5],\n",
       "       [ 0,  3,  6],\n",
       "       [ 0,  3,  7],\n",
       "       [ 1,  1,  5],\n",
       "       [ 1,  1,  6],\n",
       "       [ 1,  1,  7],\n",
       "       [ 1,  4,  5],\n",
       "       [ 1,  4,  6],\n",
       "       [ 1,  4,  7],\n",
       "       [ 2,  1,  5],\n",
       "       [ 2,  1,  6],\n",
       "       [ 2,  1,  7],\n",
       "       [ 2,  4,  5],\n",
       "       [ 2,  5,  6],\n",
       "       [ 2,  5,  7],\n",
       "       [ 3,  1,  5],\n",
       "       [ 3,  1,  6],\n",
       "       [ 3,  1,  7],\n",
       "       [ 3,  5,  5],\n",
       "       [ 3,  5,  6],\n",
       "       [ 3,  5,  7],\n",
       "       [ 3, 11,  1],\n",
       "       [ 3, 11,  2],\n",
       "       [ 3, 11,  3],\n",
       "       [ 3, 11,  4],\n",
       "       [ 3, 11,  5],\n",
       "       [ 3, 11,  6],\n",
       "       [ 3, 12,  1],\n",
       "       [ 3, 12,  2],\n",
       "       [ 3, 12,  3],\n",
       "       [ 3, 12,  4],\n",
       "       [ 3, 12,  5],\n",
       "       [ 3, 12,  6],\n",
       "       [ 3, 13,  1],\n",
       "       [ 3, 13,  2],\n",
       "       [ 3, 13,  3],\n",
       "       [ 4,  1,  5],\n",
       "       [ 4,  1,  6],\n",
       "       [ 4,  1,  7],\n",
       "       [ 4,  4,  5],\n",
       "       [ 4,  5,  6],\n",
       "       [ 4,  5,  7],\n",
       "       [ 4, 10,  1],\n",
       "       [ 4, 10,  2],\n",
       "       [ 4, 10,  3],\n",
       "       [ 4, 10,  4],\n",
       "       [ 4, 10,  5],\n",
       "       [ 4, 10,  6],\n",
       "       [ 4, 12,  7],\n",
       "       [ 4, 13,  4],\n",
       "       [ 4, 13,  5],\n",
       "       [ 4, 13,  6],\n",
       "       [ 4, 14,  1],\n",
       "       [ 4, 14,  2],\n",
       "       [ 4, 14,  3],\n",
       "       [ 5,  2,  5],\n",
       "       [ 5,  2,  6],\n",
       "       [ 5,  2,  7],\n",
       "       [ 5,  3,  5],\n",
       "       [ 5,  3,  6],\n",
       "       [ 5,  3,  7],\n",
       "       [ 5,  4,  6],\n",
       "       [ 5,  4,  7],\n",
       "       [ 5, 10,  1],\n",
       "       [ 5, 10,  2],\n",
       "       [ 5, 10,  3],\n",
       "       [ 5, 10,  4],\n",
       "       [ 5, 10,  5],\n",
       "       [ 5, 10,  6],\n",
       "       [ 5, 11,  7],\n",
       "       [ 5, 13,  4],\n",
       "       [ 5, 13,  5],\n",
       "       [ 5, 13,  6],\n",
       "       [ 5, 13,  7],\n",
       "       [ 5, 14,  1],\n",
       "       [ 5, 14,  2],\n",
       "       [ 5, 14,  3],\n",
       "       [ 6, 11,  1],\n",
       "       [ 6, 11,  2],\n",
       "       [ 6, 11,  3],\n",
       "       [ 6, 11,  4],\n",
       "       [ 6, 11,  5],\n",
       "       [ 6, 11,  6],\n",
       "       [ 6, 12,  1],\n",
       "       [ 6, 12,  2],\n",
       "       [ 6, 12,  3],\n",
       "       [ 6, 12,  4],\n",
       "       [ 6, 12,  5],\n",
       "       [ 6, 12,  6],\n",
       "       [ 6, 12,  7],\n",
       "       [ 6, 13,  1],\n",
       "       [ 6, 13,  2],\n",
       "       [ 6, 13,  3],\n",
       "       [15,  2,  1],\n",
       "       [15,  3,  1],\n",
       "       [15,  3,  2],\n",
       "       [15,  4,  1],\n",
       "       [15,  4,  2],\n",
       "       [15,  5,  1],\n",
       "       [15,  5,  2],\n",
       "       [16,  1,  1],\n",
       "       [16,  2,  2],\n",
       "       [16,  6,  1],\n",
       "       [16,  6,  2],\n",
       "       [17,  1,  1],\n",
       "       [17,  1,  2],\n",
       "       [17,  6,  1],\n",
       "       [17,  6,  2],\n",
       "       [18,  1,  1],\n",
       "       [18,  1,  2],\n",
       "       [18,  6,  1],\n",
       "       [18,  6,  2],\n",
       "       [19,  1,  1],\n",
       "       [19,  1,  2],\n",
       "       [19,  6,  1],\n",
       "       [19,  6,  2],\n",
       "       [20,  2,  1],\n",
       "       [20,  2,  2],\n",
       "       [20,  3,  1],\n",
       "       [20,  3,  2],\n",
       "       [20,  4,  1],\n",
       "       [20,  4,  2],\n",
       "       [20,  5,  1],\n",
       "       [20,  5,  2]], dtype=int64)"
      ]
     },
     "execution_count": 39,
     "metadata": {},
     "output_type": "execute_result"
    }
   ],
   "source": [
    "np.array(np.where(facade_lattice == 1)).T"
   ]
  },
  {
   "cell_type": "code",
   "execution_count": 40,
   "metadata": {},
   "outputs": [
    {
     "name": "stdout",
     "output_type": "stream",
     "text": [
      "0\n",
      "0\n"
     ]
    }
   ],
   "source": [
    "print(facade_lattice[9,5,6])\n",
    "print(facade_streetview_lat[9,5,6])\n"
   ]
  },
  {
   "cell_type": "code",
   "execution_count": 41,
   "metadata": {},
   "outputs": [
    {
     "data": {
      "application/vnd.jupyter.widget-view+json": {
       "model_id": "11bab2df63894177999183b941ca9e44",
       "version_major": 2,
       "version_minor": 0
      },
      "text/plain": [
       "ViewInteractiveWidget(height=768, layout=Layout(height='auto', width='100%'), width=1024)"
      ]
     },
     "metadata": {},
     "output_type": "display_data"
    },
    {
     "data": {
      "text/plain": [
       "[(231.79380639231564, 139.29380639231564, 215.54380639231564),\n",
       " (35.0, -57.5, 18.75),\n",
       " (0.0, 0.0, 1.0)]"
      ]
     },
     "execution_count": 41,
     "metadata": {},
     "output_type": "execute_result"
    }
   ],
   "source": [
    "# initiating the plotter\n",
    "p = pv.Plotter(notebook=True)\n",
    "\n",
    "l = facade_streetview_lat\n",
    "\n",
    "# Create the spatial reference\n",
    "grid = pv.UniformGrid()\n",
    "\n",
    "# Set the grid dimensions: shape because we want to inject our values\n",
    "grid.dimensions = l.shape\n",
    "# The bottom left corner of the data set\n",
    "grid.origin = l.minbound\n",
    "# These are the cell sizes along each axis\n",
    "grid.spacing = l.unit\n",
    "\n",
    "# Add the data values to the cell data\n",
    "grid.point_arrays[\"Sky View Factor\"] = l.flatten(order=\"F\")  # Flatten the Lattice\n",
    "\n",
    "p.add_mesh(tri_to_pv(combine_tractor), color='#aaaaaa')\n",
    "\n",
    "# adding the volume\n",
    "opacity = np.array([0,1,1,1,1,1,1])*1.5\n",
    "\n",
    "p.add_volume(grid, cmap=\"RdYlBu\", clim=[no_hit.min(), no_hit.max()],opacity=opacity, shade=True)\n",
    "\n",
    "# plotting\n",
    "p.show(use_ipyvtk=True)"
   ]
  },
  {
   "cell_type": "code",
   "execution_count": null,
   "metadata": {},
   "outputs": [],
   "source": []
  }
 ],
 "metadata": {
  "interpreter": {
   "hash": "35193bb4a499ae14c24644d010b40ff56fe483af9478781b8d520e7468034301"
  },
  "kernelspec": {
   "display_name": "Python 3.8.5 64-bit ('scds': conda)",
   "language": "python",
   "name": "python3"
  },
  "language_info": {
   "codemirror_mode": {
    "name": "ipython",
    "version": 3
   },
   "file_extension": ".py",
   "mimetype": "text/x-python",
   "name": "python",
   "nbconvert_exporter": "python",
   "pygments_lexer": "ipython3",
   "version": "3.8.5"
  },
  "orig_nbformat": 4
 },
 "nbformat": 4,
 "nbformat_minor": 2
}
