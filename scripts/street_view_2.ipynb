{
 "cells": [
  {
   "cell_type": "markdown",
   "metadata": {},
   "source": [
    "A lot of this stuff hinges on having the right initial data. We cant run the agents at this moment. I Added the stuff here that was already in workshop 4, but like I said, it will not run.\n",
    "\n",
    "Personally, I believe that we have to store the eventual data of every script in a csv file. This script needs a program of requirements."
   ]
  },
  {
   "cell_type": "markdown",
   "metadata": {},
   "source": [
    "Load Libraries"
   ]
  },
  {
   "cell_type": "code",
   "execution_count": 99,
   "metadata": {},
   "outputs": [],
   "source": [
    "import os\n",
    "import topogenesis as tg\n",
    "import pyvista as pv\n",
    "import trimesh as tm\n",
    "import pandas as pd\n",
    "import numpy as np\n",
    "import functions\n",
    "np.random.seed(0)\n",
    "\n",
    "# convert mesh to pv_mesh\n",
    "def tri_to_pv(tri_mesh):\n",
    "    faces = np.pad(tri_mesh.faces, ((0, 0),(1,0)), 'constant', constant_values=3)\n",
    "    pv_mesh = pv.PolyData(tri_mesh.vertices, faces)\n",
    "    return pv_mesh"
   ]
  },
  {
   "cell_type": "markdown",
   "metadata": {},
   "source": [
    "Define Stencil"
   ]
  },
  {
   "cell_type": "code",
   "execution_count": 100,
   "metadata": {},
   "outputs": [
    {
     "name": "stdout",
     "output_type": "stream",
     "text": [
      "[[[0 0 0]\n",
      "  [0 1 0]\n",
      "  [0 0 0]]\n",
      "\n",
      " [[0 1 0]\n",
      "  [1 0 1]\n",
      "  [0 1 0]]\n",
      "\n",
      " [[0 0 0]\n",
      "  [0 1 0]\n",
      "  [0 0 0]]]\n"
     ]
    }
   ],
   "source": [
    "# creating neighborhood definition\n",
    "stencil = tg.create_stencil(\"von_neumann\", 1, 1)\n",
    "# setting the center to zero\n",
    "stencil.set_index([0,0,0], 0)\n",
    "print(stencil)"
   ]
  },
  {
   "cell_type": "markdown",
   "metadata": {},
   "source": [
    "Define the environment"
   ]
  },
  {
   "cell_type": "code",
   "execution_count": 101,
   "metadata": {},
   "outputs": [],
   "source": [
    "# loading the lattice from csv\n",
    "lattice_path = os.path.relpath('../data/meshes/voxelized_envelope_highres.csv')\n",
    "avail_lattice = tg.lattice_from_csv(lattice_path)\n",
    "init_avail_lattice = tg.to_lattice(np.copy(avail_lattice), avail_lattice)\n"
   ]
  },
  {
   "cell_type": "markdown",
   "metadata": {},
   "source": [
    "load program (insert the program of requirements here)"
   ]
  },
  {
   "cell_type": "code",
   "execution_count": 102,
   "metadata": {},
   "outputs": [],
   "source": [
    "#loading the relative relations excell\n",
    "\n",
    "# relative_rels = pd.read_excel('../data/relationships/relative_relations.xlsx', index_col=0) \n",
    "# relative_rels_norm = relative_rels.div(relative_rels.sum(axis=1), axis=0)\n",
    "# relative_rels_norm = relative_rels_norm.fillna(0)\n",
    "\n",
    "#loading the relative preferences excell\n",
    "relative_prefs = pd.read_excel('../data/relationships/relative_preferences.xlsx')\n",
    "relative_prefs.iloc[:, 1:] = relative_prefs.iloc[:, 1:].div(relative_prefs.iloc[:, 1:].sum(axis=1), axis=0)\n",
    "relative_prefs.iloc[:, 1:] = relative_prefs.iloc[:, 1:].fillna(0)\n",
    "relative_prefs_norm = relative_prefs\n",
    "relative_prefs_norm = relative_prefs_norm.head(3)"
   ]
  },
  {
   "cell_type": "code",
   "execution_count": 103,
   "metadata": {},
   "outputs": [
    {
     "data": {
      "text/html": [
       "<div>\n",
       "<style scoped>\n",
       "    .dataframe tbody tr th:only-of-type {\n",
       "        vertical-align: middle;\n",
       "    }\n",
       "\n",
       "    .dataframe tbody tr th {\n",
       "        vertical-align: top;\n",
       "    }\n",
       "\n",
       "    .dataframe thead th {\n",
       "        text-align: right;\n",
       "    }\n",
       "</style>\n",
       "<table border=\"1\" class=\"dataframe\">\n",
       "  <thead>\n",
       "    <tr style=\"text-align: right;\">\n",
       "      <th></th>\n",
       "      <th>proximity_to_ground_floor</th>\n",
       "    </tr>\n",
       "  </thead>\n",
       "  <tbody>\n",
       "    <tr>\n",
       "      <th>0</th>\n",
       "      <td>0.000000</td>\n",
       "    </tr>\n",
       "    <tr>\n",
       "      <th>1</th>\n",
       "      <td>0.000000</td>\n",
       "    </tr>\n",
       "    <tr>\n",
       "      <th>2</th>\n",
       "      <td>0.181818</td>\n",
       "    </tr>\n",
       "  </tbody>\n",
       "</table>\n",
       "</div>"
      ],
      "text/plain": [
       "   proximity_to_ground_floor\n",
       "0                   0.000000\n",
       "1                   0.000000\n",
       "2                   0.181818"
      ]
     },
     "execution_count": 103,
     "metadata": {},
     "output_type": "execute_result"
    }
   ],
   "source": [
    "program_prefs = relative_prefs_norm.drop([\"space_name\", \"facade_connection\",\"penthouse_factor\",\"street_sight\", \"noise_approval\", \"sunlight_access\", \"sky_view_factor\", \"football_field\"], 1)\n",
    "program_prefs"
   ]
  },
  {
   "cell_type": "markdown",
   "metadata": {},
   "source": [
    "Load the value fields"
   ]
  },
  {
   "cell_type": "code",
   "execution_count": 104,
   "metadata": {},
   "outputs": [],
   "source": [
    "# loading the lattice from csv\n",
    "fields = {}\n",
    "for f in program_prefs.columns:\n",
    "    lattice_path = os.path.relpath('../data/fields/' + f + '.csv')\n",
    "    fields[f] = tg.lattice_from_csv(lattice_path)"
   ]
  },
  {
   "cell_type": "markdown",
   "metadata": {},
   "source": [
    "Initialize the agents"
   ]
  },
  {
   "cell_type": "code",
   "execution_count": 105,
   "metadata": {},
   "outputs": [],
   "source": [
    "# initialize the occupation lattice\n",
    "occ_lattice = avail_lattice * 0 - 1\n",
    "\n",
    "# Finding the index of the available voxels in avail_lattice\n",
    "avail_flat = avail_lattice.flatten()\n",
    "avail_index = np.array(np.where(avail_lattice == 1)).T\n",
    "\n",
    "# Randomly choosing three available voxels\n",
    "agn_num = len(program_prefs)\n",
    "np.random.seed()\n",
    "select_id = np.random.choice(len(avail_index), agn_num)\n",
    "agn_origins = avail_index[select_id]\n",
    "\n",
    "# adding the origins to the agents locations\n",
    "agn_locs = []\n",
    "# for each agent origin ... \n",
    "for a_id, a_origin in enumerate(agn_origins):\n",
    "\n",
    "    # add the origin to the list of agent locations\n",
    "    agn_locs.append([a_origin])\n",
    "\n",
    "    # set the origin in availablity lattice as 0 (UNavailable)\n",
    "    avail_lattice[tuple(a_origin)] = 0\n",
    "\n",
    "    # set the origin in occupation lattice as the agent id (a_id)\n",
    "    occ_lattice[tuple(a_origin)] = a_id"
   ]
  },
  {
   "cell_type": "markdown",
   "metadata": {},
   "source": [
    "printing the ammount of agents"
   ]
  },
  {
   "cell_type": "code",
   "execution_count": 106,
   "metadata": {},
   "outputs": [
    {
     "name": "stdout",
     "output_type": "stream",
     "text": [
      "2\n"
     ]
    }
   ],
   "source": [
    "print(a_id)"
   ]
  },
  {
   "cell_type": "markdown",
   "metadata": {},
   "source": [
    "show the agents"
   ]
  },
  {
   "cell_type": "code",
   "execution_count": 107,
   "metadata": {},
   "outputs": [
    {
     "data": {
      "application/vnd.jupyter.widget-view+json": {
       "model_id": "c8d9d781575f4f4da54f084776c986b0",
       "version_major": 2,
       "version_minor": 0
      },
      "text/plain": [
       "ViewInteractiveWidget(height=768, layout=Layout(height='auto', width='100%'), width=1024)"
      ]
     },
     "metadata": {},
     "output_type": "display_data"
    },
    {
     "data": {
      "text/plain": [
       "[(239.8279062084888, 147.3279062084888, 222.3279062084888),\n",
       " (35.0, -57.5, 17.5),\n",
       " (0.0, 0.0, 1.0)]"
      ]
     },
     "execution_count": 107,
     "metadata": {},
     "output_type": "execute_result"
    }
   ],
   "source": [
    "p = pv.Plotter(notebook=True)\n",
    "\n",
    "# Set the grid dimensions: shape + 1 because we want to inject our values on the CELL data\n",
    "grid = pv.UniformGrid()\n",
    "grid.dimensions = np.array(occ_lattice.shape) + 1\n",
    "# The bottom left corner of the data set\n",
    "grid.origin = occ_lattice.minbound - occ_lattice.unit * 0.5\n",
    "# These are the cell sizes along each axis\n",
    "grid.spacing = occ_lattice.unit \n",
    "\n",
    "# adding the boundingbox wireframe\n",
    "p.add_mesh(grid.outline(), color=\"grey\", label=\"Domain\")\n",
    "\n",
    "# adding axes\n",
    "p.add_axes()\n",
    "p.show_bounds(grid=\"back\", location=\"back\", color=\"#777777\")\n",
    "\n",
    "# Add the data values to the cell data\n",
    "grid.cell_arrays[\"Agents\"] = occ_lattice.flatten(order=\"F\").astype(int)  # Flatten the array!\n",
    "# filtering the voxels\n",
    "threshed = grid.threshold([-0.1, agn_num - 0.9])\n",
    "# adding the voxels\n",
    "p.add_mesh(threshed, show_edges=True, opacity=1.0, show_scalar_bar=False)\n",
    "\n",
    "# adding the availability lattice\n",
    "init_avail_lattice.fast_vis(p)\n",
    "\n",
    "p.show(use_ipyvtk=True)"
   ]
  },
  {
   "cell_type": "markdown",
   "metadata": {},
   "source": [
    "Run the simulation"
   ]
  },
  {
   "cell_type": "code",
   "execution_count": 108,
   "metadata": {},
   "outputs": [],
   "source": [
    "# make a deep copy of occupation lattice\n",
    "cur_occ_lattice = tg.to_lattice(np.copy(occ_lattice), occ_lattice)\n",
    "# initialzing the list of frames\n",
    "frames = [cur_occ_lattice]\n",
    "\n",
    "# setting the time variable to 0\n",
    "t = 0\n",
    "n_frames = 30\n",
    "# main feedback loop of the simulation (for each time step ...)\n",
    "while t<n_frames:\n",
    "    # for each agent ... \n",
    "    for a_id, a_prefs in relative_prefs_norm.iterrows():\n",
    "        # retrieve the list of the locations of the current agent\n",
    "        a_locs = agn_locs[a_id]\n",
    "        # initialize the list of free neighbours\n",
    "        free_neighs = []\n",
    "        # for each location of the agent\n",
    "        for loc in a_locs:\n",
    "            # retrieve the list of neighbours of the agent based on the stencil\n",
    "            neighs = avail_lattice.find_neighbours_masked(stencil, loc = loc)\n",
    "            \n",
    "            # for each neighbour ... \n",
    "            for n in neighs:\n",
    "                # compute 3D index of neighbour\n",
    "                neigh_3d_id = np.unravel_index(n, avail_lattice.shape)\n",
    "                # if the neighbour is available... \n",
    "                if avail_lattice[neigh_3d_id]:\n",
    "                    # add the neighbour to the list of free neighbours\n",
    "                    free_neighs.append(neigh_3d_id)\n",
    "        # check if found any free neighbour\n",
    "        if len(free_neighs)>0:\n",
    "            # convert free neighbours to a numpy array\n",
    "            fns = np.array(free_neighs)\n",
    "\n",
    "            # find the value of neighbours\n",
    "            # init the agent value array\n",
    "            a_eval = np.ones(len(fns))\n",
    "            # for each field...\n",
    "            for f in program_prefs.columns:\n",
    "                # find the raw value of free neighbours...\n",
    "                vals = fields[f][fns[:,0], fns[:,1], fns[:,2]]\n",
    "                # raise the the raw value to the power of preference weight of the agent\n",
    "                a_weighted_vals = vals ** a_prefs[f]\n",
    "                # multiply them to the previous weighted values\n",
    "                a_eval *= a_weighted_vals\n",
    "\n",
    "            #post-processing\n",
    "            functions.squareness(square_weight=0.9, free_neighs=free_neighs, a_eval=a_eval)\n",
    "\n",
    "\n",
    "            # select the neighbour with highest evaluation\n",
    "            selected_int = np.argmax(a_eval)\n",
    "            # find 3D integer index of selected neighbour\n",
    "            selected_neigh_3d_id = free_neighs[selected_int]\n",
    "            # find the location of the newly selected neighbour\n",
    "            selected_neigh_loc = np.array(selected_neigh_3d_id).flatten()\n",
    "            # add the newly selected neighbour location to agent locations\n",
    "            agn_locs[a_id].append(selected_neigh_loc)\n",
    "            # set the newly selected neighbour as UNavailable (0) in the availability lattice\n",
    "            avail_lattice[selected_neigh_3d_id] = 0\n",
    "            # set the newly selected neighbour as OCCUPIED by current agent \n",
    "            # (-1 means not-occupied so a_id)\n",
    "            occ_lattice[selected_neigh_3d_id] = a_id\n",
    "\n",
    "    # constructing the new lattice\n",
    "    new_occ_lattice = tg.to_lattice(np.copy(occ_lattice), occ_lattice)\n",
    "    # adding the new lattice to the list of frames\n",
    "    frames.append(new_occ_lattice)\n",
    "    # adding one to the time counter\n",
    "    t += 1"
   ]
  },
  {
   "cell_type": "markdown",
   "metadata": {},
   "source": [
    "Visualize the result"
   ]
  },
  {
   "cell_type": "code",
   "execution_count": 109,
   "metadata": {},
   "outputs": [
    {
     "data": {
      "application/vnd.jupyter.widget-view+json": {
       "model_id": "5c45a939773341dc93b6620a0549c3a1",
       "version_major": 2,
       "version_minor": 0
      },
      "text/plain": [
       "ViewInteractiveWidget(height=768, layout=Layout(height='auto', width='100%'), width=1024)"
      ]
     },
     "metadata": {},
     "output_type": "display_data"
    },
    {
     "data": {
      "text/plain": [
       "[(239.8279062084888, 147.3279062084888, 222.3279062084888),\n",
       " (35.0, -57.5, 17.5),\n",
       " (0.0, 0.0, 1.0)]"
      ]
     },
     "execution_count": 109,
     "metadata": {},
     "output_type": "execute_result"
    }
   ],
   "source": [
    "p = pv.Plotter(notebook=True)\n",
    "\n",
    "base_lattice = frames[0]\n",
    "\n",
    "# Set the grid dimensions: shape + 1 because we want to inject our values on the CELL data\n",
    "grid = pv.UniformGrid()\n",
    "grid.dimensions = np.array(base_lattice.shape) + 1\n",
    "# The bottom left corner of the data set\n",
    "grid.origin = base_lattice.minbound - base_lattice.unit * 0.5\n",
    "# These are the cell sizes along each axis\n",
    "grid.spacing = base_lattice.unit \n",
    "\n",
    "# adding the boundingbox wireframe\n",
    "p.add_mesh(grid.outline(), color=\"grey\", label=\"Domain\")\n",
    "\n",
    "# adding the availability lattice\n",
    "init_avail_lattice.fast_vis(p)\n",
    "\n",
    "# adding axes\n",
    "p.add_axes()\n",
    "p.show_bounds(grid=\"back\", location=\"back\", color=\"#aaaaaa\")\n",
    "\n",
    "def create_mesh(value):\n",
    "    f = int(value)\n",
    "    lattice = frames[f]\n",
    "\n",
    "    # Add the data values to the cell data\n",
    "    grid.cell_arrays[\"Agents\"] = lattice.flatten(order=\"F\").astype(int)  # Flatten the array!\n",
    "    # filtering the voxels\n",
    "    threshed = grid.threshold([-0.1, agn_num - 0.9])\n",
    "    # adding the voxels\n",
    "    p.add_mesh(threshed, name='sphere', show_edges=True, opacity=1.0, show_scalar_bar=False)\n",
    "\n",
    "    return\n",
    "\n",
    "p.add_slider_widget(create_mesh, [0, n_frames], title='Time', value=0, event_type=\"always\", style=\"classic\")\n",
    "p.show(use_ipyvtk=True)"
   ]
  },
  {
   "cell_type": "markdown",
   "metadata": {},
   "source": [
    "### Collecting Agent voxels and creating a mesh out of them"
   ]
  },
  {
   "cell_type": "code",
   "execution_count": 110,
   "metadata": {},
   "outputs": [
    {
     "data": {
      "application/vnd.jupyter.widget-view+json": {
       "model_id": "3425b1bf91f84320bac30100eefb0673",
       "version_major": 2,
       "version_minor": 0
      },
      "text/plain": [
       "ViewInteractiveWidget(height=768, layout=Layout(height='auto', width='100%'), width=1024)"
      ]
     },
     "metadata": {},
     "output_type": "display_data"
    },
    {
     "data": {
      "text/plain": [
       "[(239.8279062084888, 147.3279062084888, 222.3279062084888),\n",
       " (35.0, -57.5, 17.5),\n",
       " (0.0, 0.0, 1.0)]"
      ]
     },
     "execution_count": 110,
     "metadata": {},
     "output_type": "execute_result"
    }
   ],
   "source": [
    "# duplicating the ocuupied lattice from the agent growth process\n",
    "occupied_lattice = tg.to_lattice(np.copy(avail_lattice), avail_lattice)\n",
    "# setting the values of the occupied lattice to 0\n",
    "occupied_lattice[occupied_lattice==1]=0\n",
    "\n",
    "# retrieving the agent locations\n",
    "for i in range(len(agn_locs)):\n",
    "    for loc in agn_locs[i]:\n",
    "        occupied_lattice[tuple(loc)]=1\n",
    "\n",
    "\n",
    "# initiating the plotter\n",
    "p = pv.Plotter()\n",
    "\n",
    "# fast visualization of the lattice\n",
    "occupied_lattice.fast_vis(p)\n",
    "\n",
    "#p.add_mesh(tri_to_pv(combine_tractor), color='#FAE31D')\n",
    "\n",
    "# plotting\n",
    "p.show(use_ipyvtk=True)"
   ]
  },
  {
   "cell_type": "code",
   "execution_count": 111,
   "metadata": {},
   "outputs": [],
   "source": [
    "# create a transformation matrix for each agent location \n",
    "def transformation_matrix (arr):\n",
    "    return [[1,0,0,int(arr[0])],[0,1,0,int(arr[1])],[0,0,1,int(arr[2])],[0,0,0,1]]\n",
    "\n",
    "\n",
    "\n",
    "# collecting center points of agent voxels\n",
    "agn_cens = occupied_lattice.centroids_threshold(0)\n",
    "\n",
    "# creating a box mesh and transforming it to each centroid of the agent voxels with the transformation matrix above\n",
    "meshes = [tm.creation.box(extents=avail_lattice.unit,transform=transformation_matrix(agn_cens[i])) for i in range(len(agn_cens))]\n",
    "agent_mesh = tm.util.concatenate(meshes)\n"
   ]
  },
  {
   "cell_type": "code",
   "execution_count": 112,
   "metadata": {},
   "outputs": [
    {
     "data": {
      "image/png": "[encoded data removed]",
      "text/plain": [
       "<PIL.Image.Image image mode=RGB size=1024x768 at 0x20FE6666E50>"
      ]
     },
     "metadata": {},
     "output_type": "display_data"
    },
    {
     "data": {
      "text/plain": [
       "[(177.24923591163108, 104.74923591163108, 169.74923591163108),\n",
       " (22.5, -50.0, 15.0),\n",
       " (0.0, 0.0, 1.0)]"
      ]
     },
     "execution_count": 112,
     "metadata": {},
     "output_type": "execute_result"
    }
   ],
   "source": [
    "# initiating the plotter\n",
    "p = pv.Plotter(notebook=True)\n",
    "\n",
    "# env_cens.fast_vis(p)\n",
    "\n",
    "# adding the meshes\n",
    "p.add_mesh(tri_to_pv(agent_mesh), color='#abd8ff')\n",
    "\n",
    "# plotting\n",
    "p.show()"
   ]
  },
  {
   "cell_type": "markdown",
   "metadata": {},
   "source": [
    "### Collecting facade voxels and their centroids"
   ]
  },
  {
   "cell_type": "code",
   "execution_count": 113,
   "metadata": {},
   "outputs": [
    {
     "name": "stdout",
     "output_type": "stream",
     "text": [
      "[[[0 0 0]\n",
      "  [0 1 0]\n",
      "  [0 0 0]]\n",
      "\n",
      " [[0 1 0]\n",
      "  [0 0 0]\n",
      "  [0 1 0]]\n",
      "\n",
      " [[0 0 0]\n",
      "  [0 1 0]\n",
      "  [0 0 0]]]\n"
     ]
    }
   ],
   "source": [
    "# creating neighborhood definition\n",
    "stencil = tg.create_stencil(\"von_neumann\", 1, 1)\n",
    "# setting the center to zero\n",
    "stencil.set_index([0,0,0], 0)\n",
    "stencil.set_index([0,0,1], 0)\n",
    "stencil.set_index([0,0,-1], 0)\n",
    "stencil.function = tg.sfunc.sum\n",
    "print(stencil)\n"
   ]
  },
  {
   "cell_type": "code",
   "execution_count": 114,
   "metadata": {},
   "outputs": [],
   "source": [
    "# collecting neighbours count for occupied lattice\n",
    "occupied_lat_sten=occupied_lattice.apply_stencil(stencil)\n",
    "\n",
    "facade_lattice=avail_lattice*0\n",
    "# seperating the voxels with neighbours and excluding the occupied agents to retain only facade voxels\n",
    "facade_lattice[occupied_lat_sten>0]=1\n",
    "facade_lattice[occupied_lattice==1]=0\n",
    "\n",
    "# collecting center points of facade voxels\n",
    "fcd_cens = facade_lattice.centroids_threshold(0)"
   ]
  },
  {
   "cell_type": "code",
   "execution_count": 115,
   "metadata": {},
   "outputs": [
    {
     "data": {
      "application/vnd.jupyter.widget-view+json": {
       "model_id": "50d8ec5c4bcf49738a82d740205f851b",
       "version_major": 2,
       "version_minor": 0
      },
      "text/plain": [
       "ViewInteractiveWidget(height=768, layout=Layout(height='auto', width='100%'), width=1024)"
      ]
     },
     "metadata": {},
     "output_type": "display_data"
    },
    {
     "data": {
      "text/plain": [
       "[(239.8279062084888, 147.3279062084888, 222.3279062084888),\n",
       " (35.0, -57.5, 17.5),\n",
       " (0.0, 0.0, 1.0)]"
      ]
     },
     "execution_count": 115,
     "metadata": {},
     "output_type": "execute_result"
    }
   ],
   "source": [
    "# initiating the plotter\n",
    "p = pv.Plotter()\n",
    "\n",
    "# fast visualization of the facade lattice\n",
    "facade_lattice.fast_vis(p)\n",
    "\n",
    "# fast visualization of the facade points\n",
    "fcd_cens.fast_vis(p)\n",
    "\n",
    "p.add_mesh(tri_to_pv(agent_mesh), color='#FAE31D')\n",
    "\n",
    "# plotting\n",
    "p.show(use_ipyvtk=True)\n"
   ]
  },
  {
   "cell_type": "markdown",
   "metadata": {},
   "source": [
    "### adding context mesh and street grid points"
   ]
  },
  {
   "cell_type": "code",
   "execution_count": 116,
   "metadata": {},
   "outputs": [],
   "source": [
    "# inputting the street grid\n",
    "# street_grid = os.path.relpath(\"../data/meshes/grid_points_2022.csv\")\n",
    "# street_g = tg.cloud_from_csv(street_grid)\n",
    "\n",
    "street_grid_full = os.path.relpath(\"../data/meshes/grid_points_2022_full.csv\")\n",
    "street_g = tg.cloud_from_csv(street_grid_full)\n",
    "\n",
    "\n",
    "# inputting the surrounding buildings meshes\n",
    "context_path = os.path.relpath('../data/meshes/immediate_context.obj')\n",
    "context_mesh = tm.load(context_path)\n",
    "\n",
    "# combining the surrounding building meshes with the agent meshes\n",
    "context_mesh_complete=context_mesh+agent_mesh"
   ]
  },
  {
   "cell_type": "markdown",
   "metadata": {},
   "source": [
    "### Putting it all together in a single visualization"
   ]
  },
  {
   "cell_type": "code",
   "execution_count": 117,
   "metadata": {},
   "outputs": [
    {
     "data": {
      "application/vnd.jupyter.widget-view+json": {
       "model_id": "db4c38e8017244f0b2b34881066551c7",
       "version_major": 2,
       "version_minor": 0
      },
      "text/plain": [
       "ViewInteractiveWidget(height=768, layout=Layout(height='auto', width='100%'), width=1024)"
      ]
     },
     "metadata": {},
     "output_type": "display_data"
    },
    {
     "data": {
      "text/plain": [
       "[(785.8088446466429, 708.392439646643, 742.1697567966429),\n",
       " (65.08283250000001, -12.333572500000002, 21.44374465),\n",
       " (0.0, 0.0, 1.0)]"
      ]
     },
     "execution_count": 117,
     "metadata": {},
     "output_type": "execute_result"
    }
   ],
   "source": [
    "# initiating the plotter\n",
    "p = pv.Plotter(notebook=True)\n",
    "\n",
    "# adding the street grid points\n",
    "street_g.fast_vis(p)\n",
    "\n",
    "# facade voxels\n",
    "facade_lattice.fast_vis(p)\n",
    "\n",
    "# facade centroids\n",
    "fcd_cens.fast_vis(p)\n",
    "\n",
    "# (these aren't the centroids you're looking for)\n",
    "# not_fcd_cens.fast_vis(p)\n",
    "\n",
    "# adding the meshes\n",
    "p.add_mesh(tri_to_pv(context_mesh_complete), color='#aaaaaa')\n",
    "\n",
    "# plotting\n",
    "p.show(use_ipyvtk=True)"
   ]
  },
  {
   "cell_type": "markdown",
   "metadata": {},
   "source": [
    "### extracting vector between facade centroid and street points"
   ]
  },
  {
   "cell_type": "code",
   "execution_count": 118,
   "metadata": {},
   "outputs": [
    {
     "name": "stdout",
     "output_type": "stream",
     "text": [
      "41454\n"
     ]
    }
   ],
   "source": [
    "# Extracting the vector between the facade centroid and the street points. \n",
    "ray_dir=[]\n",
    "run_count=0\n",
    "for i in range(len(fcd_cens)):\n",
    "    for f in range(len(street_g)):\n",
    "        ray_dir1=street_g[f]-fcd_cens[i]\n",
    "        ray_dir.append(ray_dir1)\n",
    "        run_count+=1\n",
    "ray_dir=np.array(ray_dir)\n",
    "print(run_count)\n"
   ]
  },
  {
   "cell_type": "markdown",
   "metadata": {},
   "source": [
    "### Normalizationa and filtration of clear from the start uninteresting ray directions"
   ]
  },
  {
   "cell_type": "code",
   "execution_count": 119,
   "metadata": {},
   "outputs": [],
   "source": [
    "# This si the normalization for the ray filter\n",
    "\n",
    "# ray_dir_norm=[]\n",
    "# for i in range(len(ray_dir)):\n",
    "#     ray_dir_norm1 = ray_dir[i]/np.linalg.norm(ray_dir[i])\n",
    "#     ray_dir_norm.append(ray_dir_norm1)\n",
    "# ray_d_norm=np.array(ray_dir_norm)\n",
    "# deg = 20\n",
    "# rad = deg * 180/np.pi\n",
    "# threshold=np.cos(rad)"
   ]
  },
  {
   "cell_type": "code",
   "execution_count": 120,
   "metadata": {},
   "outputs": [],
   "source": [
    "# this is the ray filter before the intersection\n",
    "\n",
    "# n_z_axis=[0,0,-1]\n",
    "# dot_product_ray=ray_dirs @ n_z_axis\n",
    "\n",
    "# valid_ray=[]\n",
    "# valid_ray_orig_id=[]\n",
    "# for i in range(len(dot_product_ray)):\n",
    "#     if dot_product_ray[i] < abs(np.cos(np.pi/9)):\n",
    "#         valid_ray.append(ray_dirs[i])\n",
    "#         orig_id=np.where(dot_product_ray[i])\n",
    "#         valid_ray_orig_id.append(orig_id)\n",
    "# #valid_ray contins the ray_dirs that have a valid dot product value\n",
    "# #valid_ray_orig_id contains the np.where(dot_product_ray) of the valid rays\n",
    "# # so that the id the ray can be traced back to the original configuration    \n",
    "\n",
    "# v_ray_dirs=np.array(valid_ray)\n",
    "# valid_ray_orig_id=np.array(valid_ray_orig_id)"
   ]
  },
  {
   "cell_type": "markdown",
   "metadata": {},
   "source": [
    "### sky_view scrpit"
   ]
  },
  {
   "cell_type": "code",
   "execution_count": 121,
   "metadata": {},
   "outputs": [
    {
     "name": "stdout",
     "output_type": "stream",
     "text": [
      "41454\n",
      "41454\n"
     ]
    }
   ],
   "source": [
    "# all the ray origins for each sky directions (vectorization format)\n",
    "ray_srcs = np.tile(fcd_cens, [1, len(street_g)]).reshape(-1, 3)\n",
    "\n",
    "# all the ray directions for each centroid\n",
    "ray_dirs = np.tile(street_g, [len(fcd_cens), 1])\n",
    "\n",
    "print(len(ray_dirs))\n",
    "print(len(ray_srcs))"
   ]
  },
  {
   "cell_type": "code",
   "execution_count": 122,
   "metadata": {},
   "outputs": [],
   "source": [
    "# computing the intersections of rays with the context mesh\n",
    "tri_id, ray_id = context_mesh.ray.intersects_id(ray_origins=ray_srcs, ray_directions=ray_dir, multiple_hits=False)"
   ]
  },
  {
   "cell_type": "markdown",
   "metadata": {},
   "source": [
    "### intersection post process"
   ]
  },
  {
   "cell_type": "code",
   "execution_count": 123,
   "metadata": {},
   "outputs": [
    {
     "name": "stdout",
     "output_type": "stream",
     "text": [
      "[[ -34.  -72.  -10.]\n",
      " [ -34.  -52.  -10.]\n",
      " [ -34.  -42.  -10.]\n",
      " ...\n",
      " [  51. -102.  -25.]\n",
      " [  51.  -92.  -25.]\n",
      " [  51.   48.  -25.]]\n",
      "[37 44 43 49 50 46 49 49 46 53 49 39 46 49 47 49 45 42 53 56 54 56 51 48\n",
      " 54 59 60 63 55 52 57 62 55 61 64 58 64 63 16 52 58 61 58 14 50 59 62 60\n",
      " 14 51 60 61 60 19 52 59 59 59 17 52 65 66 66 20 53 61 61 61 18 50 62 64\n",
      " 63 18 51 60 63 59 47 59 61 60 17 48 61 62 63 17 64 68 59 64 65 68 73 68\n",
      " 59 66 70 61 64 69 64 70 73 60 64 67 62 70 72 58 62 65 61 69 71 56 61 65\n",
      " 51 57 62 53 61 64]\n",
      "[292 285 286 280 279 283 280 280 283 276 280 290 283 280 282 280 284 287\n",
      " 276 273 275 273 278 281 275 270 269 266 274 277 272 267 274 268 265 271\n",
      " 265 266 313 277 271 268 271 315 279 270 267 269 315 278 269 268 269 310\n",
      " 277 270 270 270 312 277 264 263 263 309 276 268 268 268 311 279 267 265\n",
      " 266 311 278 269 266 270 282 270 268 269 312 281 268 267 266 312 265 261\n",
      " 270 265 264 261 256 261 270 263 259 268 265 260 265 259 256 269 265 262\n",
      " 267 259 257 271 267 264 268 260 258 273 268 264 278 272 267 276 268 265]\n"
     ]
    }
   ],
   "source": [
    "# initialize the 'hits' array with 0\n",
    "hits = np.array([0] * len(ray_dirs))\n",
    "# rays that hit the context mesh are set to 1\n",
    "hits[ray_id] = 1\n",
    "\n",
    "good_ray=[]\n",
    "for i in range(len(hits)):\n",
    "    if hits[i]==0:\n",
    "        good_ray.append(ray_dir[i])\n",
    "good_ray=np.array(good_ray)\n",
    "print(good_ray)\n",
    "# reshape the 'hits' array to (len(centroids), len(directions))\n",
    "hits = hits.reshape(len(facade_lattice.centroids), -1)\n",
    "\n",
    "# sum up all the intersections per centroid\n",
    "vox_hits = np.sum(hits, axis=1)\n",
    "print(vox_hits)\n",
    "no_hit=len(street_g)-vox_hits\n",
    "print(no_hit)\n"
   ]
  },
  {
   "cell_type": "markdown",
   "metadata": {},
   "source": [
    "### Cross product of the visible street points and the z axis"
   ]
  },
  {
   "cell_type": "code",
   "execution_count": 161,
   "metadata": {},
   "outputs": [
    {
     "name": "stdout",
     "output_type": "stream",
     "text": [
      "0.34204484166826987\n"
     ]
    }
   ],
   "source": [
    "# this is the order of operations\n",
    "# take negative z unit vector and the direction ray\n",
    "z_n=[0,0,-1]\n",
    "ray=[-0.364,0,-1]\n",
    "\n",
    "# normalize the direction ray so that the length won't distort the angle analysis\n",
    "# the length will be stored and dealt seperatly\n",
    "norms_ray=np.linalg.norm(ray)\n",
    "normalized=ray/norms_ray\n",
    "\n",
    "# angle in degrees for a sanity check\n",
    "angle=(180/np.pi)*np.arccos(np.dot(z_n,normalized))\n",
    "\n",
    "# taking the cross product of the direction ray and the negative unit z vector\n",
    "crossed=np.cross(normalized,z_n)\n",
    "\n",
    "#getting the area between the direction ray and the negative unit z vector\n",
    "area_p=np.linalg.norm(crossed)\n",
    "\n",
    "#print(norms_ray)\n",
    "#print(normalized)\n",
    "#print(angle)\n",
    "#print(crossed)\n",
    "print(area_p)\n",
    "\n",
    "\n",
    "# condensed this is what happens\n",
    "ray2=[4,0,3]\n",
    "z_n=z_n\n",
    "angle2=(180/np.pi)*np.arccos(np.dot(z_n,(ray2/np.linalg.norm(ray2))))\n",
    "area_p2=np.linalg.norm(np.cross((ray2/np.linalg.norm(ray2)),z_n))\n",
    "\n",
    "#print(angle2)\n",
    "#print(area_p2)"
   ]
  },
  {
   "cell_type": "code",
   "execution_count": 125,
   "metadata": {},
   "outputs": [
    {
     "name": "stdout",
     "output_type": "stream",
     "text": [
      "[82.84169656 80.85634056 79.51555194 ... 77.63508747 76.63086047\n",
      " 70.35542857]\n",
      "[0.99220565 0.987293   0.98330434 ... 0.9768036  0.97290056 0.94179621]\n",
      "[ 80.24961059  62.92853089  54.95452666 ... 116.74759098 108.12030337\n",
      "  74.36396977]\n"
     ]
    }
   ],
   "source": [
    "z_n=[0,0,-1]\n",
    "\n",
    "angle_deg=[]\n",
    "area_cross=[]\n",
    "ray_len=[]\n",
    "for i in range(len(good_ray)):\n",
    "    ray2=good_ray[i]\n",
    "    ray_l=np.linalg.norm(ray2)\n",
    "    angle2=(180/np.pi)*np.arccos(np.dot(z_n,(ray2/ray_l)))\n",
    "    area_p2=np.linalg.norm(np.cross((ray2/np.linalg.norm(ray2)),z_n))\n",
    "    angle_deg.append(angle2)\n",
    "    area_cross.append(area_p2)\n",
    "    ray_len.append(ray_l)\n",
    "\n",
    "\n",
    "area_cross2=area_cross\n",
    "angle_deg2=angle_deg\n",
    "angle_deg=np.array(angle_deg)\n",
    "area_cross=np.array(area_cross)\n",
    "ray_len=np.array(ray_len)\n",
    "print(angle_deg)\n",
    "print(area_cross)\n",
    "print(ray_len)"
   ]
  },
  {
   "cell_type": "code",
   "execution_count": 159,
   "metadata": {},
   "outputs": [
    {
     "name": "stdout",
     "output_type": "stream",
     "text": [
      "[ -4.  -2. -15.]\n",
      "16.601549599020245\n",
      "15.652475842498529\n",
      "0.28571428571428575\n"
     ]
    }
   ],
   "source": [
    "g=342\n",
    "print(good_ray[g])\n",
    "print(angle_deg[g])\n",
    "print(ray_len[g])\n",
    "print(area_cross[g])\n",
    "\n"
   ]
  },
  {
   "cell_type": "code",
   "execution_count": 158,
   "metadata": {},
   "outputs": [
    {
     "name": "stdout",
     "output_type": "stream",
     "text": [
      "[342, 913, 1193, 1208, 1755, 2035, 2050, 2600, 2876, 2891, 3169, 3458, 3740, 4029, 4311, 4590, 5152, 5427, 5436, 5983, 6257, 6267, 6534, 6815, 7088, 7363, 7632, 7901, 8443, 8714, 8723, 9256, 9523, 9532, 10061, 10325, 10334, 10947, 11220, 11490, 11760, 11761, 12352, 12625, 12893, 12894, 13162, 13163, 13751, 14024, 14293, 14563, 14564, 15415, 15684, 15697, 15953, 15954, 15967, 16815, 17078, 17091, 17341, 17342, 17355, 17930, 18201, 18467, 18468, 18735, 18736, 19329, 19599, 19864, 19865, 20130, 20131, 20984, 21252, 21263, 21519, 21520, 21530, 22073, 22342, 22353, 22610, 22611, 22622, 23473, 23740, 23751, 24008, 24009, 24019, 24618, 24879, 24893, 25149, 25415, 25429, 25691, 25951, 25952, 26210, 26211, 26471, 26472, 26739, 27004, 27265, 27266, 27527, 27792, 27806, 28053, 28054, 28068, 28319, 28579, 28593, 28836, 28837, 28851, 29114, 29380, 29381, 29642, 29643, 29910, 30171, 30172, 30428, 30429, 30693, 30962, 30976, 31225, 31226, 31240, 31495, 31758, 31772, 32015, 32016, 32030, 32297, 32567, 32831, 32832, 33107, 33381, 33382, 33648, 33649, 33921, 34192, 34457, 34458]\n"
     ]
    }
   ],
   "source": [
    "angle_deg[angle_deg<20]\n",
    "angle_id=[]\n",
    "for i in range(len(angle_deg)):\n",
    "   if angle_deg[i]<20:\n",
    "       angle_id.append(i)\n",
    "print(angle_id)"
   ]
  },
  {
   "cell_type": "code",
   "execution_count": 129,
   "metadata": {},
   "outputs": [],
   "source": [
    "# z_n=[0,0,-1]\n",
    "# ray_length=[]\n",
    "# for i in range(len(good_ray)):\n",
    "#     n_ray=np.linalg.norm(good_ray[i])\n",
    "#     ray_length.append(n_ray)\n",
    "\n",
    "# ray_c=[]\n",
    "# for i in range(len(good_ray)):\n",
    "#     cross=np.cross(good_ray[i]/ray_length[i],z_n)\n",
    "#     ray_c.append(cross)\n",
    "\n",
    "# ray_cross=[]\n",
    "# for i in range(len(good_ray)):\n",
    "#     r_cross=np.linalg.norm(ray_c[i])\n",
    "#     ray_cross.append(r_cross)\n",
    "\n",
    "\n",
    "# ray_cross=np.array(ray_cross)\n",
    "\n",
    "# angle=np.arccos(np.dot(z_n,))\n",
    "\n"
   ]
  },
  {
   "cell_type": "code",
   "execution_count": 130,
   "metadata": {},
   "outputs": [],
   "source": [
    "# g=15\n",
    "# print(ray_cross[g])\n",
    "# print(ray_dir[g])\n"
   ]
  },
  {
   "cell_type": "code",
   "execution_count": 131,
   "metadata": {},
   "outputs": [],
   "source": [
    "# flatten the facade_lattice to retrieve the 1 dimensional lattice id\n",
    "facade_lattice_flat=facade_lattice.flatten()\n",
    "# retrieving \n",
    "fcd_id=np.array(np.argwhere(facade_lattice_flat==1))\n",
    "for i in range(len(fcd_id)):\n",
    "    facade_lattice_flat[fcd_id[i]]=no_hit[i]\n",
    "    "
   ]
  },
  {
   "cell_type": "code",
   "execution_count": 132,
   "metadata": {},
   "outputs": [
    {
     "name": "stdout",
     "output_type": "stream",
     "text": [
      "7.0710678118654755\n"
     ]
    }
   ],
   "source": [
    "vector=[5,4,3]\n",
    "\n",
    "magnitude = np.linalg.norm(vector)\n",
    "\n",
    "print(magnitude)"
   ]
  },
  {
   "cell_type": "code",
   "execution_count": 133,
   "metadata": {},
   "outputs": [],
   "source": [
    "facade_streetview = facade_lattice_flat.reshape(facade_lattice.shape)"
   ]
  },
  {
   "cell_type": "code",
   "execution_count": 134,
   "metadata": {},
   "outputs": [],
   "source": [
    "facade_streetview_lat= tg.to_lattice(facade_streetview, facade_lattice)"
   ]
  },
  {
   "cell_type": "code",
   "execution_count": 135,
   "metadata": {},
   "outputs": [
    {
     "data": {
      "text/plain": [
       "array([[ 0, 10,  2],\n",
       "       [ 0, 10,  3],\n",
       "       [ 0, 11,  2],\n",
       "       [ 0, 11,  3],\n",
       "       [ 0, 11,  4],\n",
       "       [ 0, 12,  2],\n",
       "       [ 0, 12,  3],\n",
       "       [ 0, 12,  4],\n",
       "       [ 0, 13,  2],\n",
       "       [ 0, 13,  3],\n",
       "       [ 0, 13,  4],\n",
       "       [ 1,  9,  2],\n",
       "       [ 1,  9,  3],\n",
       "       [ 1, 10,  4],\n",
       "       [ 1, 14,  2],\n",
       "       [ 1, 14,  3],\n",
       "       [ 1, 14,  4],\n",
       "       [ 2,  9,  2],\n",
       "       [ 2,  9,  3],\n",
       "       [ 2, 10,  4],\n",
       "       [ 2, 14,  2],\n",
       "       [ 2, 14,  3],\n",
       "       [ 2, 14,  4],\n",
       "       [ 3, 10,  2],\n",
       "       [ 3, 10,  3],\n",
       "       [ 3, 10,  4],\n",
       "       [ 3, 14,  2],\n",
       "       [ 3, 14,  3],\n",
       "       [ 3, 14,  4],\n",
       "       [ 4, 11,  2],\n",
       "       [ 4, 11,  3],\n",
       "       [ 4, 11,  4],\n",
       "       [ 4, 12,  2],\n",
       "       [ 4, 12,  3],\n",
       "       [ 4, 12,  4],\n",
       "       [ 4, 13,  2],\n",
       "       [ 4, 13,  3],\n",
       "       [ 4, 13,  4],\n",
       "       [13,  4,  1],\n",
       "       [13,  4,  2],\n",
       "       [13,  4,  3],\n",
       "       [13,  4,  4],\n",
       "       [13,  4,  5],\n",
       "       [13,  5,  1],\n",
       "       [13,  5,  2],\n",
       "       [13,  5,  3],\n",
       "       [13,  5,  4],\n",
       "       [13,  5,  5],\n",
       "       [13,  6,  1],\n",
       "       [13,  6,  2],\n",
       "       [13,  6,  3],\n",
       "       [13,  6,  4],\n",
       "       [13,  6,  5],\n",
       "       [14,  3,  1],\n",
       "       [14,  3,  2],\n",
       "       [14,  3,  3],\n",
       "       [14,  3,  4],\n",
       "       [14,  3,  5],\n",
       "       [14,  7,  1],\n",
       "       [14,  7,  2],\n",
       "       [14,  7,  3],\n",
       "       [14,  7,  4],\n",
       "       [14,  7,  5],\n",
       "       [15,  3,  1],\n",
       "       [15,  3,  2],\n",
       "       [15,  3,  3],\n",
       "       [15,  3,  4],\n",
       "       [15,  3,  5],\n",
       "       [15,  7,  1],\n",
       "       [15,  7,  2],\n",
       "       [15,  7,  3],\n",
       "       [15,  7,  4],\n",
       "       [15,  7,  5],\n",
       "       [16,  4,  1],\n",
       "       [16,  4,  2],\n",
       "       [16,  4,  3],\n",
       "       [16,  4,  4],\n",
       "       [16,  4,  5],\n",
       "       [16,  5,  2],\n",
       "       [16,  5,  3],\n",
       "       [16,  5,  4],\n",
       "       [16,  5,  5],\n",
       "       [16,  6,  1],\n",
       "       [16,  6,  2],\n",
       "       [16,  6,  3],\n",
       "       [16,  6,  4],\n",
       "       [16,  6,  5],\n",
       "       [17,  5,  1],\n",
       "       [20, 14,  3],\n",
       "       [20, 14,  4],\n",
       "       [20, 15,  3],\n",
       "       [20, 15,  4],\n",
       "       [21, 13,  3],\n",
       "       [21, 13,  4],\n",
       "       [21, 14,  5],\n",
       "       [21, 15,  5],\n",
       "       [21, 16,  3],\n",
       "       [21, 16,  4],\n",
       "       [21, 16,  5],\n",
       "       [22, 13,  3],\n",
       "       [22, 13,  4],\n",
       "       [22, 13,  5],\n",
       "       [22, 17,  3],\n",
       "       [22, 17,  4],\n",
       "       [22, 17,  5],\n",
       "       [23, 13,  3],\n",
       "       [23, 13,  4],\n",
       "       [23, 13,  5],\n",
       "       [23, 17,  3],\n",
       "       [23, 17,  4],\n",
       "       [23, 17,  5],\n",
       "       [24, 13,  3],\n",
       "       [24, 13,  4],\n",
       "       [24, 13,  5],\n",
       "       [24, 17,  3],\n",
       "       [24, 17,  4],\n",
       "       [24, 17,  5],\n",
       "       [25, 14,  3],\n",
       "       [25, 14,  4],\n",
       "       [25, 14,  5],\n",
       "       [25, 15,  3],\n",
       "       [25, 15,  4],\n",
       "       [25, 15,  5],\n",
       "       [25, 16,  3],\n",
       "       [25, 16,  4],\n",
       "       [25, 16,  5]], dtype=int64)"
      ]
     },
     "execution_count": 135,
     "metadata": {},
     "output_type": "execute_result"
    }
   ],
   "source": [
    "np.array(np.where(facade_lattice == 1)).T"
   ]
  },
  {
   "cell_type": "code",
   "execution_count": 136,
   "metadata": {},
   "outputs": [
    {
     "name": "stdout",
     "output_type": "stream",
     "text": [
      "0\n",
      "0\n"
     ]
    }
   ],
   "source": [
    "print(facade_lattice[9,5,6])\n",
    "print(facade_streetview_lat[9,5,6])\n"
   ]
  },
  {
   "cell_type": "code",
   "execution_count": 139,
   "metadata": {},
   "outputs": [
    {
     "data": {
      "application/vnd.jupyter.widget-view+json": {
       "model_id": "5dd1a0477b1c4a739eea1137fcfe5f23",
       "version_major": 2,
       "version_minor": 0
      },
      "text/plain": [
       "ViewInteractiveWidget(height=768, layout=Layout(height='auto', width='100%'), width=1024)"
      ]
     },
     "metadata": {},
     "output_type": "display_data"
    },
    {
     "data": {
      "text/plain": [
       "[(231.22009113429812, 138.72009113429812, 213.72009113429812),\n",
       " (35.0, -57.5, 17.5),\n",
       " (0.0, 0.0, 1.0)]"
      ]
     },
     "execution_count": 139,
     "metadata": {},
     "output_type": "execute_result"
    }
   ],
   "source": [
    "# initiating the plotter\n",
    "p = pv.Plotter(notebook=True)\n",
    "\n",
    "l = facade_streetview_lat\n",
    "\n",
    "# Create the spatial reference\n",
    "grid = pv.UniformGrid()\n",
    "\n",
    "# Set the grid dimensions: shape because we want to inject our values\n",
    "grid.dimensions = l.shape\n",
    "# The bottom left corner of the data set\n",
    "grid.origin = l.minbound\n",
    "# These are the cell sizes along each axis\n",
    "grid.spacing = l.unit\n",
    "\n",
    "# Add the data values to the cell data\n",
    "grid.point_arrays[\"Sreet visibilw points\"] = l.flatten(order=\"F\")  # Flatten the Lattice\n",
    "\n",
    "p.add_mesh(tri_to_pv(agent_mesh), color='#aaaaaa')\n",
    "\n",
    "# adding the volume\n",
    "opacity = np.array([0,1,1,1,1,1,1])*1.5\n",
    "\n",
    "p.add_volume(grid, cmap=\"RdYlBu\", clim=[no_hit.min(), no_hit.max()],opacity=opacity, shade=True)\n",
    "\n",
    "# plotting\n",
    "p.show(use_ipyvtk=True)"
   ]
  },
  {
   "cell_type": "code",
   "execution_count": null,
   "metadata": {},
   "outputs": [],
   "source": []
  }
 ],
 "metadata": {
  "interpreter": {
   "hash": "35193bb4a499ae14c24644d010b40ff56fe483af9478781b8d520e7468034301"
  },
  "kernelspec": {
   "display_name": "Python 3.8.5 64-bit ('scds': conda)",
   "language": "python",
   "name": "python3"
  },
  "language_info": {
   "codemirror_mode": {
    "name": "ipython",
    "version": 3
   },
   "file_extension": ".py",
   "mimetype": "text/x-python",
   "name": "python",
   "nbconvert_exporter": "python",
   "pygments_lexer": "ipython3",
   "version": "3.8.5"
  },
  "orig_nbformat": 4
 },
 "nbformat": 4,
 "nbformat_minor": 2
}
