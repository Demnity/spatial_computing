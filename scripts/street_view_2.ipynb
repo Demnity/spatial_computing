{
 "cells": [
  {
   "cell_type": "markdown",
   "metadata": {},
   "source": [
    "A lot of this stuff hinges on having the right initial data. We cant run the agents at this moment. I Added the stuff here that was already in workshop 4, but like I said, it will not run.\n",
    "\n",
    "Personally, I believe that we have to store the eventual data of every script in a csv file. This script needs a program of requirements."
   ]
  },
  {
   "cell_type": "markdown",
   "metadata": {},
   "source": [
    "Load Libraries"
   ]
  },
  {
   "cell_type": "code",
   "execution_count": 63,
   "metadata": {},
   "outputs": [],
   "source": [
    "import os\n",
    "import topogenesis as tg\n",
    "import pyvista as pv\n",
    "import trimesh as tm\n",
    "import pandas as pd\n",
    "import numpy as np\n",
    "import functions\n",
    "np.random.seed(0)\n",
    "\n",
    "# convert mesh to pv_mesh\n",
    "def tri_to_pv(tri_mesh):\n",
    "    faces = np.pad(tri_mesh.faces, ((0, 0),(1,0)), 'constant', constant_values=3)\n",
    "    pv_mesh = pv.PolyData(tri_mesh.vertices, faces)\n",
    "    return pv_mesh"
   ]
  },
  {
   "cell_type": "markdown",
   "metadata": {},
   "source": [
    "Define Stencil"
   ]
  },
  {
   "cell_type": "code",
   "execution_count": 64,
   "metadata": {},
   "outputs": [
    {
     "name": "stdout",
     "output_type": "stream",
     "text": [
      "[[[0 0 0]\n",
      "  [0 1 0]\n",
      "  [0 0 0]]\n",
      "\n",
      " [[0 1 0]\n",
      "  [1 0 1]\n",
      "  [0 1 0]]\n",
      "\n",
      " [[0 0 0]\n",
      "  [0 1 0]\n",
      "  [0 0 0]]]\n"
     ]
    }
   ],
   "source": [
    "# creating neighborhood definition\n",
    "stencil = tg.create_stencil(\"von_neumann\", 1, 1)\n",
    "# setting the center to zero\n",
    "stencil.set_index([0,0,0], 0)\n",
    "print(stencil)"
   ]
  },
  {
   "cell_type": "markdown",
   "metadata": {},
   "source": [
    "Define the environment"
   ]
  },
  {
   "cell_type": "code",
   "execution_count": 65,
   "metadata": {},
   "outputs": [],
   "source": [
    "# loading the lattice from csv\n",
    "lattice_path = os.path.relpath('../data/meshes/voxelized_envelope_highres.csv')\n",
    "avail_lattice = tg.lattice_from_csv(lattice_path)\n",
    "init_avail_lattice = tg.to_lattice(np.copy(avail_lattice), avail_lattice)\n"
   ]
  },
  {
   "cell_type": "markdown",
   "metadata": {},
   "source": [
    "load program (insert the program of requirements here)"
   ]
  },
  {
   "cell_type": "code",
   "execution_count": 66,
   "metadata": {},
   "outputs": [],
   "source": [
    "#loading the relative relations excell\n",
    "\n",
    "# relative_rels = pd.read_excel('../data/relationships/relative_relations.xlsx', index_col=0) \n",
    "# relative_rels_norm = relative_rels.div(relative_rels.sum(axis=1), axis=0)\n",
    "# relative_rels_norm = relative_rels_norm.fillna(0)\n",
    "\n",
    "#loading the relative preferences excell\n",
    "relative_prefs = pd.read_excel('../data/relationships/relative_preferences.xlsx')\n",
    "relative_prefs.iloc[:, 1:] = relative_prefs.iloc[:, 1:].div(relative_prefs.iloc[:, 1:].sum(axis=1), axis=0)\n",
    "relative_prefs.iloc[:, 1:] = relative_prefs.iloc[:, 1:].fillna(0)\n",
    "relative_prefs_norm = relative_prefs\n",
    "relative_prefs_norm = relative_prefs_norm.head(3)"
   ]
  },
  {
   "cell_type": "code",
   "execution_count": 67,
   "metadata": {},
   "outputs": [
    {
     "data": {
      "text/html": [
       "<div>\n",
       "<style scoped>\n",
       "    .dataframe tbody tr th:only-of-type {\n",
       "        vertical-align: middle;\n",
       "    }\n",
       "\n",
       "    .dataframe tbody tr th {\n",
       "        vertical-align: top;\n",
       "    }\n",
       "\n",
       "    .dataframe thead th {\n",
       "        text-align: right;\n",
       "    }\n",
       "</style>\n",
       "<table border=\"1\" class=\"dataframe\">\n",
       "  <thead>\n",
       "    <tr style=\"text-align: right;\">\n",
       "      <th></th>\n",
       "      <th>proximity_to_ground_floor</th>\n",
       "    </tr>\n",
       "  </thead>\n",
       "  <tbody>\n",
       "    <tr>\n",
       "      <th>0</th>\n",
       "      <td>0.000000</td>\n",
       "    </tr>\n",
       "    <tr>\n",
       "      <th>1</th>\n",
       "      <td>0.000000</td>\n",
       "    </tr>\n",
       "    <tr>\n",
       "      <th>2</th>\n",
       "      <td>0.181818</td>\n",
       "    </tr>\n",
       "  </tbody>\n",
       "</table>\n",
       "</div>"
      ],
      "text/plain": [
       "   proximity_to_ground_floor\n",
       "0                   0.000000\n",
       "1                   0.000000\n",
       "2                   0.181818"
      ]
     },
     "execution_count": 67,
     "metadata": {},
     "output_type": "execute_result"
    }
   ],
   "source": [
    "program_prefs = relative_prefs_norm.drop([\"space_name\", \"facade_connection\",\"penthouse_factor\",\"street_sight\", \"noise_approval\", \"sunlight_access\", \"sky_view_factor\", \"football_field\"], 1)\n",
    "program_prefs"
   ]
  },
  {
   "cell_type": "markdown",
   "metadata": {},
   "source": [
    "Load the value fields"
   ]
  },
  {
   "cell_type": "code",
   "execution_count": 68,
   "metadata": {},
   "outputs": [],
   "source": [
    "# loading the lattice from csv\n",
    "fields = {}\n",
    "for f in program_prefs.columns:\n",
    "    lattice_path = os.path.relpath('../data/fields/' + f + '.csv')\n",
    "    fields[f] = tg.lattice_from_csv(lattice_path)"
   ]
  },
  {
   "cell_type": "markdown",
   "metadata": {},
   "source": [
    "Initialize the agents"
   ]
  },
  {
   "cell_type": "code",
   "execution_count": 69,
   "metadata": {},
   "outputs": [],
   "source": [
    "# initialize the occupation lattice\n",
    "occ_lattice = avail_lattice * 0 - 1\n",
    "\n",
    "# Finding the index of the available voxels in avail_lattice\n",
    "avail_flat = avail_lattice.flatten()\n",
    "avail_index = np.array(np.where(avail_lattice == 1)).T\n",
    "\n",
    "# Randomly choosing three available voxels\n",
    "agn_num = len(program_prefs)\n",
    "np.random.seed()\n",
    "select_id = np.random.choice(len(avail_index), agn_num)\n",
    "agn_origins = avail_index[select_id]\n",
    "\n",
    "# adding the origins to the agents locations\n",
    "agn_locs = []\n",
    "# for each agent origin ... \n",
    "for a_id, a_origin in enumerate(agn_origins):\n",
    "\n",
    "    # add the origin to the list of agent locations\n",
    "    agn_locs.append([a_origin])\n",
    "\n",
    "    # set the origin in availablity lattice as 0 (UNavailable)\n",
    "    avail_lattice[tuple(a_origin)] = 0\n",
    "\n",
    "    # set the origin in occupation lattice as the agent id (a_id)\n",
    "    occ_lattice[tuple(a_origin)] = a_id"
   ]
  },
  {
   "cell_type": "markdown",
   "metadata": {},
   "source": [
    "printing the ammount of agents"
   ]
  },
  {
   "cell_type": "code",
   "execution_count": 70,
   "metadata": {},
   "outputs": [
    {
     "name": "stdout",
     "output_type": "stream",
     "text": [
      "2\n"
     ]
    }
   ],
   "source": [
    "print(a_id)"
   ]
  },
  {
   "cell_type": "markdown",
   "metadata": {},
   "source": [
    "show the agents"
   ]
  },
  {
   "cell_type": "code",
   "execution_count": 71,
   "metadata": {},
   "outputs": [
    {
     "data": {
      "application/vnd.jupyter.widget-view+json": {
       "model_id": "64c41c008e51429a8a70f831cafb07a6",
       "version_major": 2,
       "version_minor": 0
      },
      "text/plain": [
       "ViewInteractiveWidget(height=768, layout=Layout(height='auto', width='100%'), width=1024)"
      ]
     },
     "metadata": {},
     "output_type": "display_data"
    },
    {
     "data": {
      "text/plain": [
       "[(239.8279062084888, 147.3279062084888, 222.3279062084888),\n",
       " (35.0, -57.5, 17.5),\n",
       " (0.0, 0.0, 1.0)]"
      ]
     },
     "execution_count": 71,
     "metadata": {},
     "output_type": "execute_result"
    }
   ],
   "source": [
    "p = pv.Plotter(notebook=True)\n",
    "\n",
    "# Set the grid dimensions: shape + 1 because we want to inject our values on the CELL data\n",
    "grid = pv.UniformGrid()\n",
    "grid.dimensions = np.array(occ_lattice.shape) + 1\n",
    "# The bottom left corner of the data set\n",
    "grid.origin = occ_lattice.minbound - occ_lattice.unit * 0.5\n",
    "# These are the cell sizes along each axis\n",
    "grid.spacing = occ_lattice.unit \n",
    "\n",
    "# adding the boundingbox wireframe\n",
    "p.add_mesh(grid.outline(), color=\"grey\", label=\"Domain\")\n",
    "\n",
    "# adding axes\n",
    "p.add_axes()\n",
    "p.show_bounds(grid=\"back\", location=\"back\", color=\"#777777\")\n",
    "\n",
    "# Add the data values to the cell data\n",
    "grid.cell_arrays[\"Agents\"] = occ_lattice.flatten(order=\"F\").astype(int)  # Flatten the array!\n",
    "# filtering the voxels\n",
    "threshed = grid.threshold([-0.1, agn_num - 0.9])\n",
    "# adding the voxels\n",
    "p.add_mesh(threshed, show_edges=True, opacity=1.0, show_scalar_bar=False)\n",
    "\n",
    "# adding the availability lattice\n",
    "init_avail_lattice.fast_vis(p)\n",
    "\n",
    "p.show(use_ipyvtk=True)"
   ]
  },
  {
   "cell_type": "markdown",
   "metadata": {},
   "source": [
    "Run the simulation"
   ]
  },
  {
   "cell_type": "code",
   "execution_count": 72,
   "metadata": {},
   "outputs": [],
   "source": [
    "# make a deep copy of occupation lattice\n",
    "cur_occ_lattice = tg.to_lattice(np.copy(occ_lattice), occ_lattice)\n",
    "# initialzing the list of frames\n",
    "frames = [cur_occ_lattice]\n",
    "\n",
    "# setting the time variable to 0\n",
    "t = 0\n",
    "n_frames = 30\n",
    "# main feedback loop of the simulation (for each time step ...)\n",
    "while t<n_frames:\n",
    "    # for each agent ... \n",
    "    for a_id, a_prefs in relative_prefs_norm.iterrows():\n",
    "        # retrieve the list of the locations of the current agent\n",
    "        a_locs = agn_locs[a_id]\n",
    "        # initialize the list of free neighbours\n",
    "        free_neighs = []\n",
    "        # for each location of the agent\n",
    "        for loc in a_locs:\n",
    "            # retrieve the list of neighbours of the agent based on the stencil\n",
    "            neighs = avail_lattice.find_neighbours_masked(stencil, loc = loc)\n",
    "            \n",
    "            # for each neighbour ... \n",
    "            for n in neighs:\n",
    "                # compute 3D index of neighbour\n",
    "                neigh_3d_id = np.unravel_index(n, avail_lattice.shape)\n",
    "                # if the neighbour is available... \n",
    "                if avail_lattice[neigh_3d_id]:\n",
    "                    # add the neighbour to the list of free neighbours\n",
    "                    free_neighs.append(neigh_3d_id)\n",
    "        # check if found any free neighbour\n",
    "        if len(free_neighs)>0:\n",
    "            # convert free neighbours to a numpy array\n",
    "            fns = np.array(free_neighs)\n",
    "\n",
    "            # find the value of neighbours\n",
    "            # init the agent value array\n",
    "            a_eval = np.ones(len(fns))\n",
    "            # for each field...\n",
    "            for f in program_prefs.columns:\n",
    "                # find the raw value of free neighbours...\n",
    "                vals = fields[f][fns[:,0], fns[:,1], fns[:,2]]\n",
    "                # raise the the raw value to the power of preference weight of the agent\n",
    "                a_weighted_vals = vals ** a_prefs[f]\n",
    "                # multiply them to the previous weighted values\n",
    "                a_eval *= a_weighted_vals\n",
    "\n",
    "            #post-processing\n",
    "            functions.squareness(square_weight=0.9, free_neighs=free_neighs, a_eval=a_eval)\n",
    "\n",
    "\n",
    "            # select the neighbour with highest evaluation\n",
    "            selected_int = np.argmax(a_eval)\n",
    "            # find 3D integer index of selected neighbour\n",
    "            selected_neigh_3d_id = free_neighs[selected_int]\n",
    "            # find the location of the newly selected neighbour\n",
    "            selected_neigh_loc = np.array(selected_neigh_3d_id).flatten()\n",
    "            # add the newly selected neighbour location to agent locations\n",
    "            agn_locs[a_id].append(selected_neigh_loc)\n",
    "            # set the newly selected neighbour as UNavailable (0) in the availability lattice\n",
    "            avail_lattice[selected_neigh_3d_id] = 0\n",
    "            # set the newly selected neighbour as OCCUPIED by current agent \n",
    "            # (-1 means not-occupied so a_id)\n",
    "            occ_lattice[selected_neigh_3d_id] = a_id\n",
    "\n",
    "    # constructing the new lattice\n",
    "    new_occ_lattice = tg.to_lattice(np.copy(occ_lattice), occ_lattice)\n",
    "    # adding the new lattice to the list of frames\n",
    "    frames.append(new_occ_lattice)\n",
    "    # adding one to the time counter\n",
    "    t += 1"
   ]
  },
  {
   "cell_type": "markdown",
   "metadata": {},
   "source": [
    "Visualize the result"
   ]
  },
  {
   "cell_type": "code",
   "execution_count": 73,
   "metadata": {},
   "outputs": [
    {
     "data": {
      "application/vnd.jupyter.widget-view+json": {
       "model_id": "e1316090bb354325ad11dcefe0035b16",
       "version_major": 2,
       "version_minor": 0
      },
      "text/plain": [
       "ViewInteractiveWidget(height=768, layout=Layout(height='auto', width='100%'), width=1024)"
      ]
     },
     "metadata": {},
     "output_type": "display_data"
    },
    {
     "data": {
      "text/plain": [
       "[(239.8279062084888, 147.3279062084888, 222.3279062084888),\n",
       " (35.0, -57.5, 17.5),\n",
       " (0.0, 0.0, 1.0)]"
      ]
     },
     "execution_count": 73,
     "metadata": {},
     "output_type": "execute_result"
    }
   ],
   "source": [
    "p = pv.Plotter(notebook=True)\n",
    "\n",
    "base_lattice = frames[0]\n",
    "\n",
    "# Set the grid dimensions: shape + 1 because we want to inject our values on the CELL data\n",
    "grid = pv.UniformGrid()\n",
    "grid.dimensions = np.array(base_lattice.shape) + 1\n",
    "# The bottom left corner of the data set\n",
    "grid.origin = base_lattice.minbound - base_lattice.unit * 0.5\n",
    "# These are the cell sizes along each axis\n",
    "grid.spacing = base_lattice.unit \n",
    "\n",
    "# adding the boundingbox wireframe\n",
    "p.add_mesh(grid.outline(), color=\"grey\", label=\"Domain\")\n",
    "\n",
    "# adding the availability lattice\n",
    "init_avail_lattice.fast_vis(p)\n",
    "\n",
    "# adding axes\n",
    "p.add_axes()\n",
    "p.show_bounds(grid=\"back\", location=\"back\", color=\"#aaaaaa\")\n",
    "\n",
    "def create_mesh(value):\n",
    "    f = int(value)\n",
    "    lattice = frames[f]\n",
    "\n",
    "    # Add the data values to the cell data\n",
    "    grid.cell_arrays[\"Agents\"] = lattice.flatten(order=\"F\").astype(int)  # Flatten the array!\n",
    "    # filtering the voxels\n",
    "    threshed = grid.threshold([-0.1, agn_num - 0.9])\n",
    "    # adding the voxels\n",
    "    p.add_mesh(threshed, name='sphere', show_edges=True, opacity=1.0, show_scalar_bar=False)\n",
    "\n",
    "    return\n",
    "\n",
    "p.add_slider_widget(create_mesh, [0, n_frames], title='Time', value=0, event_type=\"always\", style=\"classic\")\n",
    "p.show(use_ipyvtk=True)"
   ]
  },
  {
   "cell_type": "markdown",
   "metadata": {},
   "source": [
    "### Collecting Agent voxels"
   ]
  },
  {
   "cell_type": "code",
   "execution_count": 150,
   "metadata": {},
   "outputs": [
    {
     "data": {
      "application/vnd.jupyter.widget-view+json": {
       "model_id": "f11c70df8d44445b8bfe40020366a9f5",
       "version_major": 2,
       "version_minor": 0
      },
      "text/plain": [
       "ViewInteractiveWidget(height=768, layout=Layout(height='auto', width='100%'), width=1024)"
      ]
     },
     "metadata": {},
     "output_type": "display_data"
    },
    {
     "data": {
      "text/plain": [
       "[(239.8279062084888, 147.3279062084888, 222.3279062084888),\n",
       " (35.0, -57.5, 17.5),\n",
       " (0.0, 0.0, 1.0)]"
      ]
     },
     "execution_count": 150,
     "metadata": {},
     "output_type": "execute_result"
    }
   ],
   "source": [
    "occupied_lattice = tg.to_lattice(np.copy(avail_lattice), avail_lattice)\n",
    "occupied_lattice[occupied_lattice==1]=0\n",
    "\n",
    "for i in range(len(agn_locs)):\n",
    "    for loc in agn_locs[i]:\n",
    "        occupied_lattice[tuple(loc)]=1\n",
    "\n",
    "# initiating the plotter\n",
    "p = pv.Plotter()\n",
    "\n",
    "# fast visualization of the lattice\n",
    "occupied_lattice.fast_vis(p)\n",
    "\n",
    "#p.add_mesh(tri_to_pv(combine_tractor), color='#FAE31D')\n",
    "\n",
    "# plotting\n",
    "p.show(use_ipyvtk=True)\n"
   ]
  },
  {
   "cell_type": "code",
   "execution_count": 147,
   "metadata": {},
   "outputs": [],
   "source": [
    "def transformation_matrix (arr):\n",
    "    return [[1,0,0,int(arr[0])],[0,1,0,int(arr[1])],[0,0,1,int(arr[2])],[0,0,0,1]]\n",
    "# collecting voxel id of agent voxels\n",
    "occ_id=np.array(np.where(occupied_lattice !=0 )).T\n",
    "\n",
    "# collecting center points of voxels\n",
    "env_cens = occ_lattice.centroids_threshold(-1)\n",
    "\n",
    "# isolating the centroids of the agent voxels\n",
    "env_cens1=env_cens[occ_id]\n",
    "\n",
    "meshes = [tm.creation.box(extents=occupied_lattice.unit,transform=transformation_matrix(env_cens[i])) for i in range(len(env_cens))]\n",
    "combine_tractor = tm.util.concatenate(meshes)\n"
   ]
  },
  {
   "cell_type": "code",
   "execution_count": 148,
   "metadata": {},
   "outputs": [
    {
     "data": {
      "image/png": "[encoded data removed]",
      "text/plain": [
       "<PIL.Image.Image image mode=RGB size=1024x768 at 0x1EB8EB9F550>"
      ]
     },
     "metadata": {},
     "output_type": "display_data"
    },
    {
     "data": {
      "text/plain": [
       "[(177.95901767327877, 42.95901767327875, 115.45901767327875),\n",
       " (82.5, -52.5, 20.0),\n",
       " (0.0, 0.0, 1.0)]"
      ]
     },
     "execution_count": 148,
     "metadata": {},
     "output_type": "execute_result"
    }
   ],
   "source": [
    "# initiating the plotter\n",
    "p = pv.Plotter(notebook=True)\n",
    "\n",
    "# env_cens.fast_vis(p)\n",
    "# adding the meshes\n",
    "p.add_mesh(tri_to_pv(combine_tractor), color='#abd8ff')\n",
    "\n",
    "# plotting\n",
    "p.show()"
   ]
  },
  {
   "cell_type": "markdown",
   "metadata": {},
   "source": [
    "### Collecting facade voxels"
   ]
  },
  {
   "cell_type": "code",
   "execution_count": 77,
   "metadata": {},
   "outputs": [
    {
     "name": "stdout",
     "output_type": "stream",
     "text": [
      "[[[0 0 0]\n",
      "  [0 1 0]\n",
      "  [0 0 0]]\n",
      "\n",
      " [[0 1 0]\n",
      "  [0 0 0]\n",
      "  [0 1 0]]\n",
      "\n",
      " [[0 0 0]\n",
      "  [0 1 0]\n",
      "  [0 0 0]]]\n"
     ]
    }
   ],
   "source": [
    "# creating neighborhood definition\n",
    "stencil = tg.create_stencil(\"von_neumann\", 1, 1)\n",
    "# setting the center to zero\n",
    "stencil.set_index([0,0,0], 0)\n",
    "stencil.set_index([0,0,1], 0)\n",
    "stencil.set_index([0,0,-1], 0)\n",
    "stencil.function = tg.sfunc.sum\n",
    "print(stencil)\n"
   ]
  },
  {
   "cell_type": "code",
   "execution_count": 78,
   "metadata": {},
   "outputs": [],
   "source": [
    "# collecting neighbours count for occupied lattice\n",
    "occupied_lat_sten=occupied_lattice.apply_stencil(stencil)\n",
    "\n",
    "facade_lattice=avail_lattice*0\n",
    "# seperating the voxels with neighbours and excluding the occupied agents to retain only facade voxels\n",
    "facade_lattice[occupied_lat_sten>0]=1\n",
    "facade_lattice[occupied_lattice==1]=0\n",
    "\n",
    "\n",
    "# extracting facade voxel centroids by excluding the envelope centers that are not facade voxels. \n"
   ]
  },
  {
   "cell_type": "markdown",
   "metadata": {},
   "source": [
    "### CONTINUE WORKING FROM HERE! The facade centroids is the issue, how to get those"
   ]
  },
  {
   "cell_type": "code",
   "execution_count": 90,
   "metadata": {},
   "outputs": [
    {
     "data": {
      "text/plain": [
       "lattice(118)"
      ]
     },
     "execution_count": 90,
     "metadata": {},
     "output_type": "execute_result"
    }
   ],
   "source": [
    "# under is the facade_lattice containing a shape of (31,18,8) and size 4464 and a true sum of 121\n",
    "# what I need is the centroids of those 121 voxels. \n",
    "facade_lattice.sum()\n"
   ]
  },
  {
   "cell_type": "code",
   "execution_count": 159,
   "metadata": {},
   "outputs": [
    {
     "name": "stdout",
     "output_type": "stream",
     "text": [
      "[[ -40. -100.    0.]\n",
      " [ -40. -100.    5.]\n",
      " [ -40. -100.   10.]\n",
      " ...\n",
      " [ 110.  -15.   25.]\n",
      " [ 110.  -15.   30.]\n",
      " [ 110.  -15.   35.]]\n",
      "[[18 10  5]\n",
      " [18 10  6]\n",
      " [18 10  7]\n",
      " [18 11  5]\n",
      " [18 11  6]\n",
      " [18 11  7]\n",
      " [18 12  5]\n",
      " [18 12  6]\n",
      " [18 12  7]\n",
      " [18 13  5]\n",
      " [18 13  6]\n",
      " [18 13  7]\n",
      " [18 14  5]\n",
      " [18 14  6]\n",
      " [18 14  7]\n",
      " [19  9  5]\n",
      " [19  9  6]\n",
      " [19  9  7]\n",
      " [19 15  5]\n",
      " [19 15  6]\n",
      " [19 15  7]\n",
      " [20  9  5]\n",
      " [20  9  6]\n",
      " [20  9  7]\n",
      " [20 15  5]\n",
      " [20 15  6]\n",
      " [20 15  7]\n",
      " [21 10  5]\n",
      " [21 10  6]\n",
      " [21 10  7]\n",
      " [21 11  5]\n",
      " [21 11  6]\n",
      " [21 11  7]\n",
      " [21 12  5]\n",
      " [21 12  6]\n",
      " [21 13  5]\n",
      " [21 13  6]\n",
      " [21 13  7]\n",
      " [21 14  5]\n",
      " [21 14  6]\n",
      " [21 14  7]\n",
      " [22 12  7]\n",
      " [24  5  1]\n",
      " [24  5  2]\n",
      " [24  5  3]\n",
      " [24  5  4]\n",
      " [24  5  5]\n",
      " [24  5  6]\n",
      " [24  6  1]\n",
      " [24  6  2]\n",
      " [24  6  3]\n",
      " [24  6  4]\n",
      " [24  6  5]\n",
      " [24  6  6]\n",
      " [24  7  1]\n",
      " [24  7  2]\n",
      " [24  7  3]\n",
      " [25  4  1]\n",
      " [25  4  2]\n",
      " [25  4  3]\n",
      " [25  4  4]\n",
      " [25  4  5]\n",
      " [25  4  6]\n",
      " [25  6  7]\n",
      " [25  7  4]\n",
      " [25  7  5]\n",
      " [25  7  6]\n",
      " [25  8  1]\n",
      " [25  8  2]\n",
      " [25  8  3]\n",
      " [26  4  1]\n",
      " [26  4  2]\n",
      " [26  4  3]\n",
      " [26  4  4]\n",
      " [26  4  5]\n",
      " [26  4  6]\n",
      " [26  5  7]\n",
      " [26  7  4]\n",
      " [26  7  5]\n",
      " [26  7  6]\n",
      " [26  7  7]\n",
      " [26  8  1]\n",
      " [26  8  2]\n",
      " [26  8  3]\n",
      " [27  4  3]\n",
      " [27  4  4]\n",
      " [27  5  1]\n",
      " [27  5  2]\n",
      " [27  5  5]\n",
      " [27  5  6]\n",
      " [27  6  1]\n",
      " [27  6  2]\n",
      " [27  6  5]\n",
      " [27  6  6]\n",
      " [27  6  7]\n",
      " [27  7  1]\n",
      " [27  7  2]\n",
      " [27  7  3]\n",
      " [27  7  4]\n",
      " [27  7  5]\n",
      " [28  4  3]\n",
      " [28  4  4]\n",
      " [28  4  5]\n",
      " [28  8  3]\n",
      " [28  8  4]\n",
      " [28  8  5]\n",
      " [29  4  3]\n",
      " [29  4  4]\n",
      " [29  4  5]\n",
      " [29  8  3]\n",
      " [29  8  4]\n",
      " [29  8  5]\n",
      " [30  4  3]\n",
      " [30  4  4]\n",
      " [30  4  5]\n",
      " [30  8  3]\n",
      " [30  8  4]\n",
      " [30  8  5]]\n"
     ]
    }
   ],
   "source": [
    "# this is the centroids of all voxels in the latice regardless if they are false or true\n",
    "fcd_cens=facade_lattice.centroids_threshold(-1)\n",
    "# This collects the id of the voxels true as their value\n",
    "fcd_id=np.array(np.where(facade_lattice == True )).T\n",
    "\n",
    "print(fcd_cens)\n",
    "print(fcd_id)\n",
    "#print(fcd_cens1.shape)\n",
    "# print(fcd_id)\n",
    "\n"
   ]
  },
  {
   "cell_type": "code",
   "execution_count": 158,
   "metadata": {},
   "outputs": [
    {
     "data": {
      "application/vnd.jupyter.widget-view+json": {
       "model_id": "9e04b96a36ab402b8ed8a4fbb36431d1",
       "version_major": 2,
       "version_minor": 0
      },
      "text/plain": [
       "ViewInteractiveWidget(height=768, layout=Layout(height='auto', width='100%'), width=1024)"
      ]
     },
     "metadata": {},
     "output_type": "display_data"
    },
    {
     "data": {
      "text/plain": [
       "[(231.22009113429812, 138.72009113429812, 213.72009113429812),\n",
       " (35.0, -57.5, 17.5),\n",
       " (0.0, 0.0, 1.0)]"
      ]
     },
     "execution_count": 158,
     "metadata": {},
     "output_type": "execute_result"
    }
   ],
   "source": [
    "# initiating the plotter\n",
    "p = pv.Plotter()\n",
    "\n",
    "# fast visualization of the lattice\n",
    "fcd_cens.fast_vis(p)\n",
    "\n",
    "# plotting\n",
    "p.show(use_ipyvtk=True)"
   ]
  },
  {
   "cell_type": "code",
   "execution_count": 143,
   "metadata": {},
   "outputs": [
    {
     "data": {
      "application/vnd.jupyter.widget-view+json": {
       "model_id": "35593994033a48fe9a7a83bdac550c46",
       "version_major": 2,
       "version_minor": 0
      },
      "text/plain": [
       "ViewInteractiveWidget(height=768, layout=Layout(height='auto', width='100%'), width=1024)"
      ]
     },
     "metadata": {},
     "output_type": "display_data"
    },
    {
     "data": {
      "text/plain": [
       "[(229.17338297793367, 129.17338297793367, 211.67338297793367),\n",
       " (36.25, -63.75, 18.75),\n",
       " (0.0, 0.0, 1.0)]"
      ]
     },
     "execution_count": 143,
     "metadata": {},
     "output_type": "execute_result"
    }
   ],
   "source": [
    "# initiating the plotter\n",
    "p = pv.Plotter()\n",
    "\n",
    "# fast visualization of the lattice\n",
    "# facade_lattice.fast_vis(p)\n",
    "fcd_cens1.fast_vis(p)\n",
    "p.add_mesh(tri_to_pv(combine_tractor), color='#FAE31D')\n",
    "\n",
    "# plotting\n",
    "p.show(use_ipyvtk=True)\n"
   ]
  },
  {
   "cell_type": "markdown",
   "metadata": {},
   "source": [
    "### adding context mesh and street grid points"
   ]
  },
  {
   "cell_type": "code",
   "execution_count": 82,
   "metadata": {},
   "outputs": [],
   "source": [
    "street_grid = os.path.relpath(\"../data/meshes/grid_points_2022.csv\")\n",
    "street_g = tg.cloud_from_csv(street_grid)\n",
    "context_path = os.path.relpath('../data/meshes/immediate_context.obj')\n",
    "context_mesh = tm.load(context_path)\n",
    "\n",
    "context_mesh_complete=context_mesh+combine_tractor"
   ]
  },
  {
   "cell_type": "markdown",
   "metadata": {},
   "source": [
    "### Putting it all together in a single visualization"
   ]
  },
  {
   "cell_type": "code",
   "execution_count": 83,
   "metadata": {},
   "outputs": [
    {
     "data": {
      "application/vnd.jupyter.widget-view+json": {
       "model_id": "52cc7c241ff444f9b779ef436b2cd881",
       "version_major": 2,
       "version_minor": 0
      },
      "text/plain": [
       "ViewInteractiveWidget(height=768, layout=Layout(height='auto', width='100%'), width=1024)"
      ]
     },
     "metadata": {},
     "output_type": "display_data"
    },
    {
     "data": {
      "text/plain": [
       "[(785.8088446466429, 708.392439646643, 742.1697567966429),\n",
       " (65.08283250000001, -12.333572500000002, 21.44374465),\n",
       " (0.0, 0.0, 1.0)]"
      ]
     },
     "execution_count": 83,
     "metadata": {},
     "output_type": "execute_result"
    }
   ],
   "source": [
    "# initiating the plotter\n",
    "p = pv.Plotter(notebook=True)\n",
    "\n",
    "# adding the street grid points\n",
    "street_g.fast_vis(p)\n",
    "\n",
    "# facade voxels\n",
    "facade_lattice.fast_vis(p)\n",
    "\n",
    "# adding the meshes\n",
    "p.add_mesh(tri_to_pv(context_mesh_complete), color='#aaaaaa')\n",
    "\n",
    "# plotting\n",
    "p.show(use_ipyvtk=True)"
   ]
  },
  {
   "cell_type": "markdown",
   "metadata": {},
   "source": [
    "### extracting vector between facade centroid and street points"
   ]
  },
  {
   "cell_type": "code",
   "execution_count": null,
   "metadata": {},
   "outputs": [],
   "source": []
  },
  {
   "cell_type": "code",
   "execution_count": 84,
   "metadata": {},
   "outputs": [
    {
     "data": {
      "text/plain": [
       "cloud([[121., -57., -35.],\n",
       "       [131., -47., -25.],\n",
       "       [131., -47., -25.]])"
      ]
     },
     "execution_count": 84,
     "metadata": {},
     "output_type": "execute_result"
    }
   ],
   "source": [
    "for i in range(len(facade_cens)):\n",
    "    for f in range(len(street_g)):\n",
    "        ray_dir=street_g[f]-facade_cens[i]\n",
    "ray_dir"
   ]
  },
  {
   "cell_type": "code",
   "execution_count": 85,
   "metadata": {},
   "outputs": [
    {
     "ename": "IndexError",
     "evalue": "index 5 is out of bounds for axis 0 with size 3",
     "output_type": "error",
     "traceback": [
      "\u001b[1;31m---------------------------------------------------------------------------\u001b[0m",
      "\u001b[1;31mIndexError\u001b[0m                                Traceback (most recent call last)",
      "\u001b[1;32m~\\AppData\\Local\\Temp/ipykernel_22720/3049766678.py\u001b[0m in \u001b[0;36m<module>\u001b[1;34m\u001b[0m\n\u001b[1;32m----> 1\u001b[1;33m \u001b[0mray_dir_norm\u001b[0m \u001b[1;33m=\u001b[0m \u001b[0mray_dir\u001b[0m\u001b[1;33m[\u001b[0m\u001b[1;36m5\u001b[0m\u001b[1;33m]\u001b[0m\u001b[1;33m/\u001b[0m\u001b[0mnp\u001b[0m\u001b[1;33m.\u001b[0m\u001b[0mlinalg\u001b[0m\u001b[1;33m.\u001b[0m\u001b[0mnorm\u001b[0m\u001b[1;33m(\u001b[0m\u001b[0mray_dir\u001b[0m\u001b[1;33m[\u001b[0m\u001b[1;36m5\u001b[0m\u001b[1;33m]\u001b[0m\u001b[1;33m)\u001b[0m\u001b[1;33m\u001b[0m\u001b[1;33m\u001b[0m\u001b[0m\n\u001b[0m",
      "\u001b[1;31mIndexError\u001b[0m: index 5 is out of bounds for axis 0 with size 3"
     ]
    }
   ],
   "source": [
    "ray_dir_norm = ray_dir[5]/np.linalg.norm(ray_dir[5])"
   ]
  },
  {
   "cell_type": "code",
   "execution_count": null,
   "metadata": {},
   "outputs": [],
   "source": []
  }
 ],
 "metadata": {
  "interpreter": {
   "hash": "35193bb4a499ae14c24644d010b40ff56fe483af9478781b8d520e7468034301"
  },
  "kernelspec": {
   "display_name": "Python 3.8.5 64-bit ('scds': conda)",
   "language": "python",
   "name": "python3"
  },
  "language_info": {
   "codemirror_mode": {
    "name": "ipython",
    "version": 3
   },
   "file_extension": ".py",
   "mimetype": "text/x-python",
   "name": "python",
   "nbconvert_exporter": "python",
   "pygments_lexer": "ipython3",
   "version": "3.8.5"
  },
  "orig_nbformat": 4
 },
 "nbformat": 4,
 "nbformat_minor": 2
}
