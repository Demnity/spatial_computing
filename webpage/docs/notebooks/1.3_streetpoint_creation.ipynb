{
 "cells": [
  {
   "cell_type": "markdown",
   "metadata": {},
   "source": [
    "Import stuff"
   ]
  },
  {
   "cell_type": "code",
   "execution_count": null,
   "metadata": {},
   "outputs": [],
   "source": [
    "import os\n",
    "import topogenesis as tg\n",
    "import pyvista as pv\n",
    "import trimesh as tm\n",
    "import numpy as np\n",
    "\n",
    "#pv.set_jupyter_backend(\"ipyvtklink\")\n",
    "\n",
    "# convert mesh to pv_mesh\n",
    "def tri_to_pv(tri_mesh):\n",
    "    faces = np.pad(tri_mesh.faces, ((0, 0),(1,0)), 'constant', constant_values=3)\n",
    "    pv_mesh = pv.PolyData(tri_mesh.vertices, faces)\n",
    "    return pv_mesh"
   ]
  },
  {
   "cell_type": "markdown",
   "metadata": {},
   "source": [
    "Import Envelope Lattice"
   ]
  },
  {
   "cell_type": "code",
   "execution_count": null,
   "metadata": {},
   "outputs": [],
   "source": [
    "# loading the lattice from csv\n",
    "lattice_path = os.path.relpath('../data/meshes/voxelized_envelope.csv')\n",
    "envelope_lattice = tg.lattice_from_csv(lattice_path)\n",
    "envelope_lattice.shape\n",
    "\n",
    "env_cens = envelope_lattice.centroids_threshold(0)\n",
    "\n",
    "print (env_cens)"
   ]
  },
  {
   "cell_type": "markdown",
   "metadata": {},
   "source": [
    "Calculate the border points (this calculates the border voxels of the envelope, not the points on the street)"
   ]
  },
  {
   "cell_type": "code",
   "execution_count": null,
   "metadata": {},
   "outputs": [],
   "source": [
    "border_lattice = envelope_lattice * 0.0\n",
    "# border_lattice[:,:,1:-1] += 1.0\n",
    "border_lattice[:,1:-1,:] += 1.0\n",
    "border_lattice[1:-1,:,:] += 1.0\n",
    "border_lattice = border_lattice != 2\n",
    "border_lattice.centroids"
   ]
  },
  {
   "cell_type": "markdown",
   "metadata": {},
   "source": [
    "Plotting the code above"
   ]
  },
  {
   "cell_type": "code",
   "execution_count": null,
   "metadata": {},
   "outputs": [],
   "source": [
    "p = pv.Plotter(notebook=True)\n",
    "\n",
    "base_lattice = border_lattice\n",
    "\n",
    "# Set the grid dimensions: shape + 1 because we want to inject our values on the CELL data\n",
    "grid = pv.UniformGrid()\n",
    "grid.dimensions = np.array(base_lattice.shape) + 1\n",
    "# The bottom left corner of the data set\n",
    "grid.origin = base_lattice.minbound - base_lattice.unit * 0.5\n",
    "# These are the cell sizes along each axis\n",
    "grid.spacing = base_lattice.unit \n",
    "\n",
    "# adding the boundingbox wireframe\n",
    "p.add_mesh(grid.outline(), color=\"grey\", label=\"Domain\")\n",
    "\n",
    "# adding the availability lattice\n",
    "envelope_lattice.fast_vis(p)\n",
    "\n",
    "# adding axes\n",
    "p.add_axes()\n",
    "p.show_bounds(grid=\"back\", location=\"back\", color=\"#aaaaaa\")\n",
    "\n",
    "\n",
    "# Add the data values to the cell data\n",
    "grid.cell_arrays[\"Agents\"] = base_lattice.flatten(order=\"F\").astype(int)  # Flatten the array!\n",
    "# filtering the voxels\n",
    "threshed = grid.threshold([0.9, 1.1])\n",
    "# adding the voxels\n",
    "p.add_mesh(threshed, name='sphere', show_edges=True, opacity=1.0, show_scalar_bar=False)\n",
    "\n",
    "\n",
    "#plotting\n",
    "cpos = [(314.348192231551, 283.381630231551, 296.74455709155103),\n",
    " (65.08283250000001, -12.333572500000002, 21.07374465),\n",
    " (0.0, 0.0, 1.0)]\n",
    "p.camera_position = cpos\n",
    "p.window_size = 2000, 1000\n",
    "p.show(use_ipyvtk=True)\n",
    "p.screenshot(\"../data/images/streetpoint_creation1\")\n",
    "print(p.camera_position)"
   ]
  },
  {
   "cell_type": "markdown",
   "metadata": {},
   "source": [
    "Calculating the points on the street (defect)"
   ]
  },
  {
   "cell_type": "code",
   "execution_count": null,
   "metadata": {},
   "outputs": [],
   "source": [
    "#calculating maximum and minimum values\n",
    "\n",
    "#minimum values for x and y\n",
    "xmin, ymin, zmin = env_cens.min(axis=0)\n",
    "\n",
    "#maximum values for x and y\n",
    "xmax, ymax, zmax = env_cens.max(axis=0)\n",
    "\n",
    "#change bound\n",
    "xmin = xmin - 10\n",
    "ymin = ymin - 10\n",
    "xmax = xmax + 10\n",
    "ymax = ymax + 10\n",
    "\n",
    "#calculating the points on the street\n",
    "\n",
    "#calculate the x coördinates\n",
    "x = np.arange(xmin, xmax)\n",
    "\n",
    "#calculate the y coördinates\n",
    "y = np.arange(ymin, ymax)\n",
    "\n",
    "X = np.tile(x, (2, 1))\n",
    "X = np.append(X, np.tile(xmin, (len(y), 1)))\n",
    "X = np.append(X, np.tile(xmax, (len(y), 1)))\n",
    "\n",
    "Y = np.tile(ymin, (len(x), 1))\n",
    "Y = np.append(Y, np.tile(ymax, (len(x), 1)))\n",
    "Y = np.append(Y, np.tile(y, (2, 1)))\n",
    "\n",
    "Z = np.zeros(len(X))\n",
    "\n",
    "street_points = np.stack([X,Y,Z]).T\n",
    "street_points = tg.cloud(street_points)\n",
    "street_points = street_points.astype(int)\n",
    "street_points\n"
   ]
  },
  {
   "cell_type": "markdown",
   "metadata": {},
   "source": [
    "Visualizing"
   ]
  },
  {
   "cell_type": "code",
   "execution_count": null,
   "metadata": {},
   "outputs": [],
   "source": [
    "p = pv.Plotter(notebook=True)\n",
    "\n",
    "street_points.fast_notebook_vis(p)\n",
    "\n",
    "# Set the grid dimensions: shape + 1 because we want to inject our values on the CELL data\n",
    "grid = pv.UniformGrid()\n",
    "grid.dimensions = np.array(base_lattice.shape) + 1\n",
    "# The bottom left corner of the data set\n",
    "grid.origin = base_lattice.minbound - base_lattice.unit * 0.5\n",
    "# These are the cell sizes along each axis\n",
    "grid.spacing = base_lattice.unit \n",
    "\n",
    "# adding the boundingbox wireframe\n",
    "p.add_mesh(grid.outline(), color=\"grey\", label=\"Domain\")\n",
    "\n",
    "# adding the availability lattice\n",
    "envelope_lattice.fast_vis(p)\n",
    "\n",
    "# adding axes\n",
    "p.add_axes()\n",
    "p.show_bounds(grid=\"back\", location=\"back\", color=\"#aaaaaa\")\n",
    "\n",
    "\n",
    "# Add the data values to the cell data\n",
    "grid.cell_arrays[\"Agents\"] = base_lattice.flatten(order=\"F\").astype(int)  # Flatten the array!\n",
    "# filtering the voxels\n",
    "threshed = grid.threshold([0.9, 1.1])\n",
    "# adding the voxels\n",
    "#p.add_mesh(threshed, name='sphere', show_edges=True, opacity=1.0, show_scalar_bar=False)\n",
    "\n",
    "\n",
    "#plotting\n",
    "cpos = [(314.348192231551, 283.381630231551, 296.74455709155103),\n",
    " (65.08283250000001, -12.333572500000002, 21.07374465),\n",
    " (0.0, 0.0, 1.0)]\n",
    "p.camera_position = cpos\n",
    "p.window_size = 2000, 1000\n",
    "p.show(use_ipyvtk=True)\n",
    "p.screenshot(\"../data/images/streetpoint_creation2\")\n",
    "print(p.camera_position)"
   ]
  },
  {
   "cell_type": "markdown",
   "metadata": {},
   "source": [
    "Saving the streetpoints"
   ]
  },
  {
   "cell_type": "code",
   "execution_count": null,
   "metadata": {},
   "outputs": [],
   "source": [
    "street_points_path = os.path.relpath('../data/meshes/street_points.csv')\n",
    "street_points.to_csv(street_points_path)"
   ]
  }
 ],
 "metadata": {
  "interpreter": {
   "hash": "35193bb4a499ae14c24644d010b40ff56fe483af9478781b8d520e7468034301"
  },
  "kernelspec": {
   "display_name": "Python 3.8.5 64-bit ('scds': conda)",
   "language": "python",
   "name": "python3"
  },
  "language_info": {
   "codemirror_mode": {
    "name": "ipython",
    "version": 3
   },
   "file_extension": ".py",
   "mimetype": "text/x-python",
   "name": "python",
   "nbconvert_exporter": "python",
   "pygments_lexer": "ipython3",
   "version": "3.8.5"
  },
  "orig_nbformat": 4
 },
 "nbformat": 4,
 "nbformat_minor": 2
}
