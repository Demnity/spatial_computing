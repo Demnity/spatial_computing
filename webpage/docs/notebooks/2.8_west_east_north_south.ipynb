{
 "cells": [
  {
   "cell_type": "markdown",
   "metadata": {},
   "source": [
    "# W2 - Accessibility (Distance Fields)\n",
    "\n",
    "In this workshop we will learn the foundations to quantitatively approach spatial accessibility. We will learn about distance fields, construct a euclidean distance field, and construct a manifold distance field."
   ]
  },
  {
   "cell_type": "markdown",
   "metadata": {},
   "source": [
    "## 0. Initialization\n",
    "\n",
    "### 0.1 Importing the packages"
   ]
  },
  {
   "cell_type": "code",
   "execution_count": null,
   "metadata": {},
   "outputs": [],
   "source": [
    "import os\n",
    "import topogenesis as tg\n",
    "import pyvista as pv\n",
    "import trimesh as tm\n",
    "import numpy as np\n",
    "\n",
    "#pv.set_jupyter_backend(\"ipyvtklink\")\n",
    "\n",
    "# convert mesh to pv_mesh\n",
    "def tri_to_pv(tri_mesh):\n",
    "    faces = np.pad(tri_mesh.faces, ((0, 0),(1,0)), 'constant', constant_values=3)\n",
    "    pv_mesh = pv.PolyData(tri_mesh.vertices, faces)\n",
    "    return pv_mesh"
   ]
  },
  {
   "cell_type": "markdown",
   "metadata": {},
   "source": [
    "### 0.2 import meshes"
   ]
  },
  {
   "cell_type": "code",
   "execution_count": null,
   "metadata": {},
   "outputs": [],
   "source": [
    "envelope_path = os.path.relpath('../data/meshes/compulsory_envelope.obj')\n",
    "context_path = os.path.relpath('../data/meshes/immediate_context.obj')\n",
    "\n",
    "# load the mesh from file\n",
    "envelope_mesh = tm.load(envelope_path)\n",
    "context_mesh = tm.load(context_path)\n",
    "\n",
    "# Check if the mesh is watertight\n",
    "print(envelope_mesh.is_watertight)\n",
    "print(context_mesh.is_watertight)"
   ]
  },
  {
   "cell_type": "code",
   "execution_count": null,
   "metadata": {},
   "outputs": [],
   "source": [
    "# initiating the plotter\n",
    "p = pv.Plotter(notebook=True)\n",
    "\n",
    "# adding the meshes\n",
    "p.add_mesh(tri_to_pv(envelope_mesh), color='#abd8ff')\n",
    "p.add_mesh(tri_to_pv(context_mesh), color='#aaaaaa')\n",
    "\n",
    "# plotting\n",
    "# p.show()"
   ]
  },
  {
   "cell_type": "markdown",
   "metadata": {},
   "source": [
    "### 0.3 Importing the Envelope Lattice"
   ]
  },
  {
   "cell_type": "code",
   "execution_count": null,
   "metadata": {},
   "outputs": [],
   "source": [
    "# loading the lattice from csv\n",
    "lattice_path = os.path.relpath('../data/meshes/voxelized_envelope_highres.csv')\n",
    "envelope_lattice = tg.lattice_from_csv(lattice_path)"
   ]
  },
  {
   "cell_type": "code",
   "execution_count": null,
   "metadata": {},
   "outputs": [],
   "source": [
    "# initiating the plotter\n",
    "p = pv.Plotter()\n",
    "\n",
    "# fast visualization of the lattice\n",
    "envelope_lattice.fast_vis(p)\n",
    "\n",
    "# adding the meshes\n",
    "p.add_mesh(tri_to_pv(context_mesh), color='#aaaaaa')\n",
    "\n",
    "# plotting\n",
    "#p.show()"
   ]
  },
  {
   "cell_type": "markdown",
   "metadata": {},
   "source": [
    "### 0.4 Importing the Street Points"
   ]
  },
  {
   "cell_type": "code",
   "execution_count": null,
   "metadata": {},
   "outputs": [],
   "source": [
    "# import the streetnetwork as a point cloud\n",
    "e_p= tg.cloud_from_csv(\"../data/meshes/east_point.csv\")\n",
    "n_p= tg.cloud_from_csv(\"../data/meshes/north_point.csv\")\n",
    "w_p= tg.cloud_from_csv(\"../data/meshes/west_point.csv\")\n",
    "s_p= tg.cloud_from_csv(\"../data/meshes/south_point.csv\")"
   ]
  },
  {
   "cell_type": "code",
   "execution_count": null,
   "metadata": {},
   "outputs": [],
   "source": [
    "# initiating the plotter\n",
    "p = pv.Plotter()\n",
    "\n",
    "# fast visualization of the lattice\n",
    "envelope_lattice.fast_vis(p)\n",
    "\n",
    "# fast visualization of the point cloud\n",
    "e_p.fast_notebook_vis(p)\n",
    "n_p.fast_notebook_vis(p)\n",
    "w_p.fast_notebook_vis(p)\n",
    "s_p.fast_notebook_vis(p)\n",
    "# adding the meshes\n",
    "p.add_mesh(tri_to_pv(context_mesh), color='#aaaaaa')\n",
    "\n",
    "# plotting\n",
    "p.show(use_ipyvtk=True)"
   ]
  },
  {
   "cell_type": "markdown",
   "metadata": {},
   "source": [
    "### East"
   ]
  },
  {
   "cell_type": "code",
   "execution_count": null,
   "metadata": {},
   "outputs": [],
   "source": [
    "# extracting the centroid of all voxels\n",
    "env_cens = envelope_lattice.centroids_threshold(-1)\n",
    "\n",
    "# initializing the distance matrix\n",
    "dist_m = []\n",
    "# for each voxel ...\n",
    "for voxel_cen in env_cens:\n",
    "    # initializing the distance vector (per each voxel)\n",
    "    dist_v = []\n",
    "    # for each street point ...\n",
    "    for street_point in e_p:\n",
    "        # find the difference vector\n",
    "        diff = voxel_cen - street_point\n",
    "        # raise the components to the power of two\n",
    "        diff_p2 = diff**2\n",
    "        # sum the components\n",
    "        diff_p2s = diff_p2.sum()\n",
    "        # compute the square root \n",
    "        dist = diff_p2s**0.5\n",
    "        # add the distance to the distance vector\n",
    "        dist_v.append(dist)\n",
    "    # add the distance vector to the distance matrix\n",
    "    dist_m.append(dist_v)\n",
    "# change the distance matrix type, from list to array\n",
    "dist_m = np.array(dist_m)\n",
    "\n",
    "# find the distance to the closest street point for each voxel\n",
    "min_dist = dist_m.min(axis=1)\n",
    "# convert the minimum distance list to a lattice\n",
    "street_eu_distance_lattice = tg.to_lattice(min_dist.reshape(envelope_lattice.shape), envelope_lattice)\n",
    "# zero the value of the exterior voxels\n",
    "e_d = street_eu_distance_lattice * envelope_lattice\n",
    "e_d=(e_d-e_d.min())/(e_d.max()-e_d.min())\n",
    "\n",
    "# initiating the plotter\n",
    "p = pv.Plotter()\n",
    "l=e_d\n",
    "# Create the spatial reference\n",
    "grid = pv.UniformGrid()\n",
    "\n",
    "# Set the grid dimensions: shape because we want to inject our values\n",
    "grid.dimensions = l.shape\n",
    "# The bottom left corner of the data set\n",
    "grid.origin = l.minbound\n",
    "# These are the cell sizes along each axis\n",
    "grid.spacing = l.unit\n",
    "\n",
    "# Add the data values to the cell data\n",
    "grid.point_arrays[\"Distance\"] = l.flatten(order=\"F\")  # Flatten the Lattice\n",
    "\n",
    "# adding the meshes\n",
    "p.add_mesh(tri_to_pv(context_mesh), opacity=0.1, style='wireframe')\n",
    "    \n",
    "# # fast visualization of the point cloud\n",
    "# street_pc.fast_notebook_vis(p)\n",
    "\n",
    "# adding the volume\n",
    "opacity = np.array([0,0.6,0.6,0.6,0.6,0.6,0.6]) * 1.5\n",
    "p.add_volume(grid, cmap=\"coolwarm\", opacity=opacity, shade=True, show_scalar_bar=False)\n",
    "\n",
    "# plotting\n",
    "p.show()\n"
   ]
  },
  {
   "cell_type": "code",
   "execution_count": null,
   "metadata": {},
   "outputs": [],
   "source": [
    "e_csv_path = os.path.relpath('../data/fields/east_o.csv')\n",
    "e_d.to_csv(e_csv_path)"
   ]
  },
  {
   "cell_type": "markdown",
   "metadata": {},
   "source": [
    "### South"
   ]
  },
  {
   "cell_type": "code",
   "execution_count": null,
   "metadata": {},
   "outputs": [],
   "source": [
    "# extracting the centroid of all voxels\n",
    "env_cens = envelope_lattice.centroids_threshold(-1)\n",
    "\n",
    "# initializing the distance matrix\n",
    "dist_m = []\n",
    "# for each voxel ...\n",
    "for voxel_cen in env_cens:\n",
    "    # initializing the distance vector (per each voxel)\n",
    "    dist_v = []\n",
    "    # for each street point ...\n",
    "    for street_point in n_p:\n",
    "        # find the difference vector\n",
    "        diff = voxel_cen - street_point\n",
    "        # raise the components to the power of two\n",
    "        diff_p2 = diff**2\n",
    "        # sum the components\n",
    "        diff_p2s = diff_p2.sum()\n",
    "        # compute the square root \n",
    "        dist = diff_p2s**0.5\n",
    "        # add the distance to the distance vector\n",
    "        dist_v.append(dist)\n",
    "    # add the distance vector to the distance matrix\n",
    "    dist_m.append(dist_v)\n",
    "# change the distance matrix type, from list to array\n",
    "dist_m = np.array(dist_m)\n",
    "\n",
    "# find the distance to the closest street point for each voxel\n",
    "min_dist = dist_m.min(axis=1)\n",
    "# convert the minimum distance list to a lattice\n",
    "street_eu_distance_lattice = tg.to_lattice(min_dist.reshape(envelope_lattice.shape), envelope_lattice)\n",
    "# zero the value of the exterior voxels\n",
    "n_d = street_eu_distance_lattice * envelope_lattice\n",
    "n_d=(n_d-n_d.min())/(n_d.max()-n_d.min())\n",
    "\n",
    "# initiating the plotter\n",
    "p = pv.Plotter()\n",
    "l=n_d\n",
    "# Create the spatial reference\n",
    "grid = pv.UniformGrid()\n",
    "\n",
    "# Set the grid dimensions: shape because we want to inject our values\n",
    "grid.dimensions = l.shape\n",
    "# The bottom left corner of the data set\n",
    "grid.origin = l.minbound\n",
    "# These are the cell sizes along each axis\n",
    "grid.spacing = l.unit\n",
    "\n",
    "# Add the data values to the cell data\n",
    "grid.point_arrays[\"Distance\"] = l.flatten(order=\"F\")  # Flatten the Lattice\n",
    "\n",
    "# adding the meshes\n",
    "p.add_mesh(tri_to_pv(context_mesh), opacity=0.1, style='wireframe')\n",
    "    \n",
    "# # fast visualization of the point cloud\n",
    "# street_pc.fast_notebook_vis(p)\n",
    "\n",
    "# adding the volume\n",
    "opacity = np.array([0,0.6,0.6,0.6,0.6,0.6,0.6]) * 1.5\n",
    "p.add_volume(grid, cmap=\"coolwarm\", opacity=opacity, shade=True, show_scalar_bar=False)\n",
    "\n",
    "# plotting\n",
    "p.show()\n"
   ]
  },
  {
   "cell_type": "code",
   "execution_count": null,
   "metadata": {},
   "outputs": [],
   "source": [
    "n_csv_path = os.path.relpath('../data/fields/south_o.csv')\n",
    "n_d.to_csv(n_csv_path)"
   ]
  },
  {
   "cell_type": "markdown",
   "metadata": {},
   "source": [
    "### West"
   ]
  },
  {
   "cell_type": "code",
   "execution_count": null,
   "metadata": {},
   "outputs": [],
   "source": [
    "# extracting the centroid of all voxels\n",
    "env_cens = envelope_lattice.centroids_threshold(-1)\n",
    "\n",
    "# initializing the distance matrix\n",
    "dist_m = []\n",
    "# for each voxel ...\n",
    "for voxel_cen in env_cens:\n",
    "    # initializing the distance vector (per each voxel)\n",
    "    dist_v = []\n",
    "    # for each street point ...\n",
    "    for street_point in w_p:\n",
    "        # find the difference vector\n",
    "        diff = voxel_cen - street_point\n",
    "        # raise the components to the power of two\n",
    "        diff_p2 = diff**2\n",
    "        # sum the components\n",
    "        diff_p2s = diff_p2.sum()\n",
    "        # compute the square root \n",
    "        dist = diff_p2s**0.5\n",
    "        # add the distance to the distance vector\n",
    "        dist_v.append(dist)\n",
    "    # add the distance vector to the distance matrix\n",
    "    dist_m.append(dist_v)\n",
    "# change the distance matrix type, from list to array\n",
    "dist_m = np.array(dist_m)\n",
    "\n",
    "# find the distance to the closest street point for each voxel\n",
    "min_dist = dist_m.min(axis=1)\n",
    "# convert the minimum distance list to a lattice\n",
    "street_eu_distance_lattice = tg.to_lattice(min_dist.reshape(envelope_lattice.shape), envelope_lattice)\n",
    "# zero the value of the exterior voxels\n",
    "w_d = street_eu_distance_lattice * envelope_lattice\n",
    "w_d=(w_d-w_d.min())/(w_d.max()-w_d.min())\n",
    "\n",
    "# initiating the plotter\n",
    "p = pv.Plotter()\n",
    "l=w_d\n",
    "# Create the spatial reference\n",
    "grid = pv.UniformGrid()\n",
    "\n",
    "# Set the grid dimensions: shape because we want to inject our values\n",
    "grid.dimensions = l.shape\n",
    "# The bottom left corner of the data set\n",
    "grid.origin = l.minbound\n",
    "# These are the cell sizes along each axis\n",
    "grid.spacing = l.unit\n",
    "\n",
    "# Add the data values to the cell data\n",
    "grid.point_arrays[\"Distance\"] = l.flatten(order=\"F\")  # Flatten the Lattice\n",
    "\n",
    "# adding the meshes\n",
    "p.add_mesh(tri_to_pv(context_mesh), opacity=0.1, style='wireframe')\n",
    "    \n",
    "# # fast visualization of the point cloud\n",
    "# street_pc.fast_notebook_vis(p)\n",
    "\n",
    "# adding the volume\n",
    "opacity = np.array([0,0.6,0.6,0.6,0.6,0.6,0.6]) * 1.5\n",
    "p.add_volume(grid, cmap=\"coolwarm\", opacity=opacity, shade=True, show_scalar_bar=False)\n",
    "\n",
    "# plotting\n",
    "p.show()\n"
   ]
  },
  {
   "cell_type": "code",
   "execution_count": null,
   "metadata": {},
   "outputs": [],
   "source": [
    "w_csv_path = os.path.relpath('../data/fields/west_o.csv')\n",
    "w_d.to_csv(w_csv_path)"
   ]
  },
  {
   "cell_type": "markdown",
   "metadata": {},
   "source": [
    "### North"
   ]
  },
  {
   "cell_type": "code",
   "execution_count": null,
   "metadata": {},
   "outputs": [],
   "source": [
    "# extracting the centroid of all voxels\n",
    "env_cens = envelope_lattice.centroids_threshold(-1)\n",
    "\n",
    "# initializing the distance matrix\n",
    "dist_m = []\n",
    "# for each voxel ...\n",
    "for voxel_cen in env_cens:\n",
    "    # initializing the distance vector (per each voxel)\n",
    "    dist_v = []\n",
    "    # for each street point ...\n",
    "    for street_point in s_p:\n",
    "        # find the difference vector\n",
    "        diff = voxel_cen - street_point\n",
    "        # raise the components to the power of two\n",
    "        diff_p2 = diff**2\n",
    "        # sum the components\n",
    "        diff_p2s = diff_p2.sum()\n",
    "        # compute the square root \n",
    "        dist = diff_p2s**0.5\n",
    "        # add the distance to the distance vector\n",
    "        dist_v.append(dist)\n",
    "    # add the distance vector to the distance matrix\n",
    "    dist_m.append(dist_v)\n",
    "# change the distance matrix type, from list to array\n",
    "dist_m = np.array(dist_m)\n",
    "\n",
    "# find the distance to the closest street point for each voxel\n",
    "min_dist = dist_m.min(axis=1)\n",
    "# convert the minimum distance list to a lattice\n",
    "street_eu_distance_lattice = tg.to_lattice(min_dist.reshape(envelope_lattice.shape), envelope_lattice)\n",
    "# zero the value of the exterior voxels\n",
    "s_d = street_eu_distance_lattice * envelope_lattice\n",
    "s_d=(s_d-s_d.min())/(s_d.max()-s_d.min())\n",
    "\n",
    "# initiating the plotter\n",
    "p = pv.Plotter()\n",
    "l=s_d\n",
    "# Create the spatial reference\n",
    "grid = pv.UniformGrid()\n",
    "\n",
    "# Set the grid dimensions: shape because we want to inject our values\n",
    "grid.dimensions = l.shape\n",
    "# The bottom left corner of the data set\n",
    "grid.origin = l.minbound\n",
    "# These are the cell sizes along each axis\n",
    "grid.spacing = l.unit\n",
    "\n",
    "# Add the data values to the cell data\n",
    "grid.point_arrays[\"Distance\"] = l.flatten(order=\"F\")  # Flatten the Lattice\n",
    "\n",
    "# adding the meshes\n",
    "p.add_mesh(tri_to_pv(context_mesh), opacity=0.1, style='wireframe')\n",
    "    \n",
    "# # fast visualization of the point cloud\n",
    "# street_pc.fast_notebook_vis(p)\n",
    "\n",
    "# adding the volume\n",
    "opacity = np.array([0,0.6,0.6,0.6,0.6,0.6,0.6]) * 1.5\n",
    "p.add_volume(grid, cmap=\"coolwarm\", opacity=opacity, shade=True, show_scalar_bar=False)\n",
    "\n",
    "# plotting\n",
    "p.show()\n"
   ]
  },
  {
   "cell_type": "code",
   "execution_count": null,
   "metadata": {},
   "outputs": [],
   "source": [
    "s_csv_path = os.path.relpath('../data/fields/north_o.csv')\n",
    "s_d.to_csv(s_csv_path)"
   ]
  },
  {
   "cell_type": "markdown",
   "metadata": {},
   "source": [
    "## Credits"
   ]
  },
  {
   "cell_type": "code",
   "execution_count": null,
   "metadata": {},
   "outputs": [],
   "source": [
    "__author__ = \"Shervin Azadi\"\n",
    "__license__ = \"MIT\"\n",
    "__version__ = \"1.0\"\n",
    "__url__ = \"https://github.com/shervinazadi/earthy_workshops\"\n",
    "__summary__ = \"Earthy Design Studio\""
   ]
  }
 ],
 "metadata": {
  "interpreter": {
   "hash": "c20f1e98b59e365040548753ef94c89861e7fcfcb2c26ea4b3d1e6b63d1d9946"
  },
  "kernelspec": {
   "display_name": "Python 3.8.5 64-bit ('earthy_test': conda)",
   "name": "python3"
  },
  "language_info": {
   "codemirror_mode": {
    "name": "ipython",
    "version": 3
   },
   "file_extension": ".py",
   "mimetype": "text/x-python",
   "name": "python",
   "nbconvert_exporter": "python",
   "pygments_lexer": "ipython3",
   "version": "3.8.5"
  }
 },
 "nbformat": 4,
 "nbformat_minor": 2
}
